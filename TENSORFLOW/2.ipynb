{
  "nbformat": 4,
  "nbformat_minor": 0,
  "metadata": {
    "colab": {
      "provenance": [],
      "gpuType": "T4",
      "mount_file_id": "1kcYBkghTSoBnIagdgPwsbc6yhreGpl74",
      "authorship_tag": "ABX9TyN+aIhh01JqP2GrdmGKCeIi",
      "include_colab_link": true
    },
    "kernelspec": {
      "name": "python3",
      "display_name": "Python 3"
    },
    "language_info": {
      "name": "python"
    },
    "accelerator": "GPU"
  },
  "cells": [
    {
      "cell_type": "markdown",
      "metadata": {
        "id": "view-in-github",
        "colab_type": "text"
      },
      "source": [
        "<a href=\"https://colab.research.google.com/github/vaibhavkundu123/MY-CODES/blob/main/TENSORFLOW/2.ipynb\" target=\"_parent\"><img src=\"https://colab.research.google.com/assets/colab-badge.svg\" alt=\"Open In Colab\"/></a>"
      ]
    },
    {
      "cell_type": "markdown",
      "source": [
        "# Introduction to Regression with Neural Networks in TensorFlow\n",
        "\n",
        "> There are many definitions for a regression problem but in our case, we're going to simplify it: predicting a numerical variable based on some other combination of variables, even shorter... predicting a number."
      ],
      "metadata": {
        "id": "b04G8Zw3V8WH"
      }
    },
    {
      "cell_type": "code",
      "source": [
        "import tensorflow as tf\n",
        "print(tf.__version__)"
      ],
      "metadata": {
        "colab": {
          "base_uri": "https://localhost:8080/"
        },
        "id": "LNtwmeZzWZcE",
        "outputId": "1990483c-75f4-414c-a6b3-149fd1c3ec84"
      },
      "execution_count": 2,
      "outputs": [
        {
          "output_type": "stream",
          "name": "stdout",
          "text": [
            "2.15.0\n"
          ]
        }
      ]
    },
    {
      "cell_type": "markdown",
      "source": [
        "# Creating a data to view and fit"
      ],
      "metadata": {
        "id": "2SyCxfTQWjlk"
      }
    },
    {
      "cell_type": "code",
      "execution_count": 3,
      "metadata": {
        "id": "_VayVruEVLj0"
      },
      "outputs": [],
      "source": [
        "import numpy as np\n",
        "import matplotlib.pyplot as plt"
      ]
    },
    {
      "cell_type": "code",
      "source": [
        "# Create feature\n",
        "X = np.array([-7.0, -4.0, -1.0, 2.0, 5.0, 8.0, 11.0, 14.0])\n",
        "\n",
        "# Create labels\n",
        "y = np.array([3.0, 6.0, 9.0, 12.0, 15.0, 18.0, 21.0, 24.0])\n",
        "\n",
        "# Visualize it\n",
        "plt.scatter(X, y);"
      ],
      "metadata": {
        "colab": {
          "base_uri": "https://localhost:8080/",
          "height": 435
        },
        "id": "EoPwmaA6W0C_",
        "outputId": "4fde35b4-b5e5-4467-db75-08066c5d700e"
      },
      "execution_count": 4,
      "outputs": [
        {
          "output_type": "display_data",
          "data": {
            "text/plain": [
              "<Figure size 640x480 with 1 Axes>"
            ],
            "image/png": "[encoded data removed]"
          },
          "metadata": {}
        }
      ]
    },
    {
      "cell_type": "code",
      "source": [
        "y == X + 10"
      ],
      "metadata": {
        "colab": {
          "base_uri": "https://localhost:8080/"
        },
        "id": "UjdMkgUjXd_k",
        "outputId": "069cd367-55d1-4dc1-8aa0-acd47f7a4baf"
      },
      "execution_count": 5,
      "outputs": [
        {
          "output_type": "execute_result",
          "data": {
            "text/plain": [
              "array([ True,  True,  True,  True,  True,  True,  True,  True])"
            ]
          },
          "metadata": {},
          "execution_count": 5
        }
      ]
    },
    {
      "cell_type": "markdown",
      "source": [
        "# Input and Output shapes"
      ],
      "metadata": {
        "id": "RjiiA4vcX7yU"
      }
    },
    {
      "cell_type": "code",
      "source": [
        "# Create a demo tensor for our housing price prediction problem\n",
        "house_info = tf.constant([\"bedroom\", \"bathroom\", \"garage\"])\n",
        "house_price = tf.constant([939700])\n",
        "house_info, house_price"
      ],
      "metadata": {
        "colab": {
          "base_uri": "https://localhost:8080/"
        },
        "id": "n7UaBusyXyBe",
        "outputId": "b64188d8-72d0-4d0e-cdd4-165000d5b49a"
      },
      "execution_count": 6,
      "outputs": [
        {
          "output_type": "execute_result",
          "data": {
            "text/plain": [
              "(<tf.Tensor: shape=(3,), dtype=string, numpy=array([b'bedroom', b'bathroom', b'garage'], dtype=object)>,\n",
              " <tf.Tensor: shape=(1,), dtype=int32, numpy=array([939700], dtype=int32)>)"
            ]
          },
          "metadata": {},
          "execution_count": 6
        }
      ]
    },
    {
      "cell_type": "code",
      "source": [
        "input_shape = X.shape\n",
        "output_shape = y.shape\n",
        "input_shape, output_shape"
      ],
      "metadata": {
        "colab": {
          "base_uri": "https://localhost:8080/"
        },
        "id": "6I1b54OlYiYk",
        "outputId": "62466498-156e-41db-8f77-a177dc87354a"
      },
      "execution_count": 7,
      "outputs": [
        {
          "output_type": "execute_result",
          "data": {
            "text/plain": [
              "((8,), (8,))"
            ]
          },
          "metadata": {},
          "execution_count": 7
        }
      ]
    },
    {
      "cell_type": "code",
      "source": [
        "X[0], y[0]"
      ],
      "metadata": {
        "colab": {
          "base_uri": "https://localhost:8080/"
        },
        "id": "9jjeVR5zYy7c",
        "outputId": "2b03fed4-f7c1-4464-c0a7-a61f2d1068b9"
      },
      "execution_count": 8,
      "outputs": [
        {
          "output_type": "execute_result",
          "data": {
            "text/plain": [
              "(-7.0, 3.0)"
            ]
          },
          "metadata": {},
          "execution_count": 8
        }
      ]
    },
    {
      "cell_type": "code",
      "source": [
        "X[1], y[1]"
      ],
      "metadata": {
        "colab": {
          "base_uri": "https://localhost:8080/"
        },
        "id": "I7QJPgl7Y6Ve",
        "outputId": "3e76ecd4-a5a1-4ff7-8462-543d084bd5d2"
      },
      "execution_count": 9,
      "outputs": [
        {
          "output_type": "execute_result",
          "data": {
            "text/plain": [
              "(-4.0, 6.0)"
            ]
          },
          "metadata": {},
          "execution_count": 9
        }
      ]
    },
    {
      "cell_type": "code",
      "source": [
        "input_shape = X[0].shape\n",
        "output_shape = y[0].shape\n",
        "input_shape, output_shape"
      ],
      "metadata": {
        "colab": {
          "base_uri": "https://localhost:8080/"
        },
        "id": "nlPizyE2YyZX",
        "outputId": "dba13c29-2a30-4275-be17-fd11493321ae"
      },
      "execution_count": 10,
      "outputs": [
        {
          "output_type": "execute_result",
          "data": {
            "text/plain": [
              "((), ())"
            ]
          },
          "metadata": {},
          "execution_count": 10
        }
      ]
    },
    {
      "cell_type": "code",
      "source": [
        "X[0].ndim"
      ],
      "metadata": {
        "colab": {
          "base_uri": "https://localhost:8080/"
        },
        "id": "GU_blEEyZKZI",
        "outputId": "b907f934-204b-4010-d724-a3709b06c199"
      },
      "execution_count": 11,
      "outputs": [
        {
          "output_type": "execute_result",
          "data": {
            "text/plain": [
              "0"
            ]
          },
          "metadata": {},
          "execution_count": 11
        }
      ]
    },
    {
      "cell_type": "code",
      "source": [
        "# The model is expecting a 2-dimensional input (i.e., a batch of instances), but it’s receiving a 1-dimensional input (i.e., a single instance). You can fix this issue by reshaping your input data X to have an extra dimension. If X is a NumPy array, you can do this using the reshape method:\n",
        "X = X.reshape(-1, 1)"
      ],
      "metadata": {
        "id": "0ndWsnEjh6Wa"
      },
      "execution_count": 12,
      "outputs": []
    },
    {
      "cell_type": "code",
      "source": [
        "# Turn our numpy arrays into tensors with dtype = float32\n",
        "X = tf.cast(tf.constant(X), dtype=tf.float32)\n",
        "y = tf.cast(tf.constant(y), dtype=tf.float32)\n",
        "X, y"
      ],
      "metadata": {
        "colab": {
          "base_uri": "https://localhost:8080/"
        },
        "id": "4UeQN1RAZME6",
        "outputId": "4d512186-859f-4991-c70d-542efe853b3a"
      },
      "execution_count": 13,
      "outputs": [
        {
          "output_type": "execute_result",
          "data": {
            "text/plain": [
              "(<tf.Tensor: shape=(8, 1), dtype=float32, numpy=\n",
              " array([[-7.],\n",
              "        [-4.],\n",
              "        [-1.],\n",
              "        [ 2.],\n",
              "        [ 5.],\n",
              "        [ 8.],\n",
              "        [11.],\n",
              "        [14.]], dtype=float32)>,\n",
              " <tf.Tensor: shape=(8,), dtype=float32, numpy=array([ 3.,  6.,  9., 12., 15., 18., 21., 24.], dtype=float32)>)"
            ]
          },
          "metadata": {},
          "execution_count": 13
        }
      ]
    },
    {
      "cell_type": "code",
      "source": [
        "input_shape = input_shape = X[0].shape\n",
        "output_shape = y[0].shape\n",
        "input_shape, output_shape"
      ],
      "metadata": {
        "colab": {
          "base_uri": "https://localhost:8080/"
        },
        "id": "kACXhcTMZqO6",
        "outputId": "e60b11e4-1557-4e74-f3df-45d8323d9b80"
      },
      "execution_count": 14,
      "outputs": [
        {
          "output_type": "execute_result",
          "data": {
            "text/plain": [
              "(TensorShape([1]), TensorShape([]))"
            ]
          },
          "metadata": {},
          "execution_count": 14
        }
      ]
    },
    {
      "cell_type": "code",
      "source": [
        "plt.scatter(X, y)"
      ],
      "metadata": {
        "colab": {
          "base_uri": "https://localhost:8080/",
          "height": 452
        },
        "id": "XQES9MQcZvAw",
        "outputId": "4856a262-9898-423b-a07a-b06c0e69da88"
      },
      "execution_count": 15,
      "outputs": [
        {
          "output_type": "execute_result",
          "data": {
            "text/plain": [
              "<matplotlib.collections.PathCollection at 0x7f9212c77580>"
            ]
          },
          "metadata": {},
          "execution_count": 15
        },
        {
          "output_type": "display_data",
          "data": {
            "text/plain": [
              "<Figure size 640x480 with 1 Axes>"
            ],
            "image/png": "[encoded data removed]"
          },
          "metadata": {}
        }
      ]
    },
    {
      "cell_type": "markdown",
      "source": [
        "# Steps in modelling with TensorFlow\n",
        "\n",
        "> 1. **Creating a model** - define the input and output layers, as well as the hidden layers of a deep learning model.\n",
        "\n",
        "> 2. **Compiling a model** - define the loss funtion (in other words, the function which tells our model how wrong it is) and the optimizer (tells our model how to improve the patterns its learning) and evaluation metrics (what we can use to interpret the performance of our model).\n",
        "\n",
        "> 3. **Fitting a model** - letting the model try to find patterns between X & y (features and labels)."
      ],
      "metadata": {
        "id": "sH579-vQZ4AE"
      }
    },
    {
      "cell_type": "code",
      "source": [
        "# Set random seed\n",
        "tf.random.set_seed(42)\n",
        "\n",
        "# 1. Create a model using the Sequential API\n",
        "model = tf.keras.Sequential([\n",
        "  tf.keras.layers.Dense(1)\n",
        "])\n",
        "\n",
        "# 2. Compile the model\n",
        "model.compile(loss=tf.keras.losses.mae, # mae is short for mean absolute error\n",
        "              optimizer=tf.keras.optimizers.SGD(), # sgd is short for stochasitc gradient descent\n",
        "              metrics=[\"mae\"])\n",
        "\n",
        "# 3. Fit the model\n",
        "model.fit(X, y, epochs=5)"
      ],
      "metadata": {
        "colab": {
          "base_uri": "https://localhost:8080/"
        },
        "id": "Q9KvtAs0Z104",
        "outputId": "e20ec039-5937-47e6-a932-24e9ad222af5"
      },
      "execution_count": 16,
      "outputs": [
        {
          "output_type": "stream",
          "name": "stdout",
          "text": [
            "Epoch 1/5\n",
            "1/1 [==============================] - 0s 359ms/step - loss: 20.5211 - mae: 20.5211\n",
            "Epoch 2/5\n",
            "1/1 [==============================] - 0s 8ms/step - loss: 20.2398 - mae: 20.2398\n",
            "Epoch 3/5\n",
            "1/1 [==============================] - 0s 8ms/step - loss: 19.9586 - mae: 19.9586\n",
            "Epoch 4/5\n",
            "1/1 [==============================] - 0s 8ms/step - loss: 19.6773 - mae: 19.6773\n",
            "Epoch 5/5\n",
            "1/1 [==============================] - 0s 7ms/step - loss: 19.3961 - mae: 19.3961\n"
          ]
        },
        {
          "output_type": "execute_result",
          "data": {
            "text/plain": [
              "<keras.src.callbacks.History at 0x7f92101f7a90>"
            ]
          },
          "metadata": {},
          "execution_count": 16
        }
      ]
    },
    {
      "cell_type": "code",
      "source": [
        "# Check out X and y\n",
        "X, y"
      ],
      "metadata": {
        "colab": {
          "base_uri": "https://localhost:8080/"
        },
        "id": "o6KRf7mdiFgS",
        "outputId": "cdb6e1e3-c4ca-4b1b-84c3-b9c8148cb59a"
      },
      "execution_count": 17,
      "outputs": [
        {
          "output_type": "execute_result",
          "data": {
            "text/plain": [
              "(<tf.Tensor: shape=(8, 1), dtype=float32, numpy=\n",
              " array([[-7.],\n",
              "        [-4.],\n",
              "        [-1.],\n",
              "        [ 2.],\n",
              "        [ 5.],\n",
              "        [ 8.],\n",
              "        [11.],\n",
              "        [14.]], dtype=float32)>,\n",
              " <tf.Tensor: shape=(8,), dtype=float32, numpy=array([ 3.,  6.,  9., 12., 15., 18., 21., 24.], dtype=float32)>)"
            ]
          },
          "metadata": {},
          "execution_count": 17
        }
      ]
    },
    {
      "cell_type": "code",
      "source": [
        "# Try and make a prediction using our model\n",
        "y_pred = model.predict([17.0])\n",
        "y_pred"
      ],
      "metadata": {
        "colab": {
          "base_uri": "https://localhost:8080/"
        },
        "id": "l0FjRXypiyyw",
        "outputId": "41054ac1-5f8b-45d0-8872-e77f07c5454c"
      },
      "execution_count": 18,
      "outputs": [
        {
          "output_type": "stream",
          "name": "stdout",
          "text": [
            "1/1 [==============================] - 0s 74ms/step\n"
          ]
        },
        {
          "output_type": "execute_result",
          "data": {
            "text/plain": [
              "array([[-20.663473]], dtype=float32)"
            ]
          },
          "metadata": {},
          "execution_count": 18
        }
      ]
    },
    {
      "cell_type": "markdown",
      "source": [
        "# Improving our model\n",
        "\n",
        "We can improve our model, by altering the steps we took to create a model.\n",
        "\n",
        "> 1. **Creating a model** - here we might add more layers, increase the number of hidden units (all called neurons) within each of the hideen layers, change the activation function of each layer.\n",
        "\n",
        "> 2. **Compiling a model** - here we might change the optimization function or perhaps the **learning rate** of the optimization function.\n",
        "\n",
        "> 3. **Fitting a model** - here we might fit a model for more **epochs** (leave it training for longer) or on more data (give the model more examples to learn from).\n",
        "\n",
        "Common ways to improve a deep model:\n",
        "\n",
        "> * Adding layers\n",
        "\n",
        "> * Increase/Decrease the number of hidden units\n",
        "\n",
        "> * Change the activation function\n",
        "\n",
        "> * Change the optimization function\n",
        "\n",
        "> * Change the learning rate\n",
        "\n",
        "> * Fitting on more data\n",
        "\n",
        "> * Fitting for longer"
      ],
      "metadata": {
        "id": "Z0RNpzt_jl9O"
      }
    },
    {
      "cell_type": "code",
      "source": [
        "# Let's rebuild our model\n",
        "\n",
        "# 1. Create the model\n",
        "model = tf.keras.Sequential([\n",
        "  tf.keras.layers.Dense(1)\n",
        "])\n",
        "\n",
        "# 2. Compile the model\n",
        "model.compile(loss=tf.keras.losses.mae,\n",
        "              optimizer=tf.keras.optimizers.SGD(),\n",
        "              metrics=[\"mae\"])\n",
        "\n",
        "# 3. Fit the model (this time we'll train for longer)\n",
        "model.fit(X, y, epochs=100)"
      ],
      "metadata": {
        "colab": {
          "base_uri": "https://localhost:8080/"
        },
        "id": "dj_9gYhfi71U",
        "outputId": "7cb5e0d0-a1c6-4d9f-9d14-19f724fc3575"
      },
      "execution_count": 19,
      "outputs": [
        {
          "output_type": "stream",
          "name": "stdout",
          "text": [
            "Epoch 1/100\n",
            "1/1 [==============================] - 0s 221ms/step - loss: 18.1756 - mae: 18.1756\n",
            "Epoch 2/100\n",
            "1/1 [==============================] - 0s 7ms/step - loss: 17.8944 - mae: 17.8944\n",
            "Epoch 3/100\n",
            "1/1 [==============================] - 0s 8ms/step - loss: 17.6131 - mae: 17.6131\n",
            "Epoch 4/100\n",
            "1/1 [==============================] - 0s 8ms/step - loss: 17.3319 - mae: 17.3319\n",
            "Epoch 5/100\n",
            "1/1 [==============================] - 0s 9ms/step - loss: 17.0506 - mae: 17.0506\n",
            "Epoch 6/100\n",
            "1/1 [==============================] - 0s 8ms/step - loss: 16.7694 - mae: 16.7694\n",
            "Epoch 7/100\n",
            "1/1 [==============================] - 0s 6ms/step - loss: 16.4881 - mae: 16.4881\n",
            "Epoch 8/100\n",
            "1/1 [==============================] - 0s 8ms/step - loss: 16.2069 - mae: 16.2069\n",
            "Epoch 9/100\n",
            "1/1 [==============================] - 0s 7ms/step - loss: 15.9256 - mae: 15.9256\n",
            "Epoch 10/100\n",
            "1/1 [==============================] - 0s 7ms/step - loss: 15.6444 - mae: 15.6444\n",
            "Epoch 11/100\n",
            "1/1 [==============================] - 0s 8ms/step - loss: 15.3631 - mae: 15.3631\n",
            "Epoch 12/100\n",
            "1/1 [==============================] - 0s 7ms/step - loss: 15.0819 - mae: 15.0819\n",
            "Epoch 13/100\n",
            "1/1 [==============================] - 0s 7ms/step - loss: 14.8221 - mae: 14.8221\n",
            "Epoch 14/100\n",
            "1/1 [==============================] - 0s 7ms/step - loss: 14.6896 - mae: 14.6896\n",
            "Epoch 15/100\n",
            "1/1 [==============================] - 0s 6ms/step - loss: 14.5571 - mae: 14.5571\n",
            "Epoch 16/100\n",
            "1/1 [==============================] - 0s 6ms/step - loss: 14.4246 - mae: 14.4246\n",
            "Epoch 17/100\n",
            "1/1 [==============================] - 0s 6ms/step - loss: 14.2921 - mae: 14.2921\n",
            "Epoch 18/100\n",
            "1/1 [==============================] - 0s 6ms/step - loss: 14.1596 - mae: 14.1596\n",
            "Epoch 19/100\n",
            "1/1 [==============================] - 0s 7ms/step - loss: 14.0271 - mae: 14.0271\n",
            "Epoch 20/100\n",
            "1/1 [==============================] - 0s 6ms/step - loss: 13.8946 - mae: 13.8946\n",
            "Epoch 21/100\n",
            "1/1 [==============================] - 0s 6ms/step - loss: 13.7621 - mae: 13.7621\n",
            "Epoch 22/100\n",
            "1/1 [==============================] - 0s 8ms/step - loss: 13.6296 - mae: 13.6296\n",
            "Epoch 23/100\n",
            "1/1 [==============================] - 0s 7ms/step - loss: 13.4971 - mae: 13.4971\n",
            "Epoch 24/100\n",
            "1/1 [==============================] - 0s 8ms/step - loss: 13.3646 - mae: 13.3646\n",
            "Epoch 25/100\n",
            "1/1 [==============================] - 0s 6ms/step - loss: 13.2321 - mae: 13.2321\n",
            "Epoch 26/100\n",
            "1/1 [==============================] - 0s 6ms/step - loss: 13.0996 - mae: 13.0996\n",
            "Epoch 27/100\n",
            "1/1 [==============================] - 0s 7ms/step - loss: 12.9671 - mae: 12.9671\n",
            "Epoch 28/100\n",
            "1/1 [==============================] - 0s 7ms/step - loss: 12.8346 - mae: 12.8346\n",
            "Epoch 29/100\n",
            "1/1 [==============================] - 0s 7ms/step - loss: 12.7021 - mae: 12.7021\n",
            "Epoch 30/100\n",
            "1/1 [==============================] - 0s 8ms/step - loss: 12.5696 - mae: 12.5696\n",
            "Epoch 31/100\n",
            "1/1 [==============================] - 0s 7ms/step - loss: 12.4371 - mae: 12.4371\n",
            "Epoch 32/100\n",
            "1/1 [==============================] - 0s 7ms/step - loss: 12.3046 - mae: 12.3046\n",
            "Epoch 33/100\n",
            "1/1 [==============================] - 0s 8ms/step - loss: 12.1721 - mae: 12.1721\n",
            "Epoch 34/100\n",
            "1/1 [==============================] - 0s 8ms/step - loss: 12.0396 - mae: 12.0396\n",
            "Epoch 35/100\n",
            "1/1 [==============================] - 0s 7ms/step - loss: 11.9071 - mae: 11.9071\n",
            "Epoch 36/100\n",
            "1/1 [==============================] - 0s 7ms/step - loss: 11.7746 - mae: 11.7746\n",
            "Epoch 37/100\n",
            "1/1 [==============================] - 0s 7ms/step - loss: 11.6421 - mae: 11.6421\n",
            "Epoch 38/100\n",
            "1/1 [==============================] - 0s 9ms/step - loss: 11.5096 - mae: 11.5096\n",
            "Epoch 39/100\n",
            "1/1 [==============================] - 0s 8ms/step - loss: 11.3771 - mae: 11.3771\n",
            "Epoch 40/100\n",
            "1/1 [==============================] - 0s 10ms/step - loss: 11.2446 - mae: 11.2446\n",
            "Epoch 41/100\n",
            "1/1 [==============================] - 0s 8ms/step - loss: 11.1121 - mae: 11.1121\n",
            "Epoch 42/100\n",
            "1/1 [==============================] - 0s 7ms/step - loss: 10.9796 - mae: 10.9796\n",
            "Epoch 43/100\n",
            "1/1 [==============================] - 0s 7ms/step - loss: 10.8471 - mae: 10.8471\n",
            "Epoch 44/100\n",
            "1/1 [==============================] - 0s 8ms/step - loss: 10.7146 - mae: 10.7146\n",
            "Epoch 45/100\n",
            "1/1 [==============================] - 0s 8ms/step - loss: 10.5821 - mae: 10.5821\n",
            "Epoch 46/100\n",
            "1/1 [==============================] - 0s 7ms/step - loss: 10.4496 - mae: 10.4496\n",
            "Epoch 47/100\n",
            "1/1 [==============================] - 0s 7ms/step - loss: 10.3171 - mae: 10.3171\n",
            "Epoch 48/100\n",
            "1/1 [==============================] - 0s 7ms/step - loss: 10.1846 - mae: 10.1846\n",
            "Epoch 49/100\n",
            "1/1 [==============================] - 0s 7ms/step - loss: 10.0521 - mae: 10.0521\n",
            "Epoch 50/100\n",
            "1/1 [==============================] - 0s 7ms/step - loss: 9.9196 - mae: 9.9196\n",
            "Epoch 51/100\n",
            "1/1 [==============================] - 0s 7ms/step - loss: 9.7871 - mae: 9.7871\n",
            "Epoch 52/100\n",
            "1/1 [==============================] - 0s 6ms/step - loss: 9.6546 - mae: 9.6546\n",
            "Epoch 53/100\n",
            "1/1 [==============================] - 0s 6ms/step - loss: 9.5221 - mae: 9.5221\n",
            "Epoch 54/100\n",
            "1/1 [==============================] - 0s 7ms/step - loss: 9.3896 - mae: 9.3896\n",
            "Epoch 55/100\n",
            "1/1 [==============================] - 0s 7ms/step - loss: 9.2571 - mae: 9.2571\n",
            "Epoch 56/100\n",
            "1/1 [==============================] - 0s 7ms/step - loss: 9.1246 - mae: 9.1246\n",
            "Epoch 57/100\n",
            "1/1 [==============================] - 0s 7ms/step - loss: 8.9921 - mae: 8.9921\n",
            "Epoch 58/100\n",
            "1/1 [==============================] - 0s 7ms/step - loss: 8.8596 - mae: 8.8596\n",
            "Epoch 59/100\n",
            "1/1 [==============================] - 0s 8ms/step - loss: 8.7271 - mae: 8.7271\n",
            "Epoch 60/100\n",
            "1/1 [==============================] - 0s 8ms/step - loss: 8.5946 - mae: 8.5946\n",
            "Epoch 61/100\n",
            "1/1 [==============================] - 0s 7ms/step - loss: 8.4621 - mae: 8.4621\n",
            "Epoch 62/100\n",
            "1/1 [==============================] - 0s 7ms/step - loss: 8.3296 - mae: 8.3296\n",
            "Epoch 63/100\n",
            "1/1 [==============================] - 0s 7ms/step - loss: 8.1971 - mae: 8.1971\n",
            "Epoch 64/100\n",
            "1/1 [==============================] - 0s 7ms/step - loss: 8.0646 - mae: 8.0646\n",
            "Epoch 65/100\n",
            "1/1 [==============================] - 0s 6ms/step - loss: 7.9321 - mae: 7.9321\n",
            "Epoch 66/100\n",
            "1/1 [==============================] - 0s 7ms/step - loss: 7.7996 - mae: 7.7996\n",
            "Epoch 67/100\n",
            "1/1 [==============================] - 0s 7ms/step - loss: 7.6671 - mae: 7.6671\n",
            "Epoch 68/100\n",
            "1/1 [==============================] - 0s 7ms/step - loss: 7.5346 - mae: 7.5346\n",
            "Epoch 69/100\n",
            "1/1 [==============================] - 0s 7ms/step - loss: 7.4021 - mae: 7.4021\n",
            "Epoch 70/100\n",
            "1/1 [==============================] - 0s 7ms/step - loss: 7.2696 - mae: 7.2696\n",
            "Epoch 71/100\n",
            "1/1 [==============================] - 0s 7ms/step - loss: 7.1371 - mae: 7.1371\n",
            "Epoch 72/100\n",
            "1/1 [==============================] - 0s 7ms/step - loss: 7.0046 - mae: 7.0046\n",
            "Epoch 73/100\n",
            "1/1 [==============================] - 0s 7ms/step - loss: 6.9825 - mae: 6.9825\n",
            "Epoch 74/100\n",
            "1/1 [==============================] - 0s 7ms/step - loss: 6.9769 - mae: 6.9769\n",
            "Epoch 75/100\n",
            "1/1 [==============================] - 0s 7ms/step - loss: 6.9713 - mae: 6.9713\n",
            "Epoch 76/100\n",
            "1/1 [==============================] - 0s 8ms/step - loss: 6.9656 - mae: 6.9656\n",
            "Epoch 77/100\n",
            "1/1 [==============================] - 0s 7ms/step - loss: 6.9600 - mae: 6.9600\n",
            "Epoch 78/100\n",
            "1/1 [==============================] - 0s 7ms/step - loss: 6.9544 - mae: 6.9544\n",
            "Epoch 79/100\n",
            "1/1 [==============================] - 0s 7ms/step - loss: 6.9488 - mae: 6.9488\n",
            "Epoch 80/100\n",
            "1/1 [==============================] - 0s 7ms/step - loss: 6.9431 - mae: 6.9431\n",
            "Epoch 81/100\n",
            "1/1 [==============================] - 0s 7ms/step - loss: 6.9375 - mae: 6.9375\n",
            "Epoch 82/100\n",
            "1/1 [==============================] - 0s 7ms/step - loss: 6.9319 - mae: 6.9319\n",
            "Epoch 83/100\n",
            "1/1 [==============================] - 0s 8ms/step - loss: 6.9263 - mae: 6.9263\n",
            "Epoch 84/100\n",
            "1/1 [==============================] - 0s 8ms/step - loss: 6.9206 - mae: 6.9206\n",
            "Epoch 85/100\n",
            "1/1 [==============================] - 0s 7ms/step - loss: 6.9150 - mae: 6.9150\n",
            "Epoch 86/100\n",
            "1/1 [==============================] - 0s 7ms/step - loss: 6.9094 - mae: 6.9094\n",
            "Epoch 87/100\n",
            "1/1 [==============================] - 0s 8ms/step - loss: 6.9038 - mae: 6.9038\n",
            "Epoch 88/100\n",
            "1/1 [==============================] - 0s 7ms/step - loss: 6.8981 - mae: 6.8981\n",
            "Epoch 89/100\n",
            "1/1 [==============================] - 0s 7ms/step - loss: 6.8925 - mae: 6.8925\n",
            "Epoch 90/100\n",
            "1/1 [==============================] - 0s 7ms/step - loss: 6.8869 - mae: 6.8869\n",
            "Epoch 91/100\n",
            "1/1 [==============================] - 0s 7ms/step - loss: 6.8813 - mae: 6.8813\n",
            "Epoch 92/100\n",
            "1/1 [==============================] - 0s 6ms/step - loss: 6.8756 - mae: 6.8756\n",
            "Epoch 93/100\n",
            "1/1 [==============================] - 0s 6ms/step - loss: 6.8700 - mae: 6.8700\n",
            "Epoch 94/100\n",
            "1/1 [==============================] - 0s 7ms/step - loss: 6.8644 - mae: 6.8644\n",
            "Epoch 95/100\n",
            "1/1 [==============================] - 0s 7ms/step - loss: 6.8588 - mae: 6.8588\n",
            "Epoch 96/100\n",
            "1/1 [==============================] - 0s 7ms/step - loss: 6.8531 - mae: 6.8531\n",
            "Epoch 97/100\n",
            "1/1 [==============================] - 0s 7ms/step - loss: 6.8475 - mae: 6.8475\n",
            "Epoch 98/100\n",
            "1/1 [==============================] - 0s 11ms/step - loss: 6.8419 - mae: 6.8419\n",
            "Epoch 99/100\n",
            "1/1 [==============================] - 0s 8ms/step - loss: 6.8363 - mae: 6.8363\n",
            "Epoch 100/100\n",
            "1/1 [==============================] - 0s 7ms/step - loss: 6.8306 - mae: 6.8306\n"
          ]
        },
        {
          "output_type": "execute_result",
          "data": {
            "text/plain": [
              "<keras.src.callbacks.History at 0x7f9202f8e350>"
            ]
          },
          "metadata": {},
          "execution_count": 19
        }
      ]
    },
    {
      "cell_type": "code",
      "source": [
        "X, y"
      ],
      "metadata": {
        "colab": {
          "base_uri": "https://localhost:8080/"
        },
        "id": "2rgX89hIn4qd",
        "outputId": "08466a11-d500-4b56-eefc-88c950406f0d"
      },
      "execution_count": 20,
      "outputs": [
        {
          "output_type": "execute_result",
          "data": {
            "text/plain": [
              "(<tf.Tensor: shape=(8, 1), dtype=float32, numpy=\n",
              " array([[-7.],\n",
              "        [-4.],\n",
              "        [-1.],\n",
              "        [ 2.],\n",
              "        [ 5.],\n",
              "        [ 8.],\n",
              "        [11.],\n",
              "        [14.]], dtype=float32)>,\n",
              " <tf.Tensor: shape=(8,), dtype=float32, numpy=array([ 3.,  6.,  9., 12., 15., 18., 21., 24.], dtype=float32)>)"
            ]
          },
          "metadata": {},
          "execution_count": 20
        }
      ]
    },
    {
      "cell_type": "code",
      "source": [
        "y_pred = model.predict([17.0])\n",
        "y_pred"
      ],
      "metadata": {
        "colab": {
          "base_uri": "https://localhost:8080/"
        },
        "id": "pNOT03pdoHIj",
        "outputId": "b157f34c-0e93-45f7-86a5-395436d48daf"
      },
      "execution_count": 21,
      "outputs": [
        {
          "output_type": "stream",
          "name": "stdout",
          "text": [
            "1/1 [==============================] - 0s 57ms/step\n"
          ]
        },
        {
          "output_type": "execute_result",
          "data": {
            "text/plain": [
              "array([[29.741293]], dtype=float32)"
            ]
          },
          "metadata": {},
          "execution_count": 21
        }
      ]
    },
    {
      "cell_type": "code",
      "source": [
        "# Let's see if we can make another to improve our model\n",
        "\n",
        "# 1. Create the model (this time with an extra hidden layer with 100 hidden units)\n",
        "model = tf.keras.Sequential([\n",
        "  tf.keras.layers.Dense(50, activation=None),\n",
        "  tf.keras.layers.Dense(1)\n",
        "])\n",
        "\n",
        "# 2. Compile the model\n",
        "model.compile(loss=\"mae\",\n",
        "              optimizer=tf.keras.optimizers.Adam(learning_rate=0.01),\n",
        "              metrics=[\"mae\"])\n",
        "\n",
        "# 3. Fit the model\n",
        "model.fit(X, y, epochs=100)"
      ],
      "metadata": {
        "colab": {
          "base_uri": "https://localhost:8080/"
        },
        "id": "wOPnnWGspnhq",
        "outputId": "929d7576-6517-4adf-e48e-fa20fd90cfc9"
      },
      "execution_count": 22,
      "outputs": [
        {
          "output_type": "stream",
          "name": "stdout",
          "text": [
            "Epoch 1/100\n",
            "1/1 [==============================] - 0s 412ms/step - loss: 13.4450 - mae: 13.4450\n",
            "Epoch 2/100\n",
            "1/1 [==============================] - 0s 8ms/step - loss: 12.8196 - mae: 12.8196\n",
            "Epoch 3/100\n",
            "1/1 [==============================] - 0s 8ms/step - loss: 12.1931 - mae: 12.1931\n",
            "Epoch 4/100\n",
            "1/1 [==============================] - 0s 7ms/step - loss: 11.5614 - mae: 11.5614\n",
            "Epoch 5/100\n",
            "1/1 [==============================] - 0s 7ms/step - loss: 10.9200 - mae: 10.9200\n",
            "Epoch 6/100\n",
            "1/1 [==============================] - 0s 7ms/step - loss: 10.2645 - mae: 10.2645\n",
            "Epoch 7/100\n",
            "1/1 [==============================] - 0s 7ms/step - loss: 9.5916 - mae: 9.5916\n",
            "Epoch 8/100\n",
            "1/1 [==============================] - 0s 7ms/step - loss: 8.8982 - mae: 8.8982\n",
            "Epoch 9/100\n",
            "1/1 [==============================] - 0s 8ms/step - loss: 8.1815 - mae: 8.1815\n",
            "Epoch 10/100\n",
            "1/1 [==============================] - 0s 7ms/step - loss: 7.4384 - mae: 7.4384\n",
            "Epoch 11/100\n",
            "1/1 [==============================] - 0s 9ms/step - loss: 6.7333 - mae: 6.7333\n",
            "Epoch 12/100\n",
            "1/1 [==============================] - 0s 8ms/step - loss: 6.7118 - mae: 6.7118\n",
            "Epoch 13/100\n",
            "1/1 [==============================] - 0s 7ms/step - loss: 6.9929 - mae: 6.9929\n",
            "Epoch 14/100\n",
            "1/1 [==============================] - 0s 8ms/step - loss: 7.1628 - mae: 7.1628\n",
            "Epoch 15/100\n",
            "1/1 [==============================] - 0s 7ms/step - loss: 7.2841 - mae: 7.2841\n",
            "Epoch 16/100\n",
            "1/1 [==============================] - 0s 7ms/step - loss: 7.2449 - mae: 7.2449\n",
            "Epoch 17/100\n",
            "1/1 [==============================] - 0s 12ms/step - loss: 7.0335 - mae: 7.0335\n",
            "Epoch 18/100\n",
            "1/1 [==============================] - 0s 8ms/step - loss: 6.8121 - mae: 6.8121\n",
            "Epoch 19/100\n",
            "1/1 [==============================] - 0s 7ms/step - loss: 6.5681 - mae: 6.5681\n",
            "Epoch 20/100\n",
            "1/1 [==============================] - 0s 6ms/step - loss: 6.3049 - mae: 6.3049\n",
            "Epoch 21/100\n",
            "1/1 [==============================] - 0s 13ms/step - loss: 6.0741 - mae: 6.0741\n",
            "Epoch 22/100\n",
            "1/1 [==============================] - 0s 8ms/step - loss: 6.0304 - mae: 6.0304\n",
            "Epoch 23/100\n",
            "1/1 [==============================] - 0s 7ms/step - loss: 5.9819 - mae: 5.9819\n",
            "Epoch 24/100\n",
            "1/1 [==============================] - 0s 8ms/step - loss: 6.1228 - mae: 6.1228\n",
            "Epoch 25/100\n",
            "1/1 [==============================] - 0s 8ms/step - loss: 6.1386 - mae: 6.1386\n",
            "Epoch 26/100\n",
            "1/1 [==============================] - 0s 7ms/step - loss: 6.0481 - mae: 6.0481\n",
            "Epoch 27/100\n",
            "1/1 [==============================] - 0s 7ms/step - loss: 5.8646 - mae: 5.8646\n",
            "Epoch 28/100\n",
            "1/1 [==============================] - 0s 7ms/step - loss: 5.5970 - mae: 5.5970\n",
            "Epoch 29/100\n",
            "1/1 [==============================] - 0s 7ms/step - loss: 5.4683 - mae: 5.4683\n",
            "Epoch 30/100\n",
            "1/1 [==============================] - 0s 8ms/step - loss: 5.3494 - mae: 5.3494\n",
            "Epoch 31/100\n",
            "1/1 [==============================] - 0s 7ms/step - loss: 5.3693 - mae: 5.3693\n",
            "Epoch 32/100\n",
            "1/1 [==============================] - 0s 7ms/step - loss: 5.3751 - mae: 5.3751\n",
            "Epoch 33/100\n",
            "1/1 [==============================] - 0s 7ms/step - loss: 5.3335 - mae: 5.3335\n",
            "Epoch 34/100\n",
            "1/1 [==============================] - 0s 7ms/step - loss: 5.2480 - mae: 5.2480\n",
            "Epoch 35/100\n",
            "1/1 [==============================] - 0s 7ms/step - loss: 5.1224 - mae: 5.1224\n",
            "Epoch 36/100\n",
            "1/1 [==============================] - 0s 7ms/step - loss: 4.9603 - mae: 4.9603\n",
            "Epoch 37/100\n",
            "1/1 [==============================] - 0s 8ms/step - loss: 4.7650 - mae: 4.7650\n",
            "Epoch 38/100\n",
            "1/1 [==============================] - 0s 8ms/step - loss: 4.5397 - mae: 4.5397\n",
            "Epoch 39/100\n",
            "1/1 [==============================] - 0s 8ms/step - loss: 4.4305 - mae: 4.4305\n",
            "Epoch 40/100\n",
            "1/1 [==============================] - 0s 8ms/step - loss: 4.3343 - mae: 4.3343\n",
            "Epoch 41/100\n",
            "1/1 [==============================] - 0s 9ms/step - loss: 4.3556 - mae: 4.3556\n",
            "Epoch 42/100\n",
            "1/1 [==============================] - 0s 8ms/step - loss: 4.2724 - mae: 4.2724\n",
            "Epoch 43/100\n",
            "1/1 [==============================] - 0s 8ms/step - loss: 4.0653 - mae: 4.0653\n",
            "Epoch 44/100\n",
            "1/1 [==============================] - 0s 11ms/step - loss: 3.7846 - mae: 3.7846\n",
            "Epoch 45/100\n",
            "1/1 [==============================] - 0s 9ms/step - loss: 3.6093 - mae: 3.6093\n",
            "Epoch 46/100\n",
            "1/1 [==============================] - 0s 9ms/step - loss: 3.4617 - mae: 3.4617\n",
            "Epoch 47/100\n",
            "1/1 [==============================] - 0s 7ms/step - loss: 3.3606 - mae: 3.3606\n",
            "Epoch 48/100\n",
            "1/1 [==============================] - 0s 7ms/step - loss: 3.2061 - mae: 3.2061\n",
            "Epoch 49/100\n",
            "1/1 [==============================] - 0s 9ms/step - loss: 3.0007 - mae: 3.0007\n",
            "Epoch 50/100\n",
            "1/1 [==============================] - 0s 7ms/step - loss: 2.7471 - mae: 2.7471\n",
            "Epoch 51/100\n",
            "1/1 [==============================] - 0s 8ms/step - loss: 2.5627 - mae: 2.5627\n",
            "Epoch 52/100\n",
            "1/1 [==============================] - 0s 9ms/step - loss: 2.4500 - mae: 2.4500\n",
            "Epoch 53/100\n",
            "1/1 [==============================] - 0s 8ms/step - loss: 2.2562 - mae: 2.2562\n",
            "Epoch 54/100\n",
            "1/1 [==============================] - 0s 7ms/step - loss: 1.9367 - mae: 1.9367\n",
            "Epoch 55/100\n",
            "1/1 [==============================] - 0s 7ms/step - loss: 1.6906 - mae: 1.6906\n",
            "Epoch 56/100\n",
            "1/1 [==============================] - 0s 8ms/step - loss: 1.5462 - mae: 1.5462\n",
            "Epoch 57/100\n",
            "1/1 [==============================] - 0s 6ms/step - loss: 1.3425 - mae: 1.3425\n",
            "Epoch 58/100\n",
            "1/1 [==============================] - 0s 6ms/step - loss: 1.0166 - mae: 1.0166\n",
            "Epoch 59/100\n",
            "1/1 [==============================] - 0s 7ms/step - loss: 0.7171 - mae: 0.7171\n",
            "Epoch 60/100\n",
            "1/1 [==============================] - 0s 6ms/step - loss: 0.4837 - mae: 0.4837\n",
            "Epoch 61/100\n",
            "1/1 [==============================] - 0s 6ms/step - loss: 0.1880 - mae: 0.1880\n",
            "Epoch 62/100\n",
            "1/1 [==============================] - 0s 6ms/step - loss: 0.1514 - mae: 0.1514\n",
            "Epoch 63/100\n",
            "1/1 [==============================] - 0s 7ms/step - loss: 0.5431 - mae: 0.5431\n",
            "Epoch 64/100\n",
            "1/1 [==============================] - 0s 7ms/step - loss: 0.6975 - mae: 0.6975\n",
            "Epoch 65/100\n",
            "1/1 [==============================] - 0s 6ms/step - loss: 0.6613 - mae: 0.6613\n",
            "Epoch 66/100\n",
            "1/1 [==============================] - 0s 7ms/step - loss: 0.8904 - mae: 0.8904\n",
            "Epoch 67/100\n",
            "1/1 [==============================] - 0s 6ms/step - loss: 0.9633 - mae: 0.9633\n",
            "Epoch 68/100\n",
            "1/1 [==============================] - 0s 6ms/step - loss: 0.8227 - mae: 0.8227\n",
            "Epoch 69/100\n",
            "1/1 [==============================] - 0s 8ms/step - loss: 0.7223 - mae: 0.7223\n",
            "Epoch 70/100\n",
            "1/1 [==============================] - 0s 7ms/step - loss: 0.8057 - mae: 0.8057\n",
            "Epoch 71/100\n",
            "1/1 [==============================] - 0s 6ms/step - loss: 0.6810 - mae: 0.6810\n",
            "Epoch 72/100\n",
            "1/1 [==============================] - 0s 7ms/step - loss: 0.3797 - mae: 0.3797\n",
            "Epoch 73/100\n",
            "1/1 [==============================] - 0s 7ms/step - loss: 0.3666 - mae: 0.3666\n",
            "Epoch 74/100\n",
            "1/1 [==============================] - 0s 7ms/step - loss: 0.3651 - mae: 0.3651\n",
            "Epoch 75/100\n",
            "1/1 [==============================] - 0s 7ms/step - loss: 0.1678 - mae: 0.1678\n",
            "Epoch 76/100\n",
            "1/1 [==============================] - 0s 7ms/step - loss: 0.4657 - mae: 0.4657\n",
            "Epoch 77/100\n",
            "1/1 [==============================] - 0s 7ms/step - loss: 0.6895 - mae: 0.6895\n",
            "Epoch 78/100\n",
            "1/1 [==============================] - 0s 7ms/step - loss: 0.6959 - mae: 0.6959\n",
            "Epoch 79/100\n",
            "1/1 [==============================] - 0s 7ms/step - loss: 0.5440 - mae: 0.5440\n",
            "Epoch 80/100\n",
            "1/1 [==============================] - 0s 7ms/step - loss: 0.3308 - mae: 0.3308\n",
            "Epoch 81/100\n",
            "1/1 [==============================] - 0s 11ms/step - loss: 0.4936 - mae: 0.4936\n",
            "Epoch 82/100\n",
            "1/1 [==============================] - 0s 8ms/step - loss: 0.4322 - mae: 0.4322\n",
            "Epoch 83/100\n",
            "1/1 [==============================] - 0s 7ms/step - loss: 0.1440 - mae: 0.1440\n",
            "Epoch 84/100\n",
            "1/1 [==============================] - 0s 7ms/step - loss: 0.3212 - mae: 0.3212\n",
            "Epoch 85/100\n",
            "1/1 [==============================] - 0s 7ms/step - loss: 0.3671 - mae: 0.3671\n",
            "Epoch 86/100\n",
            "1/1 [==============================] - 0s 7ms/step - loss: 0.1511 - mae: 0.1511\n",
            "Epoch 87/100\n",
            "1/1 [==============================] - 0s 13ms/step - loss: 0.3933 - mae: 0.3933\n",
            "Epoch 88/100\n",
            "1/1 [==============================] - 0s 11ms/step - loss: 0.5190 - mae: 0.5190\n",
            "Epoch 89/100\n",
            "1/1 [==============================] - 0s 11ms/step - loss: 0.3988 - mae: 0.3988\n",
            "Epoch 90/100\n",
            "1/1 [==============================] - 0s 8ms/step - loss: 0.1556 - mae: 0.1556\n",
            "Epoch 91/100\n",
            "1/1 [==============================] - 0s 10ms/step - loss: 0.4585 - mae: 0.4585\n",
            "Epoch 92/100\n",
            "1/1 [==============================] - 0s 10ms/step - loss: 0.5739 - mae: 0.5739\n",
            "Epoch 93/100\n",
            "1/1 [==============================] - 0s 8ms/step - loss: 0.4235 - mae: 0.4235\n",
            "Epoch 94/100\n",
            "1/1 [==============================] - 0s 8ms/step - loss: 0.1367 - mae: 0.1367\n",
            "Epoch 95/100\n",
            "1/1 [==============================] - 0s 7ms/step - loss: 0.5581 - mae: 0.5581\n",
            "Epoch 96/100\n",
            "1/1 [==============================] - 0s 7ms/step - loss: 0.7725 - mae: 0.7725\n",
            "Epoch 97/100\n",
            "1/1 [==============================] - 0s 7ms/step - loss: 0.6970 - mae: 0.6970\n",
            "Epoch 98/100\n",
            "1/1 [==============================] - 0s 7ms/step - loss: 0.3800 - mae: 0.3800\n",
            "Epoch 99/100\n",
            "1/1 [==============================] - 0s 7ms/step - loss: 0.2735 - mae: 0.2735\n",
            "Epoch 100/100\n",
            "1/1 [==============================] - 0s 7ms/step - loss: 0.4981 - mae: 0.4981\n"
          ]
        },
        {
          "output_type": "execute_result",
          "data": {
            "text/plain": [
              "<keras.src.callbacks.History at 0x7f920267a980>"
            ]
          },
          "metadata": {},
          "execution_count": 22
        }
      ]
    },
    {
      "cell_type": "code",
      "source": [
        "X, y"
      ],
      "metadata": {
        "colab": {
          "base_uri": "https://localhost:8080/"
        },
        "id": "pfmmIliTsxjM",
        "outputId": "2b0b2181-de1a-48f4-a699-174d827daa66"
      },
      "execution_count": 23,
      "outputs": [
        {
          "output_type": "execute_result",
          "data": {
            "text/plain": [
              "(<tf.Tensor: shape=(8, 1), dtype=float32, numpy=\n",
              " array([[-7.],\n",
              "        [-4.],\n",
              "        [-1.],\n",
              "        [ 2.],\n",
              "        [ 5.],\n",
              "        [ 8.],\n",
              "        [11.],\n",
              "        [14.]], dtype=float32)>,\n",
              " <tf.Tensor: shape=(8,), dtype=float32, numpy=array([ 3.,  6.,  9., 12., 15., 18., 21., 24.], dtype=float32)>)"
            ]
          },
          "metadata": {},
          "execution_count": 23
        }
      ]
    },
    {
      "cell_type": "code",
      "source": [
        "y_pred = model.predict([17.0])\n",
        "y_pred"
      ],
      "metadata": {
        "colab": {
          "base_uri": "https://localhost:8080/"
        },
        "id": "vMbEGL0Us0r0",
        "outputId": "9f14a1a3-0a82-4738-ef9b-ca82f40ccb7e"
      },
      "execution_count": 24,
      "outputs": [
        {
          "output_type": "stream",
          "name": "stdout",
          "text": [
            "1/1 [==============================] - 0s 53ms/step\n"
          ]
        },
        {
          "output_type": "execute_result",
          "data": {
            "text/plain": [
              "array([[25.662025]], dtype=float32)"
            ]
          },
          "metadata": {},
          "execution_count": 24
        }
      ]
    },
    {
      "cell_type": "markdown",
      "source": [
        "# Evaluating a model\n",
        "\n",
        "In practice, a typical workflow you'll go through when building neural networks is:\n",
        "\n",
        "```\n",
        "Build a model  -> fit it -> evaluate it -> tweak a model -> fit it -> evaluate it -> tweak a model -> fit it -> evaluate it...\n",
        "```\n",
        "\n",
        "When it comes to evaluation... there are 3 words you should memorize:\n",
        "\n",
        "```\n",
        "\"Visualize, visualize, visualize\"\n",
        "```\n",
        "\n",
        "It's a good idea to visualize:\n",
        "\n",
        "> * The data - what data are we working with? What does it look like?\n",
        "\n",
        "> * The model itself - what does our model look like?\n",
        "\n",
        "> * The training of a model - how does a model perform while it learns?\n",
        "\n",
        "> * The predictions of the model - how do the predictions of a model line up against the ground truth (the original labels)?"
      ],
      "metadata": {
        "id": "b3DAjiiSwjbb"
      }
    },
    {
      "cell_type": "code",
      "source": [
        "# Make a bigger dataset\n",
        "X = tf.range(-100, 100, 4)\n",
        "X"
      ],
      "metadata": {
        "colab": {
          "base_uri": "https://localhost:8080/"
        },
        "id": "4p0MPn2Zs7fk",
        "outputId": "a7522cc8-a5a1-48cc-bd58-b435ed680bfa"
      },
      "execution_count": 25,
      "outputs": [
        {
          "output_type": "execute_result",
          "data": {
            "text/plain": [
              "<tf.Tensor: shape=(50,), dtype=int32, numpy=\n",
              "array([-100,  -96,  -92,  -88,  -84,  -80,  -76,  -72,  -68,  -64,  -60,\n",
              "        -56,  -52,  -48,  -44,  -40,  -36,  -32,  -28,  -24,  -20,  -16,\n",
              "        -12,   -8,   -4,    0,    4,    8,   12,   16,   20,   24,   28,\n",
              "         32,   36,   40,   44,   48,   52,   56,   60,   64,   68,   72,\n",
              "         76,   80,   84,   88,   92,   96], dtype=int32)>"
            ]
          },
          "metadata": {},
          "execution_count": 25
        }
      ]
    },
    {
      "cell_type": "code",
      "source": [
        "# Make labels for the dataset\n",
        "y = X + 10\n",
        "y"
      ],
      "metadata": {
        "colab": {
          "base_uri": "https://localhost:8080/"
        },
        "id": "sEsb-mG1x1E-",
        "outputId": "968978ef-2dc4-41a8-b623-5cabb602ef04"
      },
      "execution_count": 26,
      "outputs": [
        {
          "output_type": "execute_result",
          "data": {
            "text/plain": [
              "<tf.Tensor: shape=(50,), dtype=int32, numpy=\n",
              "array([-90, -86, -82, -78, -74, -70, -66, -62, -58, -54, -50, -46, -42,\n",
              "       -38, -34, -30, -26, -22, -18, -14, -10,  -6,  -2,   2,   6,  10,\n",
              "        14,  18,  22,  26,  30,  34,  38,  42,  46,  50,  54,  58,  62,\n",
              "        66,  70,  74,  78,  82,  86,  90,  94,  98, 102, 106], dtype=int32)>"
            ]
          },
          "metadata": {},
          "execution_count": 26
        }
      ]
    },
    {
      "cell_type": "code",
      "source": [
        "# Visualize the data\n",
        "plt.scatter(X, y)"
      ],
      "metadata": {
        "colab": {
          "base_uri": "https://localhost:8080/",
          "height": 447
        },
        "id": "llmOH0Qfx7Pf",
        "outputId": "e264af2d-eed0-4b23-eb7b-0851550fda84"
      },
      "execution_count": 27,
      "outputs": [
        {
          "output_type": "execute_result",
          "data": {
            "text/plain": [
              "<matplotlib.collections.PathCollection at 0x7f9214da3250>"
            ]
          },
          "metadata": {},
          "execution_count": 27
        },
        {
          "output_type": "display_data",
          "data": {
            "text/plain": [
              "<Figure size 640x480 with 1 Axes>"
            ],
            "image/png": "[encoded data removed]"
          },
          "metadata": {}
        }
      ]
    },
    {
      "cell_type": "markdown",
      "source": [
        "The 3 sets...\n",
        "\n",
        "> * **Training set** - the model learns from this data, which is typically 70-80% of the total data you have available.\n",
        "\n",
        "> * **Validation set** - the model gets tuned on this data, which is typically 10-15% of the data available.\n",
        "\n",
        "> * **Test set** - the model gets evaluated on this data to test what is has learned, this set is typically 10-15% of the total data available."
      ],
      "metadata": {
        "id": "XN7XiRBKyJ0O"
      }
    },
    {
      "cell_type": "code",
      "source": [
        "# Check the length of how many samples we have\n",
        "len(X)"
      ],
      "metadata": {
        "colab": {
          "base_uri": "https://localhost:8080/"
        },
        "id": "1B-ptwauyE0R",
        "outputId": "d2003c81-c530-4cd9-ebeb-60e3c9ec9990"
      },
      "execution_count": 28,
      "outputs": [
        {
          "output_type": "execute_result",
          "data": {
            "text/plain": [
              "50"
            ]
          },
          "metadata": {},
          "execution_count": 28
        }
      ]
    },
    {
      "cell_type": "code",
      "source": [
        "# Split the data into train and test set\n",
        "X_train = X[:40] # first 40 are training samples (80% of the data)\n",
        "y_train = y[:40]\n",
        "\n",
        "X_test = X[40:] # last 10 are the testing samples (20% of the data)\n",
        "y_test = y[40:]\n",
        "\n",
        "len(X_train), len(X_test), len(y_train), len(y_test)"
      ],
      "metadata": {
        "colab": {
          "base_uri": "https://localhost:8080/"
        },
        "id": "Yq_3z7uVzwLR",
        "outputId": "df87491f-c37d-4a97-be79-3cad74c59308"
      },
      "execution_count": 29,
      "outputs": [
        {
          "output_type": "execute_result",
          "data": {
            "text/plain": [
              "(40, 10, 40, 10)"
            ]
          },
          "metadata": {},
          "execution_count": 29
        }
      ]
    },
    {
      "cell_type": "markdown",
      "source": [
        "# Visualizing the data"
      ],
      "metadata": {
        "id": "VjX5gz1u0zeQ"
      }
    },
    {
      "cell_type": "code",
      "source": [
        "plt.figure(figsize=(10,7))\n",
        "# Plot training data in blue\n",
        "plt.scatter(X_train, y_train, c=\"b\", label=\"Training data\")\n",
        "# Plot test data in green\n",
        "plt.scatter(X_test, y_test, c=\"g\", label=\"Testing data\")\n",
        "# Show a legend\n",
        "plt.legend();"
      ],
      "metadata": {
        "colab": {
          "base_uri": "https://localhost:8080/",
          "height": 595
        },
        "id": "DfFFGEck0iyr",
        "outputId": "7231aa4b-7f43-46f3-d23e-cbc206918390"
      },
      "execution_count": 30,
      "outputs": [
        {
          "output_type": "display_data",
          "data": {
            "text/plain": [
              "<Figure size 1000x700 with 1 Axes>"
            ],
            "image/png": "[encoded data removed]"
          },
          "metadata": {}
        }
      ]
    },
    {
      "cell_type": "code",
      "source": [
        "# Let's have a look at how to build a neural network for our data\n",
        "\n",
        "# Create a model\n",
        "model = tf.keras.Sequential([\n",
        "    tf.keras.layers.Dense(1)\n",
        "])\n",
        "\n",
        "# Compile the model\n",
        "model.compile(loss=tf.keras.losses.mae,\n",
        "              optimizer=tf.keras.optimizers.SGD(),\n",
        "              metrics=[\"mae\"])\n",
        "\n",
        "# Fit the model\n",
        "# model.fit(X_train, y_train, epochs=100)"
      ],
      "metadata": {
        "id": "_zSYGgbY1rck"
      },
      "execution_count": 31,
      "outputs": []
    },
    {
      "cell_type": "markdown",
      "source": [
        "# Visualizing the model"
      ],
      "metadata": {
        "id": "z_nQpxO33BYw"
      }
    },
    {
      "cell_type": "code",
      "source": [
        "model.summary()"
      ],
      "metadata": {
        "colab": {
          "base_uri": "https://localhost:8080/",
          "height": 333
        },
        "id": "jcoPIosW3AOo",
        "outputId": "1f3a831c-e21b-4ab1-affb-ae6b7d118e90"
      },
      "execution_count": 33,
      "outputs": [
        {
          "output_type": "error",
          "ename": "ValueError",
          "evalue": "This model has not yet been built. Build the model first by calling `build()` or by calling the model on a batch of data.",
          "traceback": [
            "\u001b[0;31m---------------------------------------------------------------------------\u001b[0m",
            "\u001b[0;31mValueError\u001b[0m                                Traceback (most recent call last)",
            "\u001b[0;32m<ipython-input-33-5f15418b3570>\u001b[0m in \u001b[0;36m<cell line: 1>\u001b[0;34m()\u001b[0m\n\u001b[0;32m----> 1\u001b[0;31m \u001b[0mmodel\u001b[0m\u001b[0;34m.\u001b[0m\u001b[0msummary\u001b[0m\u001b[0;34m(\u001b[0m\u001b[0;34m)\u001b[0m\u001b[0;34m\u001b[0m\u001b[0;34m\u001b[0m\u001b[0m\n\u001b[0m",
            "\u001b[0;32m/usr/local/lib/python3.10/dist-packages/keras/src/engine/training.py\u001b[0m in \u001b[0;36msummary\u001b[0;34m(self, line_length, positions, print_fn, expand_nested, show_trainable, layer_range)\u001b[0m\n\u001b[1;32m   3504\u001b[0m         \"\"\"\n\u001b[1;32m   3505\u001b[0m         \u001b[0;32mif\u001b[0m \u001b[0;32mnot\u001b[0m \u001b[0mself\u001b[0m\u001b[0;34m.\u001b[0m\u001b[0mbuilt\u001b[0m\u001b[0;34m:\u001b[0m\u001b[0;34m\u001b[0m\u001b[0;34m\u001b[0m\u001b[0m\n\u001b[0;32m-> 3506\u001b[0;31m             raise ValueError(\n\u001b[0m\u001b[1;32m   3507\u001b[0m                 \u001b[0;34m\"This model has not yet been built. \"\u001b[0m\u001b[0;34m\u001b[0m\u001b[0;34m\u001b[0m\u001b[0m\n\u001b[1;32m   3508\u001b[0m                 \u001b[0;34m\"Build the model first by calling `build()` or by calling \"\u001b[0m\u001b[0;34m\u001b[0m\u001b[0;34m\u001b[0m\u001b[0m\n",
            "\u001b[0;31mValueError\u001b[0m: This model has not yet been built. Build the model first by calling `build()` or by calling the model on a batch of data."
          ]
        }
      ]
    },
    {
      "cell_type": "code",
      "source": [
        "# Let's create a model which builds automatically by defining the input_shape argument in the first layer\n",
        "tf.random.set_seed(42)\n",
        "\n",
        "# Create a model\n",
        "model = tf.keras.Sequential([\n",
        "    tf.keras.layers.Dense(10, input_shape=[1], name=\"input_layer\"),\n",
        "    tf.keras.layers.Dense(1, name=\"output_layer\")\n",
        "], name=\"model_1\")\n",
        "\n",
        "# Compile the model\n",
        "model.compile(loss=tf.keras.losses.mae,\n",
        "              optimizer=tf.keras.optimizers.SGD(),\n",
        "              metrics=[\"mae\"])"
      ],
      "metadata": {
        "id": "HsTMiuEB3NlH"
      },
      "execution_count": 100,
      "outputs": []
    },
    {
      "cell_type": "code",
      "source": [
        "model.summary()"
      ],
      "metadata": {
        "colab": {
          "base_uri": "https://localhost:8080/"
        },
        "id": "6TKrLqO135-j",
        "outputId": "60e653ff-738c-4cea-b3c5-83113cb2db30"
      },
      "execution_count": 101,
      "outputs": [
        {
          "output_type": "stream",
          "name": "stdout",
          "text": [
            "Model: \"model_1\"\n",
            "_________________________________________________________________\n",
            " Layer (type)                Output Shape              Param #   \n",
            "=================================================================\n",
            " input_layer (Dense)         (None, 10)                20        \n",
            "                                                                 \n",
            " output_layer (Dense)        (None, 1)                 11        \n",
            "                                                                 \n",
            "=================================================================\n",
            "Total params: 31 (124.00 Byte)\n",
            "Trainable params: 31 (124.00 Byte)\n",
            "Non-trainable params: 0 (0.00 Byte)\n",
            "_________________________________________________________________\n"
          ]
        }
      ]
    },
    {
      "cell_type": "markdown",
      "source": [
        "> * Total params - total number of parameters in the model.\n",
        "\n",
        "> * Trainable parameters - these are the parameters (patterns) the model can update as it trains.\n",
        "\n",
        "> * Non-trainable params - these parameters aren't updated during training (this is typical when you bring in already learn patterns or parameters from other models during **transfer learning**)."
      ],
      "metadata": {
        "id": "dXLuGOtr4H1h"
      }
    },
    {
      "cell_type": "code",
      "source": [
        "# Fit the model\n",
        "model.fit(X_train, y_train, epochs=100, verbose=0)"
      ],
      "metadata": {
        "colab": {
          "base_uri": "https://localhost:8080/"
        },
        "id": "6y685WDu38Kr",
        "outputId": "426d16ce-7cfb-4b24-d12a-1f3ceb135912"
      },
      "execution_count": 102,
      "outputs": [
        {
          "output_type": "execute_result",
          "data": {
            "text/plain": [
              "<keras.src.callbacks.History at 0x7f9203349420>"
            ]
          },
          "metadata": {},
          "execution_count": 102
        }
      ]
    },
    {
      "cell_type": "code",
      "source": [
        "# Get a summary of our model\n",
        "model.summary()"
      ],
      "metadata": {
        "colab": {
          "base_uri": "https://localhost:8080/"
        },
        "id": "M8Yz1fiK5hJm",
        "outputId": "1f5b5c46-e8aa-419b-aea6-f30d2dd20e10"
      },
      "execution_count": 103,
      "outputs": [
        {
          "output_type": "stream",
          "name": "stdout",
          "text": [
            "Model: \"model_1\"\n",
            "_________________________________________________________________\n",
            " Layer (type)                Output Shape              Param #   \n",
            "=================================================================\n",
            " input_layer (Dense)         (None, 10)                20        \n",
            "                                                                 \n",
            " output_layer (Dense)        (None, 1)                 11        \n",
            "                                                                 \n",
            "=================================================================\n",
            "Total params: 31 (124.00 Byte)\n",
            "Trainable params: 31 (124.00 Byte)\n",
            "Non-trainable params: 0 (0.00 Byte)\n",
            "_________________________________________________________________\n"
          ]
        }
      ]
    },
    {
      "cell_type": "code",
      "source": [
        "from tensorflow.keras.utils import plot_model\n",
        "plot_model(model=model,show_shapes=True)"
      ],
      "metadata": {
        "colab": {
          "base_uri": "https://localhost:8080/",
          "height": 312
        },
        "id": "xa0Az6aG5pfr",
        "outputId": "2001bd1d-df10-476c-b416-1ab1ef245d63"
      },
      "execution_count": 104,
      "outputs": [
        {
          "output_type": "execute_result",
          "data": {
            "image/png": "[encoded data removed]",
            "text/plain": [
              "<IPython.core.display.Image object>"
            ]
          },
          "metadata": {},
          "execution_count": 104
        }
      ]
    },
    {
      "cell_type": "markdown",
      "source": [
        "# Visualizing our model's predictions\n",
        "\n",
        "To visualize predictions, it's a good idea to plot them against the ground truth labels.\n",
        "\n",
        "Often you'll see this in the form of `y_test` or `y_true` versus `y_pred` (ground truth versus your model's predictions)."
      ],
      "metadata": {
        "id": "W5GkteP39FhB"
      }
    },
    {
      "cell_type": "code",
      "source": [
        "# Make some predictions\n",
        "y_pred = model.predict(X_test)\n",
        "y_pred"
      ],
      "metadata": {
        "colab": {
          "base_uri": "https://localhost:8080/"
        },
        "id": "-DuE2r3e7ApL",
        "outputId": "efa535ad-8364-4317-eef1-99ff2dbabef1"
      },
      "execution_count": 105,
      "outputs": [
        {
          "output_type": "stream",
          "name": "stdout",
          "text": [
            "1/1 [==============================] - 0s 36ms/step\n"
          ]
        },
        {
          "output_type": "execute_result",
          "data": {
            "text/plain": [
              "array([[ 70.33518 ],\n",
              "       [ 74.91016 ],\n",
              "       [ 79.485146],\n",
              "       [ 84.06013 ],\n",
              "       [ 88.63511 ],\n",
              "       [ 93.21009 ],\n",
              "       [ 97.78507 ],\n",
              "       [102.360054],\n",
              "       [106.93504 ],\n",
              "       [111.51002 ]], dtype=float32)"
            ]
          },
          "metadata": {},
          "execution_count": 105
        }
      ]
    },
    {
      "cell_type": "code",
      "source": [
        "y_test"
      ],
      "metadata": {
        "colab": {
          "base_uri": "https://localhost:8080/"
        },
        "id": "FbrIkyw89fV4",
        "outputId": "834bc343-ab10-4d00-8536-17860f5c1a4c"
      },
      "execution_count": 106,
      "outputs": [
        {
          "output_type": "execute_result",
          "data": {
            "text/plain": [
              "<tf.Tensor: shape=(10,), dtype=int32, numpy=array([ 70,  74,  78,  82,  86,  90,  94,  98, 102, 106], dtype=int32)>"
            ]
          },
          "metadata": {},
          "execution_count": 106
        }
      ]
    },
    {
      "cell_type": "markdown",
      "source": [
        "> **Note**: If you feel like you're going to reuse some kind of functionality in the future, it's a good idea to turn it into a function"
      ],
      "metadata": {
        "id": "4N_dkbMQ9wPX"
      }
    },
    {
      "cell_type": "code",
      "source": [
        "# Let's create a plotting function\n",
        "def plot_predictions(train_data=X_train,\n",
        "                     train_labels=y_train,\n",
        "                     test_data=X_test,\n",
        "                     test_labels=y_test,\n",
        "                     predictions=y_pred):\n",
        "  \"\"\"\n",
        "  Plots training data, test data and compares predictions to ground truth labels.\n",
        "  \"\"\"\n",
        "  plt.figure(figsize=(10,7))\n",
        "  # Plot training data in blue\n",
        "  plt.scatter(train_data, train_labels, c=\"b\", label=\"Training data\")\n",
        "  # Plot test data in green\n",
        "  plt.scatter(test_data, test_labels, c=\"g\", label=\"Testing data\")\n",
        "  # Plot model's predictions in red\n",
        "  plt.scatter(test_data, predictions, c=\"r\", label=\"Predictions\")\n",
        "  # Show a legend\n",
        "  plt.legend();"
      ],
      "metadata": {
        "id": "xE4XmLq-9gQY"
      },
      "execution_count": 107,
      "outputs": []
    },
    {
      "cell_type": "code",
      "source": [
        "plot_predictions()"
      ],
      "metadata": {
        "colab": {
          "base_uri": "https://localhost:8080/",
          "height": 589
        },
        "id": "wr_41hEr_FYC",
        "outputId": "946900c4-cab7-4646-8e26-75119f5b5b86"
      },
      "execution_count": 108,
      "outputs": [
        {
          "output_type": "display_data",
          "data": {
            "text/plain": [
              "<Figure size 1000x700 with 1 Axes>"
            ],
            "image/png": "[encoded data removed]"
          },
          "metadata": {}
        }
      ]
    },
    {
      "cell_type": "markdown",
      "source": [
        "# Evaluting our model's predictions with regression evaluation metrics\n",
        "\n",
        "Depending on the problem you're working on, there will be different evaluation metrics to evaluate your model's performance.\n",
        "\n",
        "Since we're working on a regression, two of the main metrics:\n",
        "\n",
        "> * MAE - mean absolute error, \"on average, how wrong is each of my model's predictions\"\n",
        "\n",
        "> * MSE - mean square error, \"square the average errors\""
      ],
      "metadata": {
        "id": "ChAZ8QQpGJ5k"
      }
    },
    {
      "cell_type": "code",
      "source": [
        "# Evaluating the model on the test\n",
        "model.evaluate(X_test, y_test)"
      ],
      "metadata": {
        "colab": {
          "base_uri": "https://localhost:8080/"
        },
        "id": "5jvsOshu_JbL",
        "outputId": "672e24e7-92a6-48e4-b900-ae484fb13c52"
      },
      "execution_count": 109,
      "outputs": [
        {
          "output_type": "stream",
          "name": "stdout",
          "text": [
            "1/1 [==============================] - 0s 85ms/step - loss: 2.9226 - mae: 2.9226\n"
          ]
        },
        {
          "output_type": "execute_result",
          "data": {
            "text/plain": [
              "[2.9225997924804688, 2.9225997924804688]"
            ]
          },
          "metadata": {},
          "execution_count": 109
        }
      ]
    },
    {
      "cell_type": "code",
      "source": [
        "# Calculate the mean absolute error\n",
        "mae = tf.metrics.mean_absolute_error(y_true=y_test,\n",
        "                                     y_pred=tf.constant(y_pred))\n",
        "mae"
      ],
      "metadata": {
        "colab": {
          "base_uri": "https://localhost:8080/"
        },
        "id": "ri-lDusZHm_U",
        "outputId": "578c3207-e332-4c3c-c7bf-f4e51f5bd80a"
      },
      "execution_count": 110,
      "outputs": [
        {
          "output_type": "execute_result",
          "data": {
            "text/plain": [
              "<tf.Tensor: shape=(10,), dtype=float32, numpy=\n",
              "array([17.731853, 14.253906, 11.805942, 10.387975, 10.      , 10.642018,\n",
              "       12.314029, 15.088043, 18.935043, 23.510017], dtype=float32)>"
            ]
          },
          "metadata": {},
          "execution_count": 110
        }
      ]
    },
    {
      "cell_type": "code",
      "source": [
        "tf.constant(y_pred)"
      ],
      "metadata": {
        "colab": {
          "base_uri": "https://localhost:8080/"
        },
        "id": "JawT5ONyHbbU",
        "outputId": "3c5e552f-b117-4bda-9a28-16c8e5603353"
      },
      "execution_count": 111,
      "outputs": [
        {
          "output_type": "execute_result",
          "data": {
            "text/plain": [
              "<tf.Tensor: shape=(10, 1), dtype=float32, numpy=\n",
              "array([[ 70.33518 ],\n",
              "       [ 74.91016 ],\n",
              "       [ 79.485146],\n",
              "       [ 84.06013 ],\n",
              "       [ 88.63511 ],\n",
              "       [ 93.21009 ],\n",
              "       [ 97.78507 ],\n",
              "       [102.360054],\n",
              "       [106.93504 ],\n",
              "       [111.51002 ]], dtype=float32)>"
            ]
          },
          "metadata": {},
          "execution_count": 111
        }
      ]
    },
    {
      "cell_type": "code",
      "source": [
        "y_test"
      ],
      "metadata": {
        "colab": {
          "base_uri": "https://localhost:8080/"
        },
        "id": "p1yH9j1_HlMZ",
        "outputId": "7b149c35-f55a-4dea-cf21-b83b42fa9f45"
      },
      "execution_count": 112,
      "outputs": [
        {
          "output_type": "execute_result",
          "data": {
            "text/plain": [
              "<tf.Tensor: shape=(10,), dtype=int32, numpy=array([ 70,  74,  78,  82,  86,  90,  94,  98, 102, 106], dtype=int32)>"
            ]
          },
          "metadata": {},
          "execution_count": 112
        }
      ]
    },
    {
      "cell_type": "code",
      "source": [
        "tf.squeeze(y_pred)"
      ],
      "metadata": {
        "colab": {
          "base_uri": "https://localhost:8080/"
        },
        "id": "Ye9-7wKkICIj",
        "outputId": "92b3f4ee-7083-4a4c-f37c-da3e0352ba5d"
      },
      "execution_count": 113,
      "outputs": [
        {
          "output_type": "execute_result",
          "data": {
            "text/plain": [
              "<tf.Tensor: shape=(10,), dtype=float32, numpy=\n",
              "array([ 70.33518 ,  74.91016 ,  79.485146,  84.06013 ,  88.63511 ,\n",
              "        93.21009 ,  97.78507 , 102.360054, 106.93504 , 111.51002 ],\n",
              "      dtype=float32)>"
            ]
          },
          "metadata": {},
          "execution_count": 113
        }
      ]
    },
    {
      "cell_type": "code",
      "source": [
        "# Calculate the mean absolute error\n",
        "mae = tf.metrics.mean_absolute_error(y_true=y_test,\n",
        "                                     y_pred=tf.squeeze(y_pred))\n",
        "mae"
      ],
      "metadata": {
        "colab": {
          "base_uri": "https://localhost:8080/"
        },
        "id": "D_Dq2MJwInvd",
        "outputId": "31f8652b-f1b6-429f-8842-161a63b1ae75"
      },
      "execution_count": 114,
      "outputs": [
        {
          "output_type": "execute_result",
          "data": {
            "text/plain": [
              "<tf.Tensor: shape=(), dtype=float32, numpy=2.9225998>"
            ]
          },
          "metadata": {},
          "execution_count": 114
        }
      ]
    },
    {
      "cell_type": "code",
      "source": [
        "# Calculate the mean squared error\n",
        "mse = tf.metrics.mean_squared_error(y_true=y_test,\n",
        "                                     y_pred=tf.squeeze(y_pred))\n",
        "mse"
      ],
      "metadata": {
        "colab": {
          "base_uri": "https://localhost:8080/"
        },
        "id": "fWcHEmZNI5nf",
        "outputId": "29334f5f-4807-4d9e-9a4d-21e5c2d844ee"
      },
      "execution_count": 115,
      "outputs": [
        {
          "output_type": "execute_result",
          "data": {
            "text/plain": [
              "<tf.Tensor: shape=(), dtype=float32, numpy=11.269078>"
            ]
          },
          "metadata": {},
          "execution_count": 115
        }
      ]
    },
    {
      "cell_type": "code",
      "source": [
        "# Make some functions to reuse MAE and MSE\n",
        "def mae(y_true, y_pred):\n",
        "  return tf.metrics.mean_absolute_error(y_true=y_true,\n",
        "                                        y_pred=tf.squeeze(y_pred))\n",
        "\n",
        "def mse(y_true, y_pred):\n",
        "  return tf.metrics.mean_squared_error(y_true=y_true,\n",
        "                                       y_pred=tf.squeeze(y_pred))"
      ],
      "metadata": {
        "id": "as8PxpkgJHby"
      },
      "execution_count": 116,
      "outputs": []
    },
    {
      "cell_type": "markdown",
      "source": [
        "# Running experiments to improve our model\n",
        "```\n",
        "Build a model -> fit it -> evaluate it -> tweak it -> fit it -> evaluate it -> tweak it -> fit it -> evaluate it ...\n",
        "```\n",
        "> 1. Get more data - get more examples for your model to train on (more opportunities to learn patterns or relationships between features and labels).\n",
        "\n",
        "> 2. Make your model larger (using a more complex model) - this might come in the form of more layers or more hidden units in each layer.\n",
        "\n",
        "> 3. Train for longer - give your model more of a chance to find patterns in the data.\n",
        "\n",
        "Let's do 3 modelling experiments:\n",
        "\n",
        "> 1. `model_1` - same as the original model, 1 layer, trained for 100 epochs\n",
        "\n",
        "> 2. `model_2` - 2 layers, trained for 100 epochs\n",
        "\n",
        "> 3. `model_3` - 2 layers, trained for 500 epochs"
      ],
      "metadata": {
        "id": "FOoVDwBUJ-DQ"
      }
    },
    {
      "cell_type": "markdown",
      "source": [
        "## **Build `model_1`**"
      ],
      "metadata": {
        "id": "P69sk7NiKxIF"
      }
    },
    {
      "source": [
        "X_train = np.array(X_train)"
      ],
      "cell_type": "code",
      "metadata": {
        "id": "xr5HMsYOOkEV"
      },
      "execution_count": 120,
      "outputs": []
    },
    {
      "source": [
        "X_train = X_train.reshape(-1, 1)"
      ],
      "cell_type": "code",
      "metadata": {
        "id": "AMbQ5RMLQSMl"
      },
      "execution_count": 121,
      "outputs": []
    },
    {
      "cell_type": "code",
      "source": [
        "# Set random seed\n",
        "tf.random.set_seed(42)\n",
        "\n",
        "# 1. Create the model\n",
        "model_1 = tf.keras.Sequential([\n",
        "  tf.keras.layers.Dense(1)\n",
        "])\n",
        "\n",
        "# 2. Compile the model\n",
        "model_1.compile(loss=tf.keras.losses.mae,\n",
        "                optimizer=tf.keras.optimizers.SGD(),\n",
        "                metrics=[\"mae\"])\n",
        "\n",
        "# 3. Fit the model\n",
        "model_1.fit(X_train, y_train, epochs=100)"
      ],
      "metadata": {
        "colab": {
          "base_uri": "https://localhost:8080/"
        },
        "id": "P4uiCP_pJ4-Y",
        "outputId": "c7d1597e-e071-414f-bb78-c94655cdcb68"
      },
      "execution_count": 124,
      "outputs": [
        {
          "output_type": "stream",
          "name": "stdout",
          "text": [
            "Epoch 1/100\n",
            "2/2 [==============================] - 0s 8ms/step - loss: 14.1837 - mae: 14.1837\n",
            "Epoch 2/100\n",
            "2/2 [==============================] - 0s 5ms/step - loss: 10.3493 - mae: 10.3493\n",
            "Epoch 3/100\n",
            "2/2 [==============================] - 0s 5ms/step - loss: 10.7274 - mae: 10.7274\n",
            "Epoch 4/100\n",
            "2/2 [==============================] - 0s 5ms/step - loss: 9.5276 - mae: 9.5276\n",
            "Epoch 5/100\n",
            "2/2 [==============================] - 0s 4ms/step - loss: 10.4314 - mae: 10.4314\n",
            "Epoch 6/100\n",
            "2/2 [==============================] - 0s 5ms/step - loss: 9.6621 - mae: 9.6621\n",
            "Epoch 7/100\n",
            "2/2 [==============================] - 0s 4ms/step - loss: 8.7639 - mae: 8.7639\n",
            "Epoch 8/100\n",
            "2/2 [==============================] - 0s 4ms/step - loss: 9.0592 - mae: 9.0592\n",
            "Epoch 9/100\n",
            "2/2 [==============================] - 0s 5ms/step - loss: 19.2388 - mae: 19.2388\n",
            "Epoch 10/100\n",
            "2/2 [==============================] - 0s 5ms/step - loss: 10.3842 - mae: 10.3842\n",
            "Epoch 11/100\n",
            "2/2 [==============================] - 0s 5ms/step - loss: 8.5023 - mae: 8.5023\n",
            "Epoch 12/100\n",
            "2/2 [==============================] - 0s 4ms/step - loss: 10.8797 - mae: 10.8797\n",
            "Epoch 13/100\n",
            "2/2 [==============================] - 0s 4ms/step - loss: 9.9205 - mae: 9.9205\n",
            "Epoch 14/100\n",
            "2/2 [==============================] - 0s 5ms/step - loss: 9.4782 - mae: 9.4782\n",
            "Epoch 15/100\n",
            "2/2 [==============================] - 0s 5ms/step - loss: 13.6973 - mae: 13.6973\n",
            "Epoch 16/100\n",
            "2/2 [==============================] - 0s 4ms/step - loss: 8.9428 - mae: 8.9428\n",
            "Epoch 17/100\n",
            "2/2 [==============================] - 0s 7ms/step - loss: 12.8536 - mae: 12.8536\n",
            "Epoch 18/100\n",
            "2/2 [==============================] - 0s 6ms/step - loss: 10.4876 - mae: 10.4876\n",
            "Epoch 19/100\n",
            "2/2 [==============================] - 0s 5ms/step - loss: 19.2155 - mae: 19.2155\n",
            "Epoch 20/100\n",
            "2/2 [==============================] - 0s 5ms/step - loss: 15.8812 - mae: 15.8812\n",
            "Epoch 21/100\n",
            "2/2 [==============================] - 0s 5ms/step - loss: 11.7136 - mae: 11.7136\n",
            "Epoch 22/100\n",
            "2/2 [==============================] - 0s 5ms/step - loss: 8.9137 - mae: 8.9137\n",
            "Epoch 23/100\n",
            "2/2 [==============================] - 0s 5ms/step - loss: 10.0695 - mae: 10.0695\n",
            "Epoch 24/100\n",
            "2/2 [==============================] - 0s 4ms/step - loss: 15.6079 - mae: 15.6079\n",
            "Epoch 25/100\n",
            "2/2 [==============================] - 0s 5ms/step - loss: 12.0819 - mae: 12.0819\n",
            "Epoch 26/100\n",
            "2/2 [==============================] - 0s 5ms/step - loss: 13.1895 - mae: 13.1895\n",
            "Epoch 27/100\n",
            "2/2 [==============================] - 0s 5ms/step - loss: 10.6609 - mae: 10.6609\n",
            "Epoch 28/100\n",
            "2/2 [==============================] - 0s 5ms/step - loss: 12.8807 - mae: 12.8807\n",
            "Epoch 29/100\n",
            "2/2 [==============================] - 0s 5ms/step - loss: 9.5061 - mae: 9.5061\n",
            "Epoch 30/100\n",
            "2/2 [==============================] - 0s 5ms/step - loss: 16.4048 - mae: 16.4048\n",
            "Epoch 31/100\n",
            "2/2 [==============================] - 0s 5ms/step - loss: 23.5823 - mae: 23.5823\n",
            "Epoch 32/100\n",
            "2/2 [==============================] - 0s 4ms/step - loss: 7.6068 - mae: 7.6068\n",
            "Epoch 33/100\n",
            "2/2 [==============================] - 0s 5ms/step - loss: 9.3043 - mae: 9.3043\n",
            "Epoch 34/100\n",
            "2/2 [==============================] - 0s 5ms/step - loss: 13.6824 - mae: 13.6824\n",
            "Epoch 35/100\n",
            "2/2 [==============================] - 0s 4ms/step - loss: 11.1493 - mae: 11.1493\n",
            "Epoch 36/100\n",
            "2/2 [==============================] - 0s 5ms/step - loss: 13.3706 - mae: 13.3706\n",
            "Epoch 37/100\n",
            "2/2 [==============================] - 0s 5ms/step - loss: 9.4513 - mae: 9.4513\n",
            "Epoch 38/100\n",
            "2/2 [==============================] - 0s 4ms/step - loss: 10.1041 - mae: 10.1041\n",
            "Epoch 39/100\n",
            "2/2 [==============================] - 0s 5ms/step - loss: 10.2013 - mae: 10.2013\n",
            "Epoch 40/100\n",
            "2/2 [==============================] - 0s 5ms/step - loss: 10.9457 - mae: 10.9457\n",
            "Epoch 41/100\n",
            "2/2 [==============================] - 0s 5ms/step - loss: 7.9212 - mae: 7.9212\n",
            "Epoch 42/100\n",
            "2/2 [==============================] - 0s 5ms/step - loss: 10.5821 - mae: 10.5821\n",
            "Epoch 43/100\n",
            "2/2 [==============================] - 0s 7ms/step - loss: 7.2066 - mae: 7.2066\n",
            "Epoch 44/100\n",
            "2/2 [==============================] - 0s 5ms/step - loss: 7.9950 - mae: 7.9950\n",
            "Epoch 45/100\n",
            "2/2 [==============================] - 0s 5ms/step - loss: 9.7885 - mae: 9.7885\n",
            "Epoch 46/100\n",
            "2/2 [==============================] - 0s 5ms/step - loss: 8.8650 - mae: 8.8650\n",
            "Epoch 47/100\n",
            "2/2 [==============================] - 0s 7ms/step - loss: 7.5687 - mae: 7.5687\n",
            "Epoch 48/100\n",
            "2/2 [==============================] - 0s 5ms/step - loss: 8.5682 - mae: 8.5682\n",
            "Epoch 49/100\n",
            "2/2 [==============================] - 0s 5ms/step - loss: 9.9941 - mae: 9.9941\n",
            "Epoch 50/100\n",
            "2/2 [==============================] - 0s 5ms/step - loss: 9.0198 - mae: 9.0198\n",
            "Epoch 51/100\n",
            "2/2 [==============================] - 0s 5ms/step - loss: 10.6640 - mae: 10.6640\n",
            "Epoch 52/100\n",
            "2/2 [==============================] - 0s 5ms/step - loss: 15.2926 - mae: 15.2926\n",
            "Epoch 53/100\n",
            "2/2 [==============================] - 0s 5ms/step - loss: 14.3141 - mae: 14.3141\n",
            "Epoch 54/100\n",
            "2/2 [==============================] - 0s 5ms/step - loss: 21.6095 - mae: 21.6095\n",
            "Epoch 55/100\n",
            "2/2 [==============================] - 0s 5ms/step - loss: 15.9899 - mae: 15.9899\n",
            "Epoch 56/100\n",
            "2/2 [==============================] - 0s 5ms/step - loss: 10.2848 - mae: 10.2848\n",
            "Epoch 57/100\n",
            "2/2 [==============================] - 0s 5ms/step - loss: 9.7636 - mae: 9.7636\n",
            "Epoch 58/100\n",
            "2/2 [==============================] - 0s 5ms/step - loss: 9.0493 - mae: 9.0493\n",
            "Epoch 59/100\n",
            "2/2 [==============================] - 0s 5ms/step - loss: 8.2545 - mae: 8.2545\n",
            "Epoch 60/100\n",
            "2/2 [==============================] - 0s 5ms/step - loss: 9.3510 - mae: 9.3510\n",
            "Epoch 61/100\n",
            "2/2 [==============================] - 0s 5ms/step - loss: 11.1601 - mae: 11.1601\n",
            "Epoch 62/100\n",
            "2/2 [==============================] - 0s 5ms/step - loss: 12.0734 - mae: 12.0734\n",
            "Epoch 63/100\n",
            "2/2 [==============================] - 0s 5ms/step - loss: 7.2652 - mae: 7.2652\n",
            "Epoch 64/100\n",
            "2/2 [==============================] - 0s 5ms/step - loss: 12.4274 - mae: 12.4274\n",
            "Epoch 65/100\n",
            "2/2 [==============================] - 0s 5ms/step - loss: 10.4960 - mae: 10.4960\n",
            "Epoch 66/100\n",
            "2/2 [==============================] - 0s 5ms/step - loss: 15.6065 - mae: 15.6065\n",
            "Epoch 67/100\n",
            "2/2 [==============================] - 0s 5ms/step - loss: 10.0075 - mae: 10.0075\n",
            "Epoch 68/100\n",
            "2/2 [==============================] - 0s 5ms/step - loss: 8.7174 - mae: 8.7174\n",
            "Epoch 69/100\n",
            "2/2 [==============================] - 0s 6ms/step - loss: 13.4829 - mae: 13.4829\n",
            "Epoch 70/100\n",
            "2/2 [==============================] - 0s 5ms/step - loss: 7.4643 - mae: 7.4643\n",
            "Epoch 71/100\n",
            "2/2 [==============================] - 0s 5ms/step - loss: 12.2229 - mae: 12.2229\n",
            "Epoch 72/100\n",
            "2/2 [==============================] - 0s 6ms/step - loss: 8.5281 - mae: 8.5281\n",
            "Epoch 73/100\n",
            "2/2 [==============================] - 0s 4ms/step - loss: 7.0347 - mae: 7.0347\n",
            "Epoch 74/100\n",
            "2/2 [==============================] - 0s 4ms/step - loss: 9.9257 - mae: 9.9257\n",
            "Epoch 75/100\n",
            "2/2 [==============================] - 0s 6ms/step - loss: 9.9330 - mae: 9.9330\n",
            "Epoch 76/100\n",
            "2/2 [==============================] - 0s 5ms/step - loss: 10.0994 - mae: 10.0994\n",
            "Epoch 77/100\n",
            "2/2 [==============================] - 0s 5ms/step - loss: 12.9495 - mae: 12.9495\n",
            "Epoch 78/100\n",
            "2/2 [==============================] - 0s 6ms/step - loss: 11.1442 - mae: 11.1442\n",
            "Epoch 79/100\n",
            "2/2 [==============================] - 0s 5ms/step - loss: 14.6970 - mae: 14.6970\n",
            "Epoch 80/100\n",
            "2/2 [==============================] - 0s 6ms/step - loss: 8.9212 - mae: 8.9212\n",
            "Epoch 81/100\n",
            "2/2 [==============================] - 0s 5ms/step - loss: 10.7645 - mae: 10.7645\n",
            "Epoch 82/100\n",
            "2/2 [==============================] - 0s 5ms/step - loss: 8.3840 - mae: 8.3840\n",
            "Epoch 83/100\n",
            "2/2 [==============================] - 0s 5ms/step - loss: 9.2209 - mae: 9.2209\n",
            "Epoch 84/100\n",
            "2/2 [==============================] - 0s 5ms/step - loss: 8.9381 - mae: 8.9381\n",
            "Epoch 85/100\n",
            "2/2 [==============================] - 0s 5ms/step - loss: 13.1976 - mae: 13.1976\n",
            "Epoch 86/100\n",
            "2/2 [==============================] - 0s 5ms/step - loss: 13.7004 - mae: 13.7004\n",
            "Epoch 87/100\n",
            "2/2 [==============================] - 0s 5ms/step - loss: 13.1846 - mae: 13.1846\n",
            "Epoch 88/100\n",
            "2/2 [==============================] - 0s 4ms/step - loss: 11.5099 - mae: 11.5099\n",
            "Epoch 89/100\n",
            "2/2 [==============================] - 0s 4ms/step - loss: 7.7990 - mae: 7.7990\n",
            "Epoch 90/100\n",
            "2/2 [==============================] - 0s 4ms/step - loss: 10.9242 - mae: 10.9242\n",
            "Epoch 91/100\n",
            "2/2 [==============================] - 0s 4ms/step - loss: 6.7449 - mae: 6.7449\n",
            "Epoch 92/100\n",
            "2/2 [==============================] - 0s 5ms/step - loss: 10.1168 - mae: 10.1168\n",
            "Epoch 93/100\n",
            "2/2 [==============================] - 0s 4ms/step - loss: 7.6038 - mae: 7.6038\n",
            "Epoch 94/100\n",
            "2/2 [==============================] - 0s 5ms/step - loss: 9.2360 - mae: 9.2360\n",
            "Epoch 95/100\n",
            "2/2 [==============================] - 0s 5ms/step - loss: 10.8260 - mae: 10.8260\n",
            "Epoch 96/100\n",
            "2/2 [==============================] - 0s 5ms/step - loss: 10.2901 - mae: 10.2901\n",
            "Epoch 97/100\n",
            "2/2 [==============================] - 0s 5ms/step - loss: 7.6759 - mae: 7.6759\n",
            "Epoch 98/100\n",
            "2/2 [==============================] - 0s 6ms/step - loss: 8.6109 - mae: 8.6109\n",
            "Epoch 99/100\n",
            "2/2 [==============================] - 0s 5ms/step - loss: 9.3894 - mae: 9.3894\n",
            "Epoch 100/100\n",
            "2/2 [==============================] - 0s 5ms/step - loss: 8.8351 - mae: 8.8351\n"
          ]
        },
        {
          "output_type": "execute_result",
          "data": {
            "text/plain": [
              "<keras.src.callbacks.History at 0x7f92030abbe0>"
            ]
          },
          "metadata": {},
          "execution_count": 124
        }
      ]
    },
    {
      "cell_type": "code",
      "source": [
        "# Make and plot predictions for model_1\n",
        "y_preds_1 = model_1.predict(X_test)\n",
        "plot_predictions(predictions=y_preds_1)"
      ],
      "metadata": {
        "colab": {
          "base_uri": "https://localhost:8080/",
          "height": 606
        },
        "id": "jCkTP2c2LOdN",
        "outputId": "201480d5-75e4-4244-ceac-2d99f09ec44b"
      },
      "execution_count": 125,
      "outputs": [
        {
          "output_type": "stream",
          "name": "stdout",
          "text": [
            "1/1 [==============================] - 0s 35ms/step\n"
          ]
        },
        {
          "output_type": "display_data",
          "data": {
            "text/plain": [
              "<Figure size 1000x700 with 1 Axes>"
            ],
            "image/png": "[encoded data removed]"
          },
          "metadata": {}
        }
      ]
    },
    {
      "cell_type": "code",
      "source": [
        "# Calculate model_1 evaluation metrics\n",
        "mae_1 = mae(y_test, y_preds_1)\n",
        "mse_1 = mse(y_test, y_preds_1)\n",
        "mae_1, mse_1"
      ],
      "metadata": {
        "colab": {
          "base_uri": "https://localhost:8080/"
        },
        "id": "cSPDZAOQaIXS",
        "outputId": "07b487d8-894f-4afc-df13-338b44e8c21d"
      },
      "execution_count": 126,
      "outputs": [
        {
          "output_type": "execute_result",
          "data": {
            "text/plain": [
              "(<tf.Tensor: shape=(), dtype=float32, numpy=8.643931>,\n",
              " <tf.Tensor: shape=(), dtype=float32, numpy=81.2384>)"
            ]
          },
          "metadata": {},
          "execution_count": 126
        }
      ]
    },
    {
      "cell_type": "markdown",
      "source": [
        "## **Build `model_2`**"
      ],
      "metadata": {
        "id": "CW0LKnkLbGU0"
      }
    },
    {
      "cell_type": "code",
      "source": [
        "# Set the random seed\n",
        "tf.random.set_seed(42)\n",
        "\n",
        "# 1. Create the model\n",
        "model_2 = tf.keras.Sequential([\n",
        "  tf.keras.layers.Dense(10),\n",
        "  tf.keras.layers.Dense(1)\n",
        "])\n",
        "\n",
        "# 2. Compile the model\n",
        "model_2.compile(loss=tf.keras.losses.mae,\n",
        "                optimizer=tf.keras.optimizers.SGD(),\n",
        "                metrics=[\"mse\"])\n",
        "\n",
        "# 3. Fit the model\n",
        "model_2.fit(X_train, y_train, epochs=100)"
      ],
      "metadata": {
        "colab": {
          "base_uri": "https://localhost:8080/"
        },
        "id": "WKiJT7atav4z",
        "outputId": "61067a37-49f6-43ba-848d-0d70a986dfc3"
      },
      "execution_count": 141,
      "outputs": [
        {
          "output_type": "stream",
          "name": "stdout",
          "text": [
            "Epoch 1/100\n",
            "2/2 [==============================] - 0s 13ms/step - loss: 31.0961 - mse: 1378.8904\n",
            "Epoch 2/100\n",
            "2/2 [==============================] - 0s 10ms/step - loss: 26.6452 - mse: 914.1961\n",
            "Epoch 3/100\n",
            "2/2 [==============================] - 0s 11ms/step - loss: 31.2318 - mse: 1481.3284\n",
            "Epoch 4/100\n",
            "2/2 [==============================] - 0s 14ms/step - loss: 30.2991 - mse: 1368.5879\n",
            "Epoch 5/100\n",
            "2/2 [==============================] - 0s 13ms/step - loss: 15.4473 - mse: 307.0938\n",
            "Epoch 6/100\n",
            "2/2 [==============================] - 0s 11ms/step - loss: 12.2572 - mse: 187.8265\n",
            "Epoch 7/100\n",
            "2/2 [==============================] - 0s 10ms/step - loss: 11.5387 - mse: 162.1648\n",
            "Epoch 8/100\n",
            "2/2 [==============================] - 0s 11ms/step - loss: 11.2225 - mse: 178.2162\n",
            "Epoch 9/100\n",
            "2/2 [==============================] - 0s 11ms/step - loss: 41.9514 - mse: 2809.1968\n",
            "Epoch 10/100\n",
            "2/2 [==============================] - 0s 12ms/step - loss: 29.1524 - mse: 1201.9441\n",
            "Epoch 11/100\n",
            "2/2 [==============================] - 0s 14ms/step - loss: 8.5706 - mse: 96.4908\n",
            "Epoch 12/100\n",
            "2/2 [==============================] - 0s 12ms/step - loss: 27.3658 - mse: 1029.6682\n",
            "Epoch 13/100\n",
            "2/2 [==============================] - 0s 5ms/step - loss: 12.1606 - mse: 177.3623\n",
            "Epoch 14/100\n",
            "2/2 [==============================] - 0s 5ms/step - loss: 35.0699 - mse: 2025.1754\n",
            "Epoch 15/100\n",
            "2/2 [==============================] - 0s 7ms/step - loss: 22.8521 - mse: 742.9293\n",
            "Epoch 16/100\n",
            "2/2 [==============================] - 0s 5ms/step - loss: 9.9908 - mse: 124.9195\n",
            "Epoch 17/100\n",
            "2/2 [==============================] - 0s 5ms/step - loss: 18.4185 - mse: 452.5866\n",
            "Epoch 18/100\n",
            "2/2 [==============================] - 0s 13ms/step - loss: 11.3060 - mse: 195.4367\n",
            "Epoch 19/100\n",
            "2/2 [==============================] - 0s 12ms/step - loss: 13.8420 - mse: 297.5743\n",
            "Epoch 20/100\n",
            "2/2 [==============================] - 0s 11ms/step - loss: 11.1572 - mse: 146.0311\n",
            "Epoch 21/100\n",
            "2/2 [==============================] - 0s 11ms/step - loss: 17.1488 - mse: 415.3072\n",
            "Epoch 22/100\n",
            "2/2 [==============================] - 0s 11ms/step - loss: 15.3861 - mse: 325.5275\n",
            "Epoch 23/100\n",
            "2/2 [==============================] - 0s 6ms/step - loss: 9.2516 - mse: 118.6538\n",
            "Epoch 24/100\n",
            "2/2 [==============================] - 0s 4ms/step - loss: 17.3203 - mse: 411.8311\n",
            "Epoch 25/100\n",
            "2/2 [==============================] - 0s 5ms/step - loss: 15.9791 - mse: 335.9192\n",
            "Epoch 26/100\n",
            "2/2 [==============================] - 0s 5ms/step - loss: 21.0254 - mse: 653.9188\n",
            "Epoch 27/100\n",
            "2/2 [==============================] - 0s 4ms/step - loss: 25.7535 - mse: 1032.8196\n",
            "Epoch 28/100\n",
            "2/2 [==============================] - 0s 4ms/step - loss: 18.2788 - mse: 528.4500\n",
            "Epoch 29/100\n",
            "2/2 [==============================] - 0s 4ms/step - loss: 9.2400 - mse: 98.7175\n",
            "Epoch 30/100\n",
            "2/2 [==============================] - 0s 5ms/step - loss: 28.8773 - mse: 1484.0935\n",
            "Epoch 31/100\n",
            "2/2 [==============================] - 0s 5ms/step - loss: 52.2792 - mse: 4883.5918\n",
            "Epoch 32/100\n",
            "2/2 [==============================] - 0s 5ms/step - loss: 11.8462 - mse: 201.6320\n",
            "Epoch 33/100\n",
            "2/2 [==============================] - 0s 8ms/step - loss: 15.3810 - mse: 325.5117\n",
            "Epoch 34/100\n",
            "2/2 [==============================] - 0s 6ms/step - loss: 12.5155 - mse: 204.6343\n",
            "Epoch 35/100\n",
            "2/2 [==============================] - 0s 5ms/step - loss: 9.1602 - mse: 90.5163\n",
            "Epoch 36/100\n",
            "2/2 [==============================] - 0s 7ms/step - loss: 16.3266 - mse: 386.7609\n",
            "Epoch 37/100\n",
            "2/2 [==============================] - 0s 6ms/step - loss: 11.1275 - mse: 192.1639\n",
            "Epoch 38/100\n",
            "2/2 [==============================] - 0s 6ms/step - loss: 18.2615 - mse: 440.4152\n",
            "Epoch 39/100\n",
            "2/2 [==============================] - 0s 5ms/step - loss: 19.1889 - mse: 537.9183\n",
            "Epoch 40/100\n",
            "2/2 [==============================] - 0s 6ms/step - loss: 20.5927 - mse: 619.1362\n",
            "Epoch 41/100\n",
            "2/2 [==============================] - 0s 6ms/step - loss: 14.7089 - mse: 269.3409\n",
            "Epoch 42/100\n",
            "2/2 [==============================] - 0s 5ms/step - loss: 12.1279 - mse: 177.8814\n",
            "Epoch 43/100\n",
            "2/2 [==============================] - 0s 6ms/step - loss: 10.6639 - mse: 159.2746\n",
            "Epoch 44/100\n",
            "2/2 [==============================] - 0s 6ms/step - loss: 32.0024 - mse: 1681.7555\n",
            "Epoch 45/100\n",
            "2/2 [==============================] - 0s 7ms/step - loss: 12.3961 - mse: 197.2767\n",
            "Epoch 46/100\n",
            "2/2 [==============================] - 0s 6ms/step - loss: 17.3069 - mse: 448.4531\n",
            "Epoch 47/100\n",
            "2/2 [==============================] - 0s 5ms/step - loss: 15.8340 - mse: 342.2496\n",
            "Epoch 48/100\n",
            "2/2 [==============================] - 0s 8ms/step - loss: 8.8048 - mse: 128.1410\n",
            "Epoch 49/100\n",
            "2/2 [==============================] - 0s 6ms/step - loss: 13.0187 - mse: 244.6153\n",
            "Epoch 50/100\n",
            "2/2 [==============================] - 0s 7ms/step - loss: 12.6133 - mse: 208.9889\n",
            "Epoch 51/100\n",
            "2/2 [==============================] - 0s 6ms/step - loss: 14.6771 - mse: 300.0061\n",
            "Epoch 52/100\n",
            "2/2 [==============================] - 0s 6ms/step - loss: 18.5954 - mse: 514.7418\n",
            "Epoch 53/100\n",
            "2/2 [==============================] - 0s 6ms/step - loss: 23.8825 - mse: 811.6789\n",
            "Epoch 54/100\n",
            "2/2 [==============================] - 0s 5ms/step - loss: 24.0879 - mse: 868.7889\n",
            "Epoch 55/100\n",
            "2/2 [==============================] - 0s 8ms/step - loss: 23.3226 - mse: 815.0972\n",
            "Epoch 56/100\n",
            "2/2 [==============================] - 0s 8ms/step - loss: 10.9333 - mse: 171.1052\n",
            "Epoch 57/100\n",
            "2/2 [==============================] - 0s 7ms/step - loss: 12.8054 - mse: 200.9261\n",
            "Epoch 58/100\n",
            "2/2 [==============================] - 0s 7ms/step - loss: 9.6357 - mse: 103.1407\n",
            "Epoch 59/100\n",
            "2/2 [==============================] - 0s 6ms/step - loss: 12.5677 - mse: 219.0978\n",
            "Epoch 60/100\n",
            "2/2 [==============================] - 0s 6ms/step - loss: 12.3670 - mse: 210.8124\n",
            "Epoch 61/100\n",
            "2/2 [==============================] - 0s 6ms/step - loss: 13.2639 - mse: 230.2333\n",
            "Epoch 62/100\n",
            "2/2 [==============================] - 0s 6ms/step - loss: 17.0998 - mse: 445.2880\n",
            "Epoch 63/100\n",
            "2/2 [==============================] - 0s 6ms/step - loss: 9.0698 - mse: 87.6048\n",
            "Epoch 64/100\n",
            "2/2 [==============================] - 0s 5ms/step - loss: 17.7388 - mse: 455.9602\n",
            "Epoch 65/100\n",
            "2/2 [==============================] - 0s 6ms/step - loss: 10.5423 - mse: 134.2480\n",
            "Epoch 66/100\n",
            "2/2 [==============================] - 0s 6ms/step - loss: 21.2155 - mse: 663.9406\n",
            "Epoch 67/100\n",
            "2/2 [==============================] - 0s 6ms/step - loss: 10.5361 - mse: 129.3469\n",
            "Epoch 68/100\n",
            "2/2 [==============================] - 0s 6ms/step - loss: 14.3736 - mse: 311.4360\n",
            "Epoch 69/100\n",
            "2/2 [==============================] - 0s 8ms/step - loss: 10.6225 - mse: 129.3628\n",
            "Epoch 70/100\n",
            "2/2 [==============================] - 0s 8ms/step - loss: 12.7055 - mse: 205.1056\n",
            "Epoch 71/100\n",
            "2/2 [==============================] - 0s 5ms/step - loss: 13.1305 - mse: 232.1543\n",
            "Epoch 72/100\n",
            "2/2 [==============================] - 0s 6ms/step - loss: 19.6082 - mse: 545.8795\n",
            "Epoch 73/100\n",
            "2/2 [==============================] - 0s 5ms/step - loss: 11.1986 - mse: 191.7564\n",
            "Epoch 74/100\n",
            "2/2 [==============================] - 0s 6ms/step - loss: 21.8719 - mse: 744.5527\n",
            "Epoch 75/100\n",
            "2/2 [==============================] - 0s 6ms/step - loss: 7.2086 - mse: 71.6276\n",
            "Epoch 76/100\n",
            "2/2 [==============================] - 0s 6ms/step - loss: 9.4295 - mse: 149.7678\n",
            "Epoch 77/100\n",
            "2/2 [==============================] - 0s 6ms/step - loss: 22.0721 - mse: 728.0478\n",
            "Epoch 78/100\n",
            "2/2 [==============================] - 0s 7ms/step - loss: 17.6576 - mse: 473.7156\n",
            "Epoch 79/100\n",
            "2/2 [==============================] - 0s 5ms/step - loss: 14.8384 - mse: 322.2756\n",
            "Epoch 80/100\n",
            "2/2 [==============================] - 0s 5ms/step - loss: 25.1243 - mse: 963.0399\n",
            "Epoch 81/100\n",
            "2/2 [==============================] - 0s 7ms/step - loss: 10.9106 - mse: 140.6513\n",
            "Epoch 82/100\n",
            "2/2 [==============================] - 0s 6ms/step - loss: 12.7646 - mse: 232.6501\n",
            "Epoch 83/100\n",
            "2/2 [==============================] - 0s 6ms/step - loss: 17.5440 - mse: 401.3075\n",
            "Epoch 84/100\n",
            "2/2 [==============================] - 0s 6ms/step - loss: 7.2983 - mse: 73.3107\n",
            "Epoch 85/100\n",
            "2/2 [==============================] - 0s 6ms/step - loss: 15.0631 - mse: 316.6514\n",
            "Epoch 86/100\n",
            "2/2 [==============================] - 0s 8ms/step - loss: 15.3668 - mse: 317.5326\n",
            "Epoch 87/100\n",
            "2/2 [==============================] - 0s 9ms/step - loss: 19.2665 - mse: 528.4656\n",
            "Epoch 88/100\n",
            "2/2 [==============================] - 0s 6ms/step - loss: 29.4143 - mse: 1249.7366\n",
            "Epoch 89/100\n",
            "2/2 [==============================] - 0s 6ms/step - loss: 10.1276 - mse: 124.3306\n",
            "Epoch 90/100\n",
            "2/2 [==============================] - 0s 7ms/step - loss: 21.1801 - mse: 642.3883\n",
            "Epoch 91/100\n",
            "2/2 [==============================] - 0s 6ms/step - loss: 10.5007 - mse: 163.5205\n",
            "Epoch 92/100\n",
            "2/2 [==============================] - 0s 8ms/step - loss: 18.0827 - mse: 447.5223\n",
            "Epoch 93/100\n",
            "2/2 [==============================] - 0s 5ms/step - loss: 6.5561 - mse: 61.0760\n",
            "Epoch 94/100\n",
            "2/2 [==============================] - 0s 5ms/step - loss: 11.1549 - mse: 154.3755\n",
            "Epoch 95/100\n",
            "2/2 [==============================] - 0s 5ms/step - loss: 24.4868 - mse: 900.0479\n",
            "Epoch 96/100\n",
            "2/2 [==============================] - 0s 5ms/step - loss: 10.7613 - mse: 172.2828\n",
            "Epoch 97/100\n",
            "2/2 [==============================] - 0s 5ms/step - loss: 15.4332 - mse: 361.1613\n",
            "Epoch 98/100\n",
            "2/2 [==============================] - 0s 6ms/step - loss: 8.2635 - mse: 110.5623\n",
            "Epoch 99/100\n",
            "2/2 [==============================] - 0s 5ms/step - loss: 16.6000 - mse: 386.8434\n",
            "Epoch 100/100\n",
            "2/2 [==============================] - 0s 5ms/step - loss: 14.3606 - mse: 298.0458\n"
          ]
        },
        {
          "output_type": "execute_result",
          "data": {
            "text/plain": [
              "<keras.src.callbacks.History at 0x7f9203aa9120>"
            ]
          },
          "metadata": {},
          "execution_count": 141
        }
      ]
    },
    {
      "cell_type": "code",
      "source": [
        "# Make and plot predictions for model_2\n",
        "y_preds_2 = model_2.predict(X_test)\n",
        "plot_predictions(predictions=y_preds_2)"
      ],
      "metadata": {
        "colab": {
          "base_uri": "https://localhost:8080/",
          "height": 606
        },
        "id": "nRcrJvdfbYTb",
        "outputId": "d9571b68-a89f-41af-af95-c5569424d459"
      },
      "execution_count": 142,
      "outputs": [
        {
          "output_type": "stream",
          "name": "stdout",
          "text": [
            "1/1 [==============================] - 0s 41ms/step\n"
          ]
        },
        {
          "output_type": "display_data",
          "data": {
            "text/plain": [
              "<Figure size 1000x700 with 1 Axes>"
            ],
            "image/png": "[encoded data removed]"
          },
          "metadata": {}
        }
      ]
    },
    {
      "cell_type": "code",
      "source": [
        "# Calculate model_2 evaluation metrics\n",
        "mae_2 = mae(y_test, y_preds_2)\n",
        "mse_2 = mse(y_test, y_preds_2)\n",
        "mae_2, mse_2"
      ],
      "metadata": {
        "colab": {
          "base_uri": "https://localhost:8080/"
        },
        "id": "gqwCvdO2bn5w",
        "outputId": "76ce85c3-32f7-427f-d333-63798c6c9b5b"
      },
      "execution_count": 143,
      "outputs": [
        {
          "output_type": "execute_result",
          "data": {
            "text/plain": [
              "(<tf.Tensor: shape=(), dtype=float32, numpy=11.028124>,\n",
              " <tf.Tensor: shape=(), dtype=float32, numpy=129.69533>)"
            ]
          },
          "metadata": {},
          "execution_count": 143
        }
      ]
    },
    {
      "cell_type": "markdown",
      "source": [
        "## **Build `model_3`**"
      ],
      "metadata": {
        "id": "CZwH9e8rcH1A"
      }
    },
    {
      "cell_type": "code",
      "source": [
        "# Set random seed\n",
        "tf.random.set_seed(42)\n",
        "\n",
        "# 1. Create a model\n",
        "model_3 = tf.keras.Sequential([\n",
        "  tf.keras.layers.Dense(10),\n",
        "  tf.keras.layers.Dense(1)\n",
        "])\n",
        "\n",
        "# 2. Compile the model\n",
        "model_3.compile(loss=tf.keras.losses.mae,\n",
        "                optimizer=tf.keras.optimizers.SGD(),\n",
        "                metrics=[\"mae\"])\n",
        "\n",
        "# 3. Fit the model\n",
        "model_3.fit(X_train, y_train, epochs=500)"
      ],
      "metadata": {
        "colab": {
          "base_uri": "https://localhost:8080/"
        },
        "id": "jE7lAnC2bwMP",
        "outputId": "aee72c14-9aca-4632-dedf-4ea0d736cc44"
      },
      "execution_count": 137,
      "outputs": [
        {
          "output_type": "stream",
          "name": "stdout",
          "text": [
            "Epoch 1/500\n",
            "2/2 [==============================] - 0s 13ms/step - loss: 12.9581 - mae: 12.9581\n",
            "Epoch 2/500\n",
            "2/2 [==============================] - 0s 8ms/step - loss: 19.7584 - mae: 19.7584\n",
            "Epoch 3/500\n",
            "2/2 [==============================] - 0s 8ms/step - loss: 20.3982 - mae: 20.3982\n",
            "Epoch 4/500\n",
            "2/2 [==============================] - 0s 8ms/step - loss: 13.2118 - mae: 13.2118\n",
            "Epoch 5/500\n",
            "2/2 [==============================] - 0s 9ms/step - loss: 17.2875 - mae: 17.2875\n",
            "Epoch 6/500\n",
            "2/2 [==============================] - 0s 8ms/step - loss: 10.1336 - mae: 10.1336\n",
            "Epoch 7/500\n",
            "2/2 [==============================] - 0s 8ms/step - loss: 11.1117 - mae: 11.1117\n",
            "Epoch 8/500\n",
            "2/2 [==============================] - 0s 8ms/step - loss: 11.0929 - mae: 11.0929\n",
            "Epoch 9/500\n",
            "2/2 [==============================] - 0s 9ms/step - loss: 40.3675 - mae: 40.3675\n",
            "Epoch 10/500\n",
            "2/2 [==============================] - 0s 9ms/step - loss: 27.7752 - mae: 27.7752\n",
            "Epoch 11/500\n",
            "2/2 [==============================] - 0s 12ms/step - loss: 10.2478 - mae: 10.2478\n",
            "Epoch 12/500\n",
            "2/2 [==============================] - 0s 14ms/step - loss: 25.3406 - mae: 25.3406\n",
            "Epoch 13/500\n",
            "2/2 [==============================] - 0s 8ms/step - loss: 16.9530 - mae: 16.9530\n",
            "Epoch 14/500\n",
            "2/2 [==============================] - 0s 8ms/step - loss: 25.8593 - mae: 25.8593\n",
            "Epoch 15/500\n",
            "2/2 [==============================] - 0s 10ms/step - loss: 17.9431 - mae: 17.9431\n",
            "Epoch 16/500\n",
            "2/2 [==============================] - 0s 8ms/step - loss: 7.3431 - mae: 7.3431\n",
            "Epoch 17/500\n",
            "2/2 [==============================] - 0s 11ms/step - loss: 12.8260 - mae: 12.8260\n",
            "Epoch 18/500\n",
            "2/2 [==============================] - 0s 9ms/step - loss: 10.1491 - mae: 10.1491\n",
            "Epoch 19/500\n",
            "2/2 [==============================] - 0s 11ms/step - loss: 14.3547 - mae: 14.3547\n",
            "Epoch 20/500\n",
            "2/2 [==============================] - 0s 7ms/step - loss: 10.4218 - mae: 10.4218\n",
            "Epoch 21/500\n",
            "2/2 [==============================] - 0s 8ms/step - loss: 15.1491 - mae: 15.1491\n",
            "Epoch 22/500\n",
            "2/2 [==============================] - 0s 8ms/step - loss: 15.4796 - mae: 15.4796\n",
            "Epoch 23/500\n",
            "2/2 [==============================] - 0s 8ms/step - loss: 9.2263 - mae: 9.2263\n",
            "Epoch 24/500\n",
            "2/2 [==============================] - 0s 8ms/step - loss: 17.2664 - mae: 17.2664\n",
            "Epoch 25/500\n",
            "2/2 [==============================] - 0s 9ms/step - loss: 15.9345 - mae: 15.9345\n",
            "Epoch 26/500\n",
            "2/2 [==============================] - 0s 12ms/step - loss: 20.9342 - mae: 20.9342\n",
            "Epoch 27/500\n",
            "2/2 [==============================] - 0s 7ms/step - loss: 25.9521 - mae: 25.9521\n",
            "Epoch 28/500\n",
            "2/2 [==============================] - 0s 7ms/step - loss: 18.4497 - mae: 18.4497\n",
            "Epoch 29/500\n",
            "2/2 [==============================] - 0s 10ms/step - loss: 9.2279 - mae: 9.2279\n",
            "Epoch 30/500\n",
            "2/2 [==============================] - 0s 7ms/step - loss: 29.0751 - mae: 29.0751\n",
            "Epoch 31/500\n",
            "2/2 [==============================] - 0s 22ms/step - loss: 52.6574 - mae: 52.6574\n",
            "Epoch 32/500\n",
            "2/2 [==============================] - 0s 16ms/step - loss: 11.9072 - mae: 11.9072\n",
            "Epoch 33/500\n",
            "2/2 [==============================] - 0s 7ms/step - loss: 15.5043 - mae: 15.5043\n",
            "Epoch 34/500\n",
            "2/2 [==============================] - 0s 9ms/step - loss: 12.5940 - mae: 12.5940\n",
            "Epoch 35/500\n",
            "2/2 [==============================] - 0s 8ms/step - loss: 9.1886 - mae: 9.1886\n",
            "Epoch 36/500\n",
            "2/2 [==============================] - 0s 7ms/step - loss: 16.4982 - mae: 16.4982\n",
            "Epoch 37/500\n",
            "2/2 [==============================] - 0s 7ms/step - loss: 11.0679 - mae: 11.0679\n",
            "Epoch 38/500\n",
            "2/2 [==============================] - 0s 9ms/step - loss: 18.1974 - mae: 18.1974\n",
            "Epoch 39/500\n",
            "2/2 [==============================] - 0s 7ms/step - loss: 19.1299 - mae: 19.1299\n",
            "Epoch 40/500\n",
            "2/2 [==============================] - 0s 7ms/step - loss: 20.4885 - mae: 20.4885\n",
            "Epoch 41/500\n",
            "2/2 [==============================] - 0s 7ms/step - loss: 14.8191 - mae: 14.8191\n",
            "Epoch 42/500\n",
            "2/2 [==============================] - 0s 7ms/step - loss: 12.2109 - mae: 12.2109\n",
            "Epoch 43/500\n",
            "2/2 [==============================] - 0s 10ms/step - loss: 10.6897 - mae: 10.6897\n",
            "Epoch 44/500\n",
            "2/2 [==============================] - 0s 7ms/step - loss: 32.3707 - mae: 32.3707\n",
            "Epoch 45/500\n",
            "2/2 [==============================] - 0s 8ms/step - loss: 12.4807 - mae: 12.4807\n",
            "Epoch 46/500\n",
            "2/2 [==============================] - 0s 8ms/step - loss: 17.5957 - mae: 17.5957\n",
            "Epoch 47/500\n",
            "2/2 [==============================] - 0s 11ms/step - loss: 15.7177 - mae: 15.7177\n",
            "Epoch 48/500\n",
            "2/2 [==============================] - 0s 7ms/step - loss: 8.3456 - mae: 8.3456\n",
            "Epoch 49/500\n",
            "2/2 [==============================] - 0s 8ms/step - loss: 13.9461 - mae: 13.9461\n",
            "Epoch 50/500\n",
            "2/2 [==============================] - 0s 7ms/step - loss: 12.7956 - mae: 12.7956\n",
            "Epoch 51/500\n",
            "2/2 [==============================] - 0s 6ms/step - loss: 14.8099 - mae: 14.8099\n",
            "Epoch 52/500\n",
            "2/2 [==============================] - 0s 6ms/step - loss: 18.6983 - mae: 18.6983\n",
            "Epoch 53/500\n",
            "2/2 [==============================] - 0s 6ms/step - loss: 24.1285 - mae: 24.1285\n",
            "Epoch 54/500\n",
            "2/2 [==============================] - 0s 7ms/step - loss: 23.2703 - mae: 23.2703\n",
            "Epoch 55/500\n",
            "2/2 [==============================] - 0s 6ms/step - loss: 24.1364 - mae: 24.1364\n",
            "Epoch 56/500\n",
            "2/2 [==============================] - 0s 6ms/step - loss: 11.1796 - mae: 11.1796\n",
            "Epoch 57/500\n",
            "2/2 [==============================] - 0s 5ms/step - loss: 13.1488 - mae: 13.1488\n",
            "Epoch 58/500\n",
            "2/2 [==============================] - 0s 6ms/step - loss: 9.8242 - mae: 9.8242\n",
            "Epoch 59/500\n",
            "2/2 [==============================] - 0s 6ms/step - loss: 13.3492 - mae: 13.3492\n",
            "Epoch 60/500\n",
            "2/2 [==============================] - 0s 8ms/step - loss: 10.8888 - mae: 10.8888\n",
            "Epoch 61/500\n",
            "2/2 [==============================] - 0s 16ms/step - loss: 13.5099 - mae: 13.5099\n",
            "Epoch 62/500\n",
            "2/2 [==============================] - 0s 7ms/step - loss: 17.8208 - mae: 17.8208\n",
            "Epoch 63/500\n",
            "2/2 [==============================] - 0s 9ms/step - loss: 8.7055 - mae: 8.7055\n",
            "Epoch 64/500\n",
            "2/2 [==============================] - 0s 9ms/step - loss: 16.0902 - mae: 16.0902\n",
            "Epoch 65/500\n",
            "2/2 [==============================] - 0s 10ms/step - loss: 10.7116 - mae: 10.7116\n",
            "Epoch 66/500\n",
            "2/2 [==============================] - 0s 7ms/step - loss: 22.1435 - mae: 22.1435\n",
            "Epoch 67/500\n",
            "2/2 [==============================] - 0s 8ms/step - loss: 10.2354 - mae: 10.2354\n",
            "Epoch 68/500\n",
            "2/2 [==============================] - 0s 7ms/step - loss: 13.4392 - mae: 13.4392\n",
            "Epoch 69/500\n",
            "2/2 [==============================] - 0s 9ms/step - loss: 11.4021 - mae: 11.4021\n",
            "Epoch 70/500\n",
            "2/2 [==============================] - 0s 9ms/step - loss: 13.5857 - mae: 13.5857\n",
            "Epoch 71/500\n",
            "2/2 [==============================] - 0s 6ms/step - loss: 15.6071 - mae: 15.6071\n",
            "Epoch 72/500\n",
            "2/2 [==============================] - 0s 6ms/step - loss: 11.8278 - mae: 11.8278\n",
            "Epoch 73/500\n",
            "2/2 [==============================] - 0s 6ms/step - loss: 16.6160 - mae: 16.6160\n",
            "Epoch 74/500\n",
            "2/2 [==============================] - 0s 6ms/step - loss: 24.1582 - mae: 24.1582\n",
            "Epoch 75/500\n",
            "2/2 [==============================] - 0s 7ms/step - loss: 9.6139 - mae: 9.6139\n",
            "Epoch 76/500\n",
            "2/2 [==============================] - 0s 6ms/step - loss: 12.4675 - mae: 12.4675\n",
            "Epoch 77/500\n",
            "2/2 [==============================] - 0s 6ms/step - loss: 16.7325 - mae: 16.7325\n",
            "Epoch 78/500\n",
            "2/2 [==============================] - 0s 6ms/step - loss: 9.0659 - mae: 9.0659\n",
            "Epoch 79/500\n",
            "2/2 [==============================] - 0s 6ms/step - loss: 24.0768 - mae: 24.0768\n",
            "Epoch 80/500\n",
            "2/2 [==============================] - 0s 6ms/step - loss: 26.8775 - mae: 26.8775\n",
            "Epoch 81/500\n",
            "2/2 [==============================] - 0s 6ms/step - loss: 11.7251 - mae: 11.7251\n",
            "Epoch 82/500\n",
            "2/2 [==============================] - 0s 6ms/step - loss: 11.9842 - mae: 11.9842\n",
            "Epoch 83/500\n",
            "2/2 [==============================] - 0s 6ms/step - loss: 17.3673 - mae: 17.3673\n",
            "Epoch 84/500\n",
            "2/2 [==============================] - 0s 6ms/step - loss: 7.2480 - mae: 7.2480\n",
            "Epoch 85/500\n",
            "2/2 [==============================] - 0s 6ms/step - loss: 14.9225 - mae: 14.9225\n",
            "Epoch 86/500\n",
            "2/2 [==============================] - 0s 6ms/step - loss: 15.2518 - mae: 15.2518\n",
            "Epoch 87/500\n",
            "2/2 [==============================] - 0s 5ms/step - loss: 19.0424 - mae: 19.0424\n",
            "Epoch 88/500\n",
            "2/2 [==============================] - 0s 8ms/step - loss: 29.9932 - mae: 29.9932\n",
            "Epoch 89/500\n",
            "2/2 [==============================] - 0s 6ms/step - loss: 10.1937 - mae: 10.1937\n",
            "Epoch 90/500\n",
            "2/2 [==============================] - 0s 6ms/step - loss: 21.6644 - mae: 21.6644\n",
            "Epoch 91/500\n",
            "2/2 [==============================] - 0s 5ms/step - loss: 10.6003 - mae: 10.6003\n",
            "Epoch 92/500\n",
            "2/2 [==============================] - 0s 6ms/step - loss: 18.5239 - mae: 18.5239\n",
            "Epoch 93/500\n",
            "2/2 [==============================] - 0s 6ms/step - loss: 8.1533 - mae: 8.1533\n",
            "Epoch 94/500\n",
            "2/2 [==============================] - 0s 6ms/step - loss: 11.3649 - mae: 11.3649\n",
            "Epoch 95/500\n",
            "2/2 [==============================] - 0s 6ms/step - loss: 25.4569 - mae: 25.4569\n",
            "Epoch 96/500\n",
            "2/2 [==============================] - 0s 6ms/step - loss: 10.9853 - mae: 10.9853\n",
            "Epoch 97/500\n",
            "2/2 [==============================] - 0s 6ms/step - loss: 16.3170 - mae: 16.3170\n",
            "Epoch 98/500\n",
            "2/2 [==============================] - 0s 7ms/step - loss: 6.8300 - mae: 6.8300\n",
            "Epoch 99/500\n",
            "2/2 [==============================] - 0s 6ms/step - loss: 11.6910 - mae: 11.6910\n",
            "Epoch 100/500\n",
            "2/2 [==============================] - 0s 5ms/step - loss: 23.5172 - mae: 23.5172\n",
            "Epoch 101/500\n",
            "2/2 [==============================] - 0s 5ms/step - loss: 21.2341 - mae: 21.2341\n",
            "Epoch 102/500\n",
            "2/2 [==============================] - 0s 5ms/step - loss: 10.7308 - mae: 10.7308\n",
            "Epoch 103/500\n",
            "2/2 [==============================] - 0s 5ms/step - loss: 9.1503 - mae: 9.1503\n",
            "Epoch 104/500\n",
            "2/2 [==============================] - 0s 5ms/step - loss: 23.8353 - mae: 23.8353\n",
            "Epoch 105/500\n",
            "2/2 [==============================] - 0s 5ms/step - loss: 10.8210 - mae: 10.8210\n",
            "Epoch 106/500\n",
            "2/2 [==============================] - 0s 6ms/step - loss: 11.2812 - mae: 11.2812\n",
            "Epoch 107/500\n",
            "2/2 [==============================] - 0s 7ms/step - loss: 21.4205 - mae: 21.4205\n",
            "Epoch 108/500\n",
            "2/2 [==============================] - 0s 9ms/step - loss: 6.5713 - mae: 6.5713\n",
            "Epoch 109/500\n",
            "2/2 [==============================] - 0s 5ms/step - loss: 13.2803 - mae: 13.2803\n",
            "Epoch 110/500\n",
            "2/2 [==============================] - 0s 6ms/step - loss: 7.9813 - mae: 7.9813\n",
            "Epoch 111/500\n",
            "2/2 [==============================] - 0s 5ms/step - loss: 15.7724 - mae: 15.7724\n",
            "Epoch 112/500\n",
            "2/2 [==============================] - 0s 8ms/step - loss: 8.7243 - mae: 8.7243\n",
            "Epoch 113/500\n",
            "2/2 [==============================] - 0s 6ms/step - loss: 22.6366 - mae: 22.6366\n",
            "Epoch 114/500\n",
            "2/2 [==============================] - 0s 5ms/step - loss: 18.9854 - mae: 18.9854\n",
            "Epoch 115/500\n",
            "2/2 [==============================] - 0s 5ms/step - loss: 11.0610 - mae: 11.0610\n",
            "Epoch 116/500\n",
            "2/2 [==============================] - 0s 6ms/step - loss: 23.0823 - mae: 23.0823\n",
            "Epoch 117/500\n",
            "2/2 [==============================] - 0s 6ms/step - loss: 9.5449 - mae: 9.5449\n",
            "Epoch 118/500\n",
            "2/2 [==============================] - 0s 9ms/step - loss: 10.6083 - mae: 10.6083\n",
            "Epoch 119/500\n",
            "2/2 [==============================] - 0s 6ms/step - loss: 8.0245 - mae: 8.0245\n",
            "Epoch 120/500\n",
            "2/2 [==============================] - 0s 6ms/step - loss: 29.4070 - mae: 29.4070\n",
            "Epoch 121/500\n",
            "2/2 [==============================] - 0s 6ms/step - loss: 8.0627 - mae: 8.0627\n",
            "Epoch 122/500\n",
            "2/2 [==============================] - 0s 6ms/step - loss: 28.0793 - mae: 28.0793\n",
            "Epoch 123/500\n",
            "2/2 [==============================] - 0s 5ms/step - loss: 32.6177 - mae: 32.6177\n",
            "Epoch 124/500\n",
            "2/2 [==============================] - 0s 5ms/step - loss: 19.4170 - mae: 19.4170\n",
            "Epoch 125/500\n",
            "2/2 [==============================] - 0s 10ms/step - loss: 9.5285 - mae: 9.5285\n",
            "Epoch 126/500\n",
            "2/2 [==============================] - 0s 10ms/step - loss: 9.6011 - mae: 9.6011\n",
            "Epoch 127/500\n",
            "2/2 [==============================] - 0s 6ms/step - loss: 12.7617 - mae: 12.7617\n",
            "Epoch 128/500\n",
            "2/2 [==============================] - 0s 7ms/step - loss: 13.3028 - mae: 13.3028\n",
            "Epoch 129/500\n",
            "2/2 [==============================] - 0s 5ms/step - loss: 10.1644 - mae: 10.1644\n",
            "Epoch 130/500\n",
            "2/2 [==============================] - 0s 6ms/step - loss: 17.4501 - mae: 17.4501\n",
            "Epoch 131/500\n",
            "2/2 [==============================] - 0s 9ms/step - loss: 9.4845 - mae: 9.4845\n",
            "Epoch 132/500\n",
            "2/2 [==============================] - 0s 6ms/step - loss: 17.3489 - mae: 17.3489\n",
            "Epoch 133/500\n",
            "2/2 [==============================] - 0s 6ms/step - loss: 7.0859 - mae: 7.0859\n",
            "Epoch 134/500\n",
            "2/2 [==============================] - 0s 4ms/step - loss: 23.8536 - mae: 23.8536\n",
            "Epoch 135/500\n",
            "2/2 [==============================] - 0s 7ms/step - loss: 16.6170 - mae: 16.6170\n",
            "Epoch 136/500\n",
            "2/2 [==============================] - 0s 4ms/step - loss: 14.8393 - mae: 14.8393\n",
            "Epoch 137/500\n",
            "2/2 [==============================] - 0s 4ms/step - loss: 23.1035 - mae: 23.1035\n",
            "Epoch 138/500\n",
            "2/2 [==============================] - 0s 4ms/step - loss: 9.1075 - mae: 9.1075\n",
            "Epoch 139/500\n",
            "2/2 [==============================] - 0s 4ms/step - loss: 8.8988 - mae: 8.8988\n",
            "Epoch 140/500\n",
            "2/2 [==============================] - 0s 5ms/step - loss: 16.4299 - mae: 16.4299\n",
            "Epoch 141/500\n",
            "2/2 [==============================] - 0s 6ms/step - loss: 8.4126 - mae: 8.4126\n",
            "Epoch 142/500\n",
            "2/2 [==============================] - 0s 6ms/step - loss: 36.8824 - mae: 36.8824\n",
            "Epoch 143/500\n",
            "2/2 [==============================] - 0s 5ms/step - loss: 25.5197 - mae: 25.5197\n",
            "Epoch 144/500\n",
            "2/2 [==============================] - 0s 5ms/step - loss: 9.5366 - mae: 9.5366\n",
            "Epoch 145/500\n",
            "2/2 [==============================] - 0s 5ms/step - loss: 26.6218 - mae: 26.6218\n",
            "Epoch 146/500\n",
            "2/2 [==============================] - 0s 4ms/step - loss: 8.6945 - mae: 8.6945\n",
            "Epoch 147/500\n",
            "2/2 [==============================] - 0s 4ms/step - loss: 15.6278 - mae: 15.6278\n",
            "Epoch 148/500\n",
            "2/2 [==============================] - 0s 6ms/step - loss: 18.3236 - mae: 18.3236\n",
            "Epoch 149/500\n",
            "2/2 [==============================] - 0s 6ms/step - loss: 8.1784 - mae: 8.1784\n",
            "Epoch 150/500\n",
            "2/2 [==============================] - 0s 5ms/step - loss: 7.4851 - mae: 7.4851\n",
            "Epoch 151/500\n",
            "2/2 [==============================] - 0s 4ms/step - loss: 18.2977 - mae: 18.2977\n",
            "Epoch 152/500\n",
            "2/2 [==============================] - 0s 4ms/step - loss: 10.2744 - mae: 10.2744\n",
            "Epoch 153/500\n",
            "2/2 [==============================] - 0s 4ms/step - loss: 29.5845 - mae: 29.5845\n",
            "Epoch 154/500\n",
            "2/2 [==============================] - 0s 4ms/step - loss: 10.5633 - mae: 10.5633\n",
            "Epoch 155/500\n",
            "2/2 [==============================] - 0s 4ms/step - loss: 15.4613 - mae: 15.4613\n",
            "Epoch 156/500\n",
            "2/2 [==============================] - 0s 4ms/step - loss: 17.0374 - mae: 17.0374\n",
            "Epoch 157/500\n",
            "2/2 [==============================] - 0s 4ms/step - loss: 32.7671 - mae: 32.7671\n",
            "Epoch 158/500\n",
            "2/2 [==============================] - 0s 4ms/step - loss: 10.6812 - mae: 10.6812\n",
            "Epoch 159/500\n",
            "2/2 [==============================] - 0s 4ms/step - loss: 8.8927 - mae: 8.8927\n",
            "Epoch 160/500\n",
            "2/2 [==============================] - 0s 4ms/step - loss: 22.0938 - mae: 22.0938\n",
            "Epoch 161/500\n",
            "2/2 [==============================] - 0s 7ms/step - loss: 11.6924 - mae: 11.6924\n",
            "Epoch 162/500\n",
            "2/2 [==============================] - 0s 7ms/step - loss: 21.5390 - mae: 21.5390\n",
            "Epoch 163/500\n",
            "2/2 [==============================] - 0s 5ms/step - loss: 19.2147 - mae: 19.2147\n",
            "Epoch 164/500\n",
            "2/2 [==============================] - 0s 7ms/step - loss: 10.9905 - mae: 10.9905\n",
            "Epoch 165/500\n",
            "2/2 [==============================] - 0s 8ms/step - loss: 9.6220 - mae: 9.6220\n",
            "Epoch 166/500\n",
            "2/2 [==============================] - 0s 6ms/step - loss: 21.6064 - mae: 21.6064\n",
            "Epoch 167/500\n",
            "2/2 [==============================] - 0s 6ms/step - loss: 26.2442 - mae: 26.2442\n",
            "Epoch 168/500\n",
            "2/2 [==============================] - 0s 6ms/step - loss: 9.8392 - mae: 9.8392\n",
            "Epoch 169/500\n",
            "2/2 [==============================] - 0s 7ms/step - loss: 22.5245 - mae: 22.5245\n",
            "Epoch 170/500\n",
            "2/2 [==============================] - 0s 6ms/step - loss: 10.1532 - mae: 10.1532\n",
            "Epoch 171/500\n",
            "2/2 [==============================] - 0s 5ms/step - loss: 18.0620 - mae: 18.0620\n",
            "Epoch 172/500\n",
            "2/2 [==============================] - 0s 7ms/step - loss: 28.7996 - mae: 28.7996\n",
            "Epoch 173/500\n",
            "2/2 [==============================] - 0s 6ms/step - loss: 16.4961 - mae: 16.4961\n",
            "Epoch 174/500\n",
            "2/2 [==============================] - 0s 7ms/step - loss: 11.2122 - mae: 11.2122\n",
            "Epoch 175/500\n",
            "2/2 [==============================] - 0s 7ms/step - loss: 27.5938 - mae: 27.5938\n",
            "Epoch 176/500\n",
            "2/2 [==============================] - 0s 7ms/step - loss: 8.2524 - mae: 8.2524\n",
            "Epoch 177/500\n",
            "2/2 [==============================] - 0s 5ms/step - loss: 9.2446 - mae: 9.2446\n",
            "Epoch 178/500\n",
            "2/2 [==============================] - 0s 9ms/step - loss: 18.1122 - mae: 18.1122\n",
            "Epoch 179/500\n",
            "2/2 [==============================] - 0s 6ms/step - loss: 10.6128 - mae: 10.6128\n",
            "Epoch 180/500\n",
            "2/2 [==============================] - 0s 5ms/step - loss: 7.8889 - mae: 7.8889\n",
            "Epoch 181/500\n",
            "2/2 [==============================] - 0s 5ms/step - loss: 17.3758 - mae: 17.3758\n",
            "Epoch 182/500\n",
            "2/2 [==============================] - 0s 6ms/step - loss: 10.9923 - mae: 10.9923\n",
            "Epoch 183/500\n",
            "2/2 [==============================] - 0s 5ms/step - loss: 11.6892 - mae: 11.6892\n",
            "Epoch 184/500\n",
            "2/2 [==============================] - 0s 6ms/step - loss: 30.3692 - mae: 30.3692\n",
            "Epoch 185/500\n",
            "2/2 [==============================] - 0s 6ms/step - loss: 8.1683 - mae: 8.1683\n",
            "Epoch 186/500\n",
            "2/2 [==============================] - 0s 5ms/step - loss: 22.6832 - mae: 22.6832\n",
            "Epoch 187/500\n",
            "2/2 [==============================] - 0s 5ms/step - loss: 19.2559 - mae: 19.2559\n",
            "Epoch 188/500\n",
            "2/2 [==============================] - 0s 5ms/step - loss: 13.6709 - mae: 13.6709\n",
            "Epoch 189/500\n",
            "2/2 [==============================] - 0s 5ms/step - loss: 15.0561 - mae: 15.0561\n",
            "Epoch 190/500\n",
            "2/2 [==============================] - 0s 5ms/step - loss: 20.5907 - mae: 20.5907\n",
            "Epoch 191/500\n",
            "2/2 [==============================] - 0s 9ms/step - loss: 22.2819 - mae: 22.2819\n",
            "Epoch 192/500\n",
            "2/2 [==============================] - 0s 5ms/step - loss: 10.0182 - mae: 10.0182\n",
            "Epoch 193/500\n",
            "2/2 [==============================] - 0s 6ms/step - loss: 28.5998 - mae: 28.5998\n",
            "Epoch 194/500\n",
            "2/2 [==============================] - 0s 7ms/step - loss: 7.0669 - mae: 7.0669\n",
            "Epoch 195/500\n",
            "2/2 [==============================] - 0s 6ms/step - loss: 7.0766 - mae: 7.0766\n",
            "Epoch 196/500\n",
            "2/2 [==============================] - 0s 6ms/step - loss: 22.0504 - mae: 22.0504\n",
            "Epoch 197/500\n",
            "2/2 [==============================] - 0s 6ms/step - loss: 20.7510 - mae: 20.7510\n",
            "Epoch 198/500\n",
            "2/2 [==============================] - 0s 12ms/step - loss: 12.4234 - mae: 12.4234\n",
            "Epoch 199/500\n",
            "2/2 [==============================] - 0s 5ms/step - loss: 17.8266 - mae: 17.8266\n",
            "Epoch 200/500\n",
            "2/2 [==============================] - 0s 5ms/step - loss: 13.6727 - mae: 13.6727\n",
            "Epoch 201/500\n",
            "2/2 [==============================] - 0s 7ms/step - loss: 5.4966 - mae: 5.4966\n",
            "Epoch 202/500\n",
            "2/2 [==============================] - 0s 6ms/step - loss: 13.6239 - mae: 13.6239\n",
            "Epoch 203/500\n",
            "2/2 [==============================] - 0s 6ms/step - loss: 9.4068 - mae: 9.4068\n",
            "Epoch 204/500\n",
            "2/2 [==============================] - 0s 7ms/step - loss: 20.8349 - mae: 20.8349\n",
            "Epoch 205/500\n",
            "2/2 [==============================] - 0s 6ms/step - loss: 9.5174 - mae: 9.5174\n",
            "Epoch 206/500\n",
            "2/2 [==============================] - 0s 7ms/step - loss: 11.1591 - mae: 11.1591\n",
            "Epoch 207/500\n",
            "2/2 [==============================] - 0s 5ms/step - loss: 17.7239 - mae: 17.7239\n",
            "Epoch 208/500\n",
            "2/2 [==============================] - 0s 5ms/step - loss: 14.4107 - mae: 14.4107\n",
            "Epoch 209/500\n",
            "2/2 [==============================] - 0s 5ms/step - loss: 16.7484 - mae: 16.7484\n",
            "Epoch 210/500\n",
            "2/2 [==============================] - 0s 4ms/step - loss: 18.2706 - mae: 18.2706\n",
            "Epoch 211/500\n",
            "2/2 [==============================] - 0s 5ms/step - loss: 9.9654 - mae: 9.9654\n",
            "Epoch 212/500\n",
            "2/2 [==============================] - 0s 5ms/step - loss: 18.7582 - mae: 18.7582\n",
            "Epoch 213/500\n",
            "2/2 [==============================] - 0s 7ms/step - loss: 14.9330 - mae: 14.9330\n",
            "Epoch 214/500\n",
            "2/2 [==============================] - 0s 7ms/step - loss: 14.5219 - mae: 14.5219\n",
            "Epoch 215/500\n",
            "2/2 [==============================] - 0s 7ms/step - loss: 23.1629 - mae: 23.1629\n",
            "Epoch 216/500\n",
            "2/2 [==============================] - 0s 6ms/step - loss: 13.6086 - mae: 13.6086\n",
            "Epoch 217/500\n",
            "2/2 [==============================] - 0s 5ms/step - loss: 10.0643 - mae: 10.0643\n",
            "Epoch 218/500\n",
            "2/2 [==============================] - 0s 6ms/step - loss: 12.4062 - mae: 12.4062\n",
            "Epoch 219/500\n",
            "2/2 [==============================] - 0s 6ms/step - loss: 5.8605 - mae: 5.8605\n",
            "Epoch 220/500\n",
            "2/2 [==============================] - 0s 5ms/step - loss: 10.2038 - mae: 10.2038\n",
            "Epoch 221/500\n",
            "2/2 [==============================] - 0s 5ms/step - loss: 28.9070 - mae: 28.9070\n",
            "Epoch 222/500\n",
            "2/2 [==============================] - 0s 4ms/step - loss: 28.1037 - mae: 28.1037\n",
            "Epoch 223/500\n",
            "2/2 [==============================] - 0s 4ms/step - loss: 10.0702 - mae: 10.0702\n",
            "Epoch 224/500\n",
            "2/2 [==============================] - 0s 5ms/step - loss: 14.6164 - mae: 14.6164\n",
            "Epoch 225/500\n",
            "2/2 [==============================] - 0s 4ms/step - loss: 16.6305 - mae: 16.6305\n",
            "Epoch 226/500\n",
            "2/2 [==============================] - 0s 5ms/step - loss: 15.8534 - mae: 15.8534\n",
            "Epoch 227/500\n",
            "2/2 [==============================] - 0s 8ms/step - loss: 16.0729 - mae: 16.0729\n",
            "Epoch 228/500\n",
            "2/2 [==============================] - 0s 8ms/step - loss: 13.8541 - mae: 13.8541\n",
            "Epoch 229/500\n",
            "2/2 [==============================] - 0s 8ms/step - loss: 17.9689 - mae: 17.9689\n",
            "Epoch 230/500\n",
            "2/2 [==============================] - 0s 6ms/step - loss: 15.5630 - mae: 15.5630\n",
            "Epoch 231/500\n",
            "2/2 [==============================] - 0s 6ms/step - loss: 21.0820 - mae: 21.0820\n",
            "Epoch 232/500\n",
            "2/2 [==============================] - 0s 6ms/step - loss: 25.5494 - mae: 25.5494\n",
            "Epoch 233/500\n",
            "2/2 [==============================] - 0s 6ms/step - loss: 16.5373 - mae: 16.5373\n",
            "Epoch 234/500\n",
            "2/2 [==============================] - 0s 7ms/step - loss: 7.3567 - mae: 7.3567\n",
            "Epoch 235/500\n",
            "2/2 [==============================] - 0s 7ms/step - loss: 17.1777 - mae: 17.1777\n",
            "Epoch 236/500\n",
            "2/2 [==============================] - 0s 7ms/step - loss: 7.2210 - mae: 7.2210\n",
            "Epoch 237/500\n",
            "2/2 [==============================] - 0s 6ms/step - loss: 9.3251 - mae: 9.3251\n",
            "Epoch 238/500\n",
            "2/2 [==============================] - 0s 5ms/step - loss: 8.1742 - mae: 8.1742\n",
            "Epoch 239/500\n",
            "2/2 [==============================] - 0s 6ms/step - loss: 17.2080 - mae: 17.2080\n",
            "Epoch 240/500\n",
            "2/2 [==============================] - 0s 8ms/step - loss: 8.9529 - mae: 8.9529\n",
            "Epoch 241/500\n",
            "2/2 [==============================] - 0s 11ms/step - loss: 13.2873 - mae: 13.2873\n",
            "Epoch 242/500\n",
            "2/2 [==============================] - 0s 6ms/step - loss: 8.8593 - mae: 8.8593\n",
            "Epoch 243/500\n",
            "2/2 [==============================] - 0s 6ms/step - loss: 18.9532 - mae: 18.9532\n",
            "Epoch 244/500\n",
            "2/2 [==============================] - 0s 5ms/step - loss: 14.0299 - mae: 14.0299\n",
            "Epoch 245/500\n",
            "2/2 [==============================] - 0s 4ms/step - loss: 14.6619 - mae: 14.6619\n",
            "Epoch 246/500\n",
            "2/2 [==============================] - 0s 5ms/step - loss: 15.7934 - mae: 15.7934\n",
            "Epoch 247/500\n",
            "2/2 [==============================] - 0s 5ms/step - loss: 17.6665 - mae: 17.6665\n",
            "Epoch 248/500\n",
            "2/2 [==============================] - 0s 5ms/step - loss: 13.2249 - mae: 13.2249\n",
            "Epoch 249/500\n",
            "2/2 [==============================] - 0s 6ms/step - loss: 14.5070 - mae: 14.5070\n",
            "Epoch 250/500\n",
            "2/2 [==============================] - 0s 7ms/step - loss: 23.2207 - mae: 23.2207\n",
            "Epoch 251/500\n",
            "2/2 [==============================] - 0s 6ms/step - loss: 9.3368 - mae: 9.3368\n",
            "Epoch 252/500\n",
            "2/2 [==============================] - 0s 5ms/step - loss: 36.6982 - mae: 36.6982\n",
            "Epoch 253/500\n",
            "2/2 [==============================] - 0s 6ms/step - loss: 21.8600 - mae: 21.8600\n",
            "Epoch 254/500\n",
            "2/2 [==============================] - 0s 9ms/step - loss: 7.3133 - mae: 7.3133\n",
            "Epoch 255/500\n",
            "2/2 [==============================] - 0s 5ms/step - loss: 24.7310 - mae: 24.7310\n",
            "Epoch 256/500\n",
            "2/2 [==============================] - 0s 16ms/step - loss: 12.4523 - mae: 12.4523\n",
            "Epoch 257/500\n",
            "2/2 [==============================] - 0s 8ms/step - loss: 10.6081 - mae: 10.6081\n",
            "Epoch 258/500\n",
            "2/2 [==============================] - 0s 5ms/step - loss: 14.2415 - mae: 14.2415\n",
            "Epoch 259/500\n",
            "2/2 [==============================] - 0s 8ms/step - loss: 11.2819 - mae: 11.2819\n",
            "Epoch 260/500\n",
            "2/2 [==============================] - 0s 6ms/step - loss: 31.6859 - mae: 31.6859\n",
            "Epoch 261/500\n",
            "2/2 [==============================] - 0s 5ms/step - loss: 11.2110 - mae: 11.2110\n",
            "Epoch 262/500\n",
            "2/2 [==============================] - 0s 6ms/step - loss: 10.0607 - mae: 10.0607\n",
            "Epoch 263/500\n",
            "2/2 [==============================] - 0s 4ms/step - loss: 8.9639 - mae: 8.9639\n",
            "Epoch 264/500\n",
            "2/2 [==============================] - 0s 7ms/step - loss: 21.5510 - mae: 21.5510\n",
            "Epoch 265/500\n",
            "2/2 [==============================] - 0s 7ms/step - loss: 11.4312 - mae: 11.4312\n",
            "Epoch 266/500\n",
            "2/2 [==============================] - 0s 7ms/step - loss: 13.2665 - mae: 13.2665\n",
            "Epoch 267/500\n",
            "2/2 [==============================] - 0s 4ms/step - loss: 11.0688 - mae: 11.0688\n",
            "Epoch 268/500\n",
            "2/2 [==============================] - 0s 4ms/step - loss: 19.1283 - mae: 19.1283\n",
            "Epoch 269/500\n",
            "2/2 [==============================] - 0s 5ms/step - loss: 40.7974 - mae: 40.7974\n",
            "Epoch 270/500\n",
            "2/2 [==============================] - 0s 6ms/step - loss: 12.9745 - mae: 12.9745\n",
            "Epoch 271/500\n",
            "2/2 [==============================] - 0s 5ms/step - loss: 14.7532 - mae: 14.7532\n",
            "Epoch 272/500\n",
            "2/2 [==============================] - 0s 5ms/step - loss: 28.4922 - mae: 28.4922\n",
            "Epoch 273/500\n",
            "2/2 [==============================] - 0s 5ms/step - loss: 7.3857 - mae: 7.3857\n",
            "Epoch 274/500\n",
            "2/2 [==============================] - 0s 9ms/step - loss: 6.3519 - mae: 6.3519\n",
            "Epoch 275/500\n",
            "2/2 [==============================] - 0s 5ms/step - loss: 37.0074 - mae: 37.0074\n",
            "Epoch 276/500\n",
            "2/2 [==============================] - 0s 5ms/step - loss: 8.2947 - mae: 8.2947\n",
            "Epoch 277/500\n",
            "2/2 [==============================] - 0s 5ms/step - loss: 27.8092 - mae: 27.8092\n",
            "Epoch 278/500\n",
            "2/2 [==============================] - 0s 5ms/step - loss: 10.6559 - mae: 10.6559\n",
            "Epoch 279/500\n",
            "2/2 [==============================] - 0s 5ms/step - loss: 16.0911 - mae: 16.0911\n",
            "Epoch 280/500\n",
            "2/2 [==============================] - 0s 4ms/step - loss: 21.1991 - mae: 21.1991\n",
            "Epoch 281/500\n",
            "2/2 [==============================] - 0s 7ms/step - loss: 23.8822 - mae: 23.8822\n",
            "Epoch 282/500\n",
            "2/2 [==============================] - 0s 5ms/step - loss: 8.2828 - mae: 8.2828\n",
            "Epoch 283/500\n",
            "2/2 [==============================] - 0s 5ms/step - loss: 8.4528 - mae: 8.4528\n",
            "Epoch 284/500\n",
            "2/2 [==============================] - 0s 5ms/step - loss: 26.7244 - mae: 26.7244\n",
            "Epoch 285/500\n",
            "2/2 [==============================] - 0s 6ms/step - loss: 14.3014 - mae: 14.3014\n",
            "Epoch 286/500\n",
            "2/2 [==============================] - 0s 7ms/step - loss: 5.2594 - mae: 5.2594\n",
            "Epoch 287/500\n",
            "2/2 [==============================] - 0s 6ms/step - loss: 20.7770 - mae: 20.7770\n",
            "Epoch 288/500\n",
            "2/2 [==============================] - 0s 5ms/step - loss: 27.7882 - mae: 27.7882\n",
            "Epoch 289/500\n",
            "2/2 [==============================] - 0s 7ms/step - loss: 10.9837 - mae: 10.9837\n",
            "Epoch 290/500\n",
            "2/2 [==============================] - 0s 4ms/step - loss: 16.1778 - mae: 16.1778\n",
            "Epoch 291/500\n",
            "2/2 [==============================] - 0s 4ms/step - loss: 16.3428 - mae: 16.3428\n",
            "Epoch 292/500\n",
            "2/2 [==============================] - 0s 8ms/step - loss: 14.6130 - mae: 14.6130\n",
            "Epoch 293/500\n",
            "2/2 [==============================] - 0s 5ms/step - loss: 15.9322 - mae: 15.9322\n",
            "Epoch 294/500\n",
            "2/2 [==============================] - 0s 9ms/step - loss: 24.0620 - mae: 24.0620\n",
            "Epoch 295/500\n",
            "2/2 [==============================] - 0s 5ms/step - loss: 14.7637 - mae: 14.7637\n",
            "Epoch 296/500\n",
            "2/2 [==============================] - 0s 9ms/step - loss: 4.3674 - mae: 4.3674\n",
            "Epoch 297/500\n",
            "2/2 [==============================] - 0s 8ms/step - loss: 11.8723 - mae: 11.8723\n",
            "Epoch 298/500\n",
            "2/2 [==============================] - 0s 10ms/step - loss: 23.7724 - mae: 23.7724\n",
            "Epoch 299/500\n",
            "2/2 [==============================] - 0s 9ms/step - loss: 18.9912 - mae: 18.9912\n",
            "Epoch 300/500\n",
            "2/2 [==============================] - 0s 7ms/step - loss: 8.8077 - mae: 8.8077\n",
            "Epoch 301/500\n",
            "2/2 [==============================] - 0s 6ms/step - loss: 15.8594 - mae: 15.8594\n",
            "Epoch 302/500\n",
            "2/2 [==============================] - 0s 8ms/step - loss: 5.7477 - mae: 5.7477\n",
            "Epoch 303/500\n",
            "2/2 [==============================] - 0s 8ms/step - loss: 23.0029 - mae: 23.0029\n",
            "Epoch 304/500\n",
            "2/2 [==============================] - 0s 8ms/step - loss: 26.0121 - mae: 26.0121\n",
            "Epoch 305/500\n",
            "2/2 [==============================] - 0s 6ms/step - loss: 9.5751 - mae: 9.5751\n",
            "Epoch 306/500\n",
            "2/2 [==============================] - 0s 5ms/step - loss: 17.7675 - mae: 17.7675\n",
            "Epoch 307/500\n",
            "2/2 [==============================] - 0s 7ms/step - loss: 9.8065 - mae: 9.8065\n",
            "Epoch 308/500\n",
            "2/2 [==============================] - 0s 7ms/step - loss: 20.5682 - mae: 20.5682\n",
            "Epoch 309/500\n",
            "2/2 [==============================] - 0s 6ms/step - loss: 13.6283 - mae: 13.6283\n",
            "Epoch 310/500\n",
            "2/2 [==============================] - 0s 10ms/step - loss: 6.6651 - mae: 6.6651\n",
            "Epoch 311/500\n",
            "2/2 [==============================] - 0s 9ms/step - loss: 13.3960 - mae: 13.3960\n",
            "Epoch 312/500\n",
            "2/2 [==============================] - 0s 5ms/step - loss: 30.2020 - mae: 30.2020\n",
            "Epoch 313/500\n",
            "2/2 [==============================] - 0s 6ms/step - loss: 7.2437 - mae: 7.2437\n",
            "Epoch 314/500\n",
            "2/2 [==============================] - 0s 5ms/step - loss: 10.5637 - mae: 10.5637\n",
            "Epoch 315/500\n",
            "2/2 [==============================] - 0s 5ms/step - loss: 23.5812 - mae: 23.5812\n",
            "Epoch 316/500\n",
            "2/2 [==============================] - 0s 5ms/step - loss: 14.4025 - mae: 14.4025\n",
            "Epoch 317/500\n",
            "2/2 [==============================] - 0s 6ms/step - loss: 19.9430 - mae: 19.9430\n",
            "Epoch 318/500\n",
            "2/2 [==============================] - 0s 6ms/step - loss: 7.9981 - mae: 7.9981\n",
            "Epoch 319/500\n",
            "2/2 [==============================] - 0s 5ms/step - loss: 18.0723 - mae: 18.0723\n",
            "Epoch 320/500\n",
            "2/2 [==============================] - 0s 5ms/step - loss: 10.6175 - mae: 10.6175\n",
            "Epoch 321/500\n",
            "2/2 [==============================] - 0s 5ms/step - loss: 7.0149 - mae: 7.0149\n",
            "Epoch 322/500\n",
            "2/2 [==============================] - 0s 5ms/step - loss: 8.6895 - mae: 8.6895\n",
            "Epoch 323/500\n",
            "2/2 [==============================] - 0s 5ms/step - loss: 18.3656 - mae: 18.3656\n",
            "Epoch 324/500\n",
            "2/2 [==============================] - 0s 6ms/step - loss: 6.3018 - mae: 6.3018\n",
            "Epoch 325/500\n",
            "2/2 [==============================] - 0s 5ms/step - loss: 14.5608 - mae: 14.5608\n",
            "Epoch 326/500\n",
            "2/2 [==============================] - 0s 7ms/step - loss: 6.9824 - mae: 6.9824\n",
            "Epoch 327/500\n",
            "2/2 [==============================] - 0s 7ms/step - loss: 17.5388 - mae: 17.5388\n",
            "Epoch 328/500\n",
            "2/2 [==============================] - 0s 6ms/step - loss: 14.3981 - mae: 14.3981\n",
            "Epoch 329/500\n",
            "2/2 [==============================] - 0s 5ms/step - loss: 17.7224 - mae: 17.7224\n",
            "Epoch 330/500\n",
            "2/2 [==============================] - 0s 6ms/step - loss: 6.7775 - mae: 6.7775\n",
            "Epoch 331/500\n",
            "2/2 [==============================] - 0s 6ms/step - loss: 19.6476 - mae: 19.6476\n",
            "Epoch 332/500\n",
            "2/2 [==============================] - 0s 5ms/step - loss: 10.5169 - mae: 10.5169\n",
            "Epoch 333/500\n",
            "2/2 [==============================] - 0s 5ms/step - loss: 16.2503 - mae: 16.2503\n",
            "Epoch 334/500\n",
            "2/2 [==============================] - 0s 5ms/step - loss: 9.7562 - mae: 9.7562\n",
            "Epoch 335/500\n",
            "2/2 [==============================] - 0s 6ms/step - loss: 13.0677 - mae: 13.0677\n",
            "Epoch 336/500\n",
            "2/2 [==============================] - 0s 6ms/step - loss: 32.5150 - mae: 32.5150\n",
            "Epoch 337/500\n",
            "2/2 [==============================] - 0s 5ms/step - loss: 11.0613 - mae: 11.0613\n",
            "Epoch 338/500\n",
            "2/2 [==============================] - 0s 6ms/step - loss: 20.0040 - mae: 20.0040\n",
            "Epoch 339/500\n",
            "2/2 [==============================] - 0s 5ms/step - loss: 34.1772 - mae: 34.1772\n",
            "Epoch 340/500\n",
            "2/2 [==============================] - 0s 6ms/step - loss: 8.7019 - mae: 8.7019\n",
            "Epoch 341/500\n",
            "2/2 [==============================] - 0s 6ms/step - loss: 21.8307 - mae: 21.8307\n",
            "Epoch 342/500\n",
            "2/2 [==============================] - 0s 7ms/step - loss: 13.8851 - mae: 13.8851\n",
            "Epoch 343/500\n",
            "2/2 [==============================] - 0s 6ms/step - loss: 11.7377 - mae: 11.7377\n",
            "Epoch 344/500\n",
            "2/2 [==============================] - 0s 5ms/step - loss: 10.7014 - mae: 10.7014\n",
            "Epoch 345/500\n",
            "2/2 [==============================] - 0s 8ms/step - loss: 30.9330 - mae: 30.9330\n",
            "Epoch 346/500\n",
            "2/2 [==============================] - 0s 7ms/step - loss: 10.6598 - mae: 10.6598\n",
            "Epoch 347/500\n",
            "2/2 [==============================] - 0s 6ms/step - loss: 25.6067 - mae: 25.6067\n",
            "Epoch 348/500\n",
            "2/2 [==============================] - 0s 8ms/step - loss: 13.1869 - mae: 13.1869\n",
            "Epoch 349/500\n",
            "2/2 [==============================] - 0s 6ms/step - loss: 13.0738 - mae: 13.0738\n",
            "Epoch 350/500\n",
            "2/2 [==============================] - 0s 6ms/step - loss: 15.4155 - mae: 15.4155\n",
            "Epoch 351/500\n",
            "2/2 [==============================] - 0s 7ms/step - loss: 32.8997 - mae: 32.8997\n",
            "Epoch 352/500\n",
            "2/2 [==============================] - 0s 8ms/step - loss: 14.1219 - mae: 14.1219\n",
            "Epoch 353/500\n",
            "2/2 [==============================] - 0s 6ms/step - loss: 15.8552 - mae: 15.8552\n",
            "Epoch 354/500\n",
            "2/2 [==============================] - 0s 5ms/step - loss: 18.9490 - mae: 18.9490\n",
            "Epoch 355/500\n",
            "2/2 [==============================] - 0s 6ms/step - loss: 34.5154 - mae: 34.5154\n",
            "Epoch 356/500\n",
            "2/2 [==============================] - 0s 7ms/step - loss: 8.3551 - mae: 8.3551\n",
            "Epoch 357/500\n",
            "2/2 [==============================] - 0s 5ms/step - loss: 21.9591 - mae: 21.9591\n",
            "Epoch 358/500\n",
            "2/2 [==============================] - 0s 5ms/step - loss: 20.1168 - mae: 20.1168\n",
            "Epoch 359/500\n",
            "2/2 [==============================] - 0s 5ms/step - loss: 11.0460 - mae: 11.0460\n",
            "Epoch 360/500\n",
            "2/2 [==============================] - 0s 4ms/step - loss: 20.2518 - mae: 20.2518\n",
            "Epoch 361/500\n",
            "2/2 [==============================] - 0s 4ms/step - loss: 11.0611 - mae: 11.0611\n",
            "Epoch 362/500\n",
            "2/2 [==============================] - 0s 5ms/step - loss: 6.8500 - mae: 6.8500\n",
            "Epoch 363/500\n",
            "2/2 [==============================] - 0s 5ms/step - loss: 24.0342 - mae: 24.0342\n",
            "Epoch 364/500\n",
            "2/2 [==============================] - 0s 4ms/step - loss: 29.8143 - mae: 29.8143\n",
            "Epoch 365/500\n",
            "2/2 [==============================] - 0s 6ms/step - loss: 8.3903 - mae: 8.3903\n",
            "Epoch 366/500\n",
            "2/2 [==============================] - 0s 5ms/step - loss: 6.1182 - mae: 6.1182\n",
            "Epoch 367/500\n",
            "2/2 [==============================] - 0s 4ms/step - loss: 34.9226 - mae: 34.9226\n",
            "Epoch 368/500\n",
            "2/2 [==============================] - 0s 4ms/step - loss: 7.4366 - mae: 7.4366\n",
            "Epoch 369/500\n",
            "2/2 [==============================] - 0s 4ms/step - loss: 9.2469 - mae: 9.2469\n",
            "Epoch 370/500\n",
            "2/2 [==============================] - 0s 4ms/step - loss: 10.9435 - mae: 10.9435\n",
            "Epoch 371/500\n",
            "2/2 [==============================] - 0s 4ms/step - loss: 9.0051 - mae: 9.0051\n",
            "Epoch 372/500\n",
            "2/2 [==============================] - 0s 7ms/step - loss: 7.7152 - mae: 7.7152\n",
            "Epoch 373/500\n",
            "2/2 [==============================] - 0s 6ms/step - loss: 25.0651 - mae: 25.0651\n",
            "Epoch 374/500\n",
            "2/2 [==============================] - 0s 5ms/step - loss: 13.2118 - mae: 13.2118\n",
            "Epoch 375/500\n",
            "2/2 [==============================] - 0s 5ms/step - loss: 11.8657 - mae: 11.8657\n",
            "Epoch 376/500\n",
            "2/2 [==============================] - 0s 5ms/step - loss: 14.1383 - mae: 14.1383\n",
            "Epoch 377/500\n",
            "2/2 [==============================] - 0s 5ms/step - loss: 15.7315 - mae: 15.7315\n",
            "Epoch 378/500\n",
            "2/2 [==============================] - 0s 5ms/step - loss: 17.0605 - mae: 17.0605\n",
            "Epoch 379/500\n",
            "2/2 [==============================] - 0s 4ms/step - loss: 19.3625 - mae: 19.3625\n",
            "Epoch 380/500\n",
            "2/2 [==============================] - 0s 5ms/step - loss: 15.7203 - mae: 15.7203\n",
            "Epoch 381/500\n",
            "2/2 [==============================] - 0s 5ms/step - loss: 11.4773 - mae: 11.4773\n",
            "Epoch 382/500\n",
            "2/2 [==============================] - 0s 5ms/step - loss: 16.3553 - mae: 16.3553\n",
            "Epoch 383/500\n",
            "2/2 [==============================] - 0s 8ms/step - loss: 22.1192 - mae: 22.1192\n",
            "Epoch 384/500\n",
            "2/2 [==============================] - 0s 9ms/step - loss: 7.7503 - mae: 7.7503\n",
            "Epoch 385/500\n",
            "2/2 [==============================] - 0s 8ms/step - loss: 10.6361 - mae: 10.6361\n",
            "Epoch 386/500\n",
            "2/2 [==============================] - 0s 10ms/step - loss: 19.1311 - mae: 19.1311\n",
            "Epoch 387/500\n",
            "2/2 [==============================] - 0s 5ms/step - loss: 26.4065 - mae: 26.4065\n",
            "Epoch 388/500\n",
            "2/2 [==============================] - 0s 4ms/step - loss: 10.0731 - mae: 10.0731\n",
            "Epoch 389/500\n",
            "2/2 [==============================] - 0s 4ms/step - loss: 5.1820 - mae: 5.1820\n",
            "Epoch 390/500\n",
            "2/2 [==============================] - 0s 4ms/step - loss: 18.7400 - mae: 18.7400\n",
            "Epoch 391/500\n",
            "2/2 [==============================] - 0s 7ms/step - loss: 9.3642 - mae: 9.3642\n",
            "Epoch 392/500\n",
            "2/2 [==============================] - 0s 7ms/step - loss: 14.4302 - mae: 14.4302\n",
            "Epoch 393/500\n",
            "2/2 [==============================] - 0s 5ms/step - loss: 12.1020 - mae: 12.1020\n",
            "Epoch 394/500\n",
            "2/2 [==============================] - 0s 5ms/step - loss: 14.1010 - mae: 14.1010\n",
            "Epoch 395/500\n",
            "2/2 [==============================] - 0s 5ms/step - loss: 28.4695 - mae: 28.4695\n",
            "Epoch 396/500\n",
            "2/2 [==============================] - 0s 4ms/step - loss: 8.4860 - mae: 8.4860\n",
            "Epoch 397/500\n",
            "2/2 [==============================] - 0s 5ms/step - loss: 11.1820 - mae: 11.1820\n",
            "Epoch 398/500\n",
            "2/2 [==============================] - 0s 4ms/step - loss: 6.8933 - mae: 6.8933\n",
            "Epoch 399/500\n",
            "2/2 [==============================] - 0s 5ms/step - loss: 13.9894 - mae: 13.9894\n",
            "Epoch 400/500\n",
            "2/2 [==============================] - 0s 6ms/step - loss: 6.6732 - mae: 6.6732\n",
            "Epoch 401/500\n",
            "2/2 [==============================] - 0s 5ms/step - loss: 7.4939 - mae: 7.4939\n",
            "Epoch 402/500\n",
            "2/2 [==============================] - 0s 5ms/step - loss: 19.4153 - mae: 19.4153\n",
            "Epoch 403/500\n",
            "2/2 [==============================] - 0s 5ms/step - loss: 10.4703 - mae: 10.4703\n",
            "Epoch 404/500\n",
            "2/2 [==============================] - 0s 4ms/step - loss: 23.2289 - mae: 23.2289\n",
            "Epoch 405/500\n",
            "2/2 [==============================] - 0s 5ms/step - loss: 17.4626 - mae: 17.4626\n",
            "Epoch 406/500\n",
            "2/2 [==============================] - 0s 5ms/step - loss: 6.8449 - mae: 6.8449\n",
            "Epoch 407/500\n",
            "2/2 [==============================] - 0s 4ms/step - loss: 11.9444 - mae: 11.9444\n",
            "Epoch 408/500\n",
            "2/2 [==============================] - 0s 5ms/step - loss: 7.1026 - mae: 7.1026\n",
            "Epoch 409/500\n",
            "2/2 [==============================] - 0s 5ms/step - loss: 23.4775 - mae: 23.4775\n",
            "Epoch 410/500\n",
            "2/2 [==============================] - 0s 5ms/step - loss: 12.3945 - mae: 12.3945\n",
            "Epoch 411/500\n",
            "2/2 [==============================] - 0s 4ms/step - loss: 15.1901 - mae: 15.1901\n",
            "Epoch 412/500\n",
            "2/2 [==============================] - 0s 4ms/step - loss: 22.3068 - mae: 22.3068\n",
            "Epoch 413/500\n",
            "2/2 [==============================] - 0s 4ms/step - loss: 15.6924 - mae: 15.6924\n",
            "Epoch 414/500\n",
            "2/2 [==============================] - 0s 9ms/step - loss: 6.6112 - mae: 6.6112\n",
            "Epoch 415/500\n",
            "2/2 [==============================] - 0s 5ms/step - loss: 12.6937 - mae: 12.6937\n",
            "Epoch 416/500\n",
            "2/2 [==============================] - 0s 5ms/step - loss: 26.9181 - mae: 26.9181\n",
            "Epoch 417/500\n",
            "2/2 [==============================] - 0s 5ms/step - loss: 12.0799 - mae: 12.0799\n",
            "Epoch 418/500\n",
            "2/2 [==============================] - 0s 5ms/step - loss: 13.0591 - mae: 13.0591\n",
            "Epoch 419/500\n",
            "2/2 [==============================] - 0s 9ms/step - loss: 16.0306 - mae: 16.0306\n",
            "Epoch 420/500\n",
            "2/2 [==============================] - 0s 13ms/step - loss: 25.0627 - mae: 25.0627\n",
            "Epoch 421/500\n",
            "2/2 [==============================] - 0s 7ms/step - loss: 16.6172 - mae: 16.6172\n",
            "Epoch 422/500\n",
            "2/2 [==============================] - 0s 7ms/step - loss: 8.6929 - mae: 8.6929\n",
            "Epoch 423/500\n",
            "2/2 [==============================] - 0s 9ms/step - loss: 24.7920 - mae: 24.7920\n",
            "Epoch 424/500\n",
            "2/2 [==============================] - 0s 6ms/step - loss: 16.5276 - mae: 16.5276\n",
            "Epoch 425/500\n",
            "2/2 [==============================] - 0s 6ms/step - loss: 7.2499 - mae: 7.2499\n",
            "Epoch 426/500\n",
            "2/2 [==============================] - 0s 7ms/step - loss: 20.6674 - mae: 20.6674\n",
            "Epoch 427/500\n",
            "2/2 [==============================] - 0s 6ms/step - loss: 6.4179 - mae: 6.4179\n",
            "Epoch 428/500\n",
            "2/2 [==============================] - 0s 6ms/step - loss: 13.2192 - mae: 13.2192\n",
            "Epoch 429/500\n",
            "2/2 [==============================] - 0s 6ms/step - loss: 10.9789 - mae: 10.9789\n",
            "Epoch 430/500\n",
            "2/2 [==============================] - 0s 6ms/step - loss: 11.8538 - mae: 11.8538\n",
            "Epoch 431/500\n",
            "2/2 [==============================] - 0s 6ms/step - loss: 7.9799 - mae: 7.9799\n",
            "Epoch 432/500\n",
            "2/2 [==============================] - 0s 5ms/step - loss: 22.3287 - mae: 22.3287\n",
            "Epoch 433/500\n",
            "2/2 [==============================] - 0s 6ms/step - loss: 4.8259 - mae: 4.8259\n",
            "Epoch 434/500\n",
            "2/2 [==============================] - 0s 7ms/step - loss: 33.3019 - mae: 33.3019\n",
            "Epoch 435/500\n",
            "2/2 [==============================] - 0s 6ms/step - loss: 14.1522 - mae: 14.1522\n",
            "Epoch 436/500\n",
            "2/2 [==============================] - 0s 8ms/step - loss: 29.8063 - mae: 29.8063\n",
            "Epoch 437/500\n",
            "2/2 [==============================] - 0s 6ms/step - loss: 10.9010 - mae: 10.9010\n",
            "Epoch 438/500\n",
            "2/2 [==============================] - 0s 5ms/step - loss: 12.6911 - mae: 12.6911\n",
            "Epoch 439/500\n",
            "2/2 [==============================] - 0s 5ms/step - loss: 33.5415 - mae: 33.5415\n",
            "Epoch 440/500\n",
            "2/2 [==============================] - 0s 10ms/step - loss: 14.9097 - mae: 14.9097\n",
            "Epoch 441/500\n",
            "2/2 [==============================] - 0s 10ms/step - loss: 17.3428 - mae: 17.3428\n",
            "Epoch 442/500\n",
            "2/2 [==============================] - 0s 7ms/step - loss: 22.0138 - mae: 22.0138\n",
            "Epoch 443/500\n",
            "2/2 [==============================] - 0s 7ms/step - loss: 24.2787 - mae: 24.2787\n",
            "Epoch 444/500\n",
            "2/2 [==============================] - 0s 8ms/step - loss: 11.5583 - mae: 11.5583\n",
            "Epoch 445/500\n",
            "2/2 [==============================] - 0s 9ms/step - loss: 14.7530 - mae: 14.7530\n",
            "Epoch 446/500\n",
            "2/2 [==============================] - 0s 7ms/step - loss: 17.7605 - mae: 17.7605\n",
            "Epoch 447/500\n",
            "2/2 [==============================] - 0s 5ms/step - loss: 5.6928 - mae: 5.6928\n",
            "Epoch 448/500\n",
            "2/2 [==============================] - 0s 9ms/step - loss: 9.5081 - mae: 9.5081\n",
            "Epoch 449/500\n",
            "2/2 [==============================] - 0s 9ms/step - loss: 14.1712 - mae: 14.1712\n",
            "Epoch 450/500\n",
            "2/2 [==============================] - 0s 5ms/step - loss: 16.9377 - mae: 16.9377\n",
            "Epoch 451/500\n",
            "2/2 [==============================] - 0s 5ms/step - loss: 14.3587 - mae: 14.3587\n",
            "Epoch 452/500\n",
            "2/2 [==============================] - 0s 9ms/step - loss: 30.7654 - mae: 30.7654\n",
            "Epoch 453/500\n",
            "2/2 [==============================] - 0s 9ms/step - loss: 8.4151 - mae: 8.4151\n",
            "Epoch 454/500\n",
            "2/2 [==============================] - 0s 8ms/step - loss: 27.6868 - mae: 27.6868\n",
            "Epoch 455/500\n",
            "2/2 [==============================] - 0s 5ms/step - loss: 9.8471 - mae: 9.8471\n",
            "Epoch 456/500\n",
            "2/2 [==============================] - 0s 6ms/step - loss: 14.6237 - mae: 14.6237\n",
            "Epoch 457/500\n",
            "2/2 [==============================] - 0s 5ms/step - loss: 17.7854 - mae: 17.7854\n",
            "Epoch 458/500\n",
            "2/2 [==============================] - 0s 6ms/step - loss: 14.0608 - mae: 14.0608\n",
            "Epoch 459/500\n",
            "2/2 [==============================] - 0s 10ms/step - loss: 25.9986 - mae: 25.9986\n",
            "Epoch 460/500\n",
            "2/2 [==============================] - 0s 10ms/step - loss: 14.7940 - mae: 14.7940\n",
            "Epoch 461/500\n",
            "2/2 [==============================] - 0s 9ms/step - loss: 12.0162 - mae: 12.0162\n",
            "Epoch 462/500\n",
            "2/2 [==============================] - 0s 6ms/step - loss: 13.3064 - mae: 13.3064\n",
            "Epoch 463/500\n",
            "2/2 [==============================] - 0s 7ms/step - loss: 29.5292 - mae: 29.5292\n",
            "Epoch 464/500\n",
            "2/2 [==============================] - 0s 5ms/step - loss: 3.4613 - mae: 3.4613\n",
            "Epoch 465/500\n",
            "2/2 [==============================] - 0s 5ms/step - loss: 15.1950 - mae: 15.1950\n",
            "Epoch 466/500\n",
            "2/2 [==============================] - 0s 6ms/step - loss: 20.7903 - mae: 20.7903\n",
            "Epoch 467/500\n",
            "2/2 [==============================] - 0s 6ms/step - loss: 30.6313 - mae: 30.6313\n",
            "Epoch 468/500\n",
            "2/2 [==============================] - 0s 8ms/step - loss: 11.1114 - mae: 11.1114\n",
            "Epoch 469/500\n",
            "2/2 [==============================] - 0s 7ms/step - loss: 12.9052 - mae: 12.9052\n",
            "Epoch 470/500\n",
            "2/2 [==============================] - 0s 6ms/step - loss: 3.5653 - mae: 3.5653\n",
            "Epoch 471/500\n",
            "2/2 [==============================] - 0s 6ms/step - loss: 42.0652 - mae: 42.0652\n",
            "Epoch 472/500\n",
            "2/2 [==============================] - 0s 5ms/step - loss: 4.6071 - mae: 4.6071\n",
            "Epoch 473/500\n",
            "2/2 [==============================] - 0s 6ms/step - loss: 18.4568 - mae: 18.4568\n",
            "Epoch 474/500\n",
            "2/2 [==============================] - 0s 6ms/step - loss: 41.5627 - mae: 41.5627\n",
            "Epoch 475/500\n",
            "2/2 [==============================] - 0s 6ms/step - loss: 17.5730 - mae: 17.5730\n",
            "Epoch 476/500\n",
            "2/2 [==============================] - 0s 7ms/step - loss: 13.2552 - mae: 13.2552\n",
            "Epoch 477/500\n",
            "2/2 [==============================] - 0s 7ms/step - loss: 29.3741 - mae: 29.3741\n",
            "Epoch 478/500\n",
            "2/2 [==============================] - 0s 8ms/step - loss: 5.6503 - mae: 5.6503\n",
            "Epoch 479/500\n",
            "2/2 [==============================] - 0s 8ms/step - loss: 7.8098 - mae: 7.8098\n",
            "Epoch 480/500\n",
            "2/2 [==============================] - 0s 6ms/step - loss: 18.4723 - mae: 18.4723\n",
            "Epoch 481/500\n",
            "2/2 [==============================] - 0s 6ms/step - loss: 16.3207 - mae: 16.3207\n",
            "Epoch 482/500\n",
            "2/2 [==============================] - 0s 6ms/step - loss: 15.1110 - mae: 15.1110\n",
            "Epoch 483/500\n",
            "2/2 [==============================] - 0s 6ms/step - loss: 20.6353 - mae: 20.6353\n",
            "Epoch 484/500\n",
            "2/2 [==============================] - 0s 6ms/step - loss: 34.8744 - mae: 34.8744\n",
            "Epoch 485/500\n",
            "2/2 [==============================] - 0s 6ms/step - loss: 13.6675 - mae: 13.6675\n",
            "Epoch 486/500\n",
            "2/2 [==============================] - 0s 6ms/step - loss: 7.3711 - mae: 7.3711\n",
            "Epoch 487/500\n",
            "2/2 [==============================] - 0s 6ms/step - loss: 6.4229 - mae: 6.4229\n",
            "Epoch 488/500\n",
            "2/2 [==============================] - 0s 5ms/step - loss: 31.1971 - mae: 31.1971\n",
            "Epoch 489/500\n",
            "2/2 [==============================] - 0s 5ms/step - loss: 12.3026 - mae: 12.3026\n",
            "Epoch 490/500\n",
            "2/2 [==============================] - 0s 8ms/step - loss: 12.9216 - mae: 12.9216\n",
            "Epoch 491/500\n",
            "2/2 [==============================] - 0s 9ms/step - loss: 23.9921 - mae: 23.9921\n",
            "Epoch 492/500\n",
            "2/2 [==============================] - 0s 5ms/step - loss: 19.6076 - mae: 19.6076\n",
            "Epoch 493/500\n",
            "2/2 [==============================] - 0s 5ms/step - loss: 4.7960 - mae: 4.7960\n",
            "Epoch 494/500\n",
            "2/2 [==============================] - 0s 5ms/step - loss: 12.0139 - mae: 12.0139\n",
            "Epoch 495/500\n",
            "2/2 [==============================] - 0s 5ms/step - loss: 13.7065 - mae: 13.7065\n",
            "Epoch 496/500\n",
            "2/2 [==============================] - 0s 5ms/step - loss: 12.9039 - mae: 12.9039\n",
            "Epoch 497/500\n",
            "2/2 [==============================] - 0s 5ms/step - loss: 18.0346 - mae: 18.0346\n",
            "Epoch 498/500\n",
            "2/2 [==============================] - 0s 8ms/step - loss: 22.6291 - mae: 22.6291\n",
            "Epoch 499/500\n",
            "2/2 [==============================] - 0s 8ms/step - loss: 8.4112 - mae: 8.4112\n",
            "Epoch 500/500\n",
            "2/2 [==============================] - 0s 7ms/step - loss: 14.0223 - mae: 14.0223\n"
          ]
        },
        {
          "output_type": "execute_result",
          "data": {
            "text/plain": [
              "<keras.src.callbacks.History at 0x7f9203cbb430>"
            ]
          },
          "metadata": {},
          "execution_count": 137
        }
      ]
    },
    {
      "cell_type": "code",
      "source": [
        "# Make and plot predictions for model_3\n",
        "y_preds_3 = model_3.predict(X_test)\n",
        "plot_predictions(predictions=y_preds_3)"
      ],
      "metadata": {
        "colab": {
          "base_uri": "https://localhost:8080/",
          "height": 612
        },
        "id": "yfjvjtX9cND1",
        "outputId": "abf9e5c8-a7d5-4a2f-fb5a-9f16f7a46272"
      },
      "execution_count": 144,
      "outputs": [
        {
          "output_type": "stream",
          "name": "stdout",
          "text": [
            "1/1 [==============================] - 0s 40ms/step\n"
          ]
        },
        {
          "output_type": "display_data",
          "data": {
            "text/plain": [
              "<Figure size 1000x700 with 1 Axes>"
            ],
            "image/png": "[encoded data removed]"
          },
          "metadata": {}
        }
      ]
    },
    {
      "cell_type": "code",
      "source": [
        "# Calculate model_2 evaluation metrics\n",
        "mae_3 = mae(y_test, y_preds_3)\n",
        "mse_3 = mse(y_test, y_preds_3)\n",
        "mae_3, mse_3"
      ],
      "metadata": {
        "colab": {
          "base_uri": "https://localhost:8080/"
        },
        "id": "9RfU-W27cfCL",
        "outputId": "a6667e42-298c-45ce-a036-f04a90613899"
      },
      "execution_count": 145,
      "outputs": [
        {
          "output_type": "execute_result",
          "data": {
            "text/plain": [
              "(<tf.Tensor: shape=(), dtype=float32, numpy=67.29098>,\n",
              " <tf.Tensor: shape=(), dtype=float32, numpy=4610.905>)"
            ]
          },
          "metadata": {},
          "execution_count": 145
        }
      ]
    },
    {
      "cell_type": "markdown",
      "source": [
        "# Comparing the results of our experiments\n",
        "\n",
        "We've run a few experiments, let's compare the results."
      ],
      "metadata": {
        "id": "85D8fxrDdE1B"
      }
    },
    {
      "cell_type": "code",
      "source": [
        "# Let's compare our model's results using a pandas DataFrame\n",
        "import pandas as pd\n",
        "\n",
        "model_results = [[\"model_1\", mae_1.numpy(), mse_1.numpy()],\n",
        "                 [\"model_2\", mae_2.numpy(), mse_2.numpy()],\n",
        "                 [\"model_3\", mae_3.numpy(), mse_3.numpy()]]\n",
        "\n",
        "all_results = pd.DataFrame(model_results, columns=[\"model\", \"mae\", \"mse\"])\n",
        "all_results"
      ],
      "metadata": {
        "colab": {
          "base_uri": "https://localhost:8080/",
          "height": 143
        },
        "id": "yt9NbolbcmBq",
        "outputId": "f445b043-00d8-40e6-c232-5ae795dee279"
      },
      "execution_count": 148,
      "outputs": [
        {
          "output_type": "execute_result",
          "data": {
            "text/plain": [
              "     model        mae          mse\n",
              "0  model_1   8.643931    81.238403\n",
              "1  model_2  11.028124   129.695328\n",
              "2  model_3  67.290977  4610.904785"
            ],
            "text/html": [
              "\n",
              "  <div id=\"df-9c77097b-b0f0-4868-a32d-6f5b8d0569cc\" class=\"colab-df-container\">\n",
              "    <div>\n",
              "<style scoped>\n",
              "    .dataframe tbody tr th:only-of-type {\n",
              "        vertical-align: middle;\n",
              "    }\n",
              "\n",
              "    .dataframe tbody tr th {\n",
              "        vertical-align: top;\n",
              "    }\n",
              "\n",
              "    .dataframe thead th {\n",
              "        text-align: right;\n",
              "    }\n",
              "</style>\n",
              "<table border=\"1\" class=\"dataframe\">\n",
              "  <thead>\n",
              "    <tr style=\"text-align: right;\">\n",
              "      <th></th>\n",
              "      <th>model</th>\n",
              "      <th>mae</th>\n",
              "      <th>mse</th>\n",
              "    </tr>\n",
              "  </thead>\n",
              "  <tbody>\n",
              "    <tr>\n",
              "      <th>0</th>\n",
              "      <td>model_1</td>\n",
              "      <td>8.643931</td>\n",
              "      <td>81.238403</td>\n",
              "    </tr>\n",
              "    <tr>\n",
              "      <th>1</th>\n",
              "      <td>model_2</td>\n",
              "      <td>11.028124</td>\n",
              "      <td>129.695328</td>\n",
              "    </tr>\n",
              "    <tr>\n",
              "      <th>2</th>\n",
              "      <td>model_3</td>\n",
              "      <td>67.290977</td>\n",
              "      <td>4610.904785</td>\n",
              "    </tr>\n",
              "  </tbody>\n",
              "</table>\n",
              "</div>\n",
              "    <div class=\"colab-df-buttons\">\n",
              "\n",
              "  <div class=\"colab-df-container\">\n",
              "    <button class=\"colab-df-convert\" onclick=\"convertToInteractive('df-9c77097b-b0f0-4868-a32d-6f5b8d0569cc')\"\n",
              "            title=\"Convert this dataframe to an interactive table.\"\n",
              "            style=\"display:none;\">\n",
              "\n",
              "  <svg xmlns=\"http://www.w3.org/2000/svg\" height=\"24px\" viewBox=\"0 -960 960 960\">\n",
              "    <path d=\"M120-120v-720h720v720H120Zm60-500h600v-160H180v160Zm220 220h160v-160H400v160Zm0 220h160v-160H400v160ZM180-400h160v-160H180v160Zm440 0h160v-160H620v160ZM180-180h160v-160H180v160Zm440 0h160v-160H620v160Z\"/>\n",
              "  </svg>\n",
              "    </button>\n",
              "\n",
              "  <style>\n",
              "    .colab-df-container {\n",
              "      display:flex;\n",
              "      gap: 12px;\n",
              "    }\n",
              "\n",
              "    .colab-df-convert {\n",
              "      background-color: #E8F0FE;\n",
              "      border: none;\n",
              "      border-radius: 50%;\n",
              "      cursor: pointer;\n",
              "      display: none;\n",
              "      fill: #1967D2;\n",
              "      height: 32px;\n",
              "      padding: 0 0 0 0;\n",
              "      width: 32px;\n",
              "    }\n",
              "\n",
              "    .colab-df-convert:hover {\n",
              "      background-color: #E2EBFA;\n",
              "      box-shadow: 0px 1px 2px rgba(60, 64, 67, 0.3), 0px 1px 3px 1px rgba(60, 64, 67, 0.15);\n",
              "      fill: #174EA6;\n",
              "    }\n",
              "\n",
              "    .colab-df-buttons div {\n",
              "      margin-bottom: 4px;\n",
              "    }\n",
              "\n",
              "    [theme=dark] .colab-df-convert {\n",
              "      background-color: #3B4455;\n",
              "      fill: #D2E3FC;\n",
              "    }\n",
              "\n",
              "    [theme=dark] .colab-df-convert:hover {\n",
              "      background-color: #434B5C;\n",
              "      box-shadow: 0px 1px 3px 1px rgba(0, 0, 0, 0.15);\n",
              "      filter: drop-shadow(0px 1px 2px rgba(0, 0, 0, 0.3));\n",
              "      fill: #FFFFFF;\n",
              "    }\n",
              "  </style>\n",
              "\n",
              "    <script>\n",
              "      const buttonEl =\n",
              "        document.querySelector('#df-9c77097b-b0f0-4868-a32d-6f5b8d0569cc button.colab-df-convert');\n",
              "      buttonEl.style.display =\n",
              "        google.colab.kernel.accessAllowed ? 'block' : 'none';\n",
              "\n",
              "      async function convertToInteractive(key) {\n",
              "        const element = document.querySelector('#df-9c77097b-b0f0-4868-a32d-6f5b8d0569cc');\n",
              "        const dataTable =\n",
              "          await google.colab.kernel.invokeFunction('convertToInteractive',\n",
              "                                                    [key], {});\n",
              "        if (!dataTable) return;\n",
              "\n",
              "        const docLinkHtml = 'Like what you see? Visit the ' +\n",
              "          '<a target=\"_blank\" href=https://colab.research.google.com/notebooks/data_table.ipynb>data table notebook</a>'\n",
              "          + ' to learn more about interactive tables.';\n",
              "        element.innerHTML = '';\n",
              "        dataTable['output_type'] = 'display_data';\n",
              "        await google.colab.output.renderOutput(dataTable, element);\n",
              "        const docLink = document.createElement('div');\n",
              "        docLink.innerHTML = docLinkHtml;\n",
              "        element.appendChild(docLink);\n",
              "      }\n",
              "    </script>\n",
              "  </div>\n",
              "\n",
              "\n",
              "<div id=\"df-12018cc4-f4df-4158-8107-40f89ef12102\">\n",
              "  <button class=\"colab-df-quickchart\" onclick=\"quickchart('df-12018cc4-f4df-4158-8107-40f89ef12102')\"\n",
              "            title=\"Suggest charts\"\n",
              "            style=\"display:none;\">\n",
              "\n",
              "<svg xmlns=\"http://www.w3.org/2000/svg\" height=\"24px\"viewBox=\"0 0 24 24\"\n",
              "     width=\"24px\">\n",
              "    <g>\n",
              "        <path d=\"M19 3H5c-1.1 0-2 .9-2 2v14c0 1.1.9 2 2 2h14c1.1 0 2-.9 2-2V5c0-1.1-.9-2-2-2zM9 17H7v-7h2v7zm4 0h-2V7h2v10zm4 0h-2v-4h2v4z\"/>\n",
              "    </g>\n",
              "</svg>\n",
              "  </button>\n",
              "\n",
              "<style>\n",
              "  .colab-df-quickchart {\n",
              "      --bg-color: #E8F0FE;\n",
              "      --fill-color: #1967D2;\n",
              "      --hover-bg-color: #E2EBFA;\n",
              "      --hover-fill-color: #174EA6;\n",
              "      --disabled-fill-color: #AAA;\n",
              "      --disabled-bg-color: #DDD;\n",
              "  }\n",
              "\n",
              "  [theme=dark] .colab-df-quickchart {\n",
              "      --bg-color: #3B4455;\n",
              "      --fill-color: #D2E3FC;\n",
              "      --hover-bg-color: #434B5C;\n",
              "      --hover-fill-color: #FFFFFF;\n",
              "      --disabled-bg-color: #3B4455;\n",
              "      --disabled-fill-color: #666;\n",
              "  }\n",
              "\n",
              "  .colab-df-quickchart {\n",
              "    background-color: var(--bg-color);\n",
              "    border: none;\n",
              "    border-radius: 50%;\n",
              "    cursor: pointer;\n",
              "    display: none;\n",
              "    fill: var(--fill-color);\n",
              "    height: 32px;\n",
              "    padding: 0;\n",
              "    width: 32px;\n",
              "  }\n",
              "\n",
              "  .colab-df-quickchart:hover {\n",
              "    background-color: var(--hover-bg-color);\n",
              "    box-shadow: 0 1px 2px rgba(60, 64, 67, 0.3), 0 1px 3px 1px rgba(60, 64, 67, 0.15);\n",
              "    fill: var(--button-hover-fill-color);\n",
              "  }\n",
              "\n",
              "  .colab-df-quickchart-complete:disabled,\n",
              "  .colab-df-quickchart-complete:disabled:hover {\n",
              "    background-color: var(--disabled-bg-color);\n",
              "    fill: var(--disabled-fill-color);\n",
              "    box-shadow: none;\n",
              "  }\n",
              "\n",
              "  .colab-df-spinner {\n",
              "    border: 2px solid var(--fill-color);\n",
              "    border-color: transparent;\n",
              "    border-bottom-color: var(--fill-color);\n",
              "    animation:\n",
              "      spin 1s steps(1) infinite;\n",
              "  }\n",
              "\n",
              "  @keyframes spin {\n",
              "    0% {\n",
              "      border-color: transparent;\n",
              "      border-bottom-color: var(--fill-color);\n",
              "      border-left-color: var(--fill-color);\n",
              "    }\n",
              "    20% {\n",
              "      border-color: transparent;\n",
              "      border-left-color: var(--fill-color);\n",
              "      border-top-color: var(--fill-color);\n",
              "    }\n",
              "    30% {\n",
              "      border-color: transparent;\n",
              "      border-left-color: var(--fill-color);\n",
              "      border-top-color: var(--fill-color);\n",
              "      border-right-color: var(--fill-color);\n",
              "    }\n",
              "    40% {\n",
              "      border-color: transparent;\n",
              "      border-right-color: var(--fill-color);\n",
              "      border-top-color: var(--fill-color);\n",
              "    }\n",
              "    60% {\n",
              "      border-color: transparent;\n",
              "      border-right-color: var(--fill-color);\n",
              "    }\n",
              "    80% {\n",
              "      border-color: transparent;\n",
              "      border-right-color: var(--fill-color);\n",
              "      border-bottom-color: var(--fill-color);\n",
              "    }\n",
              "    90% {\n",
              "      border-color: transparent;\n",
              "      border-bottom-color: var(--fill-color);\n",
              "    }\n",
              "  }\n",
              "</style>\n",
              "\n",
              "  <script>\n",
              "    async function quickchart(key) {\n",
              "      const quickchartButtonEl =\n",
              "        document.querySelector('#' + key + ' button');\n",
              "      quickchartButtonEl.disabled = true;  // To prevent multiple clicks.\n",
              "      quickchartButtonEl.classList.add('colab-df-spinner');\n",
              "      try {\n",
              "        const charts = await google.colab.kernel.invokeFunction(\n",
              "            'suggestCharts', [key], {});\n",
              "      } catch (error) {\n",
              "        console.error('Error during call to suggestCharts:', error);\n",
              "      }\n",
              "      quickchartButtonEl.classList.remove('colab-df-spinner');\n",
              "      quickchartButtonEl.classList.add('colab-df-quickchart-complete');\n",
              "    }\n",
              "    (() => {\n",
              "      let quickchartButtonEl =\n",
              "        document.querySelector('#df-12018cc4-f4df-4158-8107-40f89ef12102 button');\n",
              "      quickchartButtonEl.style.display =\n",
              "        google.colab.kernel.accessAllowed ? 'block' : 'none';\n",
              "    })();\n",
              "  </script>\n",
              "</div>\n",
              "\n",
              "  <div id=\"id_66886e10-ac31-4959-98d7-9453f69ed715\">\n",
              "    <style>\n",
              "      .colab-df-generate {\n",
              "        background-color: #E8F0FE;\n",
              "        border: none;\n",
              "        border-radius: 50%;\n",
              "        cursor: pointer;\n",
              "        display: none;\n",
              "        fill: #1967D2;\n",
              "        height: 32px;\n",
              "        padding: 0 0 0 0;\n",
              "        width: 32px;\n",
              "      }\n",
              "\n",
              "      .colab-df-generate:hover {\n",
              "        background-color: #E2EBFA;\n",
              "        box-shadow: 0px 1px 2px rgba(60, 64, 67, 0.3), 0px 1px 3px 1px rgba(60, 64, 67, 0.15);\n",
              "        fill: #174EA6;\n",
              "      }\n",
              "\n",
              "      [theme=dark] .colab-df-generate {\n",
              "        background-color: #3B4455;\n",
              "        fill: #D2E3FC;\n",
              "      }\n",
              "\n",
              "      [theme=dark] .colab-df-generate:hover {\n",
              "        background-color: #434B5C;\n",
              "        box-shadow: 0px 1px 3px 1px rgba(0, 0, 0, 0.15);\n",
              "        filter: drop-shadow(0px 1px 2px rgba(0, 0, 0, 0.3));\n",
              "        fill: #FFFFFF;\n",
              "      }\n",
              "    </style>\n",
              "    <button class=\"colab-df-generate\" onclick=\"generateWithVariable('all_results')\"\n",
              "            title=\"Generate code using this dataframe.\"\n",
              "            style=\"display:none;\">\n",
              "\n",
              "  <svg xmlns=\"http://www.w3.org/2000/svg\" height=\"24px\"viewBox=\"0 0 24 24\"\n",
              "       width=\"24px\">\n",
              "    <path d=\"M7,19H8.4L18.45,9,17,7.55,7,17.6ZM5,21V16.75L18.45,3.32a2,2,0,0,1,2.83,0l1.4,1.43a1.91,1.91,0,0,1,.58,1.4,1.91,1.91,0,0,1-.58,1.4L9.25,21ZM18.45,9,17,7.55Zm-12,3A5.31,5.31,0,0,0,4.9,8.1,5.31,5.31,0,0,0,1,6.5,5.31,5.31,0,0,0,4.9,4.9,5.31,5.31,0,0,0,6.5,1,5.31,5.31,0,0,0,8.1,4.9,5.31,5.31,0,0,0,12,6.5,5.46,5.46,0,0,0,6.5,12Z\"/>\n",
              "  </svg>\n",
              "    </button>\n",
              "    <script>\n",
              "      (() => {\n",
              "      const buttonEl =\n",
              "        document.querySelector('#id_66886e10-ac31-4959-98d7-9453f69ed715 button.colab-df-generate');\n",
              "      buttonEl.style.display =\n",
              "        google.colab.kernel.accessAllowed ? 'block' : 'none';\n",
              "\n",
              "      buttonEl.onclick = () => {\n",
              "        google.colab.notebook.generateWithVariable('all_results');\n",
              "      }\n",
              "      })();\n",
              "    </script>\n",
              "  </div>\n",
              "\n",
              "    </div>\n",
              "  </div>\n"
            ]
          },
          "metadata": {},
          "execution_count": 148
        }
      ]
    },
    {
      "cell_type": "markdown",
      "source": [
        "Looks like `model_1` performed the best..."
      ],
      "metadata": {
        "id": "aTmfABtZdb0k"
      }
    },
    {
      "cell_type": "code",
      "source": [
        "model_1.summary()"
      ],
      "metadata": {
        "colab": {
          "base_uri": "https://localhost:8080/"
        },
        "id": "eoF3jpJEdNOn",
        "outputId": "5c745e02-eb6b-4727-af35-f45cf7f7be25"
      },
      "execution_count": 150,
      "outputs": [
        {
          "output_type": "stream",
          "name": "stdout",
          "text": [
            "Model: \"sequential_10\"\n",
            "_________________________________________________________________\n",
            " Layer (type)                Output Shape              Param #   \n",
            "=================================================================\n",
            " dense_11 (Dense)            (None, 1)                 2         \n",
            "                                                                 \n",
            "=================================================================\n",
            "Total params: 2 (8.00 Byte)\n",
            "Trainable params: 2 (8.00 Byte)\n",
            "Non-trainable params: 0 (0.00 Byte)\n",
            "_________________________________________________________________\n"
          ]
        }
      ]
    },
    {
      "cell_type": "markdown",
      "source": [
        "> **Note**: One of your main goals should be to minimize the time between your experiments. The more experiments you do, the more things you'll figure out which don't work and in turn, get closer to figuring out what does work. Remember the machine learning practioner's motto: \"experiment, experiment, experiment\"."
      ],
      "metadata": {
        "id": "_9OfMkQFd6yo"
      }
    },
    {
      "cell_type": "markdown",
      "source": [
        "# Saving our models\n",
        "\n",
        "Saving our models allows us to use them outside of Google Colab (or wherever they were trained) such as in a web application or a mobile app.\n",
        "\n",
        "There are two main formats we can save our model's too:\n",
        "\n",
        "> 1. The SavedModel format\n",
        "\n",
        "> 2. The HDF5 format"
      ],
      "metadata": {
        "id": "BVEPe1_Rxkbf"
      }
    },
    {
      "cell_type": "code",
      "source": [
        "# Save model using the SavedModel format\n",
        "model_1.save(\"best_model_SavedModel_format\")"
      ],
      "metadata": {
        "id": "5LQfo6CVdhWp"
      },
      "execution_count": 151,
      "outputs": []
    },
    {
      "cell_type": "code",
      "source": [
        "# Save model using the HDF5 format\n",
        "model_1.save(\"best_model_HDF5_format.h5\")"
      ],
      "metadata": {
        "colab": {
          "base_uri": "https://localhost:8080/"
        },
        "id": "QjfWfk5tx72U",
        "outputId": "3a6744f2-e626-48cd-bb6d-858c019359af"
      },
      "execution_count": 152,
      "outputs": [
        {
          "output_type": "stream",
          "name": "stderr",
          "text": [
            "/usr/local/lib/python3.10/dist-packages/keras/src/engine/training.py:3103: UserWarning: You are saving your model as an HDF5 file via `model.save()`. This file format is considered legacy. We recommend using instead the native Keras format, e.g. `model.save('my_model.keras')`.\n",
            "  saving_api.save_model(\n"
          ]
        }
      ]
    },
    {
      "cell_type": "markdown",
      "source": [
        "# Loading in a saved model"
      ],
      "metadata": {
        "id": "wZdeDIQfy4Lr"
      }
    },
    {
      "cell_type": "code",
      "source": [
        "# Load in the SavedModel format model\n",
        "loaded_SavedModel_format = tf.keras.models.load_model(\"best_model_SavedModel_format\")\n",
        "loaded_SavedModel_format.summary()"
      ],
      "metadata": {
        "colab": {
          "base_uri": "https://localhost:8080/"
        },
        "id": "SwwDMwQaygJJ",
        "outputId": "2b6cb7ed-a090-40a2-b6ca-cc4cf2f19622"
      },
      "execution_count": 153,
      "outputs": [
        {
          "output_type": "stream",
          "name": "stdout",
          "text": [
            "Model: \"sequential_10\"\n",
            "_________________________________________________________________\n",
            " Layer (type)                Output Shape              Param #   \n",
            "=================================================================\n",
            " dense_11 (Dense)            (None, 1)                 2         \n",
            "                                                                 \n",
            "=================================================================\n",
            "Total params: 2 (8.00 Byte)\n",
            "Trainable params: 2 (8.00 Byte)\n",
            "Non-trainable params: 0 (0.00 Byte)\n",
            "_________________________________________________________________\n"
          ]
        }
      ]
    },
    {
      "cell_type": "code",
      "source": [
        "# Compare model_1 predictions with SavedModel format model predictions\n",
        "model_1_preds = model_1.predict(X_test)\n",
        "loaded_SavedModel_format_preds = loaded_SavedModel_format.predict(X_test)\n",
        "model_1_preds == loaded_SavedModel_format_preds"
      ],
      "metadata": {
        "colab": {
          "base_uri": "https://localhost:8080/"
        },
        "id": "PgXKOQYjzIwf",
        "outputId": "698fe207-9886-431d-a668-68106200db6e"
      },
      "execution_count": 154,
      "outputs": [
        {
          "output_type": "stream",
          "name": "stdout",
          "text": [
            "1/1 [==============================] - 0s 28ms/step\n",
            "1/1 [==============================] - 0s 36ms/step\n"
          ]
        },
        {
          "output_type": "execute_result",
          "data": {
            "text/plain": [
              "array([[ True],\n",
              "       [ True],\n",
              "       [ True],\n",
              "       [ True],\n",
              "       [ True],\n",
              "       [ True],\n",
              "       [ True],\n",
              "       [ True],\n",
              "       [ True],\n",
              "       [ True]])"
            ]
          },
          "metadata": {},
          "execution_count": 154
        }
      ]
    },
    {
      "cell_type": "code",
      "source": [
        "# Compare the MAE of model_1 preds and loaded_SavedModel_preds\n",
        "mae(y_true=y_test, y_pred=model_1_preds) == mae(y_true=y_test, y_pred=loaded_SavedModel_format_preds)"
      ],
      "metadata": {
        "colab": {
          "base_uri": "https://localhost:8080/"
        },
        "id": "UTKwCe3RzdhJ",
        "outputId": "e31bb76c-62d1-4666-af91-109744bc7f1e"
      },
      "execution_count": 156,
      "outputs": [
        {
          "output_type": "execute_result",
          "data": {
            "text/plain": [
              "<tf.Tensor: shape=(), dtype=bool, numpy=True>"
            ]
          },
          "metadata": {},
          "execution_count": 156
        }
      ]
    },
    {
      "cell_type": "code",
      "source": [
        "# Load in a model using the .h5 format\n",
        "loaded_h5_model = tf.keras.models.load_model(\"/content/best_model_HDF5_format.h5\")\n",
        "loaded_h5_model.summary()"
      ],
      "metadata": {
        "colab": {
          "base_uri": "https://localhost:8080/"
        },
        "id": "3z1zxw9EzwnL",
        "outputId": "0f5fb5ea-87a7-406c-ca49-00ec548e80e2"
      },
      "execution_count": 157,
      "outputs": [
        {
          "output_type": "stream",
          "name": "stdout",
          "text": [
            "Model: \"sequential_10\"\n",
            "_________________________________________________________________\n",
            " Layer (type)                Output Shape              Param #   \n",
            "=================================================================\n",
            " dense_11 (Dense)            (None, 1)                 2         \n",
            "                                                                 \n",
            "=================================================================\n",
            "Total params: 2 (8.00 Byte)\n",
            "Trainable params: 2 (8.00 Byte)\n",
            "Non-trainable params: 0 (0.00 Byte)\n",
            "_________________________________________________________________\n"
          ]
        }
      ]
    },
    {
      "cell_type": "code",
      "source": [
        "# Check to see if loaded .h5 model predictions match model_1\n",
        "model_1_preds = model_1.predict(X_test)\n",
        "loaded_h5_model_preds = loaded_h5_model.predict(X_test)\n",
        "model_1_preds == loaded_h5_model_preds"
      ],
      "metadata": {
        "colab": {
          "base_uri": "https://localhost:8080/"
        },
        "id": "XGFooeG_z8bH",
        "outputId": "87350382-5cc3-40e6-f785-6abff774623d"
      },
      "execution_count": 158,
      "outputs": [
        {
          "output_type": "stream",
          "name": "stdout",
          "text": [
            "1/1 [==============================] - 0s 15ms/step\n",
            "1/1 [==============================] - 0s 38ms/step\n"
          ]
        },
        {
          "output_type": "execute_result",
          "data": {
            "text/plain": [
              "array([[ True],\n",
              "       [ True],\n",
              "       [ True],\n",
              "       [ True],\n",
              "       [ True],\n",
              "       [ True],\n",
              "       [ True],\n",
              "       [ True],\n",
              "       [ True],\n",
              "       [ True]])"
            ]
          },
          "metadata": {},
          "execution_count": 158
        }
      ]
    },
    {
      "cell_type": "markdown",
      "source": [
        "# Download a model (or any other file) from Google Colab\n",
        "\n",
        "If you want to download your files from Google Colab:\n",
        "\n",
        "> 1. You can go to the \"files\" tab and right click on the file you're after and click \"download\".\n",
        "\n",
        "> 2. Use code (see the cell below).\n",
        "\n",
        "> 3. Save it to Google Drive by connecting Google Drive and copying it there (see 2nd code cell below)."
      ],
      "metadata": {
        "id": "-0GE3R6j0gCP"
      }
    },
    {
      "cell_type": "code",
      "source": [
        "# Download a file from Google Colab\n",
        "from google.colab import files\n",
        "files.download(\"/content/best_model_HDF5_format.h5\")"
      ],
      "metadata": {
        "colab": {
          "base_uri": "https://localhost:8080/",
          "height": 17
        },
        "id": "zR22K4m00Eda",
        "outputId": "dab6922b-247d-45d3-93c3-6ad068f4b042"
      },
      "execution_count": 159,
      "outputs": [
        {
          "output_type": "display_data",
          "data": {
            "text/plain": [
              "<IPython.core.display.Javascript object>"
            ],
            "application/javascript": [
              "\n",
              "    async function download(id, filename, size) {\n",
              "      if (!google.colab.kernel.accessAllowed) {\n",
              "        return;\n",
              "      }\n",
              "      const div = document.createElement('div');\n",
              "      const label = document.createElement('label');\n",
              "      label.textContent = `Downloading \"${filename}\": `;\n",
              "      div.appendChild(label);\n",
              "      const progress = document.createElement('progress');\n",
              "      progress.max = size;\n",
              "      div.appendChild(progress);\n",
              "      document.body.appendChild(div);\n",
              "\n",
              "      const buffers = [];\n",
              "      let downloaded = 0;\n",
              "\n",
              "      const channel = await google.colab.kernel.comms.open(id);\n",
              "      // Send a message to notify the kernel that we're ready.\n",
              "      channel.send({})\n",
              "\n",
              "      for await (const message of channel.messages) {\n",
              "        // Send a message to notify the kernel that we're ready.\n",
              "        channel.send({})\n",
              "        if (message.buffers) {\n",
              "          for (const buffer of message.buffers) {\n",
              "            buffers.push(buffer);\n",
              "            downloaded += buffer.byteLength;\n",
              "            progress.value = downloaded;\n",
              "          }\n",
              "        }\n",
              "      }\n",
              "      const blob = new Blob(buffers, {type: 'application/binary'});\n",
              "      const a = document.createElement('a');\n",
              "      a.href = window.URL.createObjectURL(blob);\n",
              "      a.download = filename;\n",
              "      div.appendChild(a);\n",
              "      a.click();\n",
              "      div.remove();\n",
              "    }\n",
              "  "
            ]
          },
          "metadata": {}
        },
        {
          "output_type": "display_data",
          "data": {
            "text/plain": [
              "<IPython.core.display.Javascript object>"
            ],
            "application/javascript": [
              "download(\"download_e76b7780-e108-4f76-8632-08777c6774f4\", \"best_model_HDF5_format.h5\", 17600)"
            ]
          },
          "metadata": {}
        }
      ]
    },
    {
      "cell_type": "code",
      "source": [
        "# Save a file from Google Colab to Google Drive (requires mounting Google Drive)\n",
        "!cp /content/best_model_HDF5_format.h5 /content/drive/MyDrive/tensorflow_course"
      ],
      "metadata": {
        "id": "f67x8d8D0zgh"
      },
      "execution_count": 161,
      "outputs": []
    },
    {
      "cell_type": "code",
      "source": [
        "!ls /content/drive/MyDrive/tensorflow_course"
      ],
      "metadata": {
        "colab": {
          "base_uri": "https://localhost:8080/"
        },
        "id": "xGDhHMZx04Oj",
        "outputId": "f27eeed9-aed8-486b-e0ba-b91bb352018e"
      },
      "execution_count": 162,
      "outputs": [
        {
          "output_type": "stream",
          "name": "stdout",
          "text": [
            "/content/drive/MyDrive/tensorflow_course\n"
          ]
        }
      ]
    },
    {
      "cell_type": "markdown",
      "source": [
        "# A larger example"
      ],
      "metadata": {
        "id": "ybXY0_Dh1oCh"
      }
    },
    {
      "cell_type": "code",
      "source": [
        "# Import required libraries\n",
        "import tensorflow as tf\n",
        "import pandas as pd\n",
        "import matplotlib.pyplot as plt"
      ],
      "metadata": {
        "id": "Cu3x3_II069r"
      },
      "execution_count": 163,
      "outputs": []
    },
    {
      "cell_type": "code",
      "source": [
        "# Read in the insurance dataset\n",
        "insurance = pd.read_csv(\"https://raw.githubusercontent.com/stedy/Machine-Learning-with-R-datasets/master/insurance.csv\")\n",
        "insurance"
      ],
      "metadata": {
        "colab": {
          "base_uri": "https://localhost:8080/",
          "height": 424
        },
        "id": "6kuSHzVV2TuJ",
        "outputId": "9fc606cf-9eea-417a-abf3-db207a9bd5c9"
      },
      "execution_count": 165,
      "outputs": [
        {
          "output_type": "execute_result",
          "data": {
            "text/plain": [
              "      age     sex     bmi  children smoker     region      charges\n",
              "0      19  female  27.900         0    yes  southwest  16884.92400\n",
              "1      18    male  33.770         1     no  southeast   1725.55230\n",
              "2      28    male  33.000         3     no  southeast   4449.46200\n",
              "3      33    male  22.705         0     no  northwest  21984.47061\n",
              "4      32    male  28.880         0     no  northwest   3866.85520\n",
              "...   ...     ...     ...       ...    ...        ...          ...\n",
              "1333   50    male  30.970         3     no  northwest  10600.54830\n",
              "1334   18  female  31.920         0     no  northeast   2205.98080\n",
              "1335   18  female  36.850         0     no  southeast   1629.83350\n",
              "1336   21  female  25.800         0     no  southwest   2007.94500\n",
              "1337   61  female  29.070         0    yes  northwest  29141.36030\n",
              "\n",
              "[1338 rows x 7 columns]"
            ],
            "text/html": [
              "\n",
              "  <div id=\"df-8b7f0d9c-d219-4761-bc8f-3a5c7c0c5c55\" class=\"colab-df-container\">\n",
              "    <div>\n",
              "<style scoped>\n",
              "    .dataframe tbody tr th:only-of-type {\n",
              "        vertical-align: middle;\n",
              "    }\n",
              "\n",
              "    .dataframe tbody tr th {\n",
              "        vertical-align: top;\n",
              "    }\n",
              "\n",
              "    .dataframe thead th {\n",
              "        text-align: right;\n",
              "    }\n",
              "</style>\n",
              "<table border=\"1\" class=\"dataframe\">\n",
              "  <thead>\n",
              "    <tr style=\"text-align: right;\">\n",
              "      <th></th>\n",
              "      <th>age</th>\n",
              "      <th>sex</th>\n",
              "      <th>bmi</th>\n",
              "      <th>children</th>\n",
              "      <th>smoker</th>\n",
              "      <th>region</th>\n",
              "      <th>charges</th>\n",
              "    </tr>\n",
              "  </thead>\n",
              "  <tbody>\n",
              "    <tr>\n",
              "      <th>0</th>\n",
              "      <td>19</td>\n",
              "      <td>female</td>\n",
              "      <td>27.900</td>\n",
              "      <td>0</td>\n",
              "      <td>yes</td>\n",
              "      <td>southwest</td>\n",
              "      <td>16884.92400</td>\n",
              "    </tr>\n",
              "    <tr>\n",
              "      <th>1</th>\n",
              "      <td>18</td>\n",
              "      <td>male</td>\n",
              "      <td>33.770</td>\n",
              "      <td>1</td>\n",
              "      <td>no</td>\n",
              "      <td>southeast</td>\n",
              "      <td>1725.55230</td>\n",
              "    </tr>\n",
              "    <tr>\n",
              "      <th>2</th>\n",
              "      <td>28</td>\n",
              "      <td>male</td>\n",
              "      <td>33.000</td>\n",
              "      <td>3</td>\n",
              "      <td>no</td>\n",
              "      <td>southeast</td>\n",
              "      <td>4449.46200</td>\n",
              "    </tr>\n",
              "    <tr>\n",
              "      <th>3</th>\n",
              "      <td>33</td>\n",
              "      <td>male</td>\n",
              "      <td>22.705</td>\n",
              "      <td>0</td>\n",
              "      <td>no</td>\n",
              "      <td>northwest</td>\n",
              "      <td>21984.47061</td>\n",
              "    </tr>\n",
              "    <tr>\n",
              "      <th>4</th>\n",
              "      <td>32</td>\n",
              "      <td>male</td>\n",
              "      <td>28.880</td>\n",
              "      <td>0</td>\n",
              "      <td>no</td>\n",
              "      <td>northwest</td>\n",
              "      <td>3866.85520</td>\n",
              "    </tr>\n",
              "    <tr>\n",
              "      <th>...</th>\n",
              "      <td>...</td>\n",
              "      <td>...</td>\n",
              "      <td>...</td>\n",
              "      <td>...</td>\n",
              "      <td>...</td>\n",
              "      <td>...</td>\n",
              "      <td>...</td>\n",
              "    </tr>\n",
              "    <tr>\n",
              "      <th>1333</th>\n",
              "      <td>50</td>\n",
              "      <td>male</td>\n",
              "      <td>30.970</td>\n",
              "      <td>3</td>\n",
              "      <td>no</td>\n",
              "      <td>northwest</td>\n",
              "      <td>10600.54830</td>\n",
              "    </tr>\n",
              "    <tr>\n",
              "      <th>1334</th>\n",
              "      <td>18</td>\n",
              "      <td>female</td>\n",
              "      <td>31.920</td>\n",
              "      <td>0</td>\n",
              "      <td>no</td>\n",
              "      <td>northeast</td>\n",
              "      <td>2205.98080</td>\n",
              "    </tr>\n",
              "    <tr>\n",
              "      <th>1335</th>\n",
              "      <td>18</td>\n",
              "      <td>female</td>\n",
              "      <td>36.850</td>\n",
              "      <td>0</td>\n",
              "      <td>no</td>\n",
              "      <td>southeast</td>\n",
              "      <td>1629.83350</td>\n",
              "    </tr>\n",
              "    <tr>\n",
              "      <th>1336</th>\n",
              "      <td>21</td>\n",
              "      <td>female</td>\n",
              "      <td>25.800</td>\n",
              "      <td>0</td>\n",
              "      <td>no</td>\n",
              "      <td>southwest</td>\n",
              "      <td>2007.94500</td>\n",
              "    </tr>\n",
              "    <tr>\n",
              "      <th>1337</th>\n",
              "      <td>61</td>\n",
              "      <td>female</td>\n",
              "      <td>29.070</td>\n",
              "      <td>0</td>\n",
              "      <td>yes</td>\n",
              "      <td>northwest</td>\n",
              "      <td>29141.36030</td>\n",
              "    </tr>\n",
              "  </tbody>\n",
              "</table>\n",
              "<p>1338 rows × 7 columns</p>\n",
              "</div>\n",
              "    <div class=\"colab-df-buttons\">\n",
              "\n",
              "  <div class=\"colab-df-container\">\n",
              "    <button class=\"colab-df-convert\" onclick=\"convertToInteractive('df-8b7f0d9c-d219-4761-bc8f-3a5c7c0c5c55')\"\n",
              "            title=\"Convert this dataframe to an interactive table.\"\n",
              "            style=\"display:none;\">\n",
              "\n",
              "  <svg xmlns=\"http://www.w3.org/2000/svg\" height=\"24px\" viewBox=\"0 -960 960 960\">\n",
              "    <path d=\"M120-120v-720h720v720H120Zm60-500h600v-160H180v160Zm220 220h160v-160H400v160Zm0 220h160v-160H400v160ZM180-400h160v-160H180v160Zm440 0h160v-160H620v160ZM180-180h160v-160H180v160Zm440 0h160v-160H620v160Z\"/>\n",
              "  </svg>\n",
              "    </button>\n",
              "\n",
              "  <style>\n",
              "    .colab-df-container {\n",
              "      display:flex;\n",
              "      gap: 12px;\n",
              "    }\n",
              "\n",
              "    .colab-df-convert {\n",
              "      background-color: #E8F0FE;\n",
              "      border: none;\n",
              "      border-radius: 50%;\n",
              "      cursor: pointer;\n",
              "      display: none;\n",
              "      fill: #1967D2;\n",
              "      height: 32px;\n",
              "      padding: 0 0 0 0;\n",
              "      width: 32px;\n",
              "    }\n",
              "\n",
              "    .colab-df-convert:hover {\n",
              "      background-color: #E2EBFA;\n",
              "      box-shadow: 0px 1px 2px rgba(60, 64, 67, 0.3), 0px 1px 3px 1px rgba(60, 64, 67, 0.15);\n",
              "      fill: #174EA6;\n",
              "    }\n",
              "\n",
              "    .colab-df-buttons div {\n",
              "      margin-bottom: 4px;\n",
              "    }\n",
              "\n",
              "    [theme=dark] .colab-df-convert {\n",
              "      background-color: #3B4455;\n",
              "      fill: #D2E3FC;\n",
              "    }\n",
              "\n",
              "    [theme=dark] .colab-df-convert:hover {\n",
              "      background-color: #434B5C;\n",
              "      box-shadow: 0px 1px 3px 1px rgba(0, 0, 0, 0.15);\n",
              "      filter: drop-shadow(0px 1px 2px rgba(0, 0, 0, 0.3));\n",
              "      fill: #FFFFFF;\n",
              "    }\n",
              "  </style>\n",
              "\n",
              "    <script>\n",
              "      const buttonEl =\n",
              "        document.querySelector('#df-8b7f0d9c-d219-4761-bc8f-3a5c7c0c5c55 button.colab-df-convert');\n",
              "      buttonEl.style.display =\n",
              "        google.colab.kernel.accessAllowed ? 'block' : 'none';\n",
              "\n",
              "      async function convertToInteractive(key) {\n",
              "        const element = document.querySelector('#df-8b7f0d9c-d219-4761-bc8f-3a5c7c0c5c55');\n",
              "        const dataTable =\n",
              "          await google.colab.kernel.invokeFunction('convertToInteractive',\n",
              "                                                    [key], {});\n",
              "        if (!dataTable) return;\n",
              "\n",
              "        const docLinkHtml = 'Like what you see? Visit the ' +\n",
              "          '<a target=\"_blank\" href=https://colab.research.google.com/notebooks/data_table.ipynb>data table notebook</a>'\n",
              "          + ' to learn more about interactive tables.';\n",
              "        element.innerHTML = '';\n",
              "        dataTable['output_type'] = 'display_data';\n",
              "        await google.colab.output.renderOutput(dataTable, element);\n",
              "        const docLink = document.createElement('div');\n",
              "        docLink.innerHTML = docLinkHtml;\n",
              "        element.appendChild(docLink);\n",
              "      }\n",
              "    </script>\n",
              "  </div>\n",
              "\n",
              "\n",
              "<div id=\"df-f7a8a80e-eaa1-4256-8d05-2f16f3ee0c5a\">\n",
              "  <button class=\"colab-df-quickchart\" onclick=\"quickchart('df-f7a8a80e-eaa1-4256-8d05-2f16f3ee0c5a')\"\n",
              "            title=\"Suggest charts\"\n",
              "            style=\"display:none;\">\n",
              "\n",
              "<svg xmlns=\"http://www.w3.org/2000/svg\" height=\"24px\"viewBox=\"0 0 24 24\"\n",
              "     width=\"24px\">\n",
              "    <g>\n",
              "        <path d=\"M19 3H5c-1.1 0-2 .9-2 2v14c0 1.1.9 2 2 2h14c1.1 0 2-.9 2-2V5c0-1.1-.9-2-2-2zM9 17H7v-7h2v7zm4 0h-2V7h2v10zm4 0h-2v-4h2v4z\"/>\n",
              "    </g>\n",
              "</svg>\n",
              "  </button>\n",
              "\n",
              "<style>\n",
              "  .colab-df-quickchart {\n",
              "      --bg-color: #E8F0FE;\n",
              "      --fill-color: #1967D2;\n",
              "      --hover-bg-color: #E2EBFA;\n",
              "      --hover-fill-color: #174EA6;\n",
              "      --disabled-fill-color: #AAA;\n",
              "      --disabled-bg-color: #DDD;\n",
              "  }\n",
              "\n",
              "  [theme=dark] .colab-df-quickchart {\n",
              "      --bg-color: #3B4455;\n",
              "      --fill-color: #D2E3FC;\n",
              "      --hover-bg-color: #434B5C;\n",
              "      --hover-fill-color: #FFFFFF;\n",
              "      --disabled-bg-color: #3B4455;\n",
              "      --disabled-fill-color: #666;\n",
              "  }\n",
              "\n",
              "  .colab-df-quickchart {\n",
              "    background-color: var(--bg-color);\n",
              "    border: none;\n",
              "    border-radius: 50%;\n",
              "    cursor: pointer;\n",
              "    display: none;\n",
              "    fill: var(--fill-color);\n",
              "    height: 32px;\n",
              "    padding: 0;\n",
              "    width: 32px;\n",
              "  }\n",
              "\n",
              "  .colab-df-quickchart:hover {\n",
              "    background-color: var(--hover-bg-color);\n",
              "    box-shadow: 0 1px 2px rgba(60, 64, 67, 0.3), 0 1px 3px 1px rgba(60, 64, 67, 0.15);\n",
              "    fill: var(--button-hover-fill-color);\n",
              "  }\n",
              "\n",
              "  .colab-df-quickchart-complete:disabled,\n",
              "  .colab-df-quickchart-complete:disabled:hover {\n",
              "    background-color: var(--disabled-bg-color);\n",
              "    fill: var(--disabled-fill-color);\n",
              "    box-shadow: none;\n",
              "  }\n",
              "\n",
              "  .colab-df-spinner {\n",
              "    border: 2px solid var(--fill-color);\n",
              "    border-color: transparent;\n",
              "    border-bottom-color: var(--fill-color);\n",
              "    animation:\n",
              "      spin 1s steps(1) infinite;\n",
              "  }\n",
              "\n",
              "  @keyframes spin {\n",
              "    0% {\n",
              "      border-color: transparent;\n",
              "      border-bottom-color: var(--fill-color);\n",
              "      border-left-color: var(--fill-color);\n",
              "    }\n",
              "    20% {\n",
              "      border-color: transparent;\n",
              "      border-left-color: var(--fill-color);\n",
              "      border-top-color: var(--fill-color);\n",
              "    }\n",
              "    30% {\n",
              "      border-color: transparent;\n",
              "      border-left-color: var(--fill-color);\n",
              "      border-top-color: var(--fill-color);\n",
              "      border-right-color: var(--fill-color);\n",
              "    }\n",
              "    40% {\n",
              "      border-color: transparent;\n",
              "      border-right-color: var(--fill-color);\n",
              "      border-top-color: var(--fill-color);\n",
              "    }\n",
              "    60% {\n",
              "      border-color: transparent;\n",
              "      border-right-color: var(--fill-color);\n",
              "    }\n",
              "    80% {\n",
              "      border-color: transparent;\n",
              "      border-right-color: var(--fill-color);\n",
              "      border-bottom-color: var(--fill-color);\n",
              "    }\n",
              "    90% {\n",
              "      border-color: transparent;\n",
              "      border-bottom-color: var(--fill-color);\n",
              "    }\n",
              "  }\n",
              "</style>\n",
              "\n",
              "  <script>\n",
              "    async function quickchart(key) {\n",
              "      const quickchartButtonEl =\n",
              "        document.querySelector('#' + key + ' button');\n",
              "      quickchartButtonEl.disabled = true;  // To prevent multiple clicks.\n",
              "      quickchartButtonEl.classList.add('colab-df-spinner');\n",
              "      try {\n",
              "        const charts = await google.colab.kernel.invokeFunction(\n",
              "            'suggestCharts', [key], {});\n",
              "      } catch (error) {\n",
              "        console.error('Error during call to suggestCharts:', error);\n",
              "      }\n",
              "      quickchartButtonEl.classList.remove('colab-df-spinner');\n",
              "      quickchartButtonEl.classList.add('colab-df-quickchart-complete');\n",
              "    }\n",
              "    (() => {\n",
              "      let quickchartButtonEl =\n",
              "        document.querySelector('#df-f7a8a80e-eaa1-4256-8d05-2f16f3ee0c5a button');\n",
              "      quickchartButtonEl.style.display =\n",
              "        google.colab.kernel.accessAllowed ? 'block' : 'none';\n",
              "    })();\n",
              "  </script>\n",
              "</div>\n",
              "\n",
              "  <div id=\"id_67f5973e-f526-4163-bf05-7d6e8b57cff5\">\n",
              "    <style>\n",
              "      .colab-df-generate {\n",
              "        background-color: #E8F0FE;\n",
              "        border: none;\n",
              "        border-radius: 50%;\n",
              "        cursor: pointer;\n",
              "        display: none;\n",
              "        fill: #1967D2;\n",
              "        height: 32px;\n",
              "        padding: 0 0 0 0;\n",
              "        width: 32px;\n",
              "      }\n",
              "\n",
              "      .colab-df-generate:hover {\n",
              "        background-color: #E2EBFA;\n",
              "        box-shadow: 0px 1px 2px rgba(60, 64, 67, 0.3), 0px 1px 3px 1px rgba(60, 64, 67, 0.15);\n",
              "        fill: #174EA6;\n",
              "      }\n",
              "\n",
              "      [theme=dark] .colab-df-generate {\n",
              "        background-color: #3B4455;\n",
              "        fill: #D2E3FC;\n",
              "      }\n",
              "\n",
              "      [theme=dark] .colab-df-generate:hover {\n",
              "        background-color: #434B5C;\n",
              "        box-shadow: 0px 1px 3px 1px rgba(0, 0, 0, 0.15);\n",
              "        filter: drop-shadow(0px 1px 2px rgba(0, 0, 0, 0.3));\n",
              "        fill: #FFFFFF;\n",
              "      }\n",
              "    </style>\n",
              "    <button class=\"colab-df-generate\" onclick=\"generateWithVariable('insurance')\"\n",
              "            title=\"Generate code using this dataframe.\"\n",
              "            style=\"display:none;\">\n",
              "\n",
              "  <svg xmlns=\"http://www.w3.org/2000/svg\" height=\"24px\"viewBox=\"0 0 24 24\"\n",
              "       width=\"24px\">\n",
              "    <path d=\"M7,19H8.4L18.45,9,17,7.55,7,17.6ZM5,21V16.75L18.45,3.32a2,2,0,0,1,2.83,0l1.4,1.43a1.91,1.91,0,0,1,.58,1.4,1.91,1.91,0,0,1-.58,1.4L9.25,21ZM18.45,9,17,7.55Zm-12,3A5.31,5.31,0,0,0,4.9,8.1,5.31,5.31,0,0,0,1,6.5,5.31,5.31,0,0,0,4.9,4.9,5.31,5.31,0,0,0,6.5,1,5.31,5.31,0,0,0,8.1,4.9,5.31,5.31,0,0,0,12,6.5,5.46,5.46,0,0,0,6.5,12Z\"/>\n",
              "  </svg>\n",
              "    </button>\n",
              "    <script>\n",
              "      (() => {\n",
              "      const buttonEl =\n",
              "        document.querySelector('#id_67f5973e-f526-4163-bf05-7d6e8b57cff5 button.colab-df-generate');\n",
              "      buttonEl.style.display =\n",
              "        google.colab.kernel.accessAllowed ? 'block' : 'none';\n",
              "\n",
              "      buttonEl.onclick = () => {\n",
              "        google.colab.notebook.generateWithVariable('insurance');\n",
              "      }\n",
              "      })();\n",
              "    </script>\n",
              "  </div>\n",
              "\n",
              "    </div>\n",
              "  </div>\n"
            ]
          },
          "metadata": {},
          "execution_count": 165
        }
      ]
    },
    {
      "cell_type": "code",
      "source": [
        "insurance[\"sex\"], insurance[\"smoker\"], insurance[\"age\"]"
      ],
      "metadata": {
        "colab": {
          "base_uri": "https://localhost:8080/"
        },
        "id": "Xj2oaXaU2aVN",
        "outputId": "644c4e91-0002-41ac-fe26-336620205959"
      },
      "execution_count": 167,
      "outputs": [
        {
          "output_type": "execute_result",
          "data": {
            "text/plain": [
              "(0       female\n",
              " 1         male\n",
              " 2         male\n",
              " 3         male\n",
              " 4         male\n",
              "          ...  \n",
              " 1333      male\n",
              " 1334    female\n",
              " 1335    female\n",
              " 1336    female\n",
              " 1337    female\n",
              " Name: sex, Length: 1338, dtype: object,\n",
              " 0       yes\n",
              " 1        no\n",
              " 2        no\n",
              " 3        no\n",
              " 4        no\n",
              "        ... \n",
              " 1333     no\n",
              " 1334     no\n",
              " 1335     no\n",
              " 1336     no\n",
              " 1337    yes\n",
              " Name: smoker, Length: 1338, dtype: object,\n",
              " 0       19\n",
              " 1       18\n",
              " 2       28\n",
              " 3       33\n",
              " 4       32\n",
              "         ..\n",
              " 1333    50\n",
              " 1334    18\n",
              " 1335    18\n",
              " 1336    21\n",
              " 1337    61\n",
              " Name: age, Length: 1338, dtype: int64)"
            ]
          },
          "metadata": {},
          "execution_count": 167
        }
      ]
    },
    {
      "cell_type": "code",
      "source": [
        "# Let's try one-hot encode our DataFrame so it's all numbers\n",
        "insurance_one_hot = pd.get_dummies(insurance)\n",
        "insurance_one_hot.head()"
      ],
      "metadata": {
        "colab": {
          "base_uri": "https://localhost:8080/",
          "height": 226
        },
        "id": "3CP8li7p23cy",
        "outputId": "b7d9f26e-96ce-4823-904c-a3c9cc681191"
      },
      "execution_count": 169,
      "outputs": [
        {
          "output_type": "execute_result",
          "data": {
            "text/plain": [
              "   age     bmi  children      charges  sex_female  sex_male  smoker_no  \\\n",
              "0   19  27.900         0  16884.92400           1         0          0   \n",
              "1   18  33.770         1   1725.55230           0         1          1   \n",
              "2   28  33.000         3   4449.46200           0         1          1   \n",
              "3   33  22.705         0  21984.47061           0         1          1   \n",
              "4   32  28.880         0   3866.85520           0         1          1   \n",
              "\n",
              "   smoker_yes  region_northeast  region_northwest  region_southeast  \\\n",
              "0           1                 0                 0                 0   \n",
              "1           0                 0                 0                 1   \n",
              "2           0                 0                 0                 1   \n",
              "3           0                 0                 1                 0   \n",
              "4           0                 0                 1                 0   \n",
              "\n",
              "   region_southwest  \n",
              "0                 1  \n",
              "1                 0  \n",
              "2                 0  \n",
              "3                 0  \n",
              "4                 0  "
            ],
            "text/html": [
              "\n",
              "  <div id=\"df-ffa6dcec-0abd-49ee-8477-7695487123a6\" class=\"colab-df-container\">\n",
              "    <div>\n",
              "<style scoped>\n",
              "    .dataframe tbody tr th:only-of-type {\n",
              "        vertical-align: middle;\n",
              "    }\n",
              "\n",
              "    .dataframe tbody tr th {\n",
              "        vertical-align: top;\n",
              "    }\n",
              "\n",
              "    .dataframe thead th {\n",
              "        text-align: right;\n",
              "    }\n",
              "</style>\n",
              "<table border=\"1\" class=\"dataframe\">\n",
              "  <thead>\n",
              "    <tr style=\"text-align: right;\">\n",
              "      <th></th>\n",
              "      <th>age</th>\n",
              "      <th>bmi</th>\n",
              "      <th>children</th>\n",
              "      <th>charges</th>\n",
              "      <th>sex_female</th>\n",
              "      <th>sex_male</th>\n",
              "      <th>smoker_no</th>\n",
              "      <th>smoker_yes</th>\n",
              "      <th>region_northeast</th>\n",
              "      <th>region_northwest</th>\n",
              "      <th>region_southeast</th>\n",
              "      <th>region_southwest</th>\n",
              "    </tr>\n",
              "  </thead>\n",
              "  <tbody>\n",
              "    <tr>\n",
              "      <th>0</th>\n",
              "      <td>19</td>\n",
              "      <td>27.900</td>\n",
              "      <td>0</td>\n",
              "      <td>16884.92400</td>\n",
              "      <td>1</td>\n",
              "      <td>0</td>\n",
              "      <td>0</td>\n",
              "      <td>1</td>\n",
              "      <td>0</td>\n",
              "      <td>0</td>\n",
              "      <td>0</td>\n",
              "      <td>1</td>\n",
              "    </tr>\n",
              "    <tr>\n",
              "      <th>1</th>\n",
              "      <td>18</td>\n",
              "      <td>33.770</td>\n",
              "      <td>1</td>\n",
              "      <td>1725.55230</td>\n",
              "      <td>0</td>\n",
              "      <td>1</td>\n",
              "      <td>1</td>\n",
              "      <td>0</td>\n",
              "      <td>0</td>\n",
              "      <td>0</td>\n",
              "      <td>1</td>\n",
              "      <td>0</td>\n",
              "    </tr>\n",
              "    <tr>\n",
              "      <th>2</th>\n",
              "      <td>28</td>\n",
              "      <td>33.000</td>\n",
              "      <td>3</td>\n",
              "      <td>4449.46200</td>\n",
              "      <td>0</td>\n",
              "      <td>1</td>\n",
              "      <td>1</td>\n",
              "      <td>0</td>\n",
              "      <td>0</td>\n",
              "      <td>0</td>\n",
              "      <td>1</td>\n",
              "      <td>0</td>\n",
              "    </tr>\n",
              "    <tr>\n",
              "      <th>3</th>\n",
              "      <td>33</td>\n",
              "      <td>22.705</td>\n",
              "      <td>0</td>\n",
              "      <td>21984.47061</td>\n",
              "      <td>0</td>\n",
              "      <td>1</td>\n",
              "      <td>1</td>\n",
              "      <td>0</td>\n",
              "      <td>0</td>\n",
              "      <td>1</td>\n",
              "      <td>0</td>\n",
              "      <td>0</td>\n",
              "    </tr>\n",
              "    <tr>\n",
              "      <th>4</th>\n",
              "      <td>32</td>\n",
              "      <td>28.880</td>\n",
              "      <td>0</td>\n",
              "      <td>3866.85520</td>\n",
              "      <td>0</td>\n",
              "      <td>1</td>\n",
              "      <td>1</td>\n",
              "      <td>0</td>\n",
              "      <td>0</td>\n",
              "      <td>1</td>\n",
              "      <td>0</td>\n",
              "      <td>0</td>\n",
              "    </tr>\n",
              "  </tbody>\n",
              "</table>\n",
              "</div>\n",
              "    <div class=\"colab-df-buttons\">\n",
              "\n",
              "  <div class=\"colab-df-container\">\n",
              "    <button class=\"colab-df-convert\" onclick=\"convertToInteractive('df-ffa6dcec-0abd-49ee-8477-7695487123a6')\"\n",
              "            title=\"Convert this dataframe to an interactive table.\"\n",
              "            style=\"display:none;\">\n",
              "\n",
              "  <svg xmlns=\"http://www.w3.org/2000/svg\" height=\"24px\" viewBox=\"0 -960 960 960\">\n",
              "    <path d=\"M120-120v-720h720v720H120Zm60-500h600v-160H180v160Zm220 220h160v-160H400v160Zm0 220h160v-160H400v160ZM180-400h160v-160H180v160Zm440 0h160v-160H620v160ZM180-180h160v-160H180v160Zm440 0h160v-160H620v160Z\"/>\n",
              "  </svg>\n",
              "    </button>\n",
              "\n",
              "  <style>\n",
              "    .colab-df-container {\n",
              "      display:flex;\n",
              "      gap: 12px;\n",
              "    }\n",
              "\n",
              "    .colab-df-convert {\n",
              "      background-color: #E8F0FE;\n",
              "      border: none;\n",
              "      border-radius: 50%;\n",
              "      cursor: pointer;\n",
              "      display: none;\n",
              "      fill: #1967D2;\n",
              "      height: 32px;\n",
              "      padding: 0 0 0 0;\n",
              "      width: 32px;\n",
              "    }\n",
              "\n",
              "    .colab-df-convert:hover {\n",
              "      background-color: #E2EBFA;\n",
              "      box-shadow: 0px 1px 2px rgba(60, 64, 67, 0.3), 0px 1px 3px 1px rgba(60, 64, 67, 0.15);\n",
              "      fill: #174EA6;\n",
              "    }\n",
              "\n",
              "    .colab-df-buttons div {\n",
              "      margin-bottom: 4px;\n",
              "    }\n",
              "\n",
              "    [theme=dark] .colab-df-convert {\n",
              "      background-color: #3B4455;\n",
              "      fill: #D2E3FC;\n",
              "    }\n",
              "\n",
              "    [theme=dark] .colab-df-convert:hover {\n",
              "      background-color: #434B5C;\n",
              "      box-shadow: 0px 1px 3px 1px rgba(0, 0, 0, 0.15);\n",
              "      filter: drop-shadow(0px 1px 2px rgba(0, 0, 0, 0.3));\n",
              "      fill: #FFFFFF;\n",
              "    }\n",
              "  </style>\n",
              "\n",
              "    <script>\n",
              "      const buttonEl =\n",
              "        document.querySelector('#df-ffa6dcec-0abd-49ee-8477-7695487123a6 button.colab-df-convert');\n",
              "      buttonEl.style.display =\n",
              "        google.colab.kernel.accessAllowed ? 'block' : 'none';\n",
              "\n",
              "      async function convertToInteractive(key) {\n",
              "        const element = document.querySelector('#df-ffa6dcec-0abd-49ee-8477-7695487123a6');\n",
              "        const dataTable =\n",
              "          await google.colab.kernel.invokeFunction('convertToInteractive',\n",
              "                                                    [key], {});\n",
              "        if (!dataTable) return;\n",
              "\n",
              "        const docLinkHtml = 'Like what you see? Visit the ' +\n",
              "          '<a target=\"_blank\" href=https://colab.research.google.com/notebooks/data_table.ipynb>data table notebook</a>'\n",
              "          + ' to learn more about interactive tables.';\n",
              "        element.innerHTML = '';\n",
              "        dataTable['output_type'] = 'display_data';\n",
              "        await google.colab.output.renderOutput(dataTable, element);\n",
              "        const docLink = document.createElement('div');\n",
              "        docLink.innerHTML = docLinkHtml;\n",
              "        element.appendChild(docLink);\n",
              "      }\n",
              "    </script>\n",
              "  </div>\n",
              "\n",
              "\n",
              "<div id=\"df-58f0bb76-5963-4823-b36f-571a453f3ecc\">\n",
              "  <button class=\"colab-df-quickchart\" onclick=\"quickchart('df-58f0bb76-5963-4823-b36f-571a453f3ecc')\"\n",
              "            title=\"Suggest charts\"\n",
              "            style=\"display:none;\">\n",
              "\n",
              "<svg xmlns=\"http://www.w3.org/2000/svg\" height=\"24px\"viewBox=\"0 0 24 24\"\n",
              "     width=\"24px\">\n",
              "    <g>\n",
              "        <path d=\"M19 3H5c-1.1 0-2 .9-2 2v14c0 1.1.9 2 2 2h14c1.1 0 2-.9 2-2V5c0-1.1-.9-2-2-2zM9 17H7v-7h2v7zm4 0h-2V7h2v10zm4 0h-2v-4h2v4z\"/>\n",
              "    </g>\n",
              "</svg>\n",
              "  </button>\n",
              "\n",
              "<style>\n",
              "  .colab-df-quickchart {\n",
              "      --bg-color: #E8F0FE;\n",
              "      --fill-color: #1967D2;\n",
              "      --hover-bg-color: #E2EBFA;\n",
              "      --hover-fill-color: #174EA6;\n",
              "      --disabled-fill-color: #AAA;\n",
              "      --disabled-bg-color: #DDD;\n",
              "  }\n",
              "\n",
              "  [theme=dark] .colab-df-quickchart {\n",
              "      --bg-color: #3B4455;\n",
              "      --fill-color: #D2E3FC;\n",
              "      --hover-bg-color: #434B5C;\n",
              "      --hover-fill-color: #FFFFFF;\n",
              "      --disabled-bg-color: #3B4455;\n",
              "      --disabled-fill-color: #666;\n",
              "  }\n",
              "\n",
              "  .colab-df-quickchart {\n",
              "    background-color: var(--bg-color);\n",
              "    border: none;\n",
              "    border-radius: 50%;\n",
              "    cursor: pointer;\n",
              "    display: none;\n",
              "    fill: var(--fill-color);\n",
              "    height: 32px;\n",
              "    padding: 0;\n",
              "    width: 32px;\n",
              "  }\n",
              "\n",
              "  .colab-df-quickchart:hover {\n",
              "    background-color: var(--hover-bg-color);\n",
              "    box-shadow: 0 1px 2px rgba(60, 64, 67, 0.3), 0 1px 3px 1px rgba(60, 64, 67, 0.15);\n",
              "    fill: var(--button-hover-fill-color);\n",
              "  }\n",
              "\n",
              "  .colab-df-quickchart-complete:disabled,\n",
              "  .colab-df-quickchart-complete:disabled:hover {\n",
              "    background-color: var(--disabled-bg-color);\n",
              "    fill: var(--disabled-fill-color);\n",
              "    box-shadow: none;\n",
              "  }\n",
              "\n",
              "  .colab-df-spinner {\n",
              "    border: 2px solid var(--fill-color);\n",
              "    border-color: transparent;\n",
              "    border-bottom-color: var(--fill-color);\n",
              "    animation:\n",
              "      spin 1s steps(1) infinite;\n",
              "  }\n",
              "\n",
              "  @keyframes spin {\n",
              "    0% {\n",
              "      border-color: transparent;\n",
              "      border-bottom-color: var(--fill-color);\n",
              "      border-left-color: var(--fill-color);\n",
              "    }\n",
              "    20% {\n",
              "      border-color: transparent;\n",
              "      border-left-color: var(--fill-color);\n",
              "      border-top-color: var(--fill-color);\n",
              "    }\n",
              "    30% {\n",
              "      border-color: transparent;\n",
              "      border-left-color: var(--fill-color);\n",
              "      border-top-color: var(--fill-color);\n",
              "      border-right-color: var(--fill-color);\n",
              "    }\n",
              "    40% {\n",
              "      border-color: transparent;\n",
              "      border-right-color: var(--fill-color);\n",
              "      border-top-color: var(--fill-color);\n",
              "    }\n",
              "    60% {\n",
              "      border-color: transparent;\n",
              "      border-right-color: var(--fill-color);\n",
              "    }\n",
              "    80% {\n",
              "      border-color: transparent;\n",
              "      border-right-color: var(--fill-color);\n",
              "      border-bottom-color: var(--fill-color);\n",
              "    }\n",
              "    90% {\n",
              "      border-color: transparent;\n",
              "      border-bottom-color: var(--fill-color);\n",
              "    }\n",
              "  }\n",
              "</style>\n",
              "\n",
              "  <script>\n",
              "    async function quickchart(key) {\n",
              "      const quickchartButtonEl =\n",
              "        document.querySelector('#' + key + ' button');\n",
              "      quickchartButtonEl.disabled = true;  // To prevent multiple clicks.\n",
              "      quickchartButtonEl.classList.add('colab-df-spinner');\n",
              "      try {\n",
              "        const charts = await google.colab.kernel.invokeFunction(\n",
              "            'suggestCharts', [key], {});\n",
              "      } catch (error) {\n",
              "        console.error('Error during call to suggestCharts:', error);\n",
              "      }\n",
              "      quickchartButtonEl.classList.remove('colab-df-spinner');\n",
              "      quickchartButtonEl.classList.add('colab-df-quickchart-complete');\n",
              "    }\n",
              "    (() => {\n",
              "      let quickchartButtonEl =\n",
              "        document.querySelector('#df-58f0bb76-5963-4823-b36f-571a453f3ecc button');\n",
              "      quickchartButtonEl.style.display =\n",
              "        google.colab.kernel.accessAllowed ? 'block' : 'none';\n",
              "    })();\n",
              "  </script>\n",
              "</div>\n",
              "\n",
              "    </div>\n",
              "  </div>\n"
            ]
          },
          "metadata": {},
          "execution_count": 169
        }
      ]
    },
    {
      "cell_type": "code",
      "source": [
        "# Create X & y values (features and labels)\n",
        "X = insurance_one_hot.drop(\"charges\", axis=1)\n",
        "y = insurance_one_hot[\"charges\"]"
      ],
      "metadata": {
        "id": "CaUuYv3238EX"
      },
      "execution_count": 170,
      "outputs": []
    },
    {
      "cell_type": "code",
      "source": [
        "# View X\n",
        "X.head()"
      ],
      "metadata": {
        "colab": {
          "base_uri": "https://localhost:8080/",
          "height": 226
        },
        "id": "XIYzhb344qiq",
        "outputId": "b996feda-01e2-4d98-9683-79cd44f2c64e"
      },
      "execution_count": 171,
      "outputs": [
        {
          "output_type": "execute_result",
          "data": {
            "text/plain": [
              "   age     bmi  children  sex_female  sex_male  smoker_no  smoker_yes  \\\n",
              "0   19  27.900         0           1         0          0           1   \n",
              "1   18  33.770         1           0         1          1           0   \n",
              "2   28  33.000         3           0         1          1           0   \n",
              "3   33  22.705         0           0         1          1           0   \n",
              "4   32  28.880         0           0         1          1           0   \n",
              "\n",
              "   region_northeast  region_northwest  region_southeast  region_southwest  \n",
              "0                 0                 0                 0                 1  \n",
              "1                 0                 0                 1                 0  \n",
              "2                 0                 0                 1                 0  \n",
              "3                 0                 1                 0                 0  \n",
              "4                 0                 1                 0                 0  "
            ],
            "text/html": [
              "\n",
              "  <div id=\"df-17d069f0-2415-49f7-bc55-49decc42be5c\" class=\"colab-df-container\">\n",
              "    <div>\n",
              "<style scoped>\n",
              "    .dataframe tbody tr th:only-of-type {\n",
              "        vertical-align: middle;\n",
              "    }\n",
              "\n",
              "    .dataframe tbody tr th {\n",
              "        vertical-align: top;\n",
              "    }\n",
              "\n",
              "    .dataframe thead th {\n",
              "        text-align: right;\n",
              "    }\n",
              "</style>\n",
              "<table border=\"1\" class=\"dataframe\">\n",
              "  <thead>\n",
              "    <tr style=\"text-align: right;\">\n",
              "      <th></th>\n",
              "      <th>age</th>\n",
              "      <th>bmi</th>\n",
              "      <th>children</th>\n",
              "      <th>sex_female</th>\n",
              "      <th>sex_male</th>\n",
              "      <th>smoker_no</th>\n",
              "      <th>smoker_yes</th>\n",
              "      <th>region_northeast</th>\n",
              "      <th>region_northwest</th>\n",
              "      <th>region_southeast</th>\n",
              "      <th>region_southwest</th>\n",
              "    </tr>\n",
              "  </thead>\n",
              "  <tbody>\n",
              "    <tr>\n",
              "      <th>0</th>\n",
              "      <td>19</td>\n",
              "      <td>27.900</td>\n",
              "      <td>0</td>\n",
              "      <td>1</td>\n",
              "      <td>0</td>\n",
              "      <td>0</td>\n",
              "      <td>1</td>\n",
              "      <td>0</td>\n",
              "      <td>0</td>\n",
              "      <td>0</td>\n",
              "      <td>1</td>\n",
              "    </tr>\n",
              "    <tr>\n",
              "      <th>1</th>\n",
              "      <td>18</td>\n",
              "      <td>33.770</td>\n",
              "      <td>1</td>\n",
              "      <td>0</td>\n",
              "      <td>1</td>\n",
              "      <td>1</td>\n",
              "      <td>0</td>\n",
              "      <td>0</td>\n",
              "      <td>0</td>\n",
              "      <td>1</td>\n",
              "      <td>0</td>\n",
              "    </tr>\n",
              "    <tr>\n",
              "      <th>2</th>\n",
              "      <td>28</td>\n",
              "      <td>33.000</td>\n",
              "      <td>3</td>\n",
              "      <td>0</td>\n",
              "      <td>1</td>\n",
              "      <td>1</td>\n",
              "      <td>0</td>\n",
              "      <td>0</td>\n",
              "      <td>0</td>\n",
              "      <td>1</td>\n",
              "      <td>0</td>\n",
              "    </tr>\n",
              "    <tr>\n",
              "      <th>3</th>\n",
              "      <td>33</td>\n",
              "      <td>22.705</td>\n",
              "      <td>0</td>\n",
              "      <td>0</td>\n",
              "      <td>1</td>\n",
              "      <td>1</td>\n",
              "      <td>0</td>\n",
              "      <td>0</td>\n",
              "      <td>1</td>\n",
              "      <td>0</td>\n",
              "      <td>0</td>\n",
              "    </tr>\n",
              "    <tr>\n",
              "      <th>4</th>\n",
              "      <td>32</td>\n",
              "      <td>28.880</td>\n",
              "      <td>0</td>\n",
              "      <td>0</td>\n",
              "      <td>1</td>\n",
              "      <td>1</td>\n",
              "      <td>0</td>\n",
              "      <td>0</td>\n",
              "      <td>1</td>\n",
              "      <td>0</td>\n",
              "      <td>0</td>\n",
              "    </tr>\n",
              "  </tbody>\n",
              "</table>\n",
              "</div>\n",
              "    <div class=\"colab-df-buttons\">\n",
              "\n",
              "  <div class=\"colab-df-container\">\n",
              "    <button class=\"colab-df-convert\" onclick=\"convertToInteractive('df-17d069f0-2415-49f7-bc55-49decc42be5c')\"\n",
              "            title=\"Convert this dataframe to an interactive table.\"\n",
              "            style=\"display:none;\">\n",
              "\n",
              "  <svg xmlns=\"http://www.w3.org/2000/svg\" height=\"24px\" viewBox=\"0 -960 960 960\">\n",
              "    <path d=\"M120-120v-720h720v720H120Zm60-500h600v-160H180v160Zm220 220h160v-160H400v160Zm0 220h160v-160H400v160ZM180-400h160v-160H180v160Zm440 0h160v-160H620v160ZM180-180h160v-160H180v160Zm440 0h160v-160H620v160Z\"/>\n",
              "  </svg>\n",
              "    </button>\n",
              "\n",
              "  <style>\n",
              "    .colab-df-container {\n",
              "      display:flex;\n",
              "      gap: 12px;\n",
              "    }\n",
              "\n",
              "    .colab-df-convert {\n",
              "      background-color: #E8F0FE;\n",
              "      border: none;\n",
              "      border-radius: 50%;\n",
              "      cursor: pointer;\n",
              "      display: none;\n",
              "      fill: #1967D2;\n",
              "      height: 32px;\n",
              "      padding: 0 0 0 0;\n",
              "      width: 32px;\n",
              "    }\n",
              "\n",
              "    .colab-df-convert:hover {\n",
              "      background-color: #E2EBFA;\n",
              "      box-shadow: 0px 1px 2px rgba(60, 64, 67, 0.3), 0px 1px 3px 1px rgba(60, 64, 67, 0.15);\n",
              "      fill: #174EA6;\n",
              "    }\n",
              "\n",
              "    .colab-df-buttons div {\n",
              "      margin-bottom: 4px;\n",
              "    }\n",
              "\n",
              "    [theme=dark] .colab-df-convert {\n",
              "      background-color: #3B4455;\n",
              "      fill: #D2E3FC;\n",
              "    }\n",
              "\n",
              "    [theme=dark] .colab-df-convert:hover {\n",
              "      background-color: #434B5C;\n",
              "      box-shadow: 0px 1px 3px 1px rgba(0, 0, 0, 0.15);\n",
              "      filter: drop-shadow(0px 1px 2px rgba(0, 0, 0, 0.3));\n",
              "      fill: #FFFFFF;\n",
              "    }\n",
              "  </style>\n",
              "\n",
              "    <script>\n",
              "      const buttonEl =\n",
              "        document.querySelector('#df-17d069f0-2415-49f7-bc55-49decc42be5c button.colab-df-convert');\n",
              "      buttonEl.style.display =\n",
              "        google.colab.kernel.accessAllowed ? 'block' : 'none';\n",
              "\n",
              "      async function convertToInteractive(key) {\n",
              "        const element = document.querySelector('#df-17d069f0-2415-49f7-bc55-49decc42be5c');\n",
              "        const dataTable =\n",
              "          await google.colab.kernel.invokeFunction('convertToInteractive',\n",
              "                                                    [key], {});\n",
              "        if (!dataTable) return;\n",
              "\n",
              "        const docLinkHtml = 'Like what you see? Visit the ' +\n",
              "          '<a target=\"_blank\" href=https://colab.research.google.com/notebooks/data_table.ipynb>data table notebook</a>'\n",
              "          + ' to learn more about interactive tables.';\n",
              "        element.innerHTML = '';\n",
              "        dataTable['output_type'] = 'display_data';\n",
              "        await google.colab.output.renderOutput(dataTable, element);\n",
              "        const docLink = document.createElement('div');\n",
              "        docLink.innerHTML = docLinkHtml;\n",
              "        element.appendChild(docLink);\n",
              "      }\n",
              "    </script>\n",
              "  </div>\n",
              "\n",
              "\n",
              "<div id=\"df-f1126689-05d9-431a-ba32-8715363c10d3\">\n",
              "  <button class=\"colab-df-quickchart\" onclick=\"quickchart('df-f1126689-05d9-431a-ba32-8715363c10d3')\"\n",
              "            title=\"Suggest charts\"\n",
              "            style=\"display:none;\">\n",
              "\n",
              "<svg xmlns=\"http://www.w3.org/2000/svg\" height=\"24px\"viewBox=\"0 0 24 24\"\n",
              "     width=\"24px\">\n",
              "    <g>\n",
              "        <path d=\"M19 3H5c-1.1 0-2 .9-2 2v14c0 1.1.9 2 2 2h14c1.1 0 2-.9 2-2V5c0-1.1-.9-2-2-2zM9 17H7v-7h2v7zm4 0h-2V7h2v10zm4 0h-2v-4h2v4z\"/>\n",
              "    </g>\n",
              "</svg>\n",
              "  </button>\n",
              "\n",
              "<style>\n",
              "  .colab-df-quickchart {\n",
              "      --bg-color: #E8F0FE;\n",
              "      --fill-color: #1967D2;\n",
              "      --hover-bg-color: #E2EBFA;\n",
              "      --hover-fill-color: #174EA6;\n",
              "      --disabled-fill-color: #AAA;\n",
              "      --disabled-bg-color: #DDD;\n",
              "  }\n",
              "\n",
              "  [theme=dark] .colab-df-quickchart {\n",
              "      --bg-color: #3B4455;\n",
              "      --fill-color: #D2E3FC;\n",
              "      --hover-bg-color: #434B5C;\n",
              "      --hover-fill-color: #FFFFFF;\n",
              "      --disabled-bg-color: #3B4455;\n",
              "      --disabled-fill-color: #666;\n",
              "  }\n",
              "\n",
              "  .colab-df-quickchart {\n",
              "    background-color: var(--bg-color);\n",
              "    border: none;\n",
              "    border-radius: 50%;\n",
              "    cursor: pointer;\n",
              "    display: none;\n",
              "    fill: var(--fill-color);\n",
              "    height: 32px;\n",
              "    padding: 0;\n",
              "    width: 32px;\n",
              "  }\n",
              "\n",
              "  .colab-df-quickchart:hover {\n",
              "    background-color: var(--hover-bg-color);\n",
              "    box-shadow: 0 1px 2px rgba(60, 64, 67, 0.3), 0 1px 3px 1px rgba(60, 64, 67, 0.15);\n",
              "    fill: var(--button-hover-fill-color);\n",
              "  }\n",
              "\n",
              "  .colab-df-quickchart-complete:disabled,\n",
              "  .colab-df-quickchart-complete:disabled:hover {\n",
              "    background-color: var(--disabled-bg-color);\n",
              "    fill: var(--disabled-fill-color);\n",
              "    box-shadow: none;\n",
              "  }\n",
              "\n",
              "  .colab-df-spinner {\n",
              "    border: 2px solid var(--fill-color);\n",
              "    border-color: transparent;\n",
              "    border-bottom-color: var(--fill-color);\n",
              "    animation:\n",
              "      spin 1s steps(1) infinite;\n",
              "  }\n",
              "\n",
              "  @keyframes spin {\n",
              "    0% {\n",
              "      border-color: transparent;\n",
              "      border-bottom-color: var(--fill-color);\n",
              "      border-left-color: var(--fill-color);\n",
              "    }\n",
              "    20% {\n",
              "      border-color: transparent;\n",
              "      border-left-color: var(--fill-color);\n",
              "      border-top-color: var(--fill-color);\n",
              "    }\n",
              "    30% {\n",
              "      border-color: transparent;\n",
              "      border-left-color: var(--fill-color);\n",
              "      border-top-color: var(--fill-color);\n",
              "      border-right-color: var(--fill-color);\n",
              "    }\n",
              "    40% {\n",
              "      border-color: transparent;\n",
              "      border-right-color: var(--fill-color);\n",
              "      border-top-color: var(--fill-color);\n",
              "    }\n",
              "    60% {\n",
              "      border-color: transparent;\n",
              "      border-right-color: var(--fill-color);\n",
              "    }\n",
              "    80% {\n",
              "      border-color: transparent;\n",
              "      border-right-color: var(--fill-color);\n",
              "      border-bottom-color: var(--fill-color);\n",
              "    }\n",
              "    90% {\n",
              "      border-color: transparent;\n",
              "      border-bottom-color: var(--fill-color);\n",
              "    }\n",
              "  }\n",
              "</style>\n",
              "\n",
              "  <script>\n",
              "    async function quickchart(key) {\n",
              "      const quickchartButtonEl =\n",
              "        document.querySelector('#' + key + ' button');\n",
              "      quickchartButtonEl.disabled = true;  // To prevent multiple clicks.\n",
              "      quickchartButtonEl.classList.add('colab-df-spinner');\n",
              "      try {\n",
              "        const charts = await google.colab.kernel.invokeFunction(\n",
              "            'suggestCharts', [key], {});\n",
              "      } catch (error) {\n",
              "        console.error('Error during call to suggestCharts:', error);\n",
              "      }\n",
              "      quickchartButtonEl.classList.remove('colab-df-spinner');\n",
              "      quickchartButtonEl.classList.add('colab-df-quickchart-complete');\n",
              "    }\n",
              "    (() => {\n",
              "      let quickchartButtonEl =\n",
              "        document.querySelector('#df-f1126689-05d9-431a-ba32-8715363c10d3 button');\n",
              "      quickchartButtonEl.style.display =\n",
              "        google.colab.kernel.accessAllowed ? 'block' : 'none';\n",
              "    })();\n",
              "  </script>\n",
              "</div>\n",
              "\n",
              "    </div>\n",
              "  </div>\n"
            ]
          },
          "metadata": {},
          "execution_count": 171
        }
      ]
    },
    {
      "cell_type": "code",
      "source": [
        "# View y\n",
        "y.head()"
      ],
      "metadata": {
        "colab": {
          "base_uri": "https://localhost:8080/"
        },
        "id": "bmZQQFcY4wyc",
        "outputId": "2190b269-2df0-4459-ada3-22d8fab10f73"
      },
      "execution_count": 172,
      "outputs": [
        {
          "output_type": "execute_result",
          "data": {
            "text/plain": [
              "0    16884.92400\n",
              "1     1725.55230\n",
              "2     4449.46200\n",
              "3    21984.47061\n",
              "4     3866.85520\n",
              "Name: charges, dtype: float64"
            ]
          },
          "metadata": {},
          "execution_count": 172
        }
      ]
    },
    {
      "cell_type": "code",
      "source": [
        "# Create training and test sets\n",
        "from sklearn.model_selection import train_test_split\n",
        "X_train, X_test, y_train, y_test = train_test_split(X, y, test_size=0.2, random_state=42)\n",
        "len(X), len(X_train), len(X_test)"
      ],
      "metadata": {
        "colab": {
          "base_uri": "https://localhost:8080/"
        },
        "id": "2QJNyPI94TTk",
        "outputId": "d75668a7-b1d4-460e-e4cf-915bf3c1d676"
      },
      "execution_count": 173,
      "outputs": [
        {
          "output_type": "execute_result",
          "data": {
            "text/plain": [
              "(1338, 1070, 268)"
            ]
          },
          "metadata": {},
          "execution_count": 173
        }
      ]
    },
    {
      "cell_type": "code",
      "source": [
        "# Build a neural network\n",
        "tf.random.set_seed(42)\n",
        "\n",
        "# 1. Create a model\n",
        "insurance_model = tf.keras.Sequential([\n",
        "    tf.keras.layers.Dense(10),\n",
        "    tf.keras.layers.Dense(1)\n",
        "])\n",
        "\n",
        "# 2. Compile the model\n",
        "insurance_model.compile(loss=tf.keras.losses.mae,\n",
        "                        optimizer=tf.keras.optimizers.SGD(),\n",
        "                        metrics=[\"mae\"])\n",
        "\n",
        "# 3. Fit the model\n",
        "insurance_model.fit(X_train, y_train, epochs=100)"
      ],
      "metadata": {
        "colab": {
          "base_uri": "https://localhost:8080/"
        },
        "id": "BHlJSDP94Z3r",
        "outputId": "780a0bea-29dd-4acf-ebe2-67ff598e390e"
      },
      "execution_count": 176,
      "outputs": [
        {
          "output_type": "stream",
          "name": "stdout",
          "text": [
            "Epoch 1/100\n",
            "34/34 [==============================] - 0s 1ms/step - loss: 8652.5898 - mae: 8652.5898\n",
            "Epoch 2/100\n",
            "34/34 [==============================] - 0s 1ms/step - loss: 7884.6777 - mae: 7884.6777\n",
            "Epoch 3/100\n",
            "34/34 [==============================] - 0s 1ms/step - loss: 7573.4214 - mae: 7573.4214\n",
            "Epoch 4/100\n",
            "34/34 [==============================] - 0s 1ms/step - loss: 7668.5278 - mae: 7668.5278\n",
            "Epoch 5/100\n",
            "34/34 [==============================] - 0s 1ms/step - loss: 7827.7217 - mae: 7827.7217\n",
            "Epoch 6/100\n",
            "34/34 [==============================] - 0s 1ms/step - loss: 7630.1313 - mae: 7630.1313\n",
            "Epoch 7/100\n",
            "34/34 [==============================] - 0s 1ms/step - loss: 7560.4937 - mae: 7560.4937\n",
            "Epoch 8/100\n",
            "34/34 [==============================] - 0s 1ms/step - loss: 7800.4995 - mae: 7800.4995\n",
            "Epoch 9/100\n",
            "34/34 [==============================] - 0s 1ms/step - loss: 7606.1143 - mae: 7606.1143\n",
            "Epoch 10/100\n",
            "34/34 [==============================] - 0s 1ms/step - loss: 7711.1978 - mae: 7711.1978\n",
            "Epoch 11/100\n",
            "34/34 [==============================] - 0s 1ms/step - loss: 7532.7075 - mae: 7532.7075\n",
            "Epoch 12/100\n",
            "34/34 [==============================] - 0s 1ms/step - loss: 7677.1724 - mae: 7677.1724\n",
            "Epoch 13/100\n",
            "34/34 [==============================] - 0s 1ms/step - loss: 7696.6450 - mae: 7696.6450\n",
            "Epoch 14/100\n",
            "34/34 [==============================] - 0s 1ms/step - loss: 7662.5610 - mae: 7662.5610\n",
            "Epoch 15/100\n",
            "34/34 [==============================] - 0s 2ms/step - loss: 7576.8662 - mae: 7576.8662\n",
            "Epoch 16/100\n",
            "34/34 [==============================] - 0s 2ms/step - loss: 7690.0972 - mae: 7690.0972\n",
            "Epoch 17/100\n",
            "34/34 [==============================] - 0s 2ms/step - loss: 7565.6143 - mae: 7565.6143\n",
            "Epoch 18/100\n",
            "34/34 [==============================] - 0s 2ms/step - loss: 7810.5767 - mae: 7810.5767\n",
            "Epoch 19/100\n",
            "34/34 [==============================] - 0s 1ms/step - loss: 7643.7139 - mae: 7643.7139\n",
            "Epoch 20/100\n",
            "34/34 [==============================] - 0s 2ms/step - loss: 7867.3516 - mae: 7867.3516\n",
            "Epoch 21/100\n",
            "34/34 [==============================] - 0s 2ms/step - loss: 7484.7300 - mae: 7484.7300\n",
            "Epoch 22/100\n",
            "34/34 [==============================] - 0s 2ms/step - loss: 7846.3271 - mae: 7846.3271\n",
            "Epoch 23/100\n",
            "34/34 [==============================] - 0s 2ms/step - loss: 7645.2280 - mae: 7645.2280\n",
            "Epoch 24/100\n",
            "34/34 [==============================] - 0s 2ms/step - loss: 7522.9683 - mae: 7522.9683\n",
            "Epoch 25/100\n",
            "34/34 [==============================] - 0s 2ms/step - loss: 7614.1377 - mae: 7614.1377\n",
            "Epoch 26/100\n",
            "34/34 [==============================] - 0s 2ms/step - loss: 7626.7651 - mae: 7626.7651\n",
            "Epoch 27/100\n",
            "34/34 [==============================] - 0s 2ms/step - loss: 7697.3911 - mae: 7697.3911\n",
            "Epoch 28/100\n",
            "34/34 [==============================] - 0s 2ms/step - loss: 7526.1821 - mae: 7526.1821\n",
            "Epoch 29/100\n",
            "34/34 [==============================] - 0s 2ms/step - loss: 7633.5659 - mae: 7633.5659\n",
            "Epoch 30/100\n",
            "34/34 [==============================] - 0s 2ms/step - loss: 7436.9487 - mae: 7436.9487\n",
            "Epoch 31/100\n",
            "34/34 [==============================] - 0s 2ms/step - loss: 7613.8345 - mae: 7613.8345\n",
            "Epoch 32/100\n",
            "34/34 [==============================] - 0s 2ms/step - loss: 7208.9658 - mae: 7208.9658\n",
            "Epoch 33/100\n",
            "34/34 [==============================] - 0s 2ms/step - loss: 7492.8418 - mae: 7492.8418\n",
            "Epoch 34/100\n",
            "34/34 [==============================] - 0s 2ms/step - loss: 7461.9419 - mae: 7461.9419\n",
            "Epoch 35/100\n",
            "34/34 [==============================] - 0s 2ms/step - loss: 7542.6362 - mae: 7542.6362\n",
            "Epoch 36/100\n",
            "34/34 [==============================] - 0s 2ms/step - loss: 7582.4951 - mae: 7582.4951\n",
            "Epoch 37/100\n",
            "34/34 [==============================] - 0s 2ms/step - loss: 7688.7012 - mae: 7688.7012\n",
            "Epoch 38/100\n",
            "34/34 [==============================] - 0s 2ms/step - loss: 7639.8413 - mae: 7639.8413\n",
            "Epoch 39/100\n",
            "34/34 [==============================] - 0s 2ms/step - loss: 7531.1685 - mae: 7531.1685\n",
            "Epoch 40/100\n",
            "34/34 [==============================] - 0s 2ms/step - loss: 7368.7446 - mae: 7368.7446\n",
            "Epoch 41/100\n",
            "34/34 [==============================] - 0s 2ms/step - loss: 7596.3677 - mae: 7596.3677\n",
            "Epoch 42/100\n",
            "34/34 [==============================] - 0s 2ms/step - loss: 7358.4780 - mae: 7358.4780\n",
            "Epoch 43/100\n",
            "34/34 [==============================] - 0s 1ms/step - loss: 7585.4502 - mae: 7585.4502\n",
            "Epoch 44/100\n",
            "34/34 [==============================] - 0s 2ms/step - loss: 7420.0234 - mae: 7420.0234\n",
            "Epoch 45/100\n",
            "34/34 [==============================] - 0s 2ms/step - loss: 7462.7222 - mae: 7462.7222\n",
            "Epoch 46/100\n",
            "34/34 [==============================] - 0s 2ms/step - loss: 7345.4292 - mae: 7345.4292\n",
            "Epoch 47/100\n",
            "34/34 [==============================] - 0s 2ms/step - loss: 7370.2339 - mae: 7370.2339\n",
            "Epoch 48/100\n",
            "34/34 [==============================] - 0s 2ms/step - loss: 7656.1606 - mae: 7656.1606\n",
            "Epoch 49/100\n",
            "34/34 [==============================] - 0s 2ms/step - loss: 7274.5723 - mae: 7274.5723\n",
            "Epoch 50/100\n",
            "34/34 [==============================] - 0s 2ms/step - loss: 7496.6226 - mae: 7496.6226\n",
            "Epoch 51/100\n",
            "34/34 [==============================] - 0s 2ms/step - loss: 7341.2954 - mae: 7341.2954\n",
            "Epoch 52/100\n",
            "34/34 [==============================] - 0s 2ms/step - loss: 7549.0654 - mae: 7549.0654\n",
            "Epoch 53/100\n",
            "34/34 [==============================] - 0s 1ms/step - loss: 7588.5859 - mae: 7588.5859\n",
            "Epoch 54/100\n",
            "34/34 [==============================] - 0s 1ms/step - loss: 7257.4707 - mae: 7257.4707\n",
            "Epoch 55/100\n",
            "34/34 [==============================] - 0s 1ms/step - loss: 7308.2197 - mae: 7308.2197\n",
            "Epoch 56/100\n",
            "34/34 [==============================] - 0s 1ms/step - loss: 7355.2256 - mae: 7355.2256\n",
            "Epoch 57/100\n",
            "34/34 [==============================] - 0s 1ms/step - loss: 7499.3496 - mae: 7499.3496\n",
            "Epoch 58/100\n",
            "34/34 [==============================] - 0s 1ms/step - loss: 7548.3125 - mae: 7548.3125\n",
            "Epoch 59/100\n",
            "34/34 [==============================] - 0s 1ms/step - loss: 7523.2695 - mae: 7523.2695\n",
            "Epoch 60/100\n",
            "34/34 [==============================] - 0s 1ms/step - loss: 7477.2759 - mae: 7477.2759\n",
            "Epoch 61/100\n",
            "34/34 [==============================] - 0s 1ms/step - loss: 7488.2646 - mae: 7488.2646\n",
            "Epoch 62/100\n",
            "34/34 [==============================] - 0s 1ms/step - loss: 7496.5688 - mae: 7496.5688\n",
            "Epoch 63/100\n",
            "34/34 [==============================] - 0s 1ms/step - loss: 7323.6812 - mae: 7323.6812\n",
            "Epoch 64/100\n",
            "34/34 [==============================] - 0s 1ms/step - loss: 7324.7866 - mae: 7324.7866\n",
            "Epoch 65/100\n",
            "34/34 [==============================] - 0s 1ms/step - loss: 7387.8901 - mae: 7387.8901\n",
            "Epoch 66/100\n",
            "34/34 [==============================] - 0s 1ms/step - loss: 7409.4009 - mae: 7409.4009\n",
            "Epoch 67/100\n",
            "34/34 [==============================] - 0s 1ms/step - loss: 7317.9883 - mae: 7317.9883\n",
            "Epoch 68/100\n",
            "34/34 [==============================] - 0s 1ms/step - loss: 7429.6250 - mae: 7429.6250\n",
            "Epoch 69/100\n",
            "34/34 [==============================] - 0s 1ms/step - loss: 7424.7339 - mae: 7424.7339\n",
            "Epoch 70/100\n",
            "34/34 [==============================] - 0s 1ms/step - loss: 7683.8457 - mae: 7683.8457\n",
            "Epoch 71/100\n",
            "34/34 [==============================] - 0s 1ms/step - loss: 7140.9844 - mae: 7140.9844\n",
            "Epoch 72/100\n",
            "34/34 [==============================] - 0s 1ms/step - loss: 7323.8794 - mae: 7323.8794\n",
            "Epoch 73/100\n",
            "34/34 [==============================] - 0s 1ms/step - loss: 7346.4912 - mae: 7346.4912\n",
            "Epoch 74/100\n",
            "34/34 [==============================] - 0s 1ms/step - loss: 7507.3608 - mae: 7507.3608\n",
            "Epoch 75/100\n",
            "34/34 [==============================] - 0s 1ms/step - loss: 7265.4985 - mae: 7265.4985\n",
            "Epoch 76/100\n",
            "34/34 [==============================] - 0s 1ms/step - loss: 7418.4609 - mae: 7418.4609\n",
            "Epoch 77/100\n",
            "34/34 [==============================] - 0s 1ms/step - loss: 7405.6333 - mae: 7405.6333\n",
            "Epoch 78/100\n",
            "34/34 [==============================] - 0s 1ms/step - loss: 7231.0239 - mae: 7231.0239\n",
            "Epoch 79/100\n",
            "34/34 [==============================] - 0s 1ms/step - loss: 7053.6597 - mae: 7053.6597\n",
            "Epoch 80/100\n",
            "34/34 [==============================] - 0s 1ms/step - loss: 7274.1973 - mae: 7274.1973\n",
            "Epoch 81/100\n",
            "34/34 [==============================] - 0s 1ms/step - loss: 7209.5103 - mae: 7209.5103\n",
            "Epoch 82/100\n",
            "34/34 [==============================] - 0s 1ms/step - loss: 7202.7930 - mae: 7202.7930\n",
            "Epoch 83/100\n",
            "34/34 [==============================] - 0s 2ms/step - loss: 7489.6626 - mae: 7489.6626\n",
            "Epoch 84/100\n",
            "34/34 [==============================] - 0s 1ms/step - loss: 7237.8696 - mae: 7237.8696\n",
            "Epoch 85/100\n",
            "34/34 [==============================] - 0s 1ms/step - loss: 7396.4272 - mae: 7396.4272\n",
            "Epoch 86/100\n",
            "34/34 [==============================] - 0s 1ms/step - loss: 7595.3584 - mae: 7595.3584\n",
            "Epoch 87/100\n",
            "34/34 [==============================] - 0s 1ms/step - loss: 7342.3140 - mae: 7342.3140\n",
            "Epoch 88/100\n",
            "34/34 [==============================] - 0s 1ms/step - loss: 7288.1577 - mae: 7288.1577\n",
            "Epoch 89/100\n",
            "34/34 [==============================] - 0s 1ms/step - loss: 7449.0376 - mae: 7449.0376\n",
            "Epoch 90/100\n",
            "34/34 [==============================] - 0s 1ms/step - loss: 7171.0254 - mae: 7171.0254\n",
            "Epoch 91/100\n",
            "34/34 [==============================] - 0s 1ms/step - loss: 7246.5825 - mae: 7246.5825\n",
            "Epoch 92/100\n",
            "34/34 [==============================] - 0s 1ms/step - loss: 7264.3794 - mae: 7264.3794\n",
            "Epoch 93/100\n",
            "34/34 [==============================] - 0s 1ms/step - loss: 7465.2637 - mae: 7465.2637\n",
            "Epoch 94/100\n",
            "34/34 [==============================] - 0s 1ms/step - loss: 7270.1567 - mae: 7270.1567\n",
            "Epoch 95/100\n",
            "34/34 [==============================] - 0s 1ms/step - loss: 7541.7988 - mae: 7541.7988\n",
            "Epoch 96/100\n",
            "34/34 [==============================] - 0s 1ms/step - loss: 7262.1626 - mae: 7262.1626\n",
            "Epoch 97/100\n",
            "34/34 [==============================] - 0s 1ms/step - loss: 7194.3682 - mae: 7194.3682\n",
            "Epoch 98/100\n",
            "34/34 [==============================] - 0s 1ms/step - loss: 7332.9185 - mae: 7332.9185\n",
            "Epoch 99/100\n",
            "34/34 [==============================] - 0s 1ms/step - loss: 7437.6670 - mae: 7437.6670\n",
            "Epoch 100/100\n",
            "34/34 [==============================] - 0s 1ms/step - loss: 7074.3892 - mae: 7074.3892\n"
          ]
        },
        {
          "output_type": "execute_result",
          "data": {
            "text/plain": [
              "<keras.src.callbacks.History at 0x7f91faed6920>"
            ]
          },
          "metadata": {},
          "execution_count": 176
        }
      ]
    },
    {
      "cell_type": "code",
      "source": [
        "# Check the results of the insurance model on the test data\n",
        "insurance_model.evaluate(X_test, y_test)"
      ],
      "metadata": {
        "colab": {
          "base_uri": "https://localhost:8080/"
        },
        "id": "IlxZfcBq6cE4",
        "outputId": "ef8cc074-a9f4-4e47-eb4f-f3d37f4452fd"
      },
      "execution_count": 177,
      "outputs": [
        {
          "output_type": "stream",
          "name": "stdout",
          "text": [
            "9/9 [==============================] - 0s 2ms/step - loss: 8746.2480 - mae: 8746.2480\n"
          ]
        },
        {
          "output_type": "execute_result",
          "data": {
            "text/plain": [
              "[8746.248046875, 8746.248046875]"
            ]
          },
          "metadata": {},
          "execution_count": 177
        }
      ]
    },
    {
      "cell_type": "code",
      "source": [
        "y_train.median(), y_train.mean()"
      ],
      "metadata": {
        "colab": {
          "base_uri": "https://localhost:8080/"
        },
        "id": "YgVVYUJY6-N6",
        "outputId": "2241698c-ee9e-4e67-e018-d624e3c22282"
      },
      "execution_count": 178,
      "outputs": [
        {
          "output_type": "execute_result",
          "data": {
            "text/plain": [
              "(9575.4421, 13346.089736364485)"
            ]
          },
          "metadata": {},
          "execution_count": 178
        }
      ]
    },
    {
      "cell_type": "markdown",
      "source": [
        "Right now it looks like our model isn't performing too well... let's try and improve it!\n",
        "\n",
        "To (try) improve our model, we'll run 2 experiments:\n",
        "\n",
        "1. Add an extra layer with more hidden units and use the Adam optimizer\n",
        "2.Same as above but train for longer (200 epochs)"
      ],
      "metadata": {
        "id": "TiiIEDVf7kUc"
      }
    },
    {
      "cell_type": "code",
      "source": [
        "# Build a neural network\n",
        "tf.random.set_seed(42)\n",
        "\n",
        "# 1. Create a model\n",
        "insurance_model_2 = tf.keras.Sequential([\n",
        "    tf.keras.layers.Dense(100),\n",
        "    tf.keras.layers.Dense(10),\n",
        "    tf.keras.layers.Dense(1)\n",
        "])\n",
        "\n",
        "# 2. Compile the model\n",
        "insurance_model_2.compile(loss=tf.keras.losses.mae,\n",
        "                        optimizer=tf.keras.optimizers.Adam(),\n",
        "                        metrics=[\"mae\"])\n",
        "\n",
        "# 3. Fit the model\n",
        "insurance_model_2.fit(X_train, y_train, epochs=100)"
      ],
      "metadata": {
        "colab": {
          "base_uri": "https://localhost:8080/"
        },
        "id": "TdPoXExt7E1F",
        "outputId": "dc33b92a-99f3-4e1f-d09b-2fa214026c3d"
      },
      "execution_count": 180,
      "outputs": [
        {
          "output_type": "stream",
          "name": "stdout",
          "text": [
            "Epoch 1/100\n",
            "34/34 [==============================] - 1s 1ms/step - loss: 13308.8623 - mae: 13308.8623\n",
            "Epoch 2/100\n",
            "34/34 [==============================] - 0s 1ms/step - loss: 13173.1475 - mae: 13173.1475\n",
            "Epoch 3/100\n",
            "34/34 [==============================] - 0s 1ms/step - loss: 12877.7793 - mae: 12877.7793\n",
            "Epoch 4/100\n",
            "34/34 [==============================] - 0s 1ms/step - loss: 12268.1729 - mae: 12268.1729\n",
            "Epoch 5/100\n",
            "34/34 [==============================] - 0s 1ms/step - loss: 11203.1904 - mae: 11203.1904\n",
            "Epoch 6/100\n",
            "34/34 [==============================] - 0s 1ms/step - loss: 9764.3291 - mae: 9764.3291\n",
            "Epoch 7/100\n",
            "34/34 [==============================] - 0s 2ms/step - loss: 8363.2812 - mae: 8363.2812\n",
            "Epoch 8/100\n",
            "34/34 [==============================] - 0s 3ms/step - loss: 7605.1133 - mae: 7605.1133\n",
            "Epoch 9/100\n",
            "34/34 [==============================] - 0s 2ms/step - loss: 7454.2788 - mae: 7454.2788\n",
            "Epoch 10/100\n",
            "34/34 [==============================] - 0s 2ms/step - loss: 7431.7959 - mae: 7431.7959\n",
            "Epoch 11/100\n",
            "34/34 [==============================] - 0s 2ms/step - loss: 7413.1270 - mae: 7413.1270\n",
            "Epoch 12/100\n",
            "34/34 [==============================] - 0s 2ms/step - loss: 7391.3540 - mae: 7391.3540\n",
            "Epoch 13/100\n",
            "34/34 [==============================] - 0s 2ms/step - loss: 7371.4658 - mae: 7371.4658\n",
            "Epoch 14/100\n",
            "34/34 [==============================] - 0s 5ms/step - loss: 7349.1577 - mae: 7349.1577\n",
            "Epoch 15/100\n",
            "34/34 [==============================] - 0s 5ms/step - loss: 7330.3096 - mae: 7330.3096\n",
            "Epoch 16/100\n",
            "34/34 [==============================] - 0s 4ms/step - loss: 7308.0601 - mae: 7308.0601\n",
            "Epoch 17/100\n",
            "34/34 [==============================] - 0s 4ms/step - loss: 7288.3486 - mae: 7288.3486\n",
            "Epoch 18/100\n",
            "34/34 [==============================] - 0s 5ms/step - loss: 7265.2959 - mae: 7265.2959\n",
            "Epoch 19/100\n",
            "34/34 [==============================] - 0s 4ms/step - loss: 7243.4907 - mae: 7243.4907\n",
            "Epoch 20/100\n",
            "34/34 [==============================] - 0s 5ms/step - loss: 7220.9565 - mae: 7220.9565\n",
            "Epoch 21/100\n",
            "34/34 [==============================] - 0s 4ms/step - loss: 7202.2378 - mae: 7202.2378\n",
            "Epoch 22/100\n",
            "34/34 [==============================] - 0s 3ms/step - loss: 7175.9907 - mae: 7175.9907\n",
            "Epoch 23/100\n",
            "34/34 [==============================] - 0s 5ms/step - loss: 7151.7661 - mae: 7151.7661\n",
            "Epoch 24/100\n",
            "34/34 [==============================] - 0s 5ms/step - loss: 7127.8232 - mae: 7127.8232\n",
            "Epoch 25/100\n",
            "34/34 [==============================] - 0s 4ms/step - loss: 7110.8916 - mae: 7110.8916\n",
            "Epoch 26/100\n",
            "34/34 [==============================] - 0s 2ms/step - loss: 7079.6763 - mae: 7079.6763\n",
            "Epoch 27/100\n",
            "34/34 [==============================] - 0s 3ms/step - loss: 7052.0239 - mae: 7052.0239\n",
            "Epoch 28/100\n",
            "34/34 [==============================] - 0s 3ms/step - loss: 7025.0815 - mae: 7025.0815\n",
            "Epoch 29/100\n",
            "34/34 [==============================] - 0s 2ms/step - loss: 6998.5225 - mae: 6998.5225\n",
            "Epoch 30/100\n",
            "34/34 [==============================] - 0s 2ms/step - loss: 6972.0444 - mae: 6972.0444\n",
            "Epoch 31/100\n",
            "34/34 [==============================] - 0s 2ms/step - loss: 6942.0918 - mae: 6942.0918\n",
            "Epoch 32/100\n",
            "34/34 [==============================] - 0s 2ms/step - loss: 6915.3862 - mae: 6915.3862\n",
            "Epoch 33/100\n",
            "34/34 [==============================] - 0s 2ms/step - loss: 6884.4106 - mae: 6884.4106\n",
            "Epoch 34/100\n",
            "34/34 [==============================] - 0s 3ms/step - loss: 6854.4761 - mae: 6854.4761\n",
            "Epoch 35/100\n",
            "34/34 [==============================] - 0s 2ms/step - loss: 6822.6992 - mae: 6822.6992\n",
            "Epoch 36/100\n",
            "34/34 [==============================] - 0s 2ms/step - loss: 6790.0352 - mae: 6790.0352\n",
            "Epoch 37/100\n",
            "34/34 [==============================] - 0s 2ms/step - loss: 6755.9570 - mae: 6755.9570\n",
            "Epoch 38/100\n",
            "34/34 [==============================] - 0s 3ms/step - loss: 6723.9214 - mae: 6723.9214\n",
            "Epoch 39/100\n",
            "34/34 [==============================] - 0s 2ms/step - loss: 6686.3975 - mae: 6686.3975\n",
            "Epoch 40/100\n",
            "34/34 [==============================] - 0s 2ms/step - loss: 6651.4448 - mae: 6651.4448\n",
            "Epoch 41/100\n",
            "34/34 [==============================] - 0s 3ms/step - loss: 6617.8901 - mae: 6617.8901\n",
            "Epoch 42/100\n",
            "34/34 [==============================] - 0s 2ms/step - loss: 6586.9746 - mae: 6586.9746\n",
            "Epoch 43/100\n",
            "34/34 [==============================] - 0s 3ms/step - loss: 6554.6245 - mae: 6554.6245\n",
            "Epoch 44/100\n",
            "34/34 [==============================] - 0s 2ms/step - loss: 6527.5361 - mae: 6527.5361\n",
            "Epoch 45/100\n",
            "34/34 [==============================] - 0s 1ms/step - loss: 6507.5801 - mae: 6507.5801\n",
            "Epoch 46/100\n",
            "34/34 [==============================] - 0s 2ms/step - loss: 6486.6362 - mae: 6486.6362\n",
            "Epoch 47/100\n",
            "34/34 [==============================] - 0s 2ms/step - loss: 6469.9209 - mae: 6469.9209\n",
            "Epoch 48/100\n",
            "34/34 [==============================] - 0s 1ms/step - loss: 6453.7109 - mae: 6453.7109\n",
            "Epoch 49/100\n",
            "34/34 [==============================] - 0s 2ms/step - loss: 6440.0190 - mae: 6440.0190\n",
            "Epoch 50/100\n",
            "34/34 [==============================] - 0s 2ms/step - loss: 6425.8716 - mae: 6425.8716\n",
            "Epoch 51/100\n",
            "34/34 [==============================] - 0s 1ms/step - loss: 6412.1646 - mae: 6412.1646\n",
            "Epoch 52/100\n",
            "34/34 [==============================] - 0s 2ms/step - loss: 6401.0498 - mae: 6401.0498\n",
            "Epoch 53/100\n",
            "34/34 [==============================] - 0s 2ms/step - loss: 6386.0000 - mae: 6386.0000\n",
            "Epoch 54/100\n",
            "34/34 [==============================] - 0s 2ms/step - loss: 6372.6904 - mae: 6372.6904\n",
            "Epoch 55/100\n",
            "34/34 [==============================] - 0s 2ms/step - loss: 6359.3311 - mae: 6359.3311\n",
            "Epoch 56/100\n",
            "34/34 [==============================] - 0s 2ms/step - loss: 6345.1572 - mae: 6345.1572\n",
            "Epoch 57/100\n",
            "34/34 [==============================] - 0s 2ms/step - loss: 6332.7915 - mae: 6332.7915\n",
            "Epoch 58/100\n",
            "34/34 [==============================] - 0s 2ms/step - loss: 6318.1226 - mae: 6318.1226\n",
            "Epoch 59/100\n",
            "34/34 [==============================] - 0s 2ms/step - loss: 6303.6372 - mae: 6303.6372\n",
            "Epoch 60/100\n",
            "34/34 [==============================] - 0s 2ms/step - loss: 6293.4341 - mae: 6293.4341\n",
            "Epoch 61/100\n",
            "34/34 [==============================] - 0s 2ms/step - loss: 6274.2632 - mae: 6274.2632\n",
            "Epoch 62/100\n",
            "34/34 [==============================] - 0s 2ms/step - loss: 6261.9453 - mae: 6261.9453\n",
            "Epoch 63/100\n",
            "34/34 [==============================] - 0s 2ms/step - loss: 6243.4067 - mae: 6243.4067\n",
            "Epoch 64/100\n",
            "34/34 [==============================] - 0s 1ms/step - loss: 6227.3472 - mae: 6227.3472\n",
            "Epoch 65/100\n",
            "34/34 [==============================] - 0s 2ms/step - loss: 6210.7119 - mae: 6210.7119\n",
            "Epoch 66/100\n",
            "34/34 [==============================] - 0s 2ms/step - loss: 6194.0601 - mae: 6194.0601\n",
            "Epoch 67/100\n",
            "34/34 [==============================] - 0s 2ms/step - loss: 6180.8716 - mae: 6180.8716\n",
            "Epoch 68/100\n",
            "34/34 [==============================] - 0s 2ms/step - loss: 6159.3931 - mae: 6159.3931\n",
            "Epoch 69/100\n",
            "34/34 [==============================] - 0s 2ms/step - loss: 6143.1411 - mae: 6143.1411\n",
            "Epoch 70/100\n",
            "34/34 [==============================] - 0s 2ms/step - loss: 6122.9551 - mae: 6122.9551\n",
            "Epoch 71/100\n",
            "34/34 [==============================] - 0s 2ms/step - loss: 6103.5913 - mae: 6103.5913\n",
            "Epoch 72/100\n",
            "34/34 [==============================] - 0s 1ms/step - loss: 6085.6538 - mae: 6085.6538\n",
            "Epoch 73/100\n",
            "34/34 [==============================] - 0s 2ms/step - loss: 6069.8691 - mae: 6069.8691\n",
            "Epoch 74/100\n",
            "34/34 [==============================] - 0s 2ms/step - loss: 6044.5942 - mae: 6044.5942\n",
            "Epoch 75/100\n",
            "34/34 [==============================] - 0s 1ms/step - loss: 6023.9897 - mae: 6023.9897\n",
            "Epoch 76/100\n",
            "34/34 [==============================] - 0s 2ms/step - loss: 6009.8179 - mae: 6009.8179\n",
            "Epoch 77/100\n",
            "34/34 [==============================] - 0s 1ms/step - loss: 5977.2090 - mae: 5977.2090\n",
            "Epoch 78/100\n",
            "34/34 [==============================] - 0s 2ms/step - loss: 5954.3530 - mae: 5954.3530\n",
            "Epoch 79/100\n",
            "34/34 [==============================] - 0s 2ms/step - loss: 5930.8291 - mae: 5930.8291\n",
            "Epoch 80/100\n",
            "34/34 [==============================] - 0s 1ms/step - loss: 5903.8398 - mae: 5903.8398\n",
            "Epoch 81/100\n",
            "34/34 [==============================] - 0s 2ms/step - loss: 5878.4644 - mae: 5878.4644\n",
            "Epoch 82/100\n",
            "34/34 [==============================] - 0s 2ms/step - loss: 5851.6040 - mae: 5851.6040\n",
            "Epoch 83/100\n",
            "34/34 [==============================] - 0s 2ms/step - loss: 5823.4497 - mae: 5823.4497\n",
            "Epoch 84/100\n",
            "34/34 [==============================] - 0s 2ms/step - loss: 5789.9121 - mae: 5789.9121\n",
            "Epoch 85/100\n",
            "34/34 [==============================] - 0s 2ms/step - loss: 5764.6880 - mae: 5764.6880\n",
            "Epoch 86/100\n",
            "34/34 [==============================] - 0s 3ms/step - loss: 5731.1255 - mae: 5731.1255\n",
            "Epoch 87/100\n",
            "34/34 [==============================] - 0s 2ms/step - loss: 5695.8169 - mae: 5695.8169\n",
            "Epoch 88/100\n",
            "34/34 [==============================] - 0s 2ms/step - loss: 5662.4746 - mae: 5662.4746\n",
            "Epoch 89/100\n",
            "34/34 [==============================] - 0s 2ms/step - loss: 5623.7251 - mae: 5623.7251\n",
            "Epoch 90/100\n",
            "34/34 [==============================] - 0s 2ms/step - loss: 5583.8755 - mae: 5583.8755\n",
            "Epoch 91/100\n",
            "34/34 [==============================] - 0s 2ms/step - loss: 5548.4717 - mae: 5548.4717\n",
            "Epoch 92/100\n",
            "34/34 [==============================] - 0s 2ms/step - loss: 5500.6147 - mae: 5500.6147\n",
            "Epoch 93/100\n",
            "34/34 [==============================] - 0s 2ms/step - loss: 5461.1138 - mae: 5461.1138\n",
            "Epoch 94/100\n",
            "34/34 [==============================] - 0s 2ms/step - loss: 5417.7202 - mae: 5417.7202\n",
            "Epoch 95/100\n",
            "34/34 [==============================] - 0s 2ms/step - loss: 5365.0264 - mae: 5365.0264\n",
            "Epoch 96/100\n",
            "34/34 [==============================] - 0s 2ms/step - loss: 5321.8223 - mae: 5321.8223\n",
            "Epoch 97/100\n",
            "34/34 [==============================] - 0s 2ms/step - loss: 5269.3081 - mae: 5269.3081\n",
            "Epoch 98/100\n",
            "34/34 [==============================] - 0s 2ms/step - loss: 5208.9727 - mae: 5208.9727\n",
            "Epoch 99/100\n",
            "34/34 [==============================] - 0s 3ms/step - loss: 5151.1162 - mae: 5151.1162\n",
            "Epoch 100/100\n",
            "34/34 [==============================] - 0s 2ms/step - loss: 5095.2559 - mae: 5095.2559\n"
          ]
        },
        {
          "output_type": "execute_result",
          "data": {
            "text/plain": [
              "<keras.src.callbacks.History at 0x7f91fafc95d0>"
            ]
          },
          "metadata": {},
          "execution_count": 180
        }
      ]
    },
    {
      "cell_type": "code",
      "source": [
        "# Check the results of the insurance model on the test data\n",
        "insurance_model_2.evaluate(X_test, y_test)"
      ],
      "metadata": {
        "colab": {
          "base_uri": "https://localhost:8080/"
        },
        "id": "HkUsvzcR76sQ",
        "outputId": "e08fce82-8bb1-45a8-d1aa-77f2f8c966f4"
      },
      "execution_count": 181,
      "outputs": [
        {
          "output_type": "stream",
          "name": "stdout",
          "text": [
            "9/9 [==============================] - 0s 2ms/step - loss: 4963.2598 - mae: 4963.2598\n"
          ]
        },
        {
          "output_type": "execute_result",
          "data": {
            "text/plain": [
              "[4963.259765625, 4963.259765625]"
            ]
          },
          "metadata": {},
          "execution_count": 181
        }
      ]
    },
    {
      "cell_type": "code",
      "source": [
        "# Build a neural network\n",
        "tf.random.set_seed(42)\n",
        "\n",
        "# 1. Create a model\n",
        "insurance_model_3 = tf.keras.Sequential([\n",
        "    tf.keras.layers.Dense(100),\n",
        "    tf.keras.layers.Dense(10),\n",
        "    tf.keras.layers.Dense(1)\n",
        "])\n",
        "\n",
        "# 2. Compile the model\n",
        "insurance_model_3.compile(loss=tf.keras.losses.mae,\n",
        "                        optimizer=tf.keras.optimizers.Adam(),\n",
        "                        metrics=[\"mae\"])\n",
        "\n",
        "# 3. Fit the model\n",
        "history = insurance_model_3.fit(X_train, y_train, epochs=200)"
      ],
      "metadata": {
        "colab": {
          "base_uri": "https://localhost:8080/"
        },
        "id": "lntYIg0e8i_I",
        "outputId": "086ff9d5-d34b-4552-ce9a-7209cf9542c4"
      },
      "execution_count": 183,
      "outputs": [
        {
          "output_type": "stream",
          "name": "stdout",
          "text": [
            "Epoch 1/200\n",
            "34/34 [==============================] - 1s 3ms/step - loss: 13311.7236 - mae: 13311.7236\n",
            "Epoch 2/200\n",
            "34/34 [==============================] - 0s 2ms/step - loss: 13196.2178 - mae: 13196.2178\n",
            "Epoch 3/200\n",
            "34/34 [==============================] - 0s 2ms/step - loss: 12932.6406 - mae: 12932.6406\n",
            "Epoch 4/200\n",
            "34/34 [==============================] - 0s 3ms/step - loss: 12380.3096 - mae: 12380.3096\n",
            "Epoch 5/200\n",
            "34/34 [==============================] - 0s 2ms/step - loss: 11393.9482 - mae: 11393.9482\n",
            "Epoch 6/200\n",
            "34/34 [==============================] - 0s 2ms/step - loss: 9991.3721 - mae: 9991.3721\n",
            "Epoch 7/200\n",
            "34/34 [==============================] - 0s 4ms/step - loss: 8532.4902 - mae: 8532.4902\n",
            "Epoch 8/200\n",
            "34/34 [==============================] - 0s 3ms/step - loss: 7630.5620 - mae: 7630.5620\n",
            "Epoch 9/200\n",
            "34/34 [==============================] - 0s 4ms/step - loss: 7427.6714 - mae: 7427.6714\n",
            "Epoch 10/200\n",
            "34/34 [==============================] - 0s 4ms/step - loss: 7402.3574 - mae: 7402.3574\n",
            "Epoch 11/200\n",
            "34/34 [==============================] - 0s 1ms/step - loss: 7384.0078 - mae: 7384.0078\n",
            "Epoch 12/200\n",
            "34/34 [==============================] - 0s 1ms/step - loss: 7363.2446 - mae: 7363.2446\n",
            "Epoch 13/200\n",
            "34/34 [==============================] - 0s 1ms/step - loss: 7343.7495 - mae: 7343.7495\n",
            "Epoch 14/200\n",
            "34/34 [==============================] - 0s 1ms/step - loss: 7322.2607 - mae: 7322.2607\n",
            "Epoch 15/200\n",
            "34/34 [==============================] - 0s 2ms/step - loss: 7304.3701 - mae: 7304.3701\n",
            "Epoch 16/200\n",
            "34/34 [==============================] - 0s 1ms/step - loss: 7283.1567 - mae: 7283.1567\n",
            "Epoch 17/200\n",
            "34/34 [==============================] - 0s 2ms/step - loss: 7264.0674 - mae: 7264.0674\n",
            "Epoch 18/200\n",
            "34/34 [==============================] - 0s 1ms/step - loss: 7241.5649 - mae: 7241.5649\n",
            "Epoch 19/200\n",
            "34/34 [==============================] - 0s 1ms/step - loss: 7220.3442 - mae: 7220.3442\n",
            "Epoch 20/200\n",
            "34/34 [==============================] - 0s 2ms/step - loss: 7197.8770 - mae: 7197.8770\n",
            "Epoch 21/200\n",
            "34/34 [==============================] - 0s 1ms/step - loss: 7180.1924 - mae: 7180.1924\n",
            "Epoch 22/200\n",
            "34/34 [==============================] - 0s 1ms/step - loss: 7153.4512 - mae: 7153.4512\n",
            "Epoch 23/200\n",
            "34/34 [==============================] - 0s 1ms/step - loss: 7129.1079 - mae: 7129.1079\n",
            "Epoch 24/200\n",
            "34/34 [==============================] - 0s 1ms/step - loss: 7105.4600 - mae: 7105.4600\n",
            "Epoch 25/200\n",
            "34/34 [==============================] - 0s 1ms/step - loss: 7088.2124 - mae: 7088.2124\n",
            "Epoch 26/200\n",
            "34/34 [==============================] - 0s 1ms/step - loss: 7057.3999 - mae: 7057.3999\n",
            "Epoch 27/200\n",
            "34/34 [==============================] - 0s 1ms/step - loss: 7029.9214 - mae: 7029.9214\n",
            "Epoch 28/200\n",
            "34/34 [==============================] - 0s 2ms/step - loss: 7002.7803 - mae: 7002.7803\n",
            "Epoch 29/200\n",
            "34/34 [==============================] - 0s 1ms/step - loss: 6975.7026 - mae: 6975.7026\n",
            "Epoch 30/200\n",
            "34/34 [==============================] - 0s 1ms/step - loss: 6949.3643 - mae: 6949.3643\n",
            "Epoch 31/200\n",
            "34/34 [==============================] - 0s 2ms/step - loss: 6919.3594 - mae: 6919.3594\n",
            "Epoch 32/200\n",
            "34/34 [==============================] - 0s 2ms/step - loss: 6892.0640 - mae: 6892.0640\n",
            "Epoch 33/200\n",
            "34/34 [==============================] - 0s 2ms/step - loss: 6861.9907 - mae: 6861.9907\n",
            "Epoch 34/200\n",
            "34/34 [==============================] - 0s 2ms/step - loss: 6832.0664 - mae: 6832.0664\n",
            "Epoch 35/200\n",
            "34/34 [==============================] - 0s 2ms/step - loss: 6799.4316 - mae: 6799.4316\n",
            "Epoch 36/200\n",
            "34/34 [==============================] - 0s 2ms/step - loss: 6766.1860 - mae: 6766.1860\n",
            "Epoch 37/200\n",
            "34/34 [==============================] - 0s 2ms/step - loss: 6731.4233 - mae: 6731.4233\n",
            "Epoch 38/200\n",
            "34/34 [==============================] - 0s 2ms/step - loss: 6701.6074 - mae: 6701.6074\n",
            "Epoch 39/200\n",
            "34/34 [==============================] - 0s 2ms/step - loss: 6664.0894 - mae: 6664.0894\n",
            "Epoch 40/200\n",
            "34/34 [==============================] - 0s 2ms/step - loss: 6630.2559 - mae: 6630.2559\n",
            "Epoch 41/200\n",
            "34/34 [==============================] - 0s 2ms/step - loss: 6597.9858 - mae: 6597.9858\n",
            "Epoch 42/200\n",
            "34/34 [==============================] - 0s 2ms/step - loss: 6571.1343 - mae: 6571.1343\n",
            "Epoch 43/200\n",
            "34/34 [==============================] - 0s 2ms/step - loss: 6543.5596 - mae: 6543.5596\n",
            "Epoch 44/200\n",
            "34/34 [==============================] - 0s 2ms/step - loss: 6520.0254 - mae: 6520.0254\n",
            "Epoch 45/200\n",
            "34/34 [==============================] - 0s 2ms/step - loss: 6506.9854 - mae: 6506.9854\n",
            "Epoch 46/200\n",
            "34/34 [==============================] - 0s 2ms/step - loss: 6488.4419 - mae: 6488.4419\n",
            "Epoch 47/200\n",
            "34/34 [==============================] - 0s 2ms/step - loss: 6473.2617 - mae: 6473.2617\n",
            "Epoch 48/200\n",
            "34/34 [==============================] - 0s 2ms/step - loss: 6459.2466 - mae: 6459.2466\n",
            "Epoch 49/200\n",
            "34/34 [==============================] - 0s 2ms/step - loss: 6445.9487 - mae: 6445.9487\n",
            "Epoch 50/200\n",
            "34/34 [==============================] - 0s 2ms/step - loss: 6433.3374 - mae: 6433.3374\n",
            "Epoch 51/200\n",
            "34/34 [==============================] - 0s 2ms/step - loss: 6420.2715 - mae: 6420.2715\n",
            "Epoch 52/200\n",
            "34/34 [==============================] - 0s 2ms/step - loss: 6409.7939 - mae: 6409.7939\n",
            "Epoch 53/200\n",
            "34/34 [==============================] - 0s 2ms/step - loss: 6396.2324 - mae: 6396.2324\n",
            "Epoch 54/200\n",
            "34/34 [==============================] - 0s 2ms/step - loss: 6383.7598 - mae: 6383.7598\n",
            "Epoch 55/200\n",
            "34/34 [==============================] - 0s 2ms/step - loss: 6370.7549 - mae: 6370.7549\n",
            "Epoch 56/200\n",
            "34/34 [==============================] - 0s 2ms/step - loss: 6357.4404 - mae: 6357.4404\n",
            "Epoch 57/200\n",
            "34/34 [==============================] - 0s 2ms/step - loss: 6346.3618 - mae: 6346.3618\n",
            "Epoch 58/200\n",
            "34/34 [==============================] - 0s 2ms/step - loss: 6332.0972 - mae: 6332.0972\n",
            "Epoch 59/200\n",
            "34/34 [==============================] - 0s 2ms/step - loss: 6318.3760 - mae: 6318.3760\n",
            "Epoch 60/200\n",
            "34/34 [==============================] - 0s 2ms/step - loss: 6309.0303 - mae: 6309.0303\n",
            "Epoch 61/200\n",
            "34/34 [==============================] - 0s 2ms/step - loss: 6290.6455 - mae: 6290.6455\n",
            "Epoch 62/200\n",
            "34/34 [==============================] - 0s 2ms/step - loss: 6278.9312 - mae: 6278.9312\n",
            "Epoch 63/200\n",
            "34/34 [==============================] - 0s 2ms/step - loss: 6262.0483 - mae: 6262.0483\n",
            "Epoch 64/200\n",
            "34/34 [==============================] - 0s 2ms/step - loss: 6247.3291 - mae: 6247.3291\n",
            "Epoch 65/200\n",
            "34/34 [==============================] - 0s 2ms/step - loss: 6231.2124 - mae: 6231.2124\n",
            "Epoch 66/200\n",
            "34/34 [==============================] - 0s 2ms/step - loss: 6215.5640 - mae: 6215.5640\n",
            "Epoch 67/200\n",
            "34/34 [==============================] - 0s 2ms/step - loss: 6204.1030 - mae: 6204.1030\n",
            "Epoch 68/200\n",
            "34/34 [==============================] - 0s 1ms/step - loss: 6183.5845 - mae: 6183.5845\n",
            "Epoch 69/200\n",
            "34/34 [==============================] - 0s 1ms/step - loss: 6168.5117 - mae: 6168.5117\n",
            "Epoch 70/200\n",
            "34/34 [==============================] - 0s 1ms/step - loss: 6149.7695 - mae: 6149.7695\n",
            "Epoch 71/200\n",
            "34/34 [==============================] - 0s 2ms/step - loss: 6132.3301 - mae: 6132.3301\n",
            "Epoch 72/200\n",
            "34/34 [==============================] - 0s 1ms/step - loss: 6115.5454 - mae: 6115.5454\n",
            "Epoch 73/200\n",
            "34/34 [==============================] - 0s 1ms/step - loss: 6101.7739 - mae: 6101.7739\n",
            "Epoch 74/200\n",
            "34/34 [==============================] - 0s 1ms/step - loss: 6077.1943 - mae: 6077.1943\n",
            "Epoch 75/200\n",
            "34/34 [==============================] - 0s 2ms/step - loss: 6058.6270 - mae: 6058.6270\n",
            "Epoch 76/200\n",
            "34/34 [==============================] - 0s 1ms/step - loss: 6044.6050 - mae: 6044.6050\n",
            "Epoch 77/200\n",
            "34/34 [==============================] - 0s 2ms/step - loss: 6014.3188 - mae: 6014.3188\n",
            "Epoch 78/200\n",
            "34/34 [==============================] - 0s 1ms/step - loss: 5994.1553 - mae: 5994.1553\n",
            "Epoch 79/200\n",
            "34/34 [==============================] - 0s 1ms/step - loss: 5971.6011 - mae: 5971.6011\n",
            "Epoch 80/200\n",
            "34/34 [==============================] - 0s 1ms/step - loss: 5948.1792 - mae: 5948.1792\n",
            "Epoch 81/200\n",
            "34/34 [==============================] - 0s 1ms/step - loss: 5925.6382 - mae: 5925.6382\n",
            "Epoch 82/200\n",
            "34/34 [==============================] - 0s 1ms/step - loss: 5901.5176 - mae: 5901.5176\n",
            "Epoch 83/200\n",
            "34/34 [==============================] - 0s 1ms/step - loss: 5876.0020 - mae: 5876.0020\n",
            "Epoch 84/200\n",
            "34/34 [==============================] - 0s 1ms/step - loss: 5845.1221 - mae: 5845.1221\n",
            "Epoch 85/200\n",
            "34/34 [==============================] - 0s 2ms/step - loss: 5824.5488 - mae: 5824.5488\n",
            "Epoch 86/200\n",
            "34/34 [==============================] - 0s 1ms/step - loss: 5791.9082 - mae: 5791.9082\n",
            "Epoch 87/200\n",
            "34/34 [==============================] - 0s 1ms/step - loss: 5760.2583 - mae: 5760.2583\n",
            "Epoch 88/200\n",
            "34/34 [==============================] - 0s 1ms/step - loss: 5732.1792 - mae: 5732.1792\n",
            "Epoch 89/200\n",
            "34/34 [==============================] - 0s 2ms/step - loss: 5696.6963 - mae: 5696.6963\n",
            "Epoch 90/200\n",
            "34/34 [==============================] - 0s 1ms/step - loss: 5661.4312 - mae: 5661.4312\n",
            "Epoch 91/200\n",
            "34/34 [==============================] - 0s 1ms/step - loss: 5631.8516 - mae: 5631.8516\n",
            "Epoch 92/200\n",
            "34/34 [==============================] - 0s 1ms/step - loss: 5587.3232 - mae: 5587.3232\n",
            "Epoch 93/200\n",
            "34/34 [==============================] - 0s 1ms/step - loss: 5552.8970 - mae: 5552.8970\n",
            "Epoch 94/200\n",
            "34/34 [==============================] - 0s 1ms/step - loss: 5518.5161 - mae: 5518.5161\n",
            "Epoch 95/200\n",
            "34/34 [==============================] - 0s 1ms/step - loss: 5469.1743 - mae: 5469.1743\n",
            "Epoch 96/200\n",
            "34/34 [==============================] - 0s 1ms/step - loss: 5431.3774 - mae: 5431.3774\n",
            "Epoch 97/200\n",
            "34/34 [==============================] - 0s 2ms/step - loss: 5382.0688 - mae: 5382.0688\n",
            "Epoch 98/200\n",
            "34/34 [==============================] - 0s 1ms/step - loss: 5331.5908 - mae: 5331.5908\n",
            "Epoch 99/200\n",
            "34/34 [==============================] - 0s 1ms/step - loss: 5281.8086 - mae: 5281.8086\n",
            "Epoch 100/200\n",
            "34/34 [==============================] - 0s 1ms/step - loss: 5234.1929 - mae: 5234.1929\n",
            "Epoch 101/200\n",
            "34/34 [==============================] - 0s 1ms/step - loss: 5173.7295 - mae: 5173.7295\n",
            "Epoch 102/200\n",
            "34/34 [==============================] - 0s 1ms/step - loss: 5116.3130 - mae: 5116.3130\n",
            "Epoch 103/200\n",
            "34/34 [==============================] - 0s 2ms/step - loss: 5058.4438 - mae: 5058.4438\n",
            "Epoch 104/200\n",
            "34/34 [==============================] - 0s 2ms/step - loss: 4992.4531 - mae: 4992.4531\n",
            "Epoch 105/200\n",
            "34/34 [==============================] - 0s 2ms/step - loss: 4923.5264 - mae: 4923.5264\n",
            "Epoch 106/200\n",
            "34/34 [==============================] - 0s 1ms/step - loss: 4852.0063 - mae: 4852.0063\n",
            "Epoch 107/200\n",
            "34/34 [==============================] - 0s 1ms/step - loss: 4778.6953 - mae: 4778.6953\n",
            "Epoch 108/200\n",
            "34/34 [==============================] - 0s 1ms/step - loss: 4702.5259 - mae: 4702.5259\n",
            "Epoch 109/200\n",
            "34/34 [==============================] - 0s 1ms/step - loss: 4622.5708 - mae: 4622.5708\n",
            "Epoch 110/200\n",
            "34/34 [==============================] - 0s 1ms/step - loss: 4536.8813 - mae: 4536.8813\n",
            "Epoch 111/200\n",
            "34/34 [==============================] - 0s 1ms/step - loss: 4450.5083 - mae: 4450.5083\n",
            "Epoch 112/200\n",
            "34/34 [==============================] - 0s 2ms/step - loss: 4375.7446 - mae: 4375.7446\n",
            "Epoch 113/200\n",
            "34/34 [==============================] - 0s 1ms/step - loss: 4288.7568 - mae: 4288.7568\n",
            "Epoch 114/200\n",
            "34/34 [==============================] - 0s 2ms/step - loss: 4204.1553 - mae: 4204.1553\n",
            "Epoch 115/200\n",
            "34/34 [==============================] - 0s 2ms/step - loss: 4126.4751 - mae: 4126.4751\n",
            "Epoch 116/200\n",
            "34/34 [==============================] - 0s 1ms/step - loss: 4057.8450 - mae: 4057.8450\n",
            "Epoch 117/200\n",
            "34/34 [==============================] - 0s 2ms/step - loss: 4007.3701 - mae: 4007.3701\n",
            "Epoch 118/200\n",
            "34/34 [==============================] - 0s 2ms/step - loss: 3968.2878 - mae: 3968.2878\n",
            "Epoch 119/200\n",
            "34/34 [==============================] - 0s 2ms/step - loss: 3930.3281 - mae: 3930.3281\n",
            "Epoch 120/200\n",
            "34/34 [==============================] - 0s 2ms/step - loss: 3896.8833 - mae: 3896.8833\n",
            "Epoch 121/200\n",
            "34/34 [==============================] - 0s 2ms/step - loss: 3878.2415 - mae: 3878.2415\n",
            "Epoch 122/200\n",
            "34/34 [==============================] - 0s 2ms/step - loss: 3862.1729 - mae: 3862.1729\n",
            "Epoch 123/200\n",
            "34/34 [==============================] - 0s 2ms/step - loss: 3847.3376 - mae: 3847.3376\n",
            "Epoch 124/200\n",
            "34/34 [==============================] - 0s 2ms/step - loss: 3835.6199 - mae: 3835.6199\n",
            "Epoch 125/200\n",
            "34/34 [==============================] - 0s 1ms/step - loss: 3820.7747 - mae: 3820.7747\n",
            "Epoch 126/200\n",
            "34/34 [==============================] - 0s 1ms/step - loss: 3826.2329 - mae: 3826.2329\n",
            "Epoch 127/200\n",
            "34/34 [==============================] - 0s 1ms/step - loss: 3813.1270 - mae: 3813.1270\n",
            "Epoch 128/200\n",
            "34/34 [==============================] - 0s 1ms/step - loss: 3809.0415 - mae: 3809.0415\n",
            "Epoch 129/200\n",
            "34/34 [==============================] - 0s 2ms/step - loss: 3810.7246 - mae: 3810.7246\n",
            "Epoch 130/200\n",
            "34/34 [==============================] - 0s 2ms/step - loss: 3797.8455 - mae: 3797.8455\n",
            "Epoch 131/200\n",
            "34/34 [==============================] - 0s 1ms/step - loss: 3794.2104 - mae: 3794.2104\n",
            "Epoch 132/200\n",
            "34/34 [==============================] - 0s 1ms/step - loss: 3786.7297 - mae: 3786.7297\n",
            "Epoch 133/200\n",
            "34/34 [==============================] - 0s 1ms/step - loss: 3780.1282 - mae: 3780.1282\n",
            "Epoch 134/200\n",
            "34/34 [==============================] - 0s 1ms/step - loss: 3779.0754 - mae: 3779.0754\n",
            "Epoch 135/200\n",
            "34/34 [==============================] - 0s 1ms/step - loss: 3776.1951 - mae: 3776.1951\n",
            "Epoch 136/200\n",
            "34/34 [==============================] - 0s 1ms/step - loss: 3774.5986 - mae: 3774.5986\n",
            "Epoch 137/200\n",
            "34/34 [==============================] - 0s 1ms/step - loss: 3784.6306 - mae: 3784.6306\n",
            "Epoch 138/200\n",
            "34/34 [==============================] - 0s 2ms/step - loss: 3788.3047 - mae: 3788.3047\n",
            "Epoch 139/200\n",
            "34/34 [==============================] - 0s 1ms/step - loss: 3769.8521 - mae: 3769.8521\n",
            "Epoch 140/200\n",
            "34/34 [==============================] - 0s 2ms/step - loss: 3769.0654 - mae: 3769.0654\n",
            "Epoch 141/200\n",
            "34/34 [==============================] - 0s 2ms/step - loss: 3770.6240 - mae: 3770.6240\n",
            "Epoch 142/200\n",
            "34/34 [==============================] - 0s 1ms/step - loss: 3773.1677 - mae: 3773.1677\n",
            "Epoch 143/200\n",
            "34/34 [==============================] - 0s 2ms/step - loss: 3762.0146 - mae: 3762.0146\n",
            "Epoch 144/200\n",
            "34/34 [==============================] - 0s 1ms/step - loss: 3757.9561 - mae: 3757.9561\n",
            "Epoch 145/200\n",
            "34/34 [==============================] - 0s 1ms/step - loss: 3759.3604 - mae: 3759.3604\n",
            "Epoch 146/200\n",
            "34/34 [==============================] - 0s 1ms/step - loss: 3764.2263 - mae: 3764.2263\n",
            "Epoch 147/200\n",
            "34/34 [==============================] - 0s 1ms/step - loss: 3759.9016 - mae: 3759.9016\n",
            "Epoch 148/200\n",
            "34/34 [==============================] - 0s 2ms/step - loss: 3764.7793 - mae: 3764.7793\n",
            "Epoch 149/200\n",
            "34/34 [==============================] - 0s 1ms/step - loss: 3751.0225 - mae: 3751.0225\n",
            "Epoch 150/200\n",
            "34/34 [==============================] - 0s 1ms/step - loss: 3746.0305 - mae: 3746.0305\n",
            "Epoch 151/200\n",
            "34/34 [==============================] - 0s 1ms/step - loss: 3748.7886 - mae: 3748.7886\n",
            "Epoch 152/200\n",
            "34/34 [==============================] - 0s 1ms/step - loss: 3749.5032 - mae: 3749.5032\n",
            "Epoch 153/200\n",
            "34/34 [==============================] - 0s 1ms/step - loss: 3749.9478 - mae: 3749.9478\n",
            "Epoch 154/200\n",
            "34/34 [==============================] - 0s 1ms/step - loss: 3744.1104 - mae: 3744.1104\n",
            "Epoch 155/200\n",
            "34/34 [==============================] - 0s 1ms/step - loss: 3747.4917 - mae: 3747.4917\n",
            "Epoch 156/200\n",
            "34/34 [==============================] - 0s 1ms/step - loss: 3742.5610 - mae: 3742.5610\n",
            "Epoch 157/200\n",
            "34/34 [==============================] - 0s 1ms/step - loss: 3740.5471 - mae: 3740.5471\n",
            "Epoch 158/200\n",
            "34/34 [==============================] - 0s 1ms/step - loss: 3736.7610 - mae: 3736.7610\n",
            "Epoch 159/200\n",
            "34/34 [==============================] - 0s 2ms/step - loss: 3732.8589 - mae: 3732.8589\n",
            "Epoch 160/200\n",
            "34/34 [==============================] - 0s 2ms/step - loss: 3739.9700 - mae: 3739.9700\n",
            "Epoch 161/200\n",
            "34/34 [==============================] - 0s 1ms/step - loss: 3734.9329 - mae: 3734.9329\n",
            "Epoch 162/200\n",
            "34/34 [==============================] - 0s 1ms/step - loss: 3730.5662 - mae: 3730.5662\n",
            "Epoch 163/200\n",
            "34/34 [==============================] - 0s 1ms/step - loss: 3729.0601 - mae: 3729.0601\n",
            "Epoch 164/200\n",
            "34/34 [==============================] - 0s 1ms/step - loss: 3734.1499 - mae: 3734.1499\n",
            "Epoch 165/200\n",
            "34/34 [==============================] - 0s 2ms/step - loss: 3725.5554 - mae: 3725.5554\n",
            "Epoch 166/200\n",
            "34/34 [==============================] - 0s 1ms/step - loss: 3729.0061 - mae: 3729.0061\n",
            "Epoch 167/200\n",
            "34/34 [==============================] - 0s 1ms/step - loss: 3726.0635 - mae: 3726.0635\n",
            "Epoch 168/200\n",
            "34/34 [==============================] - 0s 1ms/step - loss: 3722.5229 - mae: 3722.5229\n",
            "Epoch 169/200\n",
            "34/34 [==============================] - 0s 1ms/step - loss: 3723.5415 - mae: 3723.5415\n",
            "Epoch 170/200\n",
            "34/34 [==============================] - 0s 1ms/step - loss: 3716.4939 - mae: 3716.4939\n",
            "Epoch 171/200\n",
            "34/34 [==============================] - 0s 1ms/step - loss: 3715.3489 - mae: 3715.3489\n",
            "Epoch 172/200\n",
            "34/34 [==============================] - 0s 1ms/step - loss: 3717.5269 - mae: 3717.5269\n",
            "Epoch 173/200\n",
            "34/34 [==============================] - 0s 1ms/step - loss: 3713.6753 - mae: 3713.6753\n",
            "Epoch 174/200\n",
            "34/34 [==============================] - 0s 2ms/step - loss: 3718.3076 - mae: 3718.3076\n",
            "Epoch 175/200\n",
            "34/34 [==============================] - 0s 1ms/step - loss: 3718.0466 - mae: 3718.0466\n",
            "Epoch 176/200\n",
            "34/34 [==============================] - 0s 2ms/step - loss: 3714.3833 - mae: 3714.3833\n",
            "Epoch 177/200\n",
            "34/34 [==============================] - 0s 1ms/step - loss: 3708.2400 - mae: 3708.2400\n",
            "Epoch 178/200\n",
            "34/34 [==============================] - 0s 1ms/step - loss: 3704.3625 - mae: 3704.3625\n",
            "Epoch 179/200\n",
            "34/34 [==============================] - 0s 1ms/step - loss: 3712.7810 - mae: 3712.7810\n",
            "Epoch 180/200\n",
            "34/34 [==============================] - 0s 2ms/step - loss: 3717.9004 - mae: 3717.9004\n",
            "Epoch 181/200\n",
            "34/34 [==============================] - 0s 2ms/step - loss: 3704.8840 - mae: 3704.8840\n",
            "Epoch 182/200\n",
            "34/34 [==============================] - 0s 2ms/step - loss: 3702.8267 - mae: 3702.8267\n",
            "Epoch 183/200\n",
            "34/34 [==============================] - 0s 2ms/step - loss: 3701.0613 - mae: 3701.0613\n",
            "Epoch 184/200\n",
            "34/34 [==============================] - 0s 1ms/step - loss: 3706.5574 - mae: 3706.5574\n",
            "Epoch 185/200\n",
            "34/34 [==============================] - 0s 2ms/step - loss: 3702.6851 - mae: 3702.6851\n",
            "Epoch 186/200\n",
            "34/34 [==============================] - 0s 1ms/step - loss: 3706.6721 - mae: 3706.6721\n",
            "Epoch 187/200\n",
            "34/34 [==============================] - 0s 1ms/step - loss: 3697.1384 - mae: 3697.1384\n",
            "Epoch 188/200\n",
            "34/34 [==============================] - 0s 1ms/step - loss: 3704.8333 - mae: 3704.8333\n",
            "Epoch 189/200\n",
            "34/34 [==============================] - 0s 1ms/step - loss: 3693.5818 - mae: 3693.5818\n",
            "Epoch 190/200\n",
            "34/34 [==============================] - 0s 1ms/step - loss: 3693.4814 - mae: 3693.4814\n",
            "Epoch 191/200\n",
            "34/34 [==============================] - 0s 2ms/step - loss: 3707.4424 - mae: 3707.4424\n",
            "Epoch 192/200\n",
            "34/34 [==============================] - 0s 2ms/step - loss: 3693.4473 - mae: 3693.4473\n",
            "Epoch 193/200\n",
            "34/34 [==============================] - 0s 2ms/step - loss: 3685.0625 - mae: 3685.0625\n",
            "Epoch 194/200\n",
            "34/34 [==============================] - 0s 1ms/step - loss: 3685.7754 - mae: 3685.7754\n",
            "Epoch 195/200\n",
            "34/34 [==============================] - 0s 1ms/step - loss: 3683.2756 - mae: 3683.2756\n",
            "Epoch 196/200\n",
            "34/34 [==============================] - 0s 1ms/step - loss: 3689.4333 - mae: 3689.4333\n",
            "Epoch 197/200\n",
            "34/34 [==============================] - 0s 1ms/step - loss: 3675.4043 - mae: 3675.4043\n",
            "Epoch 198/200\n",
            "34/34 [==============================] - 0s 1ms/step - loss: 3681.3374 - mae: 3681.3374\n",
            "Epoch 199/200\n",
            "34/34 [==============================] - 0s 2ms/step - loss: 3689.1804 - mae: 3689.1804\n",
            "Epoch 200/200\n",
            "34/34 [==============================] - 0s 1ms/step - loss: 3675.9895 - mae: 3675.9895\n"
          ]
        }
      ]
    },
    {
      "cell_type": "code",
      "source": [
        "# Check the results of the insurance model on the test data\n",
        "insurance_model_3.evaluate(X_test, y_test)"
      ],
      "metadata": {
        "colab": {
          "base_uri": "https://localhost:8080/"
        },
        "id": "9G82ER9J871m",
        "outputId": "1e0dae1a-4790-49c4-c11a-ab41b9cc1536"
      },
      "execution_count": 184,
      "outputs": [
        {
          "output_type": "stream",
          "name": "stdout",
          "text": [
            "9/9 [==============================] - 0s 2ms/step - loss: 3507.3567 - mae: 3507.3567\n"
          ]
        },
        {
          "output_type": "execute_result",
          "data": {
            "text/plain": [
              "[3507.356689453125, 3507.356689453125]"
            ]
          },
          "metadata": {},
          "execution_count": 184
        }
      ]
    },
    {
      "cell_type": "code",
      "source": [
        "# Plot history (also known as a loss curve or a training curve)\n",
        "pd.DataFrame(history.history).plot()\n",
        "plt.ylabel(\"loss\")\n",
        "plt.xlabel(\"epochs\")"
      ],
      "metadata": {
        "colab": {
          "base_uri": "https://localhost:8080/",
          "height": 466
        },
        "id": "ZmRqG6Ed9Gcd",
        "outputId": "6c8df092-5f02-4bae-a37d-730ce22b2fa8"
      },
      "execution_count": 185,
      "outputs": [
        {
          "output_type": "execute_result",
          "data": {
            "text/plain": [
              "Text(0.5, 0, 'epochs')"
            ]
          },
          "metadata": {},
          "execution_count": 185
        },
        {
          "output_type": "display_data",
          "data": {
            "text/plain": [
              "<Figure size 640x480 with 1 Axes>"
            ],
            "image/png": "[encoded data removed]"
          },
          "metadata": {}
        }
      ]
    },
    {
      "cell_type": "markdown",
      "source": [
        "> Question: How long should you train for?\n",
        "\n",
        "> It depends. Really... it depends on the problem you're working on. However, many people have asked this question before... so TensorFlow has a solution! It's called the EarlyStopping Callback, which is a TensorFlow component you can add to your model to stop training once it stops improving a certain metric."
      ],
      "metadata": {
        "id": "6B9kH_sH9yuI"
      }
    },
    {
      "cell_type": "markdown",
      "source": [
        "# Preprocessing data (normalization and standardization)\n",
        "\n",
        "In terms of scaling values, neural networks tend to prefer normalization.\n",
        "\n",
        "If you're not sure on which to use, you could try both and see which performs better."
      ],
      "metadata": {
        "id": "ica5Zaf2-JhL"
      }
    },
    {
      "cell_type": "code",
      "source": [
        "X"
      ],
      "metadata": {
        "colab": {
          "base_uri": "https://localhost:8080/",
          "height": 444
        },
        "id": "yEgAqo1Q9bz-",
        "outputId": "ac890c5d-3be7-4f0e-e475-bfe7149eed2c"
      },
      "execution_count": 186,
      "outputs": [
        {
          "output_type": "execute_result",
          "data": {
            "text/plain": [
              "      age     bmi  children  sex_female  sex_male  smoker_no  smoker_yes  \\\n",
              "0      19  27.900         0           1         0          0           1   \n",
              "1      18  33.770         1           0         1          1           0   \n",
              "2      28  33.000         3           0         1          1           0   \n",
              "3      33  22.705         0           0         1          1           0   \n",
              "4      32  28.880         0           0         1          1           0   \n",
              "...   ...     ...       ...         ...       ...        ...         ...   \n",
              "1333   50  30.970         3           0         1          1           0   \n",
              "1334   18  31.920         0           1         0          1           0   \n",
              "1335   18  36.850         0           1         0          1           0   \n",
              "1336   21  25.800         0           1         0          1           0   \n",
              "1337   61  29.070         0           1         0          0           1   \n",
              "\n",
              "      region_northeast  region_northwest  region_southeast  region_southwest  \n",
              "0                    0                 0                 0                 1  \n",
              "1                    0                 0                 1                 0  \n",
              "2                    0                 0                 1                 0  \n",
              "3                    0                 1                 0                 0  \n",
              "4                    0                 1                 0                 0  \n",
              "...                ...               ...               ...               ...  \n",
              "1333                 0                 1                 0                 0  \n",
              "1334                 1                 0                 0                 0  \n",
              "1335                 0                 0                 1                 0  \n",
              "1336                 0                 0                 0                 1  \n",
              "1337                 0                 1                 0                 0  \n",
              "\n",
              "[1338 rows x 11 columns]"
            ],
            "text/html": [
              "\n",
              "  <div id=\"df-ab927c56-27cc-41cd-9c87-5c298c24b65d\" class=\"colab-df-container\">\n",
              "    <div>\n",
              "<style scoped>\n",
              "    .dataframe tbody tr th:only-of-type {\n",
              "        vertical-align: middle;\n",
              "    }\n",
              "\n",
              "    .dataframe tbody tr th {\n",
              "        vertical-align: top;\n",
              "    }\n",
              "\n",
              "    .dataframe thead th {\n",
              "        text-align: right;\n",
              "    }\n",
              "</style>\n",
              "<table border=\"1\" class=\"dataframe\">\n",
              "  <thead>\n",
              "    <tr style=\"text-align: right;\">\n",
              "      <th></th>\n",
              "      <th>age</th>\n",
              "      <th>bmi</th>\n",
              "      <th>children</th>\n",
              "      <th>sex_female</th>\n",
              "      <th>sex_male</th>\n",
              "      <th>smoker_no</th>\n",
              "      <th>smoker_yes</th>\n",
              "      <th>region_northeast</th>\n",
              "      <th>region_northwest</th>\n",
              "      <th>region_southeast</th>\n",
              "      <th>region_southwest</th>\n",
              "    </tr>\n",
              "  </thead>\n",
              "  <tbody>\n",
              "    <tr>\n",
              "      <th>0</th>\n",
              "      <td>19</td>\n",
              "      <td>27.900</td>\n",
              "      <td>0</td>\n",
              "      <td>1</td>\n",
              "      <td>0</td>\n",
              "      <td>0</td>\n",
              "      <td>1</td>\n",
              "      <td>0</td>\n",
              "      <td>0</td>\n",
              "      <td>0</td>\n",
              "      <td>1</td>\n",
              "    </tr>\n",
              "    <tr>\n",
              "      <th>1</th>\n",
              "      <td>18</td>\n",
              "      <td>33.770</td>\n",
              "      <td>1</td>\n",
              "      <td>0</td>\n",
              "      <td>1</td>\n",
              "      <td>1</td>\n",
              "      <td>0</td>\n",
              "      <td>0</td>\n",
              "      <td>0</td>\n",
              "      <td>1</td>\n",
              "      <td>0</td>\n",
              "    </tr>\n",
              "    <tr>\n",
              "      <th>2</th>\n",
              "      <td>28</td>\n",
              "      <td>33.000</td>\n",
              "      <td>3</td>\n",
              "      <td>0</td>\n",
              "      <td>1</td>\n",
              "      <td>1</td>\n",
              "      <td>0</td>\n",
              "      <td>0</td>\n",
              "      <td>0</td>\n",
              "      <td>1</td>\n",
              "      <td>0</td>\n",
              "    </tr>\n",
              "    <tr>\n",
              "      <th>3</th>\n",
              "      <td>33</td>\n",
              "      <td>22.705</td>\n",
              "      <td>0</td>\n",
              "      <td>0</td>\n",
              "      <td>1</td>\n",
              "      <td>1</td>\n",
              "      <td>0</td>\n",
              "      <td>0</td>\n",
              "      <td>1</td>\n",
              "      <td>0</td>\n",
              "      <td>0</td>\n",
              "    </tr>\n",
              "    <tr>\n",
              "      <th>4</th>\n",
              "      <td>32</td>\n",
              "      <td>28.880</td>\n",
              "      <td>0</td>\n",
              "      <td>0</td>\n",
              "      <td>1</td>\n",
              "      <td>1</td>\n",
              "      <td>0</td>\n",
              "      <td>0</td>\n",
              "      <td>1</td>\n",
              "      <td>0</td>\n",
              "      <td>0</td>\n",
              "    </tr>\n",
              "    <tr>\n",
              "      <th>...</th>\n",
              "      <td>...</td>\n",
              "      <td>...</td>\n",
              "      <td>...</td>\n",
              "      <td>...</td>\n",
              "      <td>...</td>\n",
              "      <td>...</td>\n",
              "      <td>...</td>\n",
              "      <td>...</td>\n",
              "      <td>...</td>\n",
              "      <td>...</td>\n",
              "      <td>...</td>\n",
              "    </tr>\n",
              "    <tr>\n",
              "      <th>1333</th>\n",
              "      <td>50</td>\n",
              "      <td>30.970</td>\n",
              "      <td>3</td>\n",
              "      <td>0</td>\n",
              "      <td>1</td>\n",
              "      <td>1</td>\n",
              "      <td>0</td>\n",
              "      <td>0</td>\n",
              "      <td>1</td>\n",
              "      <td>0</td>\n",
              "      <td>0</td>\n",
              "    </tr>\n",
              "    <tr>\n",
              "      <th>1334</th>\n",
              "      <td>18</td>\n",
              "      <td>31.920</td>\n",
              "      <td>0</td>\n",
              "      <td>1</td>\n",
              "      <td>0</td>\n",
              "      <td>1</td>\n",
              "      <td>0</td>\n",
              "      <td>1</td>\n",
              "      <td>0</td>\n",
              "      <td>0</td>\n",
              "      <td>0</td>\n",
              "    </tr>\n",
              "    <tr>\n",
              "      <th>1335</th>\n",
              "      <td>18</td>\n",
              "      <td>36.850</td>\n",
              "      <td>0</td>\n",
              "      <td>1</td>\n",
              "      <td>0</td>\n",
              "      <td>1</td>\n",
              "      <td>0</td>\n",
              "      <td>0</td>\n",
              "      <td>0</td>\n",
              "      <td>1</td>\n",
              "      <td>0</td>\n",
              "    </tr>\n",
              "    <tr>\n",
              "      <th>1336</th>\n",
              "      <td>21</td>\n",
              "      <td>25.800</td>\n",
              "      <td>0</td>\n",
              "      <td>1</td>\n",
              "      <td>0</td>\n",
              "      <td>1</td>\n",
              "      <td>0</td>\n",
              "      <td>0</td>\n",
              "      <td>0</td>\n",
              "      <td>0</td>\n",
              "      <td>1</td>\n",
              "    </tr>\n",
              "    <tr>\n",
              "      <th>1337</th>\n",
              "      <td>61</td>\n",
              "      <td>29.070</td>\n",
              "      <td>0</td>\n",
              "      <td>1</td>\n",
              "      <td>0</td>\n",
              "      <td>0</td>\n",
              "      <td>1</td>\n",
              "      <td>0</td>\n",
              "      <td>1</td>\n",
              "      <td>0</td>\n",
              "      <td>0</td>\n",
              "    </tr>\n",
              "  </tbody>\n",
              "</table>\n",
              "<p>1338 rows × 11 columns</p>\n",
              "</div>\n",
              "    <div class=\"colab-df-buttons\">\n",
              "\n",
              "  <div class=\"colab-df-container\">\n",
              "    <button class=\"colab-df-convert\" onclick=\"convertToInteractive('df-ab927c56-27cc-41cd-9c87-5c298c24b65d')\"\n",
              "            title=\"Convert this dataframe to an interactive table.\"\n",
              "            style=\"display:none;\">\n",
              "\n",
              "  <svg xmlns=\"http://www.w3.org/2000/svg\" height=\"24px\" viewBox=\"0 -960 960 960\">\n",
              "    <path d=\"M120-120v-720h720v720H120Zm60-500h600v-160H180v160Zm220 220h160v-160H400v160Zm0 220h160v-160H400v160ZM180-400h160v-160H180v160Zm440 0h160v-160H620v160ZM180-180h160v-160H180v160Zm440 0h160v-160H620v160Z\"/>\n",
              "  </svg>\n",
              "    </button>\n",
              "\n",
              "  <style>\n",
              "    .colab-df-container {\n",
              "      display:flex;\n",
              "      gap: 12px;\n",
              "    }\n",
              "\n",
              "    .colab-df-convert {\n",
              "      background-color: #E8F0FE;\n",
              "      border: none;\n",
              "      border-radius: 50%;\n",
              "      cursor: pointer;\n",
              "      display: none;\n",
              "      fill: #1967D2;\n",
              "      height: 32px;\n",
              "      padding: 0 0 0 0;\n",
              "      width: 32px;\n",
              "    }\n",
              "\n",
              "    .colab-df-convert:hover {\n",
              "      background-color: #E2EBFA;\n",
              "      box-shadow: 0px 1px 2px rgba(60, 64, 67, 0.3), 0px 1px 3px 1px rgba(60, 64, 67, 0.15);\n",
              "      fill: #174EA6;\n",
              "    }\n",
              "\n",
              "    .colab-df-buttons div {\n",
              "      margin-bottom: 4px;\n",
              "    }\n",
              "\n",
              "    [theme=dark] .colab-df-convert {\n",
              "      background-color: #3B4455;\n",
              "      fill: #D2E3FC;\n",
              "    }\n",
              "\n",
              "    [theme=dark] .colab-df-convert:hover {\n",
              "      background-color: #434B5C;\n",
              "      box-shadow: 0px 1px 3px 1px rgba(0, 0, 0, 0.15);\n",
              "      filter: drop-shadow(0px 1px 2px rgba(0, 0, 0, 0.3));\n",
              "      fill: #FFFFFF;\n",
              "    }\n",
              "  </style>\n",
              "\n",
              "    <script>\n",
              "      const buttonEl =\n",
              "        document.querySelector('#df-ab927c56-27cc-41cd-9c87-5c298c24b65d button.colab-df-convert');\n",
              "      buttonEl.style.display =\n",
              "        google.colab.kernel.accessAllowed ? 'block' : 'none';\n",
              "\n",
              "      async function convertToInteractive(key) {\n",
              "        const element = document.querySelector('#df-ab927c56-27cc-41cd-9c87-5c298c24b65d');\n",
              "        const dataTable =\n",
              "          await google.colab.kernel.invokeFunction('convertToInteractive',\n",
              "                                                    [key], {});\n",
              "        if (!dataTable) return;\n",
              "\n",
              "        const docLinkHtml = 'Like what you see? Visit the ' +\n",
              "          '<a target=\"_blank\" href=https://colab.research.google.com/notebooks/data_table.ipynb>data table notebook</a>'\n",
              "          + ' to learn more about interactive tables.';\n",
              "        element.innerHTML = '';\n",
              "        dataTable['output_type'] = 'display_data';\n",
              "        await google.colab.output.renderOutput(dataTable, element);\n",
              "        const docLink = document.createElement('div');\n",
              "        docLink.innerHTML = docLinkHtml;\n",
              "        element.appendChild(docLink);\n",
              "      }\n",
              "    </script>\n",
              "  </div>\n",
              "\n",
              "\n",
              "<div id=\"df-b771321a-0414-40f0-a588-e2593e471320\">\n",
              "  <button class=\"colab-df-quickchart\" onclick=\"quickchart('df-b771321a-0414-40f0-a588-e2593e471320')\"\n",
              "            title=\"Suggest charts\"\n",
              "            style=\"display:none;\">\n",
              "\n",
              "<svg xmlns=\"http://www.w3.org/2000/svg\" height=\"24px\"viewBox=\"0 0 24 24\"\n",
              "     width=\"24px\">\n",
              "    <g>\n",
              "        <path d=\"M19 3H5c-1.1 0-2 .9-2 2v14c0 1.1.9 2 2 2h14c1.1 0 2-.9 2-2V5c0-1.1-.9-2-2-2zM9 17H7v-7h2v7zm4 0h-2V7h2v10zm4 0h-2v-4h2v4z\"/>\n",
              "    </g>\n",
              "</svg>\n",
              "  </button>\n",
              "\n",
              "<style>\n",
              "  .colab-df-quickchart {\n",
              "      --bg-color: #E8F0FE;\n",
              "      --fill-color: #1967D2;\n",
              "      --hover-bg-color: #E2EBFA;\n",
              "      --hover-fill-color: #174EA6;\n",
              "      --disabled-fill-color: #AAA;\n",
              "      --disabled-bg-color: #DDD;\n",
              "  }\n",
              "\n",
              "  [theme=dark] .colab-df-quickchart {\n",
              "      --bg-color: #3B4455;\n",
              "      --fill-color: #D2E3FC;\n",
              "      --hover-bg-color: #434B5C;\n",
              "      --hover-fill-color: #FFFFFF;\n",
              "      --disabled-bg-color: #3B4455;\n",
              "      --disabled-fill-color: #666;\n",
              "  }\n",
              "\n",
              "  .colab-df-quickchart {\n",
              "    background-color: var(--bg-color);\n",
              "    border: none;\n",
              "    border-radius: 50%;\n",
              "    cursor: pointer;\n",
              "    display: none;\n",
              "    fill: var(--fill-color);\n",
              "    height: 32px;\n",
              "    padding: 0;\n",
              "    width: 32px;\n",
              "  }\n",
              "\n",
              "  .colab-df-quickchart:hover {\n",
              "    background-color: var(--hover-bg-color);\n",
              "    box-shadow: 0 1px 2px rgba(60, 64, 67, 0.3), 0 1px 3px 1px rgba(60, 64, 67, 0.15);\n",
              "    fill: var(--button-hover-fill-color);\n",
              "  }\n",
              "\n",
              "  .colab-df-quickchart-complete:disabled,\n",
              "  .colab-df-quickchart-complete:disabled:hover {\n",
              "    background-color: var(--disabled-bg-color);\n",
              "    fill: var(--disabled-fill-color);\n",
              "    box-shadow: none;\n",
              "  }\n",
              "\n",
              "  .colab-df-spinner {\n",
              "    border: 2px solid var(--fill-color);\n",
              "    border-color: transparent;\n",
              "    border-bottom-color: var(--fill-color);\n",
              "    animation:\n",
              "      spin 1s steps(1) infinite;\n",
              "  }\n",
              "\n",
              "  @keyframes spin {\n",
              "    0% {\n",
              "      border-color: transparent;\n",
              "      border-bottom-color: var(--fill-color);\n",
              "      border-left-color: var(--fill-color);\n",
              "    }\n",
              "    20% {\n",
              "      border-color: transparent;\n",
              "      border-left-color: var(--fill-color);\n",
              "      border-top-color: var(--fill-color);\n",
              "    }\n",
              "    30% {\n",
              "      border-color: transparent;\n",
              "      border-left-color: var(--fill-color);\n",
              "      border-top-color: var(--fill-color);\n",
              "      border-right-color: var(--fill-color);\n",
              "    }\n",
              "    40% {\n",
              "      border-color: transparent;\n",
              "      border-right-color: var(--fill-color);\n",
              "      border-top-color: var(--fill-color);\n",
              "    }\n",
              "    60% {\n",
              "      border-color: transparent;\n",
              "      border-right-color: var(--fill-color);\n",
              "    }\n",
              "    80% {\n",
              "      border-color: transparent;\n",
              "      border-right-color: var(--fill-color);\n",
              "      border-bottom-color: var(--fill-color);\n",
              "    }\n",
              "    90% {\n",
              "      border-color: transparent;\n",
              "      border-bottom-color: var(--fill-color);\n",
              "    }\n",
              "  }\n",
              "</style>\n",
              "\n",
              "  <script>\n",
              "    async function quickchart(key) {\n",
              "      const quickchartButtonEl =\n",
              "        document.querySelector('#' + key + ' button');\n",
              "      quickchartButtonEl.disabled = true;  // To prevent multiple clicks.\n",
              "      quickchartButtonEl.classList.add('colab-df-spinner');\n",
              "      try {\n",
              "        const charts = await google.colab.kernel.invokeFunction(\n",
              "            'suggestCharts', [key], {});\n",
              "      } catch (error) {\n",
              "        console.error('Error during call to suggestCharts:', error);\n",
              "      }\n",
              "      quickchartButtonEl.classList.remove('colab-df-spinner');\n",
              "      quickchartButtonEl.classList.add('colab-df-quickchart-complete');\n",
              "    }\n",
              "    (() => {\n",
              "      let quickchartButtonEl =\n",
              "        document.querySelector('#df-b771321a-0414-40f0-a588-e2593e471320 button');\n",
              "      quickchartButtonEl.style.display =\n",
              "        google.colab.kernel.accessAllowed ? 'block' : 'none';\n",
              "    })();\n",
              "  </script>\n",
              "</div>\n",
              "\n",
              "  <div id=\"id_f75fec6f-4de6-4415-b43e-13c248cb1859\">\n",
              "    <style>\n",
              "      .colab-df-generate {\n",
              "        background-color: #E8F0FE;\n",
              "        border: none;\n",
              "        border-radius: 50%;\n",
              "        cursor: pointer;\n",
              "        display: none;\n",
              "        fill: #1967D2;\n",
              "        height: 32px;\n",
              "        padding: 0 0 0 0;\n",
              "        width: 32px;\n",
              "      }\n",
              "\n",
              "      .colab-df-generate:hover {\n",
              "        background-color: #E2EBFA;\n",
              "        box-shadow: 0px 1px 2px rgba(60, 64, 67, 0.3), 0px 1px 3px 1px rgba(60, 64, 67, 0.15);\n",
              "        fill: #174EA6;\n",
              "      }\n",
              "\n",
              "      [theme=dark] .colab-df-generate {\n",
              "        background-color: #3B4455;\n",
              "        fill: #D2E3FC;\n",
              "      }\n",
              "\n",
              "      [theme=dark] .colab-df-generate:hover {\n",
              "        background-color: #434B5C;\n",
              "        box-shadow: 0px 1px 3px 1px rgba(0, 0, 0, 0.15);\n",
              "        filter: drop-shadow(0px 1px 2px rgba(0, 0, 0, 0.3));\n",
              "        fill: #FFFFFF;\n",
              "      }\n",
              "    </style>\n",
              "    <button class=\"colab-df-generate\" onclick=\"generateWithVariable('X')\"\n",
              "            title=\"Generate code using this dataframe.\"\n",
              "            style=\"display:none;\">\n",
              "\n",
              "  <svg xmlns=\"http://www.w3.org/2000/svg\" height=\"24px\"viewBox=\"0 0 24 24\"\n",
              "       width=\"24px\">\n",
              "    <path d=\"M7,19H8.4L18.45,9,17,7.55,7,17.6ZM5,21V16.75L18.45,3.32a2,2,0,0,1,2.83,0l1.4,1.43a1.91,1.91,0,0,1,.58,1.4,1.91,1.91,0,0,1-.58,1.4L9.25,21ZM18.45,9,17,7.55Zm-12,3A5.31,5.31,0,0,0,4.9,8.1,5.31,5.31,0,0,0,1,6.5,5.31,5.31,0,0,0,4.9,4.9,5.31,5.31,0,0,0,6.5,1,5.31,5.31,0,0,0,8.1,4.9,5.31,5.31,0,0,0,12,6.5,5.46,5.46,0,0,0,6.5,12Z\"/>\n",
              "  </svg>\n",
              "    </button>\n",
              "    <script>\n",
              "      (() => {\n",
              "      const buttonEl =\n",
              "        document.querySelector('#id_f75fec6f-4de6-4415-b43e-13c248cb1859 button.colab-df-generate');\n",
              "      buttonEl.style.display =\n",
              "        google.colab.kernel.accessAllowed ? 'block' : 'none';\n",
              "\n",
              "      buttonEl.onclick = () => {\n",
              "        google.colab.notebook.generateWithVariable('X');\n",
              "      }\n",
              "      })();\n",
              "    </script>\n",
              "  </div>\n",
              "\n",
              "    </div>\n",
              "  </div>\n"
            ]
          },
          "metadata": {},
          "execution_count": 186
        }
      ]
    },
    {
      "cell_type": "code",
      "source": [
        "X[\"age\"].plot(kind=\"hist\")"
      ],
      "metadata": {
        "colab": {
          "base_uri": "https://localhost:8080/",
          "height": 447
        },
        "id": "Pa4ZRXbiBhmD",
        "outputId": "b72382d1-04d7-42e0-a988-827e944a462c"
      },
      "execution_count": 187,
      "outputs": [
        {
          "output_type": "execute_result",
          "data": {
            "text/plain": [
              "<Axes: ylabel='Frequency'>"
            ]
          },
          "metadata": {},
          "execution_count": 187
        },
        {
          "output_type": "display_data",
          "data": {
            "text/plain": [
              "<Figure size 640x480 with 1 Axes>"
            ],
            "image/png": "[encoded data removed]"
          },
          "metadata": {}
        }
      ]
    },
    {
      "cell_type": "code",
      "source": [
        "X[\"bmi\"].plot(kind=\"hist\")"
      ],
      "metadata": {
        "colab": {
          "base_uri": "https://localhost:8080/",
          "height": 447
        },
        "id": "KK_1gZO_Bql7",
        "outputId": "fc59529b-3a77-47ab-966a-913bd43495c4"
      },
      "execution_count": 188,
      "outputs": [
        {
          "output_type": "execute_result",
          "data": {
            "text/plain": [
              "<Axes: ylabel='Frequency'>"
            ]
          },
          "metadata": {},
          "execution_count": 188
        },
        {
          "output_type": "display_data",
          "data": {
            "text/plain": [
              "<Figure size 640x480 with 1 Axes>"
            ],
            "image/png": "[encoded data removed]"
          },
          "metadata": {}
        }
      ]
    },
    {
      "cell_type": "code",
      "source": [
        "X[\"children\"].value_counts()"
      ],
      "metadata": {
        "colab": {
          "base_uri": "https://localhost:8080/"
        },
        "id": "wxxtc7UEBsLz",
        "outputId": "c28d0684-4b1a-42b8-ee8e-7f39dfa02a42"
      },
      "execution_count": 189,
      "outputs": [
        {
          "output_type": "execute_result",
          "data": {
            "text/plain": [
              "0    574\n",
              "1    324\n",
              "2    240\n",
              "3    157\n",
              "4     25\n",
              "5     18\n",
              "Name: children, dtype: int64"
            ]
          },
          "metadata": {},
          "execution_count": 189
        }
      ]
    },
    {
      "cell_type": "code",
      "source": [
        "import pandas as pd\n",
        "import matplotlib.pyplot as plt\n",
        "import tensorflow as tf\n",
        "\n",
        "# Read in the insurance dataframe\n",
        "insurance = pd.read_csv(\"https://raw.githubusercontent.com/stedy/Machine-Learning-with-R-datasets/master/insurance.csv\")\n",
        "insurance"
      ],
      "metadata": {
        "colab": {
          "base_uri": "https://localhost:8080/",
          "height": 424
        },
        "id": "v2p7DYx2By4A",
        "outputId": "916e9467-b5a2-4bcb-8356-c5029e600316"
      },
      "execution_count": 190,
      "outputs": [
        {
          "output_type": "execute_result",
          "data": {
            "text/plain": [
              "      age     sex     bmi  children smoker     region      charges\n",
              "0      19  female  27.900         0    yes  southwest  16884.92400\n",
              "1      18    male  33.770         1     no  southeast   1725.55230\n",
              "2      28    male  33.000         3     no  southeast   4449.46200\n",
              "3      33    male  22.705         0     no  northwest  21984.47061\n",
              "4      32    male  28.880         0     no  northwest   3866.85520\n",
              "...   ...     ...     ...       ...    ...        ...          ...\n",
              "1333   50    male  30.970         3     no  northwest  10600.54830\n",
              "1334   18  female  31.920         0     no  northeast   2205.98080\n",
              "1335   18  female  36.850         0     no  southeast   1629.83350\n",
              "1336   21  female  25.800         0     no  southwest   2007.94500\n",
              "1337   61  female  29.070         0    yes  northwest  29141.36030\n",
              "\n",
              "[1338 rows x 7 columns]"
            ],
            "text/html": [
              "\n",
              "  <div id=\"df-b3b638ab-eb56-45d7-b2b8-cd880ba9e531\" class=\"colab-df-container\">\n",
              "    <div>\n",
              "<style scoped>\n",
              "    .dataframe tbody tr th:only-of-type {\n",
              "        vertical-align: middle;\n",
              "    }\n",
              "\n",
              "    .dataframe tbody tr th {\n",
              "        vertical-align: top;\n",
              "    }\n",
              "\n",
              "    .dataframe thead th {\n",
              "        text-align: right;\n",
              "    }\n",
              "</style>\n",
              "<table border=\"1\" class=\"dataframe\">\n",
              "  <thead>\n",
              "    <tr style=\"text-align: right;\">\n",
              "      <th></th>\n",
              "      <th>age</th>\n",
              "      <th>sex</th>\n",
              "      <th>bmi</th>\n",
              "      <th>children</th>\n",
              "      <th>smoker</th>\n",
              "      <th>region</th>\n",
              "      <th>charges</th>\n",
              "    </tr>\n",
              "  </thead>\n",
              "  <tbody>\n",
              "    <tr>\n",
              "      <th>0</th>\n",
              "      <td>19</td>\n",
              "      <td>female</td>\n",
              "      <td>27.900</td>\n",
              "      <td>0</td>\n",
              "      <td>yes</td>\n",
              "      <td>southwest</td>\n",
              "      <td>16884.92400</td>\n",
              "    </tr>\n",
              "    <tr>\n",
              "      <th>1</th>\n",
              "      <td>18</td>\n",
              "      <td>male</td>\n",
              "      <td>33.770</td>\n",
              "      <td>1</td>\n",
              "      <td>no</td>\n",
              "      <td>southeast</td>\n",
              "      <td>1725.55230</td>\n",
              "    </tr>\n",
              "    <tr>\n",
              "      <th>2</th>\n",
              "      <td>28</td>\n",
              "      <td>male</td>\n",
              "      <td>33.000</td>\n",
              "      <td>3</td>\n",
              "      <td>no</td>\n",
              "      <td>southeast</td>\n",
              "      <td>4449.46200</td>\n",
              "    </tr>\n",
              "    <tr>\n",
              "      <th>3</th>\n",
              "      <td>33</td>\n",
              "      <td>male</td>\n",
              "      <td>22.705</td>\n",
              "      <td>0</td>\n",
              "      <td>no</td>\n",
              "      <td>northwest</td>\n",
              "      <td>21984.47061</td>\n",
              "    </tr>\n",
              "    <tr>\n",
              "      <th>4</th>\n",
              "      <td>32</td>\n",
              "      <td>male</td>\n",
              "      <td>28.880</td>\n",
              "      <td>0</td>\n",
              "      <td>no</td>\n",
              "      <td>northwest</td>\n",
              "      <td>3866.85520</td>\n",
              "    </tr>\n",
              "    <tr>\n",
              "      <th>...</th>\n",
              "      <td>...</td>\n",
              "      <td>...</td>\n",
              "      <td>...</td>\n",
              "      <td>...</td>\n",
              "      <td>...</td>\n",
              "      <td>...</td>\n",
              "      <td>...</td>\n",
              "    </tr>\n",
              "    <tr>\n",
              "      <th>1333</th>\n",
              "      <td>50</td>\n",
              "      <td>male</td>\n",
              "      <td>30.970</td>\n",
              "      <td>3</td>\n",
              "      <td>no</td>\n",
              "      <td>northwest</td>\n",
              "      <td>10600.54830</td>\n",
              "    </tr>\n",
              "    <tr>\n",
              "      <th>1334</th>\n",
              "      <td>18</td>\n",
              "      <td>female</td>\n",
              "      <td>31.920</td>\n",
              "      <td>0</td>\n",
              "      <td>no</td>\n",
              "      <td>northeast</td>\n",
              "      <td>2205.98080</td>\n",
              "    </tr>\n",
              "    <tr>\n",
              "      <th>1335</th>\n",
              "      <td>18</td>\n",
              "      <td>female</td>\n",
              "      <td>36.850</td>\n",
              "      <td>0</td>\n",
              "      <td>no</td>\n",
              "      <td>southeast</td>\n",
              "      <td>1629.83350</td>\n",
              "    </tr>\n",
              "    <tr>\n",
              "      <th>1336</th>\n",
              "      <td>21</td>\n",
              "      <td>female</td>\n",
              "      <td>25.800</td>\n",
              "      <td>0</td>\n",
              "      <td>no</td>\n",
              "      <td>southwest</td>\n",
              "      <td>2007.94500</td>\n",
              "    </tr>\n",
              "    <tr>\n",
              "      <th>1337</th>\n",
              "      <td>61</td>\n",
              "      <td>female</td>\n",
              "      <td>29.070</td>\n",
              "      <td>0</td>\n",
              "      <td>yes</td>\n",
              "      <td>northwest</td>\n",
              "      <td>29141.36030</td>\n",
              "    </tr>\n",
              "  </tbody>\n",
              "</table>\n",
              "<p>1338 rows × 7 columns</p>\n",
              "</div>\n",
              "    <div class=\"colab-df-buttons\">\n",
              "\n",
              "  <div class=\"colab-df-container\">\n",
              "    <button class=\"colab-df-convert\" onclick=\"convertToInteractive('df-b3b638ab-eb56-45d7-b2b8-cd880ba9e531')\"\n",
              "            title=\"Convert this dataframe to an interactive table.\"\n",
              "            style=\"display:none;\">\n",
              "\n",
              "  <svg xmlns=\"http://www.w3.org/2000/svg\" height=\"24px\" viewBox=\"0 -960 960 960\">\n",
              "    <path d=\"M120-120v-720h720v720H120Zm60-500h600v-160H180v160Zm220 220h160v-160H400v160Zm0 220h160v-160H400v160ZM180-400h160v-160H180v160Zm440 0h160v-160H620v160ZM180-180h160v-160H180v160Zm440 0h160v-160H620v160Z\"/>\n",
              "  </svg>\n",
              "    </button>\n",
              "\n",
              "  <style>\n",
              "    .colab-df-container {\n",
              "      display:flex;\n",
              "      gap: 12px;\n",
              "    }\n",
              "\n",
              "    .colab-df-convert {\n",
              "      background-color: #E8F0FE;\n",
              "      border: none;\n",
              "      border-radius: 50%;\n",
              "      cursor: pointer;\n",
              "      display: none;\n",
              "      fill: #1967D2;\n",
              "      height: 32px;\n",
              "      padding: 0 0 0 0;\n",
              "      width: 32px;\n",
              "    }\n",
              "\n",
              "    .colab-df-convert:hover {\n",
              "      background-color: #E2EBFA;\n",
              "      box-shadow: 0px 1px 2px rgba(60, 64, 67, 0.3), 0px 1px 3px 1px rgba(60, 64, 67, 0.15);\n",
              "      fill: #174EA6;\n",
              "    }\n",
              "\n",
              "    .colab-df-buttons div {\n",
              "      margin-bottom: 4px;\n",
              "    }\n",
              "\n",
              "    [theme=dark] .colab-df-convert {\n",
              "      background-color: #3B4455;\n",
              "      fill: #D2E3FC;\n",
              "    }\n",
              "\n",
              "    [theme=dark] .colab-df-convert:hover {\n",
              "      background-color: #434B5C;\n",
              "      box-shadow: 0px 1px 3px 1px rgba(0, 0, 0, 0.15);\n",
              "      filter: drop-shadow(0px 1px 2px rgba(0, 0, 0, 0.3));\n",
              "      fill: #FFFFFF;\n",
              "    }\n",
              "  </style>\n",
              "\n",
              "    <script>\n",
              "      const buttonEl =\n",
              "        document.querySelector('#df-b3b638ab-eb56-45d7-b2b8-cd880ba9e531 button.colab-df-convert');\n",
              "      buttonEl.style.display =\n",
              "        google.colab.kernel.accessAllowed ? 'block' : 'none';\n",
              "\n",
              "      async function convertToInteractive(key) {\n",
              "        const element = document.querySelector('#df-b3b638ab-eb56-45d7-b2b8-cd880ba9e531');\n",
              "        const dataTable =\n",
              "          await google.colab.kernel.invokeFunction('convertToInteractive',\n",
              "                                                    [key], {});\n",
              "        if (!dataTable) return;\n",
              "\n",
              "        const docLinkHtml = 'Like what you see? Visit the ' +\n",
              "          '<a target=\"_blank\" href=https://colab.research.google.com/notebooks/data_table.ipynb>data table notebook</a>'\n",
              "          + ' to learn more about interactive tables.';\n",
              "        element.innerHTML = '';\n",
              "        dataTable['output_type'] = 'display_data';\n",
              "        await google.colab.output.renderOutput(dataTable, element);\n",
              "        const docLink = document.createElement('div');\n",
              "        docLink.innerHTML = docLinkHtml;\n",
              "        element.appendChild(docLink);\n",
              "      }\n",
              "    </script>\n",
              "  </div>\n",
              "\n",
              "\n",
              "<div id=\"df-99bc6734-a3f3-4dcd-bd6c-20930cdba19c\">\n",
              "  <button class=\"colab-df-quickchart\" onclick=\"quickchart('df-99bc6734-a3f3-4dcd-bd6c-20930cdba19c')\"\n",
              "            title=\"Suggest charts\"\n",
              "            style=\"display:none;\">\n",
              "\n",
              "<svg xmlns=\"http://www.w3.org/2000/svg\" height=\"24px\"viewBox=\"0 0 24 24\"\n",
              "     width=\"24px\">\n",
              "    <g>\n",
              "        <path d=\"M19 3H5c-1.1 0-2 .9-2 2v14c0 1.1.9 2 2 2h14c1.1 0 2-.9 2-2V5c0-1.1-.9-2-2-2zM9 17H7v-7h2v7zm4 0h-2V7h2v10zm4 0h-2v-4h2v4z\"/>\n",
              "    </g>\n",
              "</svg>\n",
              "  </button>\n",
              "\n",
              "<style>\n",
              "  .colab-df-quickchart {\n",
              "      --bg-color: #E8F0FE;\n",
              "      --fill-color: #1967D2;\n",
              "      --hover-bg-color: #E2EBFA;\n",
              "      --hover-fill-color: #174EA6;\n",
              "      --disabled-fill-color: #AAA;\n",
              "      --disabled-bg-color: #DDD;\n",
              "  }\n",
              "\n",
              "  [theme=dark] .colab-df-quickchart {\n",
              "      --bg-color: #3B4455;\n",
              "      --fill-color: #D2E3FC;\n",
              "      --hover-bg-color: #434B5C;\n",
              "      --hover-fill-color: #FFFFFF;\n",
              "      --disabled-bg-color: #3B4455;\n",
              "      --disabled-fill-color: #666;\n",
              "  }\n",
              "\n",
              "  .colab-df-quickchart {\n",
              "    background-color: var(--bg-color);\n",
              "    border: none;\n",
              "    border-radius: 50%;\n",
              "    cursor: pointer;\n",
              "    display: none;\n",
              "    fill: var(--fill-color);\n",
              "    height: 32px;\n",
              "    padding: 0;\n",
              "    width: 32px;\n",
              "  }\n",
              "\n",
              "  .colab-df-quickchart:hover {\n",
              "    background-color: var(--hover-bg-color);\n",
              "    box-shadow: 0 1px 2px rgba(60, 64, 67, 0.3), 0 1px 3px 1px rgba(60, 64, 67, 0.15);\n",
              "    fill: var(--button-hover-fill-color);\n",
              "  }\n",
              "\n",
              "  .colab-df-quickchart-complete:disabled,\n",
              "  .colab-df-quickchart-complete:disabled:hover {\n",
              "    background-color: var(--disabled-bg-color);\n",
              "    fill: var(--disabled-fill-color);\n",
              "    box-shadow: none;\n",
              "  }\n",
              "\n",
              "  .colab-df-spinner {\n",
              "    border: 2px solid var(--fill-color);\n",
              "    border-color: transparent;\n",
              "    border-bottom-color: var(--fill-color);\n",
              "    animation:\n",
              "      spin 1s steps(1) infinite;\n",
              "  }\n",
              "\n",
              "  @keyframes spin {\n",
              "    0% {\n",
              "      border-color: transparent;\n",
              "      border-bottom-color: var(--fill-color);\n",
              "      border-left-color: var(--fill-color);\n",
              "    }\n",
              "    20% {\n",
              "      border-color: transparent;\n",
              "      border-left-color: var(--fill-color);\n",
              "      border-top-color: var(--fill-color);\n",
              "    }\n",
              "    30% {\n",
              "      border-color: transparent;\n",
              "      border-left-color: var(--fill-color);\n",
              "      border-top-color: var(--fill-color);\n",
              "      border-right-color: var(--fill-color);\n",
              "    }\n",
              "    40% {\n",
              "      border-color: transparent;\n",
              "      border-right-color: var(--fill-color);\n",
              "      border-top-color: var(--fill-color);\n",
              "    }\n",
              "    60% {\n",
              "      border-color: transparent;\n",
              "      border-right-color: var(--fill-color);\n",
              "    }\n",
              "    80% {\n",
              "      border-color: transparent;\n",
              "      border-right-color: var(--fill-color);\n",
              "      border-bottom-color: var(--fill-color);\n",
              "    }\n",
              "    90% {\n",
              "      border-color: transparent;\n",
              "      border-bottom-color: var(--fill-color);\n",
              "    }\n",
              "  }\n",
              "</style>\n",
              "\n",
              "  <script>\n",
              "    async function quickchart(key) {\n",
              "      const quickchartButtonEl =\n",
              "        document.querySelector('#' + key + ' button');\n",
              "      quickchartButtonEl.disabled = true;  // To prevent multiple clicks.\n",
              "      quickchartButtonEl.classList.add('colab-df-spinner');\n",
              "      try {\n",
              "        const charts = await google.colab.kernel.invokeFunction(\n",
              "            'suggestCharts', [key], {});\n",
              "      } catch (error) {\n",
              "        console.error('Error during call to suggestCharts:', error);\n",
              "      }\n",
              "      quickchartButtonEl.classList.remove('colab-df-spinner');\n",
              "      quickchartButtonEl.classList.add('colab-df-quickchart-complete');\n",
              "    }\n",
              "    (() => {\n",
              "      let quickchartButtonEl =\n",
              "        document.querySelector('#df-99bc6734-a3f3-4dcd-bd6c-20930cdba19c button');\n",
              "      quickchartButtonEl.style.display =\n",
              "        google.colab.kernel.accessAllowed ? 'block' : 'none';\n",
              "    })();\n",
              "  </script>\n",
              "</div>\n",
              "\n",
              "  <div id=\"id_6dc2bdfc-d8fe-4d05-99aa-1df7f2c559c1\">\n",
              "    <style>\n",
              "      .colab-df-generate {\n",
              "        background-color: #E8F0FE;\n",
              "        border: none;\n",
              "        border-radius: 50%;\n",
              "        cursor: pointer;\n",
              "        display: none;\n",
              "        fill: #1967D2;\n",
              "        height: 32px;\n",
              "        padding: 0 0 0 0;\n",
              "        width: 32px;\n",
              "      }\n",
              "\n",
              "      .colab-df-generate:hover {\n",
              "        background-color: #E2EBFA;\n",
              "        box-shadow: 0px 1px 2px rgba(60, 64, 67, 0.3), 0px 1px 3px 1px rgba(60, 64, 67, 0.15);\n",
              "        fill: #174EA6;\n",
              "      }\n",
              "\n",
              "      [theme=dark] .colab-df-generate {\n",
              "        background-color: #3B4455;\n",
              "        fill: #D2E3FC;\n",
              "      }\n",
              "\n",
              "      [theme=dark] .colab-df-generate:hover {\n",
              "        background-color: #434B5C;\n",
              "        box-shadow: 0px 1px 3px 1px rgba(0, 0, 0, 0.15);\n",
              "        filter: drop-shadow(0px 1px 2px rgba(0, 0, 0, 0.3));\n",
              "        fill: #FFFFFF;\n",
              "      }\n",
              "    </style>\n",
              "    <button class=\"colab-df-generate\" onclick=\"generateWithVariable('insurance')\"\n",
              "            title=\"Generate code using this dataframe.\"\n",
              "            style=\"display:none;\">\n",
              "\n",
              "  <svg xmlns=\"http://www.w3.org/2000/svg\" height=\"24px\"viewBox=\"0 0 24 24\"\n",
              "       width=\"24px\">\n",
              "    <path d=\"M7,19H8.4L18.45,9,17,7.55,7,17.6ZM5,21V16.75L18.45,3.32a2,2,0,0,1,2.83,0l1.4,1.43a1.91,1.91,0,0,1,.58,1.4,1.91,1.91,0,0,1-.58,1.4L9.25,21ZM18.45,9,17,7.55Zm-12,3A5.31,5.31,0,0,0,4.9,8.1,5.31,5.31,0,0,0,1,6.5,5.31,5.31,0,0,0,4.9,4.9,5.31,5.31,0,0,0,6.5,1,5.31,5.31,0,0,0,8.1,4.9,5.31,5.31,0,0,0,12,6.5,5.46,5.46,0,0,0,6.5,12Z\"/>\n",
              "  </svg>\n",
              "    </button>\n",
              "    <script>\n",
              "      (() => {\n",
              "      const buttonEl =\n",
              "        document.querySelector('#id_6dc2bdfc-d8fe-4d05-99aa-1df7f2c559c1 button.colab-df-generate');\n",
              "      buttonEl.style.display =\n",
              "        google.colab.kernel.accessAllowed ? 'block' : 'none';\n",
              "\n",
              "      buttonEl.onclick = () => {\n",
              "        google.colab.notebook.generateWithVariable('insurance');\n",
              "      }\n",
              "      })();\n",
              "    </script>\n",
              "  </div>\n",
              "\n",
              "    </div>\n",
              "  </div>\n"
            ]
          },
          "metadata": {},
          "execution_count": 190
        }
      ]
    },
    {
      "cell_type": "code",
      "source": [
        "from sklearn.compose import make_column_transformer\n",
        "from sklearn.preprocessing import MinMaxScaler, OneHotEncoder\n",
        "from sklearn.model_selection import train_test_split\n",
        "\n",
        "# Create a column transformer\n",
        "ct = make_column_transformer(\n",
        "    (MinMaxScaler(), [\"age\", \"bmi\", \"children\"]), # turn all values from these columns between 0 and 1\n",
        "    (OneHotEncoder(handle_unknown=\"ignore\"), [\"sex\", \"smoker\", \"region\"])\n",
        ")\n",
        "\n",
        "# Create X & y\n",
        "X = insurance.drop(\"charges\", axis=1)\n",
        "y = insurance[\"charges\"]\n",
        "\n",
        "# Build our train and test sets\n",
        "X_train, X_test, y_train, y_test = train_test_split(X, y, test_size=0.2, random_state=42)\n",
        "\n",
        "# Fit the column transformer to our training data\n",
        "ct.fit(X_train)\n",
        "\n",
        "# Transform training and test data with normalization (MinMaxScaler) and (OneHotEncoder)\n",
        "X_train_normal = ct.transform(X_train)\n",
        "X_test_normal = ct.transform(X_test)"
      ],
      "metadata": {
        "id": "quLoSTGhChkG"
      },
      "execution_count": 191,
      "outputs": []
    },
    {
      "cell_type": "code",
      "source": [
        "# What does our data look like now\n",
        "X_train.loc[0]"
      ],
      "metadata": {
        "colab": {
          "base_uri": "https://localhost:8080/"
        },
        "id": "tZuD5XFuEtjh",
        "outputId": "7205e90c-b2a0-419a-a243-ba970647c9db"
      },
      "execution_count": 207,
      "outputs": [
        {
          "output_type": "execute_result",
          "data": {
            "text/plain": [
              "age                19\n",
              "sex            female\n",
              "bmi              27.9\n",
              "children            0\n",
              "smoker            yes\n",
              "region      southwest\n",
              "Name: 0, dtype: object"
            ]
          },
          "metadata": {},
          "execution_count": 207
        }
      ]
    },
    {
      "cell_type": "code",
      "source": [
        "X_train_normal[0]"
      ],
      "metadata": {
        "colab": {
          "base_uri": "https://localhost:8080/"
        },
        "id": "3EulWlTVE2k1",
        "outputId": "f7c84d10-0fc7-4459-d381-93c7594c8a8d"
      },
      "execution_count": 206,
      "outputs": [
        {
          "output_type": "execute_result",
          "data": {
            "text/plain": [
              "array([0.60869565, 0.10734463, 0.4       , 1.        , 0.        ,\n",
              "       1.        , 0.        , 0.        , 1.        , 0.        ,\n",
              "       0.        ])"
            ]
          },
          "metadata": {},
          "execution_count": 206
        }
      ]
    },
    {
      "cell_type": "code",
      "source": [
        "X_train.shape, X_train_normal.shape"
      ],
      "metadata": {
        "colab": {
          "base_uri": "https://localhost:8080/"
        },
        "id": "nb2maVtkE7CT",
        "outputId": "80042e63-93bc-49ad-fe8f-8e0c41143218"
      },
      "execution_count": 196,
      "outputs": [
        {
          "output_type": "execute_result",
          "data": {
            "text/plain": [
              "((1070, 6), (1070, 11))"
            ]
          },
          "metadata": {},
          "execution_count": 196
        }
      ]
    },
    {
      "cell_type": "code",
      "source": [
        "# Build a neural network model to fit on our normalized data\n",
        "tf.random.set_seed(42)\n",
        "\n",
        "# 1. Create the model\n",
        "insurance_model_4 = tf.keras.Sequential([\n",
        "  tf.keras.layers.Dense(100),\n",
        "  tf.keras.layers.Dense(10),\n",
        "  tf.keras.layers.Dense(1)\n",
        "])\n",
        "\n",
        "# 2. Compile the model\n",
        "insurance_model_4.compile(loss=tf.keras.losses.mae,\n",
        "                          optimizer=tf.keras.optimizers.Adam(),\n",
        "                          metrics=[\"mae\"])\n",
        "\n",
        "# 3. Fit the model\n",
        "insurance_model_4.fit(X_train_normal, y_train, epochs=100)"
      ],
      "metadata": {
        "colab": {
          "base_uri": "https://localhost:8080/"
        },
        "id": "P6fhKgynFCbG",
        "outputId": "4f2a4717-b836-4eea-8740-b55c96ef3fb9"
      },
      "execution_count": 197,
      "outputs": [
        {
          "output_type": "stream",
          "name": "stdout",
          "text": [
            "Epoch 1/100\n",
            "34/34 [==============================] - 1s 4ms/step - loss: 13342.8301 - mae: 13342.8301\n",
            "Epoch 2/100\n",
            "34/34 [==============================] - 0s 4ms/step - loss: 13331.8926 - mae: 13331.8926\n",
            "Epoch 3/100\n",
            "34/34 [==============================] - 0s 4ms/step - loss: 13305.4873 - mae: 13305.4873\n",
            "Epoch 4/100\n",
            "34/34 [==============================] - 0s 4ms/step - loss: 13252.7188 - mae: 13252.7188\n",
            "Epoch 5/100\n",
            "34/34 [==============================] - 0s 4ms/step - loss: 13162.5732 - mae: 13162.5732\n",
            "Epoch 6/100\n",
            "34/34 [==============================] - 0s 4ms/step - loss: 13024.0098 - mae: 13024.0098\n",
            "Epoch 7/100\n",
            "34/34 [==============================] - 0s 3ms/step - loss: 12826.9043 - mae: 12826.9043\n",
            "Epoch 8/100\n",
            "34/34 [==============================] - 0s 3ms/step - loss: 12561.4160 - mae: 12561.4160\n",
            "Epoch 9/100\n",
            "34/34 [==============================] - 0s 3ms/step - loss: 12217.6240 - mae: 12217.6240\n",
            "Epoch 10/100\n",
            "34/34 [==============================] - 0s 3ms/step - loss: 11795.8398 - mae: 11795.8398\n",
            "Epoch 11/100\n",
            "34/34 [==============================] - 0s 2ms/step - loss: 11310.4980 - mae: 11310.4980\n",
            "Epoch 12/100\n",
            "34/34 [==============================] - 0s 3ms/step - loss: 10807.0977 - mae: 10807.0977\n",
            "Epoch 13/100\n",
            "34/34 [==============================] - 0s 3ms/step - loss: 10309.2549 - mae: 10309.2549\n",
            "Epoch 14/100\n",
            "34/34 [==============================] - 0s 2ms/step - loss: 9821.8877 - mae: 9821.8877\n",
            "Epoch 15/100\n",
            "34/34 [==============================] - 0s 2ms/step - loss: 9366.7529 - mae: 9366.7529\n",
            "Epoch 16/100\n",
            "34/34 [==============================] - 0s 2ms/step - loss: 8967.8281 - mae: 8967.8281\n",
            "Epoch 17/100\n",
            "34/34 [==============================] - 0s 3ms/step - loss: 8640.0459 - mae: 8640.0459\n",
            "Epoch 18/100\n",
            "34/34 [==============================] - 0s 2ms/step - loss: 8375.2861 - mae: 8375.2861\n",
            "Epoch 19/100\n",
            "34/34 [==============================] - 0s 3ms/step - loss: 8181.7422 - mae: 8181.7422\n",
            "Epoch 20/100\n",
            "34/34 [==============================] - 0s 3ms/step - loss: 8048.7617 - mae: 8048.7617\n",
            "Epoch 21/100\n",
            "34/34 [==============================] - 0s 3ms/step - loss: 7949.9917 - mae: 7949.9917\n",
            "Epoch 22/100\n",
            "34/34 [==============================] - 0s 2ms/step - loss: 7881.4385 - mae: 7881.4385\n",
            "Epoch 23/100\n",
            "34/34 [==============================] - 0s 1ms/step - loss: 7826.4072 - mae: 7826.4072\n",
            "Epoch 24/100\n",
            "34/34 [==============================] - 0s 1ms/step - loss: 7776.1973 - mae: 7776.1973\n",
            "Epoch 25/100\n",
            "34/34 [==============================] - 0s 1ms/step - loss: 7737.1616 - mae: 7737.1616\n",
            "Epoch 26/100\n",
            "34/34 [==============================] - 0s 1ms/step - loss: 7685.4692 - mae: 7685.4692\n",
            "Epoch 27/100\n",
            "34/34 [==============================] - 0s 1ms/step - loss: 7642.4658 - mae: 7642.4658\n",
            "Epoch 28/100\n",
            "34/34 [==============================] - 0s 1ms/step - loss: 7598.8550 - mae: 7598.8550\n",
            "Epoch 29/100\n",
            "34/34 [==============================] - 0s 1ms/step - loss: 7555.0361 - mae: 7555.0361\n",
            "Epoch 30/100\n",
            "34/34 [==============================] - 0s 2ms/step - loss: 7510.5054 - mae: 7510.5054\n",
            "Epoch 31/100\n",
            "34/34 [==============================] - 0s 1ms/step - loss: 7465.3975 - mae: 7465.3975\n",
            "Epoch 32/100\n",
            "34/34 [==============================] - 0s 1ms/step - loss: 7419.9771 - mae: 7419.9771\n",
            "Epoch 33/100\n",
            "34/34 [==============================] - 0s 1ms/step - loss: 7374.3730 - mae: 7374.3730\n",
            "Epoch 34/100\n",
            "34/34 [==============================] - 0s 2ms/step - loss: 7324.5376 - mae: 7324.5376\n",
            "Epoch 35/100\n",
            "34/34 [==============================] - 0s 2ms/step - loss: 7276.2495 - mae: 7276.2495\n",
            "Epoch 36/100\n",
            "34/34 [==============================] - 0s 1ms/step - loss: 7224.3906 - mae: 7224.3906\n",
            "Epoch 37/100\n",
            "34/34 [==============================] - 0s 2ms/step - loss: 7172.3540 - mae: 7172.3540\n",
            "Epoch 38/100\n",
            "34/34 [==============================] - 0s 1ms/step - loss: 7119.3813 - mae: 7119.3813\n",
            "Epoch 39/100\n",
            "34/34 [==============================] - 0s 1ms/step - loss: 7062.5103 - mae: 7062.5103\n",
            "Epoch 40/100\n",
            "34/34 [==============================] - 0s 2ms/step - loss: 7004.9336 - mae: 7004.9336\n",
            "Epoch 41/100\n",
            "34/34 [==============================] - 0s 2ms/step - loss: 6946.1343 - mae: 6946.1343\n",
            "Epoch 42/100\n",
            "34/34 [==============================] - 0s 2ms/step - loss: 6884.4282 - mae: 6884.4282\n",
            "Epoch 43/100\n",
            "34/34 [==============================] - 0s 2ms/step - loss: 6819.0356 - mae: 6819.0356\n",
            "Epoch 44/100\n",
            "34/34 [==============================] - 0s 1ms/step - loss: 6749.7207 - mae: 6749.7207\n",
            "Epoch 45/100\n",
            "34/34 [==============================] - 0s 1ms/step - loss: 6679.2808 - mae: 6679.2808\n",
            "Epoch 46/100\n",
            "34/34 [==============================] - 0s 1ms/step - loss: 6606.8530 - mae: 6606.8530\n",
            "Epoch 47/100\n",
            "34/34 [==============================] - 0s 1ms/step - loss: 6531.9229 - mae: 6531.9229\n",
            "Epoch 48/100\n",
            "34/34 [==============================] - 0s 1ms/step - loss: 6448.9468 - mae: 6448.9468\n",
            "Epoch 49/100\n",
            "34/34 [==============================] - 0s 1ms/step - loss: 6365.9478 - mae: 6365.9478\n",
            "Epoch 50/100\n",
            "34/34 [==============================] - 0s 1ms/step - loss: 6275.4844 - mae: 6275.4844\n",
            "Epoch 51/100\n",
            "34/34 [==============================] - 0s 1ms/step - loss: 6186.2285 - mae: 6186.2285\n",
            "Epoch 52/100\n",
            "34/34 [==============================] - 0s 1ms/step - loss: 6087.7842 - mae: 6087.7842\n",
            "Epoch 53/100\n",
            "34/34 [==============================] - 0s 1ms/step - loss: 5986.2510 - mae: 5986.2510\n",
            "Epoch 54/100\n",
            "34/34 [==============================] - 0s 1ms/step - loss: 5881.6460 - mae: 5881.6460\n",
            "Epoch 55/100\n",
            "34/34 [==============================] - 0s 1ms/step - loss: 5768.2559 - mae: 5768.2559\n",
            "Epoch 56/100\n",
            "34/34 [==============================] - 0s 1ms/step - loss: 5653.5713 - mae: 5653.5713\n",
            "Epoch 57/100\n",
            "34/34 [==============================] - 0s 2ms/step - loss: 5533.5571 - mae: 5533.5571\n",
            "Epoch 58/100\n",
            "34/34 [==============================] - 0s 1ms/step - loss: 5413.4531 - mae: 5413.4531\n",
            "Epoch 59/100\n",
            "34/34 [==============================] - 0s 1ms/step - loss: 5287.3530 - mae: 5287.3530\n",
            "Epoch 60/100\n",
            "34/34 [==============================] - 0s 1ms/step - loss: 5160.0591 - mae: 5160.0591\n",
            "Epoch 61/100\n",
            "34/34 [==============================] - 0s 1ms/step - loss: 5029.7993 - mae: 5029.7993\n",
            "Epoch 62/100\n",
            "34/34 [==============================] - 0s 1ms/step - loss: 4894.6895 - mae: 4894.6895\n",
            "Epoch 63/100\n",
            "34/34 [==============================] - 0s 1ms/step - loss: 4764.1206 - mae: 4764.1206\n",
            "Epoch 64/100\n",
            "34/34 [==============================] - 0s 1ms/step - loss: 4631.5488 - mae: 4631.5488\n",
            "Epoch 65/100\n",
            "34/34 [==============================] - 0s 1ms/step - loss: 4507.8101 - mae: 4507.8101\n",
            "Epoch 66/100\n",
            "34/34 [==============================] - 0s 2ms/step - loss: 4392.3271 - mae: 4392.3271\n",
            "Epoch 67/100\n",
            "34/34 [==============================] - 0s 1ms/step - loss: 4287.9175 - mae: 4287.9175\n",
            "Epoch 68/100\n",
            "34/34 [==============================] - 0s 1ms/step - loss: 4184.0371 - mae: 4184.0371\n",
            "Epoch 69/100\n",
            "34/34 [==============================] - 0s 1ms/step - loss: 4090.8057 - mae: 4090.8057\n",
            "Epoch 70/100\n",
            "34/34 [==============================] - 0s 1ms/step - loss: 4006.6448 - mae: 4006.6448\n",
            "Epoch 71/100\n",
            "34/34 [==============================] - 0s 1ms/step - loss: 3931.4658 - mae: 3931.4658\n",
            "Epoch 72/100\n",
            "34/34 [==============================] - 0s 1ms/step - loss: 3868.3228 - mae: 3868.3228\n",
            "Epoch 73/100\n",
            "34/34 [==============================] - 0s 1ms/step - loss: 3817.2446 - mae: 3817.2446\n",
            "Epoch 74/100\n",
            "34/34 [==============================] - 0s 1ms/step - loss: 3774.0266 - mae: 3774.0266\n",
            "Epoch 75/100\n",
            "34/34 [==============================] - 0s 1ms/step - loss: 3744.2861 - mae: 3744.2861\n",
            "Epoch 76/100\n",
            "34/34 [==============================] - 0s 1ms/step - loss: 3722.6448 - mae: 3722.6448\n",
            "Epoch 77/100\n",
            "34/34 [==============================] - 0s 1ms/step - loss: 3704.5308 - mae: 3704.5308\n",
            "Epoch 78/100\n",
            "34/34 [==============================] - 0s 1ms/step - loss: 3693.1868 - mae: 3693.1868\n",
            "Epoch 79/100\n",
            "34/34 [==============================] - 0s 1ms/step - loss: 3684.5137 - mae: 3684.5137\n",
            "Epoch 80/100\n",
            "34/34 [==============================] - 0s 2ms/step - loss: 3677.1814 - mae: 3677.1814\n",
            "Epoch 81/100\n",
            "34/34 [==============================] - 0s 1ms/step - loss: 3672.6875 - mae: 3672.6875\n",
            "Epoch 82/100\n",
            "34/34 [==============================] - 0s 1ms/step - loss: 3670.3892 - mae: 3670.3892\n",
            "Epoch 83/100\n",
            "34/34 [==============================] - 0s 1ms/step - loss: 3665.3047 - mae: 3665.3047\n",
            "Epoch 84/100\n",
            "34/34 [==============================] - 0s 1ms/step - loss: 3662.8572 - mae: 3662.8572\n",
            "Epoch 85/100\n",
            "34/34 [==============================] - 0s 1ms/step - loss: 3660.7869 - mae: 3660.7869\n",
            "Epoch 86/100\n",
            "34/34 [==============================] - 0s 2ms/step - loss: 3659.2031 - mae: 3659.2031\n",
            "Epoch 87/100\n",
            "34/34 [==============================] - 0s 1ms/step - loss: 3656.4473 - mae: 3656.4473\n",
            "Epoch 88/100\n",
            "34/34 [==============================] - 0s 1ms/step - loss: 3654.1201 - mae: 3654.1201\n",
            "Epoch 89/100\n",
            "34/34 [==============================] - 0s 1ms/step - loss: 3653.0334 - mae: 3653.0334\n",
            "Epoch 90/100\n",
            "34/34 [==============================] - 0s 1ms/step - loss: 3651.0789 - mae: 3651.0789\n",
            "Epoch 91/100\n",
            "34/34 [==============================] - 0s 1ms/step - loss: 3648.0142 - mae: 3648.0142\n",
            "Epoch 92/100\n",
            "34/34 [==============================] - 0s 1ms/step - loss: 3647.3777 - mae: 3647.3777\n",
            "Epoch 93/100\n",
            "34/34 [==============================] - 0s 1ms/step - loss: 3645.0010 - mae: 3645.0010\n",
            "Epoch 94/100\n",
            "34/34 [==============================] - 0s 1ms/step - loss: 3643.3752 - mae: 3643.3752\n",
            "Epoch 95/100\n",
            "34/34 [==============================] - 0s 1ms/step - loss: 3644.6331 - mae: 3644.6331\n",
            "Epoch 96/100\n",
            "34/34 [==============================] - 0s 1ms/step - loss: 3641.1128 - mae: 3641.1128\n",
            "Epoch 97/100\n",
            "34/34 [==============================] - 0s 1ms/step - loss: 3639.0779 - mae: 3639.0779\n",
            "Epoch 98/100\n",
            "34/34 [==============================] - 0s 1ms/step - loss: 3636.7571 - mae: 3636.7571\n",
            "Epoch 99/100\n",
            "34/34 [==============================] - 0s 1ms/step - loss: 3636.0996 - mae: 3636.0996\n",
            "Epoch 100/100\n",
            "34/34 [==============================] - 0s 1ms/step - loss: 3634.8345 - mae: 3634.8345\n"
          ]
        },
        {
          "output_type": "execute_result",
          "data": {
            "text/plain": [
              "<keras.src.callbacks.History at 0x7f91faaa0850>"
            ]
          },
          "metadata": {},
          "execution_count": 197
        }
      ]
    },
    {
      "cell_type": "code",
      "source": [
        "# Evalaute our insurance model trained on normalized data\n",
        "insurance_model_4.evaluate(X_test_normal, y_test)"
      ],
      "metadata": {
        "colab": {
          "base_uri": "https://localhost:8080/"
        },
        "id": "vZlclL5YFJ4p",
        "outputId": "5895a038-70d1-4884-c39c-ebf04e6dae19"
      },
      "execution_count": 198,
      "outputs": [
        {
          "output_type": "stream",
          "name": "stdout",
          "text": [
            "9/9 [==============================] - 1s 3ms/step - loss: 3437.3328 - mae: 3437.3328\n"
          ]
        },
        {
          "output_type": "execute_result",
          "data": {
            "text/plain": [
              "[3437.332763671875, 3437.332763671875]"
            ]
          },
          "metadata": {},
          "execution_count": 198
        }
      ]
    },
    {
      "cell_type": "code",
      "source": [],
      "metadata": {
        "id": "h5FUQzf0FVXN"
      },
      "execution_count": null,
      "outputs": []
    }
  ]
}