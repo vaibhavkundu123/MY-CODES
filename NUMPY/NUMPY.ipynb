{
 "cells": [
  {
   "cell_type": "code",
   "execution_count": 4,
   "metadata": {},
   "outputs": [],
   "source": [
    "import numpy as np"
   ]
  },
  {
   "cell_type": "code",
   "execution_count": 11,
   "metadata": {},
   "outputs": [
    {
     "name": "stdout",
     "output_type": "stream",
     "text": [
      "1.2 µs ± 104 ns per loop (mean ± std. dev. of 7 runs, 1,000,000 loops each)\n"
     ]
    }
   ],
   "source": [
    "%timeit [j**4 for j in range(1, 9)]"
   ]
  },
  {
   "cell_type": "code",
   "execution_count": 12,
   "metadata": {},
   "outputs": [
    {
     "name": "stdout",
     "output_type": "stream",
     "text": [
      "3.03 µs ± 332 ns per loop (mean ± std. dev. of 7 runs, 100,000 loops each)\n"
     ]
    }
   ],
   "source": [
    "%timeit np.arange(1, 9)**4"
   ]
  },
  {
   "cell_type": "code",
   "execution_count": 13,
   "metadata": {},
   "outputs": [
    {
     "name": "stdout",
     "output_type": "stream",
     "text": [
      "[1 2 3 4]\n",
      "<class 'numpy.ndarray'>\n"
     ]
    }
   ],
   "source": [
    "x = np.array([1, 2, 3, 4])\n",
    "print(x)\n",
    "print(type(x))"
   ]
  },
  {
   "cell_type": "code",
   "execution_count": 14,
   "metadata": {},
   "outputs": [
    {
     "name": "stdout",
     "output_type": "stream",
     "text": [
      "[1 2 3 4 5]\n"
     ]
    },
    {
     "data": {
      "text/plain": [
       "array([1, 2, 3, 4, 5])"
      ]
     },
     "execution_count": 14,
     "metadata": {},
     "output_type": "execute_result"
    }
   ],
   "source": [
    "x = [1, 2, 3, 4, 5]\n",
    "y = np.array(x)\n",
    "print(y)\n",
    "y"
   ]
  },
  {
   "cell_type": "code",
   "execution_count": 16,
   "metadata": {},
   "outputs": [
    {
     "name": "stdout",
     "output_type": "stream",
     "text": [
      "['1' '2' '3' '4']\n"
     ]
    }
   ],
   "source": [
    "l = []\n",
    "for i in range(1, 5):\n",
    "    int_1 = input(\"enter :\")\n",
    "    l.append(int_1)\n",
    "\n",
    "print(np.array(l))"
   ]
  },
  {
   "cell_type": "code",
   "execution_count": 15,
   "metadata": {},
   "outputs": [
    {
     "name": "stdout",
     "output_type": "stream",
     "text": [
      "[1 2 3 4]\n"
     ]
    }
   ],
   "source": [
    "l = []\n",
    "for i in range(1, 5):\n",
    "    int_1 = int(input(\"enter :\"))\n",
    "    l.append(int_1)\n",
    "\n",
    "print(np.array(l))"
   ]
  },
  {
   "cell_type": "code",
   "execution_count": 17,
   "metadata": {},
   "outputs": [
    {
     "name": "stdout",
     "output_type": "stream",
     "text": [
      "[1 2 3 4]\n",
      "1\n"
     ]
    }
   ],
   "source": [
    "x = np.array([1, 2, 3, 4])\n",
    "print(x)\n",
    "print(x.ndim)"
   ]
  },
  {
   "cell_type": "code",
   "execution_count": 18,
   "metadata": {},
   "outputs": [
    {
     "name": "stdout",
     "output_type": "stream",
     "text": [
      "[[1 2 3 4]\n",
      " [1 2 3 4]]\n",
      "2\n"
     ]
    }
   ],
   "source": [
    "ar2 = np.array([[1,2,3,4],[1,2,3,4]])\n",
    "print(ar2)\n",
    "print(ar2.ndim)"
   ]
  },
  {
   "cell_type": "code",
   "execution_count": 20,
   "metadata": {},
   "outputs": [
    {
     "ename": "ValueError",
     "evalue": "setting an array element with a sequence. The requested array has an inhomogeneous shape after 1 dimensions. The detected shape was (2,) + inhomogeneous part.",
     "output_type": "error",
     "traceback": [
      "\u001b[1;31m---------------------------------------------------------------------------\u001b[0m",
      "\u001b[1;31mValueError\u001b[0m                                Traceback (most recent call last)",
      "Cell \u001b[1;32mIn[20], line 1\u001b[0m\n\u001b[1;32m----> 1\u001b[0m ar2 \u001b[38;5;241m=\u001b[39m \u001b[43mnp\u001b[49m\u001b[38;5;241;43m.\u001b[39;49m\u001b[43marray\u001b[49m\u001b[43m(\u001b[49m\u001b[43m[\u001b[49m\u001b[43m[\u001b[49m\u001b[38;5;241;43m1\u001b[39;49m\u001b[43m,\u001b[49m\u001b[38;5;241;43m2\u001b[39;49m\u001b[43m,\u001b[49m\u001b[38;5;241;43m3\u001b[39;49m\u001b[43m,\u001b[49m\u001b[38;5;241;43m4\u001b[39;49m\u001b[43m]\u001b[49m\u001b[43m,\u001b[49m\u001b[43m[\u001b[49m\u001b[38;5;241;43m1\u001b[39;49m\u001b[43m,\u001b[49m\u001b[38;5;241;43m2\u001b[39;49m\u001b[43m,\u001b[49m\u001b[38;5;241;43m3\u001b[39;49m\u001b[43m]\u001b[49m\u001b[43m]\u001b[49m\u001b[43m)\u001b[49m\n\u001b[0;32m      2\u001b[0m \u001b[38;5;28mprint\u001b[39m(ar2)\n\u001b[0;32m      3\u001b[0m \u001b[38;5;28mprint\u001b[39m(ar2\u001b[38;5;241m.\u001b[39mndim)\n",
      "\u001b[1;31mValueError\u001b[0m: setting an array element with a sequence. The requested array has an inhomogeneous shape after 1 dimensions. The detected shape was (2,) + inhomogeneous part."
     ]
    }
   ],
   "source": [
    "ar2 = np.array([[1,2,3,4],[1,2,3]])\n",
    "print(ar2)\n",
    "print(ar2.ndim)"
   ]
  },
  {
   "cell_type": "code",
   "execution_count": 24,
   "metadata": {},
   "outputs": [
    {
     "name": "stdout",
     "output_type": "stream",
     "text": [
      "[[[1 2 3 4]\n",
      "  [1 2 3 4]\n",
      "  [1 2 3 4]]]\n",
      "3\n"
     ]
    }
   ],
   "source": [
    "ar3 = np.array([[[1,2,3,4],[1,2,3,4],[1,2,3,4]]])\n",
    "print(ar3)\n",
    "print(ar3.ndim)"
   ]
  },
  {
   "cell_type": "code",
   "execution_count": 27,
   "metadata": {},
   "outputs": [
    {
     "name": "stdout",
     "output_type": "stream",
     "text": [
      "[[[[[[[[[[1 2 3 4]]]]]]]]]]\n",
      "10\n"
     ]
    }
   ],
   "source": [
    "arn = np.array([1,2,3,4],ndmin = 10)\n",
    "print(arn)\n",
    "print(arn.ndim)"
   ]
  },
  {
   "cell_type": "code",
   "execution_count": 30,
   "metadata": {},
   "outputs": [
    {
     "name": "stdout",
     "output_type": "stream",
     "text": [
      "[0. 0. 0. 0.]\n",
      "\n",
      "[[0. 0. 0. 0.]\n",
      " [0. 0. 0. 0.]\n",
      " [0. 0. 0. 0.]]\n"
     ]
    }
   ],
   "source": [
    "ar_zero = np.zeros(4)\n",
    "ar_zero1 = np.zeros((3,4))\n",
    "print(ar_zero)\n",
    "print()\n",
    "print(ar_zero1)"
   ]
  },
  {
   "cell_type": "code",
   "execution_count": 31,
   "metadata": {},
   "outputs": [
    {
     "name": "stdout",
     "output_type": "stream",
     "text": [
      "[1. 1. 1. 1.]\n"
     ]
    }
   ],
   "source": [
    "ar_one = np.ones(4)\n",
    "print(ar_one)"
   ]
  },
  {
   "cell_type": "code",
   "execution_count": 32,
   "metadata": {},
   "outputs": [
    {
     "name": "stdout",
     "output_type": "stream",
     "text": [
      "[1. 1. 1. 1.]\n"
     ]
    }
   ],
   "source": [
    "ar_em = np.empty(4)\n",
    "print(ar_em)"
   ]
  },
  {
   "cell_type": "code",
   "execution_count": 33,
   "metadata": {},
   "outputs": [
    {
     "name": "stdout",
     "output_type": "stream",
     "text": [
      "[0 1 2 3]\n"
     ]
    }
   ],
   "source": [
    "ar_rn = np.arange(4)\n",
    "print(ar_rn)"
   ]
  },
  {
   "cell_type": "code",
   "execution_count": 34,
   "metadata": {},
   "outputs": [
    {
     "name": "stdout",
     "output_type": "stream",
     "text": [
      "[[1. 0. 0.]\n",
      " [0. 1. 0.]\n",
      " [0. 0. 1.]]\n"
     ]
    }
   ],
   "source": [
    "ar_dia = np.eye(3)\n",
    "print(ar_dia)"
   ]
  },
  {
   "cell_type": "code",
   "execution_count": 35,
   "metadata": {},
   "outputs": [
    {
     "name": "stdout",
     "output_type": "stream",
     "text": [
      "[[1. 0. 0. 0. 0.]\n",
      " [0. 1. 0. 0. 0.]\n",
      " [0. 0. 1. 0. 0.]]\n"
     ]
    }
   ],
   "source": [
    "ar_dia1 = np.eye(3,5)\n",
    "print(ar_dia1)"
   ]
  },
  {
   "cell_type": "code",
   "execution_count": 40,
   "metadata": {},
   "outputs": [
    {
     "name": "stdout",
     "output_type": "stream",
     "text": [
      "[ 0.  5. 10. 15. 20.]\n"
     ]
    }
   ],
   "source": [
    "ar_lin = np.linspace(0,20,num=5)\n",
    "print(ar_lin)"
   ]
  },
  {
   "cell_type": "code",
   "execution_count": 42,
   "metadata": {},
   "outputs": [
    {
     "name": "stdout",
     "output_type": "stream",
     "text": [
      "[0.26088381 0.7016434  0.14095849 0.90425329]\n"
     ]
    }
   ],
   "source": [
    "var = np.random.rand(4)\n",
    "print(var)"
   ]
  },
  {
   "cell_type": "code",
   "execution_count": 44,
   "metadata": {},
   "outputs": [
    {
     "name": "stdout",
     "output_type": "stream",
     "text": [
      "[[0.84971251 0.17730892 0.08411812 0.86503009 0.64190893]\n",
      " [0.21365244 0.59376674 0.11310859 0.30039395 0.58159215]]\n"
     ]
    }
   ],
   "source": [
    "var1 = np.random.rand(2,5)\n",
    "print(var1)"
   ]
  },
  {
   "cell_type": "code",
   "execution_count": 46,
   "metadata": {},
   "outputs": [
    {
     "name": "stdout",
     "output_type": "stream",
     "text": [
      "[-2.57011425 -0.23540333  1.30182569 -0.01014825 -0.37240097]\n"
     ]
    }
   ],
   "source": [
    "var2 = np.random.randn(5)\n",
    "print(var2)"
   ]
  },
  {
   "cell_type": "code",
   "execution_count": 49,
   "metadata": {},
   "outputs": [
    {
     "name": "stdout",
     "output_type": "stream",
     "text": [
      "[0.0750272  0.75162902 0.65638299 0.85518733]\n"
     ]
    }
   ],
   "source": [
    "var3 = np.random.ranf(4)\n",
    "print(var3)"
   ]
  },
  {
   "cell_type": "code",
   "execution_count": 50,
   "metadata": {},
   "outputs": [
    {
     "name": "stdout",
     "output_type": "stream",
     "text": [
      "[ 7 10  5  8 12]\n"
     ]
    }
   ],
   "source": [
    "var4 = np.random.randint(5,20,5)\n",
    "print(var4)"
   ]
  },
  {
   "cell_type": "code",
   "execution_count": 53,
   "metadata": {},
   "outputs": [
    {
     "name": "stdout",
     "output_type": "stream",
     "text": [
      "Data Type:  int32\n"
     ]
    }
   ],
   "source": [
    "var5 = np.array([1,2,3,4,12,13,14,15])\n",
    "print(\"Data Type: \", var5.dtype)"
   ]
  },
  {
   "cell_type": "code",
   "execution_count": 54,
   "metadata": {},
   "outputs": [
    {
     "name": "stdout",
     "output_type": "stream",
     "text": [
      "Data Type:  float64\n"
     ]
    }
   ],
   "source": [
    "var6 = np.array([1.0,1.2,1.3])\n",
    "print(\"Data Type: \", var6.dtype)"
   ]
  },
  {
   "cell_type": "code",
   "execution_count": 55,
   "metadata": {},
   "outputs": [
    {
     "name": "stdout",
     "output_type": "stream",
     "text": [
      "Data Type:  <U1\n"
     ]
    }
   ],
   "source": [
    "var7 = np.array([\"A\",\"S\",\"D\",\"F\"])\n",
    "print(\"Data Type: \", var7.dtype)"
   ]
  },
  {
   "cell_type": "code",
   "execution_count": 56,
   "metadata": {},
   "outputs": [
    {
     "name": "stdout",
     "output_type": "stream",
     "text": [
      "Data Type:  <U11\n"
     ]
    }
   ],
   "source": [
    "var8 = np.array([\"A\",\"S\",\"D\",\"F\",1,2,3,4])\n",
    "print(\"Data Type: \", var8.dtype)"
   ]
  },
  {
   "cell_type": "code",
   "execution_count": 63,
   "metadata": {},
   "outputs": [
    {
     "name": "stdout",
     "output_type": "stream",
     "text": [
      "[1 2 3 4]\n",
      "Data Type:  int32\n",
      "[1 2 3 4]\n",
      "Data Type:  int8\n",
      "[1. 2. 3. 4.]\n",
      "Data Type:  float32\n",
      "[1. 2. 3. 4.]\n",
      "Data Type:  float32\n",
      "[1 2 3 4]\n",
      "Data Type:  int32\n",
      "[1. 2. 3. 4.]\n",
      "Data Type:  float64\n"
     ]
    }
   ],
   "source": [
    "x = np.array([1,2,3,4])\n",
    "y = np.array([1,2,3,4],dtype = np.int8)\n",
    "z = np.array([1,2,3,4],dtype = \"f\")\n",
    "new = np.float32(x)\n",
    "new_one = np.int_(new)\n",
    "new1 = x.astype(float)\n",
    "print(x)\n",
    "print(\"Data Type: \", x.dtype)\n",
    "print(y)\n",
    "print(\"Data Type: \", y.dtype)\n",
    "print(z)\n",
    "print(\"Data Type: \", z.dtype)\n",
    "print(new)\n",
    "print(\"Data Type: \", new.dtype)\n",
    "print(new_one)\n",
    "print(\"Data Type: \", new_one.dtype)\n",
    "print(new1)\n",
    "print(\"Data Type: \", new1.dtype)"
   ]
  },
  {
   "cell_type": "code",
   "execution_count": 64,
   "metadata": {},
   "outputs": [
    {
     "name": "stdout",
     "output_type": "stream",
     "text": [
      "[[1 2 3 4]\n",
      " [1 2 3 4]]\n",
      "\n",
      "(2, 4)\n"
     ]
    }
   ],
   "source": [
    "var = np.array([[1,2,3,4],[1,2,3,4]])\n",
    "print(var)\n",
    "print()\n",
    "print(var.shape)"
   ]
  },
  {
   "cell_type": "code",
   "execution_count": 65,
   "metadata": {},
   "outputs": [
    {
     "name": "stdout",
     "output_type": "stream",
     "text": [
      "[[[[1 2 3 4]]]]\n",
      "\n",
      "4\n",
      "\n",
      "(1, 1, 1, 4)\n"
     ]
    }
   ],
   "source": [
    "var1 = np.array([1,2,3,4], ndmin = 4)\n",
    "\n",
    "print(var1)\n",
    "print()\n",
    "print(var1.ndim)\n",
    "print()\n",
    "print(var1.shape)"
   ]
  },
  {
   "cell_type": "code",
   "execution_count": 69,
   "metadata": {},
   "outputs": [
    {
     "name": "stdout",
     "output_type": "stream",
     "text": [
      "[1 2 3 4 5 6]\n",
      "1\n",
      "[[1 2]\n",
      " [3 4]\n",
      " [5 6]]\n",
      "2\n"
     ]
    }
   ],
   "source": [
    "var2 = np.array([1,2,3,4,5,6])\n",
    "print(var2)\n",
    "print(var2.ndim)\n",
    "x = var2.reshape(3,2)\n",
    "print(x)\n",
    "print(x.ndim)"
   ]
  },
  {
   "cell_type": "code",
   "execution_count": 73,
   "metadata": {},
   "outputs": [
    {
     "name": "stdout",
     "output_type": "stream",
     "text": [
      "[ 1  2  3  4  5  6  7  8  9 10 11 12]\n",
      "1\n",
      "[[[ 1  2]\n",
      "  [ 3  4]\n",
      "  [ 5  6]]\n",
      "\n",
      " [[ 7  8]\n",
      "  [ 9 10]\n",
      "  [11 12]]]\n",
      "3\n",
      "[ 1  2  3  4  5  6  7  8  9 10 11 12]\n",
      "1\n"
     ]
    }
   ],
   "source": [
    "var3 = np.array([1,2,3,4,5,6,7,8,9,10,11,12])\n",
    "print(var3)\n",
    "print(var3.ndim)\n",
    "x1 = var3.reshape(2,3,2)\n",
    "print(x1)\n",
    "print(x1.ndim)\n",
    "one = x1.reshape(-1)\n",
    "print(one)\n",
    "print(one.ndim)"
   ]
  },
  {
   "cell_type": "code",
   "execution_count": 85,
   "metadata": {},
   "outputs": [
    {
     "name": "stdout",
     "output_type": "stream",
     "text": [
      "[4 5 6 7]\n",
      "[2 4 6 8]\n",
      "[2 4 6 8]\n",
      "[-2 -1  0  1]\n",
      "[ 3  6  9 12]\n",
      "[0.33333333 0.66666667 1.         1.33333333]\n",
      "[1 2 0 1]\n",
      "[1 0 0 0]\n"
     ]
    }
   ],
   "source": [
    "var1 = np.array([1,2,3,4])\n",
    "var2 = np.array([1,2,3,4])\n",
    "varadd = var1 + 3\n",
    "varadd1 = var1 + var2\n",
    "varadd2 = np.add(var1, var2)\n",
    "varsubstract = var1 - 3\n",
    "varmultiply = var1 * 3\n",
    "vardivide = var1 / 3\n",
    "varmod = var1 % 3\n",
    "varreciprocal = np.reciprocal(var1)\n",
    "print(varadd)\n",
    "print(varadd1)\n",
    "print(varadd2)\n",
    "print(varsubstract)\n",
    "print(varmultiply)\n",
    "print(vardivide)\n",
    "print(varmod)\n",
    "print(varreciprocal)"
   ]
  },
  {
   "cell_type": "code",
   "execution_count": 87,
   "metadata": {},
   "outputs": [
    {
     "name": "stdout",
     "output_type": "stream",
     "text": [
      "[[4 5 6 7]\n",
      " [4 5 6 7]]\n",
      "[[2 4 6 8]\n",
      " [2 4 6 8]]\n",
      "[[2 4 6 8]\n",
      " [2 4 6 8]]\n",
      "[[-2 -1  0  1]\n",
      " [-2 -1  0  1]]\n",
      "[[ 3  6  9 12]\n",
      " [ 3  6  9 12]]\n",
      "[[ 1  4  9 16]\n",
      " [ 1  4  9 16]]\n",
      "[[0.33333333 0.66666667 1.         1.33333333]\n",
      " [0.33333333 0.66666667 1.         1.33333333]]\n",
      "[[1 2 0 1]\n",
      " [1 2 0 1]]\n",
      "[[1 0 0 0]\n",
      " [1 0 0 0]]\n"
     ]
    }
   ],
   "source": [
    "var1 = np.array([[1,2,3,4],[1,2,3,4]])\n",
    "var2 = np.array([[1,2,3,4],[1,2,3,4]])\n",
    "varadd = var1 + 3\n",
    "varadd1 = var1 + var2\n",
    "varadd2 = np.add(var1, var2)\n",
    "varsubstract = var1 - 3\n",
    "varmultiply = var1 * 3\n",
    "varmultiply1 = var1 * var2\n",
    "vardivide = var1 / 3\n",
    "varmod = var1 % 3\n",
    "varreciprocal = np.reciprocal(var1)\n",
    "print(varadd)\n",
    "print(varadd1)\n",
    "print(varadd2)\n",
    "print(varsubstract)\n",
    "print(varmultiply)\n",
    "print(varmultiply1)\n",
    "print(vardivide)\n",
    "print(varmod)\n",
    "print(varreciprocal)"
   ]
  },
  {
   "cell_type": "code",
   "execution_count": 96,
   "metadata": {},
   "outputs": [
    {
     "name": "stdout",
     "output_type": "stream",
     "text": [
      "Min :  1 2\n",
      "Max :  5 4\n",
      "Sqrt :  [1.73205081 1.41421356 1.         2.         2.23606798 1.73205081\n",
      " 1.41421356]\n",
      "[ 0.14112001  0.90929743  0.84147098 -0.7568025  -0.95892427  0.14112001\n",
      "  0.90929743]\n",
      "[-0.9899925  -0.41614684  0.54030231 -0.65364362  0.28366219 -0.9899925\n",
      " -0.41614684]\n",
      "[ 3  5  6 10 15 18 20]\n"
     ]
    }
   ],
   "source": [
    "var = np.array([3,2,1,4,5,3,2])\n",
    "print(\"Min : \",np.min(var),np.argmin(var))\n",
    "print(\"Max : \",np.max(var),np.argmax(var))\n",
    "print(\"Sqrt : \",np.sqrt(var))\n",
    "print(np.sin(var))\n",
    "print(np.cos(var))\n",
    "print(np.cumsum(var))"
   ]
  },
  {
   "cell_type": "code",
   "execution_count": 91,
   "metadata": {},
   "outputs": [
    {
     "name": "stdout",
     "output_type": "stream",
     "text": [
      "Min :  [1 5] [2 1 3]\n",
      "Max :  [3 9] [9 5 6]\n"
     ]
    }
   ],
   "source": [
    "var1 = np.array([[2,1,3],[9,5,6]])\n",
    "print(\"Min : \",np.min(var1,axis=1),np.min(var1,axis=0))\n",
    "print(\"Max : \",np.max(var1,axis=1),np.max(var1,axis=0))"
   ]
  },
  {
   "cell_type": "code",
   "execution_count": 97,
   "metadata": {},
   "outputs": [
    {
     "ename": "ValueError",
     "evalue": "operands could not be broadcast together with shapes (4,) (3,) ",
     "output_type": "error",
     "traceback": [
      "\u001b[1;31m---------------------------------------------------------------------------\u001b[0m",
      "\u001b[1;31mValueError\u001b[0m                                Traceback (most recent call last)",
      "Cell \u001b[1;32mIn[97], line 3\u001b[0m\n\u001b[0;32m      1\u001b[0m var1 \u001b[38;5;241m=\u001b[39m np\u001b[38;5;241m.\u001b[39marray([\u001b[38;5;241m1\u001b[39m,\u001b[38;5;241m2\u001b[39m,\u001b[38;5;241m3\u001b[39m,\u001b[38;5;241m4\u001b[39m])\n\u001b[0;32m      2\u001b[0m var2 \u001b[38;5;241m=\u001b[39m np\u001b[38;5;241m.\u001b[39marray([\u001b[38;5;241m1\u001b[39m,\u001b[38;5;241m2\u001b[39m,\u001b[38;5;241m3\u001b[39m])\n\u001b[1;32m----> 3\u001b[0m \u001b[38;5;28mprint\u001b[39m(\u001b[43mvar1\u001b[49m\u001b[43m \u001b[49m\u001b[38;5;241;43m+\u001b[39;49m\u001b[43m \u001b[49m\u001b[43mvar2\u001b[49m)\n",
      "\u001b[1;31mValueError\u001b[0m: operands could not be broadcast together with shapes (4,) (3,) "
     ]
    }
   ],
   "source": [
    "# broadcast error if array size not same\n",
    "var1 = np.array([1,2,3,4])\n",
    "var2 = np.array([1,2,3])\n",
    "print(var1 + var2)"
   ]
  },
  {
   "cell_type": "code",
   "execution_count": 99,
   "metadata": {},
   "outputs": [
    {
     "name": "stdout",
     "output_type": "stream",
     "text": [
      "[[2 3 4]\n",
      " [3 4 5]\n",
      " [4 5 6]]\n"
     ]
    }
   ],
   "source": [
    "var1 = np.array([1,2,3])\n",
    "var2 = np.array([[1],[2],[3]])\n",
    "print(var1 + var2)"
   ]
  },
  {
   "cell_type": "code",
   "execution_count": 100,
   "metadata": {},
   "outputs": [
    {
     "name": "stdout",
     "output_type": "stream",
     "text": [
      "8\n",
      "8\n"
     ]
    }
   ],
   "source": [
    "var = np.array([9,8,7,6])\n",
    "print(var[1])\n",
    "print(var[-3])"
   ]
  },
  {
   "cell_type": "code",
   "execution_count": 102,
   "metadata": {},
   "outputs": [
    {
     "name": "stdout",
     "output_type": "stream",
     "text": [
      "[[9 8 7]\n",
      " [4 5 6]]\n",
      "2\n",
      "7\n"
     ]
    }
   ],
   "source": [
    "var1 = np.array([[9,8,7],[4,5,6]])\n",
    "print(var1)\n",
    "print(var1.ndim)\n",
    "print(var1[0,2])"
   ]
  },
  {
   "cell_type": "code",
   "execution_count": 104,
   "metadata": {},
   "outputs": [
    {
     "name": "stdout",
     "output_type": "stream",
     "text": [
      "[[[1 2]\n",
      "  [6 7]]]\n",
      "3\n",
      "7\n"
     ]
    }
   ],
   "source": [
    "var2 = np.array([[[1,2],[6,7]]])\n",
    "print(var2)\n",
    "print(var2.ndim)\n",
    "print(var2[0,1,1])"
   ]
  },
  {
   "cell_type": "code",
   "execution_count": 110,
   "metadata": {},
   "outputs": [
    {
     "name": "stdout",
     "output_type": "stream",
     "text": [
      "[[[1 2]\n",
      "  [3 4]]\n",
      "\n",
      " [[6 7]\n",
      "  [8 9]]]\n",
      "3\n",
      "7\n"
     ]
    }
   ],
   "source": [
    "var2 = np.array([[[1,2],[3,4]],[[6,7],[8,9]]])\n",
    "print(var2)\n",
    "print(var2.ndim)\n",
    "print(var2[1,0,1])"
   ]
  },
  {
   "cell_type": "code",
   "execution_count": 118,
   "metadata": {},
   "outputs": [
    {
     "name": "stdout",
     "output_type": "stream",
     "text": [
      "[[ 1  2  3  4  5]\n",
      " [ 9  8  7  6  5]\n",
      " [11 12 13 14 15]]\n",
      "[8 7 6 5]\n",
      "[12 13 14 15]\n"
     ]
    }
   ],
   "source": [
    "var = np.array([[1,2,3,4,5],[9,8,7,6,5],[11,12,13,14,15]])\n",
    "print(var)\n",
    "print(var[1,1:])\n",
    "print(var[2,1:])"
   ]
  },
  {
   "cell_type": "code",
   "execution_count": 119,
   "metadata": {},
   "outputs": [
    {
     "name": "stdout",
     "output_type": "stream",
     "text": [
      "[9 8 7 6 5 4]\n",
      "9\n",
      "8\n",
      "7\n",
      "6\n",
      "5\n",
      "4\n"
     ]
    }
   ],
   "source": [
    "var = np.array([9,8,7,6,5,4])\n",
    "print(var)\n",
    "for i in var:\n",
    "    print(i)"
   ]
  },
  {
   "cell_type": "code",
   "execution_count": 121,
   "metadata": {},
   "outputs": [
    {
     "name": "stdout",
     "output_type": "stream",
     "text": [
      "[[1 2 3 4]\n",
      " [1 2 3 4]]\n",
      "[1 2 3 4]\n",
      "[1 2 3 4]\n",
      "1\n",
      "2\n",
      "3\n",
      "4\n",
      "1\n",
      "2\n",
      "3\n",
      "4\n"
     ]
    }
   ],
   "source": [
    "var1 = np.array([[1,2,3,4],[1,2,3,4]])\n",
    "print(var1)\n",
    "for j in var1:\n",
    "    print(j)\n",
    "for k in var1:\n",
    "    for l in k:\n",
    "        print(l)"
   ]
  },
  {
   "cell_type": "code",
   "execution_count": 122,
   "metadata": {},
   "outputs": [
    {
     "name": "stdout",
     "output_type": "stream",
     "text": [
      "[[[1 2 3 4]\n",
      "  [1 2 3 4]]]\n",
      "[[1 2 3 4]\n",
      " [1 2 3 4]]\n",
      "[1 2 3 4]\n",
      "[1 2 3 4]\n",
      "1\n",
      "2\n",
      "3\n",
      "4\n",
      "1\n",
      "2\n",
      "3\n",
      "4\n"
     ]
    }
   ],
   "source": [
    "var3 = np.array([[[1,2,3,4],[1,2,3,4]]])\n",
    "print(var3)\n",
    "for j in var3:\n",
    "    print(j)\n",
    "for k in var3:\n",
    "    for l in k:\n",
    "        print(l)\n",
    "for a in var3:\n",
    "    for b in a:\n",
    "        for c in b:\n",
    "            print(c)"
   ]
  },
  {
   "cell_type": "code",
   "execution_count": 126,
   "metadata": {},
   "outputs": [
    {
     "name": "stdout",
     "output_type": "stream",
     "text": [
      "[[[9 8 7 6]\n",
      "  [1 2 3 4]]]\n",
      "3\n",
      "9\n",
      "8\n",
      "7\n",
      "6\n",
      "1\n",
      "2\n",
      "3\n",
      "4\n",
      "b'9'\n",
      "b'8'\n",
      "b'7'\n",
      "b'6'\n",
      "b'1'\n",
      "b'2'\n",
      "b'3'\n",
      "b'4'\n",
      "(0, 0, 0) 9\n",
      "(0, 0, 1) 8\n",
      "(0, 0, 2) 7\n",
      "(0, 0, 3) 6\n",
      "(0, 1, 0) 1\n",
      "(0, 1, 1) 2\n",
      "(0, 1, 2) 3\n",
      "(0, 1, 3) 4\n"
     ]
    }
   ],
   "source": [
    "var3 = np.array([[[9,8,7,6],[1,2,3,4]]])\n",
    "print(var3)\n",
    "print(var3.ndim)\n",
    "for i in np.nditer(var3):\n",
    "    print(i)\n",
    "for i in np.nditer(var3,flags=['buffered'],op_dtypes=[\"S\"]):\n",
    "    print(i)\n",
    "for i,d in np.ndenumerate(var3):\n",
    "    print(i,d)"
   ]
  },
  {
   "cell_type": "code",
   "execution_count": 129,
   "metadata": {},
   "outputs": [
    {
     "name": "stdout",
     "output_type": "stream",
     "text": [
      "[ 1 40  3  4]\n",
      "[1 2 3 4]\n",
      "[ 1 40  3  4]\n"
     ]
    }
   ],
   "source": [
    "var = np.array([1,2,3,4])\n",
    "co = var.copy()\n",
    "vi = var.view()\n",
    "var[1] = 40\n",
    "print(var)\n",
    "print(co)\n",
    "print(vi)"
   ]
  },
  {
   "cell_type": "code",
   "execution_count": 133,
   "metadata": {},
   "outputs": [
    {
     "name": "stdout",
     "output_type": "stream",
     "text": [
      "[1 2 3 4 9 8 7 6]\n"
     ]
    }
   ],
   "source": [
    "var1 = np.array([1,2,3,4])\n",
    "var2 = np.array([9,8,7,6])\n",
    "ar = np.concatenate((var1,var2))\n",
    "print(ar)"
   ]
  },
  {
   "cell_type": "code",
   "execution_count": 137,
   "metadata": {},
   "outputs": [
    {
     "name": "stdout",
     "output_type": "stream",
     "text": [
      "[[1 2]\n",
      " [3 4]]\n",
      "[[9 8]\n",
      " [7 6]]\n",
      "[[1 2]\n",
      " [3 4]\n",
      " [9 8]\n",
      " [7 6]]\n",
      "[[1 2 9 8]\n",
      " [3 4 7 6]]\n",
      "[[1 2]\n",
      " [3 4]\n",
      " [9 8]\n",
      " [7 6]]\n"
     ]
    }
   ],
   "source": [
    "var1 = np.array([[1,2],[3,4]])\n",
    "var2 = np.array([[9,8],[7,6]])\n",
    "ar = np.concatenate((var1,var2))\n",
    "ar1 = np.concatenate((var1,var2),axis=1)\n",
    "ar2 = np.concatenate((var1,var2),axis=0)\n",
    "print(var1)\n",
    "print(var2)\n",
    "print(ar)\n",
    "print(ar1)\n",
    "print(ar2)"
   ]
  },
  {
   "cell_type": "code",
   "execution_count": 141,
   "metadata": {},
   "outputs": [
    {
     "name": "stdout",
     "output_type": "stream",
     "text": [
      "[1 2 3 4]\n",
      "[9 8 7 6]\n",
      "[[1 2 3 4]\n",
      " [9 8 7 6]]\n",
      "[[1 9]\n",
      " [2 8]\n",
      " [3 7]\n",
      " [4 6]]\n",
      "[[1 2 3 4]\n",
      " [9 8 7 6]]\n",
      "[1 2 3 4 9 8 7 6]\n",
      "[[1 2 3 4]\n",
      " [9 8 7 6]]\n",
      "[[[1 9]\n",
      "  [2 8]\n",
      "  [3 7]\n",
      "  [4 6]]]\n"
     ]
    }
   ],
   "source": [
    "var1 = np.array([1,2,3,4])\n",
    "var2 = np.array([9,8,7,6])\n",
    "ar = np.stack((var1,var2))\n",
    "ar1 = np.stack((var1,var2),axis=1)\n",
    "ar2 = np.stack((var1,var2),axis=0)\n",
    "ar3 = np.hstack((var1,var2)) #row\n",
    "ar4 = np.vstack((var1,var2)) #col\n",
    "ar5 = np.dstack((var1,var2)) #height\n",
    "print(var1)\n",
    "print(var2)\n",
    "print(ar)\n",
    "print(ar1)\n",
    "print(ar2)\n",
    "print(ar3)\n",
    "print(ar4)\n",
    "print(ar5)"
   ]
  },
  {
   "cell_type": "code",
   "execution_count": 145,
   "metadata": {},
   "outputs": [
    {
     "name": "stdout",
     "output_type": "stream",
     "text": [
      "[1 2 3 4 5 6]\n",
      "[array([1, 2]), array([3, 4]), array([5, 6])]\n",
      "<class 'list'>\n",
      "[1 2]\n"
     ]
    }
   ],
   "source": [
    "var = np.array([1,2,3,4,5,6])\n",
    "print(var)\n",
    "ar = np.array_split(var,3)\n",
    "print(ar)\n",
    "print(type(ar))\n",
    "print(ar[0])"
   ]
  },
  {
   "cell_type": "code",
   "execution_count": 150,
   "metadata": {},
   "outputs": [
    {
     "name": "stdout",
     "output_type": "stream",
     "text": [
      "[[1 2]\n",
      " [3 4]\n",
      " [5 6]]\n",
      "[array([[1, 2]]), array([[3, 4]]), array([[5, 6]])]\n",
      "<class 'list'>\n",
      "[[1 2]]\n",
      "[array([[1],\n",
      "       [3],\n",
      "       [5]]), array([[2],\n",
      "       [4],\n",
      "       [6]]), array([], shape=(3, 0), dtype=int32)]\n"
     ]
    }
   ],
   "source": [
    "var = np.array([[1,2],[3,4],[5,6]])\n",
    "print(var)\n",
    "ar = np.array_split(var,3)\n",
    "ar1 = np.array_split(var,3,axis=1)\n",
    "print(ar)\n",
    "print(type(ar))\n",
    "print(ar[0])\n",
    "print(ar1)"
   ]
  },
  {
   "cell_type": "code",
   "execution_count": 154,
   "metadata": {},
   "outputs": [
    {
     "name": "stdout",
     "output_type": "stream",
     "text": [
      "(array([0, 1, 3, 4, 6, 8], dtype=int64),)\n"
     ]
    }
   ],
   "source": [
    "var = np.array([4,2,3,4,2,5,2,5,6,7])\n",
    "x = np.where((var%2) == 0)\n",
    "print(x) "
   ]
  },
  {
   "cell_type": "code",
   "execution_count": 16,
   "metadata": {},
   "outputs": [
    {
     "name": "stdout",
     "output_type": "stream",
     "text": [
      "4\n"
     ]
    }
   ],
   "source": [
    "var = np.array([1,2,3,4,6,7,8,9,10])\n",
    "#x = np.searchsorted(var,5)\n",
    "x1 = np.searchsorted(var,5,side=\"right\")\n",
    "#print(x)\n",
    "print(x1)"
   ]
  },
  {
   "cell_type": "code",
   "execution_count": 19,
   "metadata": {},
   "outputs": [
    {
     "name": "stdout",
     "output_type": "stream",
     "text": [
      "[4 4 4]\n",
      "[4 4 4]\n"
     ]
    }
   ],
   "source": [
    "var = np.array([1,2,3,4,9,10])\n",
    "x = np.searchsorted(var,[5,6,7])\n",
    "x1 = np.searchsorted(var,[5,6,7],side=\"right\")\n",
    "print(x)\n",
    "print(x1)"
   ]
  },
  {
   "cell_type": "code",
   "execution_count": 20,
   "metadata": {},
   "outputs": [
    {
     "name": "stdout",
     "output_type": "stream",
     "text": [
      "[ 1  2  3  4  5  6  7 12 22 52]\n"
     ]
    }
   ],
   "source": [
    "var = np.array([4,2,3,1,12,5,22,52,6,7])\n",
    "print(np.sort(var))"
   ]
  },
  {
   "cell_type": "code",
   "execution_count": 21,
   "metadata": {},
   "outputs": [
    {
     "name": "stdout",
     "output_type": "stream",
     "text": [
      "['a' 'd' 'f' 's']\n"
     ]
    }
   ],
   "source": [
    "var = np.array([\"a\",\"s\",\"d\",\"f\"])\n",
    "print(np.sort(var))"
   ]
  },
  {
   "cell_type": "code",
   "execution_count": 23,
   "metadata": {},
   "outputs": [
    {
     "name": "stdout",
     "output_type": "stream",
     "text": [
      "[[ 2  3  4]\n",
      " [ 1  5 12]\n",
      " [ 6 22 52]]\n"
     ]
    }
   ],
   "source": [
    "var = np.array([[4,2,3],[1,12,5],[22,52,6]])\n",
    "print(np.sort(var))"
   ]
  },
  {
   "cell_type": "code",
   "execution_count": 25,
   "metadata": {},
   "outputs": [
    {
     "name": "stdout",
     "output_type": "stream",
     "text": [
      "['a' 'f']\n",
      "<class 'numpy.ndarray'>\n"
     ]
    }
   ],
   "source": [
    "var = np.array([\"a\",\"s\",\"d\",\"f\"])\n",
    "f = [True,False,False,True]\n",
    "new_a = var [f]\n",
    "print(new_a)\n",
    "print(type(new_a))"
   ]
  },
  {
   "cell_type": "code",
   "execution_count": 34,
   "metadata": {},
   "outputs": [
    {
     "name": "stdout",
     "output_type": "stream",
     "text": [
      "[5 4 2 1 3]\n"
     ]
    }
   ],
   "source": [
    "var = np.array([1,2,3,4,5])\n",
    "np.random.shuffle(var)\n",
    "print(var)"
   ]
  },
  {
   "cell_type": "code",
   "execution_count": 37,
   "metadata": {},
   "outputs": [
    {
     "name": "stdout",
     "output_type": "stream",
     "text": [
      "(array([1, 2, 3, 4, 5, 6, 7]), array([0, 1, 2, 3, 5, 7, 9], dtype=int64), array([1, 4, 1, 1, 1, 1, 1], dtype=int64))\n"
     ]
    }
   ],
   "source": [
    "var = np.array([1,2,3,4,2,5,2,6,2,7])\n",
    "x = np.unique(var,return_index=True,return_counts=True)\n",
    "print(x)"
   ]
  },
  {
   "cell_type": "code",
   "execution_count": 39,
   "metadata": {},
   "outputs": [
    {
     "name": "stdout",
     "output_type": "stream",
     "text": [
      "[[1 2 3]\n",
      " [4 5 6]]\n",
      "[[1 2]\n",
      " [3 4]\n",
      " [5 6]]\n"
     ]
    }
   ],
   "source": [
    "var = np.array([1,2,3,4,5,6])\n",
    "y = np.resize(var,(2,3))\n",
    "y1 = np.resize(var,(3,2))\n",
    "print(y)\n",
    "print(y1)"
   ]
  },
  {
   "cell_type": "code",
   "execution_count": 46,
   "metadata": {},
   "outputs": [
    {
     "name": "stdout",
     "output_type": "stream",
     "text": [
      "[[1 2 3]\n",
      " [4 5 6]]\n",
      "[1 2 3 4 5 6]\n",
      "[[1 2]\n",
      " [3 4]\n",
      " [5 6]]\n",
      "[1 2 3 4 5 6]\n",
      "[1 3 5 2 4 6]\n",
      "[1 2 3 4 5 6]\n",
      "[1 2 3 4 5 6]\n",
      "[1 4 2 5 3 6]\n",
      "[1 2 3 4 5 6]\n",
      "[1 2 3 4 5 6]\n",
      "[1 2 3 4 5 6]\n"
     ]
    }
   ],
   "source": [
    "var = np.array([1,2,3,4,5,6])\n",
    "y = np.resize(var,(2,3))\n",
    "y1 = np.resize(var,(3,2))\n",
    "print(y)\n",
    "print(y.flatten())\n",
    "print(y1)\n",
    "print(y1.flatten())\n",
    "print(y1.flatten(order=\"F\"))\n",
    "print(y1.flatten(order=\"C\"))\n",
    "print(np.ravel(y))\n",
    "print(np.ravel(y,order=\"F\"))\n",
    "print(np.ravel(y,order=\"C\"))\n",
    "print(np.ravel(y,order=\"A\"))\n",
    "print(np.ravel(y,order=\"K\"))"
   ]
  },
  {
   "cell_type": "code",
   "execution_count": 58,
   "metadata": {},
   "outputs": [
    {
     "name": "stdout",
     "output_type": "stream",
     "text": [
      "[1 2 3 4]\n",
      "[ 1  2 40  3  4]\n",
      "[ 1  2 40  3  4 40]\n",
      "[1 2 6 3 4 6]\n",
      "[1.  2.  3.  4.  6.5]\n"
     ]
    }
   ],
   "source": [
    "var = np.array([1,2,3,4])\n",
    "print(var)\n",
    "v = np.insert(var,2,40)\n",
    "print(v)\n",
    "v1 = np.insert(var,(2,4),40)\n",
    "print(v1)\n",
    "v2 = np.insert(var,(2,4),6.5)\n",
    "print(v2)\n",
    "v3 = np.append(var,6.5)\n",
    "print(v3)"
   ]
  },
  {
   "cell_type": "code",
   "execution_count": 63,
   "metadata": {},
   "outputs": [
    {
     "name": "stdout",
     "output_type": "stream",
     "text": [
      "[[1 2 3]\n",
      " [1 2 3]]\n",
      "[[ 1  2  3]\n",
      " [ 1  2  3]\n",
      " [40 40 40]]\n",
      "[[ 1  2 40  3]\n",
      " [ 1  2 40  3]]\n",
      "[[ 1  2  3]\n",
      " [ 1  2  3]\n",
      " [22 23 24]]\n",
      "[[ 1  2 22  3]\n",
      " [ 1  2 23  3]]\n",
      "[[ 1  2  3]\n",
      " [ 1  2  3]\n",
      " [45 44 23]]\n"
     ]
    }
   ],
   "source": [
    "var = np.array([[1,2,3],[1,2,3]])\n",
    "print(var)\n",
    "v = np.insert(var,2,40,axis=0)\n",
    "v3 = np.insert(var,2,40,axis=1)\n",
    "print(v)\n",
    "print(v3)\n",
    "v4 = np.insert(var,2,[22,23,24],axis=0)\n",
    "v5 = np.insert(var,2,[22,23],axis=1)\n",
    "print(v4)\n",
    "print(v5)\n",
    "v6 = np.append(var,[[45,44,23]],axis=0)\n",
    "print(v6)\n"
   ]
  },
  {
   "cell_type": "code",
   "execution_count": 64,
   "metadata": {},
   "outputs": [
    {
     "name": "stdout",
     "output_type": "stream",
     "text": [
      "[1 2 3 4]\n",
      "[1 2 4]\n"
     ]
    }
   ],
   "source": [
    "var = np.array([1,2,3,4])\n",
    "print(var)\n",
    "d = np.delete(var,2)\n",
    "print(d)"
   ]
  },
  {
   "cell_type": "code",
   "execution_count": 69,
   "metadata": {},
   "outputs": [
    {
     "name": "stdout",
     "output_type": "stream",
     "text": [
      "[[1 2]\n",
      " [1 2]]\n",
      "<class 'numpy.matrix'>\n",
      "[[3 6]\n",
      " [3 6]]\n",
      "[[3 6]\n",
      " [3 6]]\n"
     ]
    }
   ],
   "source": [
    "var = np.matrix([[1,2],[1,2]])\n",
    "var1 = np.matrix([[1,2],[1,2 ]])\n",
    "print(var)\n",
    "print(type(var))\n",
    "print(var*var1)\n",
    "print(var.dot(var1))"
   ]
  },
  {
   "cell_type": "code",
   "execution_count": 76,
   "metadata": {},
   "outputs": [
    {
     "name": "stdout",
     "output_type": "stream",
     "text": [
      "[[1 2 3]\n",
      " [4 5 6]]\n",
      "[[1 4]\n",
      " [2 5]\n",
      " [3 6]]\n",
      "[[1 4]\n",
      " [2 5]\n",
      " [3 6]]\n",
      "[[1 4]\n",
      " [2 5]\n",
      " [3 6]]\n"
     ]
    }
   ],
   "source": [
    "var = np.matrix([[1,2,3],[4,5,6]])\n",
    "print(var)\n",
    "print(np.transpose(var))\n",
    "print(var.T)\n",
    "print(np.swapaxes(var,0,1))"
   ]
  },
  {
   "cell_type": "code",
   "execution_count": 81,
   "metadata": {},
   "outputs": [
    {
     "name": "stdout",
     "output_type": "stream",
     "text": [
      "[[1 2]\n",
      " [3 4]]\n",
      "[[1 3]\n",
      " [2 4]]\n",
      "[[-2.   1. ]\n",
      " [ 1.5 -0.5]]\n",
      "[[ 7 10]\n",
      " [15 22]]\n",
      "[[1 0]\n",
      " [0 1]]\n",
      "[[ 5.5  -2.5 ]\n",
      " [-3.75  1.75]]\n",
      "-2.0000000000000004\n"
     ]
    }
   ],
   "source": [
    "var = np.matrix([[1,2],[3,4]])\n",
    "print(var)\n",
    "print(np.swapaxes(var,0,1))\n",
    "print(np.linalg.inv(var))\n",
    "print(np.linalg.matrix_power(var,2))\n",
    "print(np.linalg.matrix_power(var,0))\n",
    "print(np.linalg.matrix_power(var,-2))\n",
    "print(np.linalg.det(var))"
   ]
  }
 ],
 "metadata": {
  "kernelspec": {
   "display_name": "Python 3",
   "language": "python",
   "name": "python3"
  },
  "language_info": {
   "codemirror_mode": {
    "name": "ipython",
    "version": 3
   },
   "file_extension": ".py",
   "mimetype": "text/x-python",
   "name": "python",
   "nbconvert_exporter": "python",
   "pygments_lexer": "ipython3",
   "version": "3.12.1"
  }
 },
 "nbformat": 4,
 "nbformat_minor": 2
}
