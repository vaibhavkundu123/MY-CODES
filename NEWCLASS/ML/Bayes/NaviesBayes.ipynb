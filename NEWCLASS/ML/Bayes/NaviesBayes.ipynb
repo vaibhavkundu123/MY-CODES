{
  "nbformat": 4,
  "nbformat_minor": 0,
  "metadata": {
    "colab": {
      "provenance": []
    },
    "kernelspec": {
      "name": "python3",
      "display_name": "Python 3"
    },
    "language_info": {
      "name": "python"
    }
  },
  "cells": [
    {
      "cell_type": "markdown",
      "metadata": {
        "id": "jI07aRbzdQQs"
      },
      "source": [
        "**Reading the data from file using pandas**"
      ]
    },
    {
      "cell_type": "code",
      "metadata": {
        "id": "t6gX0R5DSYum"
      },
      "source": [
        "import csv\n",
        "import pandas as pd"
      ],
      "execution_count": null,
      "outputs": []
    },
    {
      "cell_type": "code",
      "metadata": {
        "id": "x4PB7yvSSjfj"
      },
      "source": [
        "dataset = pd.read_csv('play_tennis.csv')"
      ],
      "execution_count": null,
      "outputs": []
    },
    {
      "cell_type": "markdown",
      "metadata": {
        "id": "7vE2tDFKdajG"
      },
      "source": [
        "**Splitting the Dataset**"
      ]
    },
    {
      "cell_type": "code",
      "metadata": {
        "id": "3OroQz4JXop7"
      },
      "source": [
        "X = dataset.iloc[:, 1:-1].values\n",
        "y = dataset.iloc[:, -1].values\n",
        "# X,y"
      ],
      "execution_count": null,
      "outputs": []
    },
    {
      "cell_type": "markdown",
      "metadata": {
        "id": "TJKtWuQAdfdl"
      },
      "source": [
        "Fitting the columns in labelencoder for changing the categorcial varaibles to numeric variables"
      ]
    },
    {
      "cell_type": "code",
      "metadata": {
        "id": "p4P77ft4U4HD",
        "colab": {
          "base_uri": "https://localhost:8080/"
        },
        "outputId": "5907f978-0592-4192-dfaf-bcd6fb620470"
      },
      "source": [
        "from sklearn import preprocessing\n",
        "le = preprocessing.LabelEncoder()\n",
        "for i in range(0,len(X)):\n",
        "  X[i] = le.fit_transform(X[i])\n",
        "y = le.fit_transform(y)\n",
        "\n",
        "print(X)\n",
        "print(y)"
      ],
      "execution_count": null,
      "outputs": [
        {
          "output_type": "stream",
          "name": "stdout",
          "text": [
            "[[2 1 0 3]\n",
            " [3 1 0 2]\n",
            " [2 1 0 3]\n",
            " [2 1 0 3]\n",
            " [2 0 1 3]\n",
            " [2 0 1 3]\n",
            " [2 0 1 3]\n",
            " [2 1 0 3]\n",
            " [2 0 1 3]\n",
            " [2 0 1 3]\n",
            " [3 0 1 2]\n",
            " [2 1 0 3]\n",
            " [2 0 1 3]\n",
            " [2 1 0 3]]\n",
            "[0 0 1 1 1 0 1 0 1 1 1 1 1 0]\n"
          ]
        }
      ]
    },
    {
      "cell_type": "markdown",
      "metadata": {
        "id": "4auKIesUd0V3"
      },
      "source": [
        "Splitting X and y into training and testing sets"
      ]
    },
    {
      "cell_type": "code",
      "metadata": {
        "id": "NPTl56aLVY7l"
      },
      "source": [
        "from sklearn.model_selection import train_test_split\n",
        "X_train, X_test, y_train, y_test = train_test_split(X, y, test_size=0.4, random_state=1)"
      ],
      "execution_count": null,
      "outputs": []
    },
    {
      "cell_type": "markdown",
      "metadata": {
        "id": "UqXWq7q0fvBm"
      },
      "source": [
        "Fitting in the naive_bayes"
      ]
    },
    {
      "cell_type": "code",
      "metadata": {
        "id": "1wYwpiIObdqb"
      },
      "source": [
        "from sklearn.naive_bayes import GaussianNB\n",
        "gnb = GaussianNB()\n",
        "gnb.fit(X_train, y_train)\n",
        "y_pred = gnb.predict(X_test)"
      ],
      "execution_count": null,
      "outputs": []
    },
    {
      "cell_type": "markdown",
      "metadata": {
        "id": "SLzRg2FeeCLh"
      },
      "source": [
        "Finding the score of accuracy"
      ]
    },
    {
      "cell_type": "code",
      "metadata": {
        "colab": {
          "base_uri": "https://localhost:8080/"
        },
        "id": "CFpaL90OboId",
        "outputId": "50bd1a96-8397-45e7-ea97-766e2b877ab3"
      },
      "source": [
        "from sklearn import metrics\n",
        "print(\"Gaussian Naive Bayes model accuracy(in %):\", metrics.accuracy_score(y_test, y_pred)*100)"
      ],
      "execution_count": null,
      "outputs": [
        {
          "output_type": "stream",
          "name": "stdout",
          "text": [
            "Gaussian Naive Bayes model accuracy(in %): 66.66666666666666\n"
          ]
        }
      ]
    },
    {
      "cell_type": "markdown",
      "metadata": {
        "id": "8URiX_MGeHps"
      },
      "source": [
        "Find the predicted values by manual values"
      ]
    },
    {
      "cell_type": "code",
      "metadata": {
        "colab": {
          "base_uri": "https://localhost:8080/"
        },
        "id": "Q2yDvJhgbtnW",
        "outputId": "0be07863-8389-4251-a624-b0631181956d"
      },
      "source": [
        "new_input=[[3,1,0,3]]\n",
        "new_output = gnb.predict(new_input)\n",
        "new_output"
      ],
      "execution_count": null,
      "outputs": [
        {
          "output_type": "execute_result",
          "data": {
            "text/plain": [
              "array([0])"
            ]
          },
          "metadata": {},
          "execution_count": 10
        }
      ]
    }
  ]
}