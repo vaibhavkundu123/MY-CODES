{
 "cells": [
  {
   "cell_type": "markdown",
   "metadata": {
    "papermill": {
     "duration": 0.012526,
     "end_time": "2021-06-13T09:37:29.001776",
     "exception": false,
     "start_time": "2021-06-13T09:37:28.989250",
     "status": "completed"
    },
    "tags": []
   },
   "source": [
    "#  FuzzyCMeans Implementation from scratch on Iris dataset"
   ]
  },
  {
   "cell_type": "code",
   "execution_count": 1,
   "metadata": {
    "_cell_guid": "b1076dfc-b9ad-4769-8c92-a6c4dae69d19",
    "_uuid": "8f2839f25d086af736a60e9eeb907d3b93b6e0e5",
    "execution": {
     "iopub.execute_input": "2021-06-13T09:37:29.032756Z",
     "iopub.status.busy": "2021-06-13T09:37:29.032183Z",
     "iopub.status.idle": "2021-06-13T09:37:30.370032Z",
     "shell.execute_reply": "2021-06-13T09:37:30.368484Z",
     "shell.execute_reply.started": "2021-06-12T12:22:07.254813Z"
    },
    "papermill": {
     "duration": 1.356134,
     "end_time": "2021-06-13T09:37:30.370161",
     "exception": false,
     "start_time": "2021-06-13T09:37:29.014027",
     "status": "completed"
    },
    "tags": []
   },
   "outputs": [],
   "source": [
    "import numpy as np\n",
    "import pandas as pd\n",
    "import matplotlib.pyplot as plt\n",
    "import seaborn as sns\n",
    "import datetime\n",
    "import operator\n",
    "import math\n",
    "import random\n",
    "\n",
    "import numpy as np\n",
    "from scipy.linalg import norm\n",
    "from scipy.spatial.distance import cdist\n",
    "from collections import defaultdict\n",
    "\n",
    "\n",
    "from sklearn import datasets\n",
    "from sklearn.datasets import make_blobs\n",
    "\n",
    "# ignoring warnings\n",
    "import warnings\n",
    "warnings.simplefilter(\"ignore\")\n",
    "\n",
    "import os, cv2, json\n",
    "\n",
    "\n",
    "np.random.seed(42)"
   ]
  },
  {
   "cell_type": "markdown",
   "metadata": {
    "papermill": {
     "duration": 0.011254,
     "end_time": "2021-06-13T09:37:30.393607",
     "exception": false,
     "start_time": "2021-06-13T09:37:30.382353",
     "status": "completed"
    },
    "tags": []
   },
   "source": [
    "> # load the dataset"
   ]
  },
  {
   "cell_type": "code",
   "execution_count": 2,
   "metadata": {
    "execution": {
     "iopub.execute_input": "2021-06-13T09:37:30.420764Z",
     "iopub.status.busy": "2021-06-13T09:37:30.420241Z",
     "iopub.status.idle": "2021-06-13T09:37:30.427111Z",
     "shell.execute_reply": "2021-06-13T09:37:30.427568Z",
     "shell.execute_reply.started": "2021-06-12T12:22:08.763877Z"
    },
    "papermill": {
     "duration": 0.022564,
     "end_time": "2021-06-13T09:37:30.427719",
     "exception": false,
     "start_time": "2021-06-13T09:37:30.405155",
     "status": "completed"
    },
    "tags": []
   },
   "outputs": [],
   "source": [
    "iris=datasets.load_iris()"
   ]
  },
  {
   "cell_type": "code",
   "execution_count": 3,
   "metadata": {
    "execution": {
     "iopub.execute_input": "2021-06-13T09:37:30.461432Z",
     "iopub.status.busy": "2021-06-13T09:37:30.456141Z",
     "iopub.status.idle": "2021-06-13T09:37:30.468710Z",
     "shell.execute_reply": "2021-06-13T09:37:30.469169Z",
     "shell.execute_reply.started": "2021-06-12T12:22:08.781346Z"
    },
    "papermill": {
     "duration": 0.029768,
     "end_time": "2021-06-13T09:37:30.469302",
     "exception": false,
     "start_time": "2021-06-13T09:37:30.439534",
     "status": "completed"
    },
    "tags": []
   },
   "outputs": [
    {
     "data": {
      "text/plain": [
       "{'data': array([[5.1, 3.5, 1.4, 0.2],\n",
       "        [4.9, 3. , 1.4, 0.2],\n",
       "        [4.7, 3.2, 1.3, 0.2],\n",
       "        [4.6, 3.1, 1.5, 0.2],\n",
       "        [5. , 3.6, 1.4, 0.2],\n",
       "        [5.4, 3.9, 1.7, 0.4],\n",
       "        [4.6, 3.4, 1.4, 0.3],\n",
       "        [5. , 3.4, 1.5, 0.2],\n",
       "        [4.4, 2.9, 1.4, 0.2],\n",
       "        [4.9, 3.1, 1.5, 0.1],\n",
       "        [5.4, 3.7, 1.5, 0.2],\n",
       "        [4.8, 3.4, 1.6, 0.2],\n",
       "        [4.8, 3. , 1.4, 0.1],\n",
       "        [4.3, 3. , 1.1, 0.1],\n",
       "        [5.8, 4. , 1.2, 0.2],\n",
       "        [5.7, 4.4, 1.5, 0.4],\n",
       "        [5.4, 3.9, 1.3, 0.4],\n",
       "        [5.1, 3.5, 1.4, 0.3],\n",
       "        [5.7, 3.8, 1.7, 0.3],\n",
       "        [5.1, 3.8, 1.5, 0.3],\n",
       "        [5.4, 3.4, 1.7, 0.2],\n",
       "        [5.1, 3.7, 1.5, 0.4],\n",
       "        [4.6, 3.6, 1. , 0.2],\n",
       "        [5.1, 3.3, 1.7, 0.5],\n",
       "        [4.8, 3.4, 1.9, 0.2],\n",
       "        [5. , 3. , 1.6, 0.2],\n",
       "        [5. , 3.4, 1.6, 0.4],\n",
       "        [5.2, 3.5, 1.5, 0.2],\n",
       "        [5.2, 3.4, 1.4, 0.2],\n",
       "        [4.7, 3.2, 1.6, 0.2],\n",
       "        [4.8, 3.1, 1.6, 0.2],\n",
       "        [5.4, 3.4, 1.5, 0.4],\n",
       "        [5.2, 4.1, 1.5, 0.1],\n",
       "        [5.5, 4.2, 1.4, 0.2],\n",
       "        [4.9, 3.1, 1.5, 0.2],\n",
       "        [5. , 3.2, 1.2, 0.2],\n",
       "        [5.5, 3.5, 1.3, 0.2],\n",
       "        [4.9, 3.6, 1.4, 0.1],\n",
       "        [4.4, 3. , 1.3, 0.2],\n",
       "        [5.1, 3.4, 1.5, 0.2],\n",
       "        [5. , 3.5, 1.3, 0.3],\n",
       "        [4.5, 2.3, 1.3, 0.3],\n",
       "        [4.4, 3.2, 1.3, 0.2],\n",
       "        [5. , 3.5, 1.6, 0.6],\n",
       "        [5.1, 3.8, 1.9, 0.4],\n",
       "        [4.8, 3. , 1.4, 0.3],\n",
       "        [5.1, 3.8, 1.6, 0.2],\n",
       "        [4.6, 3.2, 1.4, 0.2],\n",
       "        [5.3, 3.7, 1.5, 0.2],\n",
       "        [5. , 3.3, 1.4, 0.2],\n",
       "        [7. , 3.2, 4.7, 1.4],\n",
       "        [6.4, 3.2, 4.5, 1.5],\n",
       "        [6.9, 3.1, 4.9, 1.5],\n",
       "        [5.5, 2.3, 4. , 1.3],\n",
       "        [6.5, 2.8, 4.6, 1.5],\n",
       "        [5.7, 2.8, 4.5, 1.3],\n",
       "        [6.3, 3.3, 4.7, 1.6],\n",
       "        [4.9, 2.4, 3.3, 1. ],\n",
       "        [6.6, 2.9, 4.6, 1.3],\n",
       "        [5.2, 2.7, 3.9, 1.4],\n",
       "        [5. , 2. , 3.5, 1. ],\n",
       "        [5.9, 3. , 4.2, 1.5],\n",
       "        [6. , 2.2, 4. , 1. ],\n",
       "        [6.1, 2.9, 4.7, 1.4],\n",
       "        [5.6, 2.9, 3.6, 1.3],\n",
       "        [6.7, 3.1, 4.4, 1.4],\n",
       "        [5.6, 3. , 4.5, 1.5],\n",
       "        [5.8, 2.7, 4.1, 1. ],\n",
       "        [6.2, 2.2, 4.5, 1.5],\n",
       "        [5.6, 2.5, 3.9, 1.1],\n",
       "        [5.9, 3.2, 4.8, 1.8],\n",
       "        [6.1, 2.8, 4. , 1.3],\n",
       "        [6.3, 2.5, 4.9, 1.5],\n",
       "        [6.1, 2.8, 4.7, 1.2],\n",
       "        [6.4, 2.9, 4.3, 1.3],\n",
       "        [6.6, 3. , 4.4, 1.4],\n",
       "        [6.8, 2.8, 4.8, 1.4],\n",
       "        [6.7, 3. , 5. , 1.7],\n",
       "        [6. , 2.9, 4.5, 1.5],\n",
       "        [5.7, 2.6, 3.5, 1. ],\n",
       "        [5.5, 2.4, 3.8, 1.1],\n",
       "        [5.5, 2.4, 3.7, 1. ],\n",
       "        [5.8, 2.7, 3.9, 1.2],\n",
       "        [6. , 2.7, 5.1, 1.6],\n",
       "        [5.4, 3. , 4.5, 1.5],\n",
       "        [6. , 3.4, 4.5, 1.6],\n",
       "        [6.7, 3.1, 4.7, 1.5],\n",
       "        [6.3, 2.3, 4.4, 1.3],\n",
       "        [5.6, 3. , 4.1, 1.3],\n",
       "        [5.5, 2.5, 4. , 1.3],\n",
       "        [5.5, 2.6, 4.4, 1.2],\n",
       "        [6.1, 3. , 4.6, 1.4],\n",
       "        [5.8, 2.6, 4. , 1.2],\n",
       "        [5. , 2.3, 3.3, 1. ],\n",
       "        [5.6, 2.7, 4.2, 1.3],\n",
       "        [5.7, 3. , 4.2, 1.2],\n",
       "        [5.7, 2.9, 4.2, 1.3],\n",
       "        [6.2, 2.9, 4.3, 1.3],\n",
       "        [5.1, 2.5, 3. , 1.1],\n",
       "        [5.7, 2.8, 4.1, 1.3],\n",
       "        [6.3, 3.3, 6. , 2.5],\n",
       "        [5.8, 2.7, 5.1, 1.9],\n",
       "        [7.1, 3. , 5.9, 2.1],\n",
       "        [6.3, 2.9, 5.6, 1.8],\n",
       "        [6.5, 3. , 5.8, 2.2],\n",
       "        [7.6, 3. , 6.6, 2.1],\n",
       "        [4.9, 2.5, 4.5, 1.7],\n",
       "        [7.3, 2.9, 6.3, 1.8],\n",
       "        [6.7, 2.5, 5.8, 1.8],\n",
       "        [7.2, 3.6, 6.1, 2.5],\n",
       "        [6.5, 3.2, 5.1, 2. ],\n",
       "        [6.4, 2.7, 5.3, 1.9],\n",
       "        [6.8, 3. , 5.5, 2.1],\n",
       "        [5.7, 2.5, 5. , 2. ],\n",
       "        [5.8, 2.8, 5.1, 2.4],\n",
       "        [6.4, 3.2, 5.3, 2.3],\n",
       "        [6.5, 3. , 5.5, 1.8],\n",
       "        [7.7, 3.8, 6.7, 2.2],\n",
       "        [7.7, 2.6, 6.9, 2.3],\n",
       "        [6. , 2.2, 5. , 1.5],\n",
       "        [6.9, 3.2, 5.7, 2.3],\n",
       "        [5.6, 2.8, 4.9, 2. ],\n",
       "        [7.7, 2.8, 6.7, 2. ],\n",
       "        [6.3, 2.7, 4.9, 1.8],\n",
       "        [6.7, 3.3, 5.7, 2.1],\n",
       "        [7.2, 3.2, 6. , 1.8],\n",
       "        [6.2, 2.8, 4.8, 1.8],\n",
       "        [6.1, 3. , 4.9, 1.8],\n",
       "        [6.4, 2.8, 5.6, 2.1],\n",
       "        [7.2, 3. , 5.8, 1.6],\n",
       "        [7.4, 2.8, 6.1, 1.9],\n",
       "        [7.9, 3.8, 6.4, 2. ],\n",
       "        [6.4, 2.8, 5.6, 2.2],\n",
       "        [6.3, 2.8, 5.1, 1.5],\n",
       "        [6.1, 2.6, 5.6, 1.4],\n",
       "        [7.7, 3. , 6.1, 2.3],\n",
       "        [6.3, 3.4, 5.6, 2.4],\n",
       "        [6.4, 3.1, 5.5, 1.8],\n",
       "        [6. , 3. , 4.8, 1.8],\n",
       "        [6.9, 3.1, 5.4, 2.1],\n",
       "        [6.7, 3.1, 5.6, 2.4],\n",
       "        [6.9, 3.1, 5.1, 2.3],\n",
       "        [5.8, 2.7, 5.1, 1.9],\n",
       "        [6.8, 3.2, 5.9, 2.3],\n",
       "        [6.7, 3.3, 5.7, 2.5],\n",
       "        [6.7, 3. , 5.2, 2.3],\n",
       "        [6.3, 2.5, 5. , 1.9],\n",
       "        [6.5, 3. , 5.2, 2. ],\n",
       "        [6.2, 3.4, 5.4, 2.3],\n",
       "        [5.9, 3. , 5.1, 1.8]]),\n",
       " 'target': array([0, 0, 0, 0, 0, 0, 0, 0, 0, 0, 0, 0, 0, 0, 0, 0, 0, 0, 0, 0, 0, 0,\n",
       "        0, 0, 0, 0, 0, 0, 0, 0, 0, 0, 0, 0, 0, 0, 0, 0, 0, 0, 0, 0, 0, 0,\n",
       "        0, 0, 0, 0, 0, 0, 1, 1, 1, 1, 1, 1, 1, 1, 1, 1, 1, 1, 1, 1, 1, 1,\n",
       "        1, 1, 1, 1, 1, 1, 1, 1, 1, 1, 1, 1, 1, 1, 1, 1, 1, 1, 1, 1, 1, 1,\n",
       "        1, 1, 1, 1, 1, 1, 1, 1, 1, 1, 1, 1, 2, 2, 2, 2, 2, 2, 2, 2, 2, 2,\n",
       "        2, 2, 2, 2, 2, 2, 2, 2, 2, 2, 2, 2, 2, 2, 2, 2, 2, 2, 2, 2, 2, 2,\n",
       "        2, 2, 2, 2, 2, 2, 2, 2, 2, 2, 2, 2, 2, 2, 2, 2, 2, 2]),\n",
       " 'frame': None,\n",
       " 'target_names': array(['setosa', 'versicolor', 'virginica'], dtype='<U10'),\n",
       " 'DESCR': '.. _iris_dataset:\\n\\nIris plants dataset\\n--------------------\\n\\n**Data Set Characteristics:**\\n\\n    :Number of Instances: 150 (50 in each of three classes)\\n    :Number of Attributes: 4 numeric, predictive attributes and the class\\n    :Attribute Information:\\n        - sepal length in cm\\n        - sepal width in cm\\n        - petal length in cm\\n        - petal width in cm\\n        - class:\\n                - Iris-Setosa\\n                - Iris-Versicolour\\n                - Iris-Virginica\\n                \\n    :Summary Statistics:\\n\\n    ============== ==== ==== ======= ===== ====================\\n                    Min  Max   Mean    SD   Class Correlation\\n    ============== ==== ==== ======= ===== ====================\\n    sepal length:   4.3  7.9   5.84   0.83    0.7826\\n    sepal width:    2.0  4.4   3.05   0.43   -0.4194\\n    petal length:   1.0  6.9   3.76   1.76    0.9490  (high!)\\n    petal width:    0.1  2.5   1.20   0.76    0.9565  (high!)\\n    ============== ==== ==== ======= ===== ====================\\n\\n    :Missing Attribute Values: None\\n    :Class Distribution: 33.3% for each of 3 classes.\\n    :Creator: R.A. Fisher\\n    :Donor: Michael Marshall (MARSHALL%PLU@io.arc.nasa.gov)\\n    :Date: July, 1988\\n\\nThe famous Iris database, first used by Sir R.A. Fisher. The dataset is taken\\nfrom Fisher\\'s paper. Note that it\\'s the same as in R, but not as in the UCI\\nMachine Learning Repository, which has two wrong data points.\\n\\nThis is perhaps the best known database to be found in the\\npattern recognition literature.  Fisher\\'s paper is a classic in the field and\\nis referenced frequently to this day.  (See Duda & Hart, for example.)  The\\ndata set contains 3 classes of 50 instances each, where each class refers to a\\ntype of iris plant.  One class is linearly separable from the other 2; the\\nlatter are NOT linearly separable from each other.\\n\\n.. topic:: References\\n\\n   - Fisher, R.A. \"The use of multiple measurements in taxonomic problems\"\\n     Annual Eugenics, 7, Part II, 179-188 (1936); also in \"Contributions to\\n     Mathematical Statistics\" (John Wiley, NY, 1950).\\n   - Duda, R.O., & Hart, P.E. (1973) Pattern Classification and Scene Analysis.\\n     (Q327.D83) John Wiley & Sons.  ISBN 0-471-22361-1.  See page 218.\\n   - Dasarathy, B.V. (1980) \"Nosing Around the Neighborhood: A New System\\n     Structure and Classification Rule for Recognition in Partially Exposed\\n     Environments\".  IEEE Transactions on Pattern Analysis and Machine\\n     Intelligence, Vol. PAMI-2, No. 1, 67-71.\\n   - Gates, G.W. (1972) \"The Reduced Nearest Neighbor Rule\".  IEEE Transactions\\n     on Information Theory, May 1972, 431-433.\\n   - See also: 1988 MLC Proceedings, 54-64.  Cheeseman et al\"s AUTOCLASS II\\n     conceptual clustering system finds 3 classes in the data.\\n   - Many, many more ...',\n",
       " 'feature_names': ['sepal length (cm)',\n",
       "  'sepal width (cm)',\n",
       "  'petal length (cm)',\n",
       "  'petal width (cm)'],\n",
       " 'filename': '/opt/conda/lib/python3.7/site-packages/sklearn/datasets/data/iris.csv'}"
      ]
     },
     "execution_count": 3,
     "metadata": {},
     "output_type": "execute_result"
    }
   ],
   "source": [
    "iris"
   ]
  },
  {
   "cell_type": "code",
   "execution_count": 4,
   "metadata": {
    "execution": {
     "iopub.execute_input": "2021-06-13T09:37:30.497198Z",
     "iopub.status.busy": "2021-06-13T09:37:30.496291Z",
     "iopub.status.idle": "2021-06-13T09:37:30.520879Z",
     "shell.execute_reply": "2021-06-13T09:37:30.520363Z",
     "shell.execute_reply.started": "2021-06-12T12:22:08.816189Z"
    },
    "papermill": {
     "duration": 0.039369,
     "end_time": "2021-06-13T09:37:30.520999",
     "exception": false,
     "start_time": "2021-06-13T09:37:30.481630",
     "status": "completed"
    },
    "tags": []
   },
   "outputs": [
    {
     "data": {
      "text/html": [
       "<div>\n",
       "<style scoped>\n",
       "    .dataframe tbody tr th:only-of-type {\n",
       "        vertical-align: middle;\n",
       "    }\n",
       "\n",
       "    .dataframe tbody tr th {\n",
       "        vertical-align: top;\n",
       "    }\n",
       "\n",
       "    .dataframe thead th {\n",
       "        text-align: right;\n",
       "    }\n",
       "</style>\n",
       "<table border=\"1\" class=\"dataframe\">\n",
       "  <thead>\n",
       "    <tr style=\"text-align: right;\">\n",
       "      <th></th>\n",
       "      <th>Sepal Length</th>\n",
       "      <th>Sepal Width</th>\n",
       "      <th>Petal Length</th>\n",
       "      <th>Petal Width</th>\n",
       "    </tr>\n",
       "  </thead>\n",
       "  <tbody>\n",
       "    <tr>\n",
       "      <th>0</th>\n",
       "      <td>5.1</td>\n",
       "      <td>3.5</td>\n",
       "      <td>1.4</td>\n",
       "      <td>0.2</td>\n",
       "    </tr>\n",
       "    <tr>\n",
       "      <th>1</th>\n",
       "      <td>4.9</td>\n",
       "      <td>3.0</td>\n",
       "      <td>1.4</td>\n",
       "      <td>0.2</td>\n",
       "    </tr>\n",
       "    <tr>\n",
       "      <th>2</th>\n",
       "      <td>4.7</td>\n",
       "      <td>3.2</td>\n",
       "      <td>1.3</td>\n",
       "      <td>0.2</td>\n",
       "    </tr>\n",
       "    <tr>\n",
       "      <th>3</th>\n",
       "      <td>4.6</td>\n",
       "      <td>3.1</td>\n",
       "      <td>1.5</td>\n",
       "      <td>0.2</td>\n",
       "    </tr>\n",
       "    <tr>\n",
       "      <th>4</th>\n",
       "      <td>5.0</td>\n",
       "      <td>3.6</td>\n",
       "      <td>1.4</td>\n",
       "      <td>0.2</td>\n",
       "    </tr>\n",
       "    <tr>\n",
       "      <th>...</th>\n",
       "      <td>...</td>\n",
       "      <td>...</td>\n",
       "      <td>...</td>\n",
       "      <td>...</td>\n",
       "    </tr>\n",
       "    <tr>\n",
       "      <th>145</th>\n",
       "      <td>6.7</td>\n",
       "      <td>3.0</td>\n",
       "      <td>5.2</td>\n",
       "      <td>2.3</td>\n",
       "    </tr>\n",
       "    <tr>\n",
       "      <th>146</th>\n",
       "      <td>6.3</td>\n",
       "      <td>2.5</td>\n",
       "      <td>5.0</td>\n",
       "      <td>1.9</td>\n",
       "    </tr>\n",
       "    <tr>\n",
       "      <th>147</th>\n",
       "      <td>6.5</td>\n",
       "      <td>3.0</td>\n",
       "      <td>5.2</td>\n",
       "      <td>2.0</td>\n",
       "    </tr>\n",
       "    <tr>\n",
       "      <th>148</th>\n",
       "      <td>6.2</td>\n",
       "      <td>3.4</td>\n",
       "      <td>5.4</td>\n",
       "      <td>2.3</td>\n",
       "    </tr>\n",
       "    <tr>\n",
       "      <th>149</th>\n",
       "      <td>5.9</td>\n",
       "      <td>3.0</td>\n",
       "      <td>5.1</td>\n",
       "      <td>1.8</td>\n",
       "    </tr>\n",
       "  </tbody>\n",
       "</table>\n",
       "<p>150 rows × 4 columns</p>\n",
       "</div>"
      ],
      "text/plain": [
       "     Sepal Length  Sepal Width  Petal Length  Petal Width\n",
       "0             5.1          3.5           1.4          0.2\n",
       "1             4.9          3.0           1.4          0.2\n",
       "2             4.7          3.2           1.3          0.2\n",
       "3             4.6          3.1           1.5          0.2\n",
       "4             5.0          3.6           1.4          0.2\n",
       "..            ...          ...           ...          ...\n",
       "145           6.7          3.0           5.2          2.3\n",
       "146           6.3          2.5           5.0          1.9\n",
       "147           6.5          3.0           5.2          2.0\n",
       "148           6.2          3.4           5.4          2.3\n",
       "149           5.9          3.0           5.1          1.8\n",
       "\n",
       "[150 rows x 4 columns]"
      ]
     },
     "execution_count": 4,
     "metadata": {},
     "output_type": "execute_result"
    }
   ],
   "source": [
    "X=pd.DataFrame(iris.data,columns=['Sepal Length', 'Sepal Width', 'Petal Length', 'Petal Width'])\n",
    "y=pd.DataFrame(iris.target,columns=['Classes'])\n",
    "\n",
    "X"
   ]
  },
  {
   "cell_type": "code",
   "execution_count": 5,
   "metadata": {
    "execution": {
     "iopub.execute_input": "2021-06-13T09:37:30.549068Z",
     "iopub.status.busy": "2021-06-13T09:37:30.548423Z",
     "iopub.status.idle": "2021-06-13T09:37:30.551577Z",
     "shell.execute_reply": "2021-06-13T09:37:30.552037Z",
     "shell.execute_reply.started": "2021-06-12T12:22:08.862459Z"
    },
    "papermill": {
     "duration": 0.018624,
     "end_time": "2021-06-13T09:37:30.552174",
     "exception": false,
     "start_time": "2021-06-13T09:37:30.533550",
     "status": "completed"
    },
    "tags": []
   },
   "outputs": [],
   "source": [
    "X=X.values"
   ]
  },
  {
   "cell_type": "code",
   "execution_count": 6,
   "metadata": {
    "execution": {
     "iopub.execute_input": "2021-06-13T09:37:30.580732Z",
     "iopub.status.busy": "2021-06-13T09:37:30.580214Z",
     "iopub.status.idle": "2021-06-13T09:37:30.583165Z",
     "shell.execute_reply": "2021-06-13T09:37:30.583537Z",
     "shell.execute_reply.started": "2021-06-12T12:22:08.871974Z"
    },
    "papermill": {
     "duration": 0.018326,
     "end_time": "2021-06-13T09:37:30.583665",
     "exception": false,
     "start_time": "2021-06-13T09:37:30.565339",
     "status": "completed"
    },
    "tags": []
   },
   "outputs": [],
   "source": [
    "y=y.values"
   ]
  },
  {
   "cell_type": "code",
   "execution_count": 7,
   "metadata": {
    "execution": {
     "iopub.execute_input": "2021-06-13T09:37:30.612084Z",
     "iopub.status.busy": "2021-06-13T09:37:30.611239Z",
     "iopub.status.idle": "2021-06-13T09:37:30.614320Z",
     "shell.execute_reply": "2021-06-13T09:37:30.614696Z",
     "shell.execute_reply.started": "2021-06-12T12:22:08.889034Z"
    },
    "papermill": {
     "duration": 0.01858,
     "end_time": "2021-06-13T09:37:30.614825",
     "exception": false,
     "start_time": "2021-06-13T09:37:30.596245",
     "status": "completed"
    },
    "tags": []
   },
   "outputs": [],
   "source": [
    "data=X"
   ]
  },
  {
   "cell_type": "code",
   "execution_count": 8,
   "metadata": {
    "execution": {
     "iopub.execute_input": "2021-06-13T09:37:30.642659Z",
     "iopub.status.busy": "2021-06-13T09:37:30.642141Z",
     "iopub.status.idle": "2021-06-13T09:37:30.647958Z",
     "shell.execute_reply": "2021-06-13T09:37:30.647426Z",
     "shell.execute_reply.started": "2021-06-12T12:22:08.905Z"
    },
    "papermill": {
     "duration": 0.020647,
     "end_time": "2021-06-13T09:37:30.648069",
     "exception": false,
     "start_time": "2021-06-13T09:37:30.627422",
     "status": "completed"
    },
    "tags": []
   },
   "outputs": [
    {
     "data": {
      "text/plain": [
       "array([[0],\n",
       "       [0],\n",
       "       [0],\n",
       "       [0],\n",
       "       [0],\n",
       "       [0],\n",
       "       [0],\n",
       "       [0],\n",
       "       [0],\n",
       "       [0],\n",
       "       [0],\n",
       "       [0],\n",
       "       [0],\n",
       "       [0],\n",
       "       [0],\n",
       "       [0],\n",
       "       [0],\n",
       "       [0],\n",
       "       [0],\n",
       "       [0],\n",
       "       [0],\n",
       "       [0],\n",
       "       [0],\n",
       "       [0],\n",
       "       [0],\n",
       "       [0],\n",
       "       [0],\n",
       "       [0],\n",
       "       [0],\n",
       "       [0],\n",
       "       [0],\n",
       "       [0],\n",
       "       [0],\n",
       "       [0],\n",
       "       [0],\n",
       "       [0],\n",
       "       [0],\n",
       "       [0],\n",
       "       [0],\n",
       "       [0],\n",
       "       [0],\n",
       "       [0],\n",
       "       [0],\n",
       "       [0],\n",
       "       [0],\n",
       "       [0],\n",
       "       [0],\n",
       "       [0],\n",
       "       [0],\n",
       "       [0],\n",
       "       [1],\n",
       "       [1],\n",
       "       [1],\n",
       "       [1],\n",
       "       [1],\n",
       "       [1],\n",
       "       [1],\n",
       "       [1],\n",
       "       [1],\n",
       "       [1],\n",
       "       [1],\n",
       "       [1],\n",
       "       [1],\n",
       "       [1],\n",
       "       [1],\n",
       "       [1],\n",
       "       [1],\n",
       "       [1],\n",
       "       [1],\n",
       "       [1],\n",
       "       [1],\n",
       "       [1],\n",
       "       [1],\n",
       "       [1],\n",
       "       [1],\n",
       "       [1],\n",
       "       [1],\n",
       "       [1],\n",
       "       [1],\n",
       "       [1],\n",
       "       [1],\n",
       "       [1],\n",
       "       [1],\n",
       "       [1],\n",
       "       [1],\n",
       "       [1],\n",
       "       [1],\n",
       "       [1],\n",
       "       [1],\n",
       "       [1],\n",
       "       [1],\n",
       "       [1],\n",
       "       [1],\n",
       "       [1],\n",
       "       [1],\n",
       "       [1],\n",
       "       [1],\n",
       "       [1],\n",
       "       [1],\n",
       "       [1],\n",
       "       [2],\n",
       "       [2],\n",
       "       [2],\n",
       "       [2],\n",
       "       [2],\n",
       "       [2],\n",
       "       [2],\n",
       "       [2],\n",
       "       [2],\n",
       "       [2],\n",
       "       [2],\n",
       "       [2],\n",
       "       [2],\n",
       "       [2],\n",
       "       [2],\n",
       "       [2],\n",
       "       [2],\n",
       "       [2],\n",
       "       [2],\n",
       "       [2],\n",
       "       [2],\n",
       "       [2],\n",
       "       [2],\n",
       "       [2],\n",
       "       [2],\n",
       "       [2],\n",
       "       [2],\n",
       "       [2],\n",
       "       [2],\n",
       "       [2],\n",
       "       [2],\n",
       "       [2],\n",
       "       [2],\n",
       "       [2],\n",
       "       [2],\n",
       "       [2],\n",
       "       [2],\n",
       "       [2],\n",
       "       [2],\n",
       "       [2],\n",
       "       [2],\n",
       "       [2],\n",
       "       [2],\n",
       "       [2],\n",
       "       [2],\n",
       "       [2],\n",
       "       [2],\n",
       "       [2],\n",
       "       [2],\n",
       "       [2]])"
      ]
     },
     "execution_count": 8,
     "metadata": {},
     "output_type": "execute_result"
    }
   ],
   "source": [
    "y"
   ]
  },
  {
   "cell_type": "markdown",
   "metadata": {
    "papermill": {
     "duration": 0.012787,
     "end_time": "2021-06-13T09:37:30.674240",
     "exception": false,
     "start_time": "2021-06-13T09:37:30.661453",
     "status": "completed"
    },
    "tags": []
   },
   "source": [
    "# Function to calculate euclidean distance"
   ]
  },
  {
   "cell_type": "code",
   "execution_count": 9,
   "metadata": {
    "execution": {
     "iopub.execute_input": "2021-06-13T09:37:30.702792Z",
     "iopub.status.busy": "2021-06-13T09:37:30.702191Z",
     "iopub.status.idle": "2021-06-13T09:37:30.706237Z",
     "shell.execute_reply": "2021-06-13T09:37:30.706607Z",
     "shell.execute_reply.started": "2021-06-12T12:22:08.926644Z"
    },
    "papermill": {
     "duration": 0.019618,
     "end_time": "2021-06-13T09:37:30.706739",
     "exception": false,
     "start_time": "2021-06-13T09:37:30.687121",
     "status": "completed"
    },
    "tags": []
   },
   "outputs": [],
   "source": [
    "def euclidean_distance(point1,point2):\n",
    "    dis=0\n",
    "    for i in range(len(point1)):\n",
    "        dis+=(point1[i]-point2[i])**2\n",
    "    return dis**0.5\n"
   ]
  },
  {
   "cell_type": "markdown",
   "metadata": {
    "papermill": {
     "duration": 0.012407,
     "end_time": "2021-06-13T09:37:30.732102",
     "exception": false,
     "start_time": "2021-06-13T09:37:30.719695",
     "status": "completed"
    },
    "tags": []
   },
   "source": [
    "# FuzzyCMeans Implementation"
   ]
  },
  {
   "cell_type": "code",
   "execution_count": 10,
   "metadata": {
    "execution": {
     "iopub.execute_input": "2021-06-13T09:37:30.760213Z",
     "iopub.status.busy": "2021-06-13T09:37:30.759687Z",
     "iopub.status.idle": "2021-06-13T09:37:30.763852Z",
     "shell.execute_reply": "2021-06-13T09:37:30.763417Z",
     "shell.execute_reply.started": "2021-06-12T12:22:08.945028Z"
    },
    "papermill": {
     "duration": 0.01917,
     "end_time": "2021-06-13T09:37:30.763963",
     "exception": false,
     "start_time": "2021-06-13T09:37:30.744793",
     "status": "completed"
    },
    "tags": []
   },
   "outputs": [],
   "source": [
    "# utility values\n",
    "m=2\n",
    "n=len(data)\n",
    "c=3\n",
    "p=len(data[0])\n",
    "max_iter=100"
   ]
  },
  {
   "cell_type": "markdown",
   "metadata": {
    "papermill": {
     "duration": 0.012488,
     "end_time": "2021-06-13T09:37:30.789570",
     "exception": false,
     "start_time": "2021-06-13T09:37:30.777082",
     "status": "completed"
    },
    "tags": []
   },
   "source": [
    "# Initializing the membership matrix"
   ]
  },
  {
   "cell_type": "code",
   "execution_count": 11,
   "metadata": {
    "execution": {
     "iopub.execute_input": "2021-06-13T09:37:30.829359Z",
     "iopub.status.busy": "2021-06-13T09:37:30.828765Z",
     "iopub.status.idle": "2021-06-13T09:37:30.835042Z",
     "shell.execute_reply": "2021-06-13T09:37:30.834497Z",
     "shell.execute_reply.started": "2021-06-12T12:22:08.961757Z"
    },
    "papermill": {
     "duration": 0.032586,
     "end_time": "2021-06-13T09:37:30.835145",
     "exception": false,
     "start_time": "2021-06-13T09:37:30.802559",
     "status": "completed"
    },
    "tags": []
   },
   "outputs": [],
   "source": [
    "def initialize_membership_matrix(n,c):\n",
    "    member_mat=list()\n",
    "    for i in range(n):\n",
    "        random_list=[random.random() for x in range(c)]\n",
    "        summation=sum(random_list)\n",
    "        for i in range(len(random_list)):\n",
    "            random_list[i]=random_list[i]/summation\n",
    "        member_mat.append(random_list)\n",
    "    return member_mat\n",
    "\n",
    "def update_centroid(member_mat):\n",
    "    centroids={}\n",
    "\n",
    "    for j in range(c):\n",
    "        temp=[]\n",
    "        for k in range(p):\n",
    "            \n",
    "            add=0\n",
    "            for i in range(n):\n",
    "                add+=member_mat[i][j]**m\n",
    "            x=0\n",
    "            for i in range(n):\n",
    "                x+=(member_mat[i][j]**m)*(data[i][k])\n",
    "            val=x/add\n",
    "            temp.append(val)\n",
    "        centroids[j]=temp\n",
    "    return centroids\n",
    "\n",
    "\n",
    "def update_membership_matrix(member_mat,centroids):\n",
    "    ratio=float(2/(m-1))\n",
    "\n",
    "    for i in range(n):\n",
    "        distances=list()\n",
    "        for j in range(c):\n",
    "            distances.append(euclidean_distance(data[i],centroids[j]))\n",
    "        for j in range(c):\n",
    "            den = sum([math.pow(float(distances[j]/distances[q]), ratio) for q in range(c)])\n",
    "            member_mat[i][j] = float(1/den) \n",
    "           \n",
    "            \n",
    "    return member_mat\n",
    "        \n",
    "                \n",
    "    \n",
    "def find_cluster(member_mat):\n",
    "    clusters=list()\n",
    "    for i in range(n):\n",
    "        max_val, idx = max((val, idx) for (idx, val) in enumerate(member_mat[i]))\n",
    "        clusters.append(idx)\n",
    "    return clusters\n",
    "\n",
    "def check(old_member_mat,member_mat):\n",
    "    diff=0\n",
    "    for i in range(n):\n",
    "        for j in range(c):\n",
    "            diff+=old_member_mat[i][j]-member_mat[i][j]\n",
    "    if(diff<0.01):\n",
    "        return True\n",
    "    return False\n",
    "\n",
    "def fuzzy_c_mean():\n",
    "    \n",
    "    member_mat=initialize_membership_matrix(n,c)\n",
    "    for i in range(max_iter):\n",
    "        centroids=update_centroid(member_mat)\n",
    "        old_member_mat=member_mat\n",
    "        member_mat=update_membership_matrix(member_mat,centroids)\n",
    "        cluster=find_cluster(member_mat)\n",
    "        if(check(old_member_mat,member_mat))<0.01:\n",
    "            print(i)\n",
    "            break\n",
    "    \n",
    "   \n",
    "    \n",
    "    return cluster,centroids\n"
   ]
  },
  {
   "cell_type": "markdown",
   "metadata": {
    "papermill": {
     "duration": 0.012532,
     "end_time": "2021-06-13T09:37:30.860588",
     "exception": false,
     "start_time": "2021-06-13T09:37:30.848056",
     "status": "completed"
    },
    "tags": []
   },
   "source": [
    "# prediction"
   ]
  },
  {
   "cell_type": "code",
   "execution_count": 12,
   "metadata": {
    "execution": {
     "iopub.execute_input": "2021-06-13T09:37:30.889741Z",
     "iopub.status.busy": "2021-06-13T09:37:30.888862Z",
     "iopub.status.idle": "2021-06-13T09:37:31.350246Z",
     "shell.execute_reply": "2021-06-13T09:37:31.349711Z",
     "shell.execute_reply.started": "2021-06-12T12:22:08.996241Z"
    },
    "papermill": {
     "duration": 0.476946,
     "end_time": "2021-06-13T09:37:31.350362",
     "exception": false,
     "start_time": "2021-06-13T09:37:30.873416",
     "status": "completed"
    },
    "tags": []
   },
   "outputs": [
    {
     "name": "stdout",
     "output_type": "stream",
     "text": [
      "Final Centroid points are:\n",
      "{0: [5.888932360609777, 2.7610693632044407, 4.363951643133038, 1.3973150407078865], 1: [6.775011223752623, 3.052382271043553, 5.646781781918656, 2.053546658540863], 2: [5.003965960611253, 3.414088858778309, 1.4828155326056143, 0.25354631747874196]}\n"
     ]
    }
   ],
   "source": [
    "clusters,centroids=fuzzy_c_mean()\n",
    "print(\"Final Centroid points are:\")\n",
    "print(centroids)\n",
    "\n",
    "\n",
    "# labeling the clusters\n",
    "def label_clusters(clusters):\n",
    "    z=0\n",
    "    o=0\n",
    "    t=0\n",
    "    dict=defaultdict(int)\n",
    "\n",
    "\n",
    "    for i in range(50):\n",
    "        if(clusters[i]==0):\n",
    "            z=z+1\n",
    "        elif(clusters[i]==1):\n",
    "            o=o+1\n",
    "        else:\n",
    "            t=t+1\n",
    "    dict[z]=0\n",
    "    dict[o]=1\n",
    "    dict[t]=2\n",
    "    classes=[]\n",
    "    fin1=max(z,max(o,t))\n",
    "    \n",
    "    classes.append(dict[fin1])\n",
    "    z=0\n",
    "    o=0\n",
    "    t=0\n",
    "    for i in range(50,100):\n",
    "        if(clusters[i]==0):\n",
    "            z=z+1\n",
    "        elif(clusters[i]==1):\n",
    "            o=o+1\n",
    "        else:\n",
    "            t=t+1\n",
    "    dict[z]=0\n",
    "    dict[o]=1\n",
    "    dict[t]=2\n",
    "\n",
    "    fin1=max(z,max(o,t))\n",
    "    \n",
    "    classes.append(dict[fin1])\n",
    "    z=0\n",
    "    o=0\n",
    "    t=0\n",
    "    for i in range(100,150):\n",
    "        if(clusters[i]==0):\n",
    "            z=z+1\n",
    "        elif(clusters[i]==1):\n",
    "            o=o+1\n",
    "        else:\n",
    "            t=t+1\n",
    "    dict[z]=0\n",
    "    dict[o]=1\n",
    "    dict[t]=2\n",
    "    fin1=max(z,max(o,t))\n",
    "   \n",
    "    classes.append(dict[fin1])\n",
    "    \n",
    "    return classes\n",
    "\n",
    "classes=label_clusters(clusters)"
   ]
  },
  {
   "cell_type": "markdown",
   "metadata": {
    "papermill": {
     "duration": 0.0126,
     "end_time": "2021-06-13T09:37:31.376860",
     "exception": false,
     "start_time": "2021-06-13T09:37:31.364260",
     "status": "completed"
    },
    "tags": []
   },
   "source": [
    "# confusion matrix"
   ]
  },
  {
   "cell_type": "code",
   "execution_count": 13,
   "metadata": {
    "execution": {
     "iopub.execute_input": "2021-06-13T09:37:31.414165Z",
     "iopub.status.busy": "2021-06-13T09:37:31.413517Z",
     "iopub.status.idle": "2021-06-13T09:37:31.416661Z",
     "shell.execute_reply": "2021-06-13T09:37:31.416240Z",
     "shell.execute_reply.started": "2021-06-12T12:22:09.898418Z"
    },
    "papermill": {
     "duration": 0.027082,
     "end_time": "2021-06-13T09:37:31.416776",
     "exception": false,
     "start_time": "2021-06-13T09:37:31.389694",
     "status": "completed"
    },
    "tags": []
   },
   "outputs": [],
   "source": [
    "\n",
    "\n",
    "def confusion_matrix(clusters,classes,labels):\n",
    "    c_matrix=[[0 for i in range(labels)] for j in range(labels)]\n",
    "    m=0\n",
    "    n=0\n",
    "    q=0\n",
    "    for i in range(50):\n",
    "\n",
    "        if clusters[i]==classes[0]:\n",
    "            m=m+1\n",
    "        elif clusters[i]==classes[1]:\n",
    "            n=n+1\n",
    "        else:\n",
    "            q=q+1\n",
    "    c_matrix[0][0]=m\n",
    "    c_matrix[0][1]=n\n",
    "    c_matrix[0][2]=q\n",
    "    m=0\n",
    "    n=0\n",
    "    q=0\n",
    "    for i in range(50,100):\n",
    "        if clusters[i]==classes[0]:\n",
    "            m=m+1\n",
    "        elif clusters[i]==classes[1]:\n",
    "            n=n+1\n",
    "        else:\n",
    "            q=q+1\n",
    "    c_matrix[1][0]=m\n",
    "    c_matrix[1][1]=n\n",
    "    c_matrix[1][2]=q\n",
    "    m=0\n",
    "    n=0\n",
    "    q=0\n",
    "\n",
    "    for i in range(100,150):\n",
    "        if clusters[i]==classes[0]:\n",
    "            m=m+1\n",
    "        elif clusters[i]==classes[1]:\n",
    "            n=n+1\n",
    "        else:\n",
    "            q=q+1\n",
    "    c_matrix[2][0]=m\n",
    "    c_matrix[2][1]=n\n",
    "    c_matrix[2][2]=q\n",
    "    \n",
    "    \n",
    "    return c_matrix\n",
    "    "
   ]
  },
  {
   "cell_type": "markdown",
   "metadata": {
    "papermill": {
     "duration": 0.012849,
     "end_time": "2021-06-13T09:37:31.442867",
     "exception": false,
     "start_time": "2021-06-13T09:37:31.430018",
     "status": "completed"
    },
    "tags": []
   },
   "source": [
    "# Performance metrics"
   ]
  },
  {
   "cell_type": "code",
   "execution_count": 14,
   "metadata": {
    "execution": {
     "iopub.execute_input": "2021-06-13T09:37:31.477096Z",
     "iopub.status.busy": "2021-06-13T09:37:31.476210Z",
     "iopub.status.idle": "2021-06-13T09:37:31.478961Z",
     "shell.execute_reply": "2021-06-13T09:37:31.478542Z",
     "shell.execute_reply.started": "2021-06-12T12:22:09.916738Z"
    },
    "papermill": {
     "duration": 0.023298,
     "end_time": "2021-06-13T09:37:31.479066",
     "exception": false,
     "start_time": "2021-06-13T09:37:31.455768",
     "status": "completed"
    },
    "tags": []
   },
   "outputs": [],
   "source": [
    "class Metrics:\n",
    "    \n",
    "    def __init__(self,confusion_m):\n",
    "        self.confusion_m=confusion_m\n",
    "        self.total=np.sum(confusion_m)\n",
    "        self.diagonal=np.sum(np.diag(confusion_m))\n",
    "    \n",
    "    def accuracy(self):\n",
    "        accuracy=(self.diagonal/self.total)\n",
    "        return accuracy\n",
    "    \n",
    "    def recall(self):\n",
    "        recall=np.diag(self.confusion_m)/np.sum(self.confusion_m,axis=1)\n",
    "        recall=np.mean(recall)\n",
    "        return recall\n",
    "    \n",
    "    def precision(self):\n",
    "        precision=np.diag(self.confusion_m)/np.sum(self.confusion_m,axis=0)\n",
    "        precision=np.mean(precision)\n",
    "        \n",
    "        return precision\n",
    "    \n",
    "    def f1_score(self,precision,recall):\n",
    "        f1_score=(2*precision*recall)/(precision+recall)\n",
    "        \n",
    "        return f1_score\n"
   ]
  },
  {
   "cell_type": "markdown",
   "metadata": {
    "papermill": {
     "duration": 0.012637,
     "end_time": "2021-06-13T09:37:31.504831",
     "exception": false,
     "start_time": "2021-06-13T09:37:31.492194",
     "status": "completed"
    },
    "tags": []
   },
   "source": [
    "# performance"
   ]
  },
  {
   "cell_type": "code",
   "execution_count": 15,
   "metadata": {
    "execution": {
     "iopub.execute_input": "2021-06-13T09:37:31.539837Z",
     "iopub.status.busy": "2021-06-13T09:37:31.538918Z",
     "iopub.status.idle": "2021-06-13T09:37:31.542670Z",
     "shell.execute_reply": "2021-06-13T09:37:31.542166Z",
     "shell.execute_reply.started": "2021-06-12T12:22:09.934388Z"
    },
    "papermill": {
     "duration": 0.024864,
     "end_time": "2021-06-13T09:37:31.542776",
     "exception": false,
     "start_time": "2021-06-13T09:37:31.517912",
     "status": "completed"
    },
    "tags": []
   },
   "outputs": [
    {
     "name": "stdout",
     "output_type": "stream",
     "text": [
      "confusion matrix is:\n",
      "[[50  0  0]\n",
      " [ 0 47  3]\n",
      " [ 0 13 37]]\n",
      "Accuracy of the model is 89.33333333333333\n",
      "Recall of the model is 89.33333333333331\n",
      "Precision of the model is 90.27777777777777\n",
      "F1-Score of the model is 89.80307248169913\n"
     ]
    }
   ],
   "source": [
    "matrix=confusion_matrix(clusters,classes,3)\n",
    "performance=Metrics(matrix)\n",
    "\n",
    "accuracy=performance.accuracy()\n",
    "recall=performance.recall()\n",
    "precision=performance.precision()\n",
    "f1_score=performance.f1_score(precision,recall)\n",
    "\n",
    "print('confusion matrix is:',end='\\n')\n",
    "print(np.array(matrix),end='\\n')\n",
    "\n",
    "print(\"Accuracy of the model is {}\".format(accuracy*100))\n",
    "print(\"Recall of the model is {}\".format(recall*100))\n",
    "print(\"Precision of the model is {}\".format(precision*100))\n",
    "print(\"F1-Score of the model is {}\".format(f1_score*100))"
   ]
  }
 ],
 "metadata": {
  "kernelspec": {
   "display_name": "Python 3",
   "language": "python",
   "name": "python3"
  },
  "language_info": {
   "codemirror_mode": {
    "name": "ipython",
    "version": 3
   },
   "file_extension": ".py",
   "mimetype": "text/x-python",
   "name": "python",
   "nbconvert_exporter": "python",
   "pygments_lexer": "ipython3",
   "version": "3.7.6"
  },
  "papermill": {
   "duration": 7.919374,
   "end_time": "2021-06-13T09:37:32.662276",
   "environment_variables": {},
   "exception": null,
   "input_path": "__notebook__.ipynb",
   "output_path": "__notebook__.ipynb",
   "parameters": {},
   "start_time": "2021-06-13T09:37:24.742902",
   "version": "2.1.0"
  }
 },
 "nbformat": 4,
 "nbformat_minor": 4
}
