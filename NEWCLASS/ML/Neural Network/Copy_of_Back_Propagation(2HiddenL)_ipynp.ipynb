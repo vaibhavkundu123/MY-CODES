{
  "nbformat": 4,
  "nbformat_minor": 0,
  "metadata": {
    "colab": {
      "provenance": []
    },
    "kernelspec": {
      "name": "python3",
      "display_name": "Python 3"
    },
    "language_info": {
      "name": "python"
    }
  },
  "cells": [
    {
      "cell_type": "code",
      "execution_count": null,
      "metadata": {
        "id": "J-ar-5DBBEsh"
      },
      "outputs": [],
      "source": [
        "# Import Libraries\n",
        "import numpy as np\n",
        "import pandas as pd\n",
        "from sklearn.datasets import load_iris\n",
        "from sklearn.model_selection import train_test_split\n",
        "import matplotlib.pyplot as plt"
      ]
    },
    {
      "cell_type": "code",
      "source": [
        "# Load dataset\n",
        "data = load_iris()\n",
        "# Get features and target\n",
        "X=data.data\n",
        "y=data.target\n",
        "\n",
        "y = pd.get_dummies(y).values\n",
        "print(X)\n"
      ],
      "metadata": {
        "id": "T5fYGPQmBNkc",
        "colab": {
          "base_uri": "https://localhost:8080/"
        },
        "outputId": "1cec0f0f-453d-40cd-9598-b50aa54e38f7"
      },
      "execution_count": null,
      "outputs": [
        {
          "output_type": "stream",
          "name": "stdout",
          "text": [
            "[[5.1 3.5 1.4 0.2]\n",
            " [4.9 3.  1.4 0.2]\n",
            " [4.7 3.2 1.3 0.2]\n",
            " [4.6 3.1 1.5 0.2]\n",
            " [5.  3.6 1.4 0.2]\n",
            " [5.4 3.9 1.7 0.4]\n",
            " [4.6 3.4 1.4 0.3]\n",
            " [5.  3.4 1.5 0.2]\n",
            " [4.4 2.9 1.4 0.2]\n",
            " [4.9 3.1 1.5 0.1]\n",
            " [5.4 3.7 1.5 0.2]\n",
            " [4.8 3.4 1.6 0.2]\n",
            " [4.8 3.  1.4 0.1]\n",
            " [4.3 3.  1.1 0.1]\n",
            " [5.8 4.  1.2 0.2]\n",
            " [5.7 4.4 1.5 0.4]\n",
            " [5.4 3.9 1.3 0.4]\n",
            " [5.1 3.5 1.4 0.3]\n",
            " [5.7 3.8 1.7 0.3]\n",
            " [5.1 3.8 1.5 0.3]\n",
            " [5.4 3.4 1.7 0.2]\n",
            " [5.1 3.7 1.5 0.4]\n",
            " [4.6 3.6 1.  0.2]\n",
            " [5.1 3.3 1.7 0.5]\n",
            " [4.8 3.4 1.9 0.2]\n",
            " [5.  3.  1.6 0.2]\n",
            " [5.  3.4 1.6 0.4]\n",
            " [5.2 3.5 1.5 0.2]\n",
            " [5.2 3.4 1.4 0.2]\n",
            " [4.7 3.2 1.6 0.2]\n",
            " [4.8 3.1 1.6 0.2]\n",
            " [5.4 3.4 1.5 0.4]\n",
            " [5.2 4.1 1.5 0.1]\n",
            " [5.5 4.2 1.4 0.2]\n",
            " [4.9 3.1 1.5 0.2]\n",
            " [5.  3.2 1.2 0.2]\n",
            " [5.5 3.5 1.3 0.2]\n",
            " [4.9 3.6 1.4 0.1]\n",
            " [4.4 3.  1.3 0.2]\n",
            " [5.1 3.4 1.5 0.2]\n",
            " [5.  3.5 1.3 0.3]\n",
            " [4.5 2.3 1.3 0.3]\n",
            " [4.4 3.2 1.3 0.2]\n",
            " [5.  3.5 1.6 0.6]\n",
            " [5.1 3.8 1.9 0.4]\n",
            " [4.8 3.  1.4 0.3]\n",
            " [5.1 3.8 1.6 0.2]\n",
            " [4.6 3.2 1.4 0.2]\n",
            " [5.3 3.7 1.5 0.2]\n",
            " [5.  3.3 1.4 0.2]\n",
            " [7.  3.2 4.7 1.4]\n",
            " [6.4 3.2 4.5 1.5]\n",
            " [6.9 3.1 4.9 1.5]\n",
            " [5.5 2.3 4.  1.3]\n",
            " [6.5 2.8 4.6 1.5]\n",
            " [5.7 2.8 4.5 1.3]\n",
            " [6.3 3.3 4.7 1.6]\n",
            " [4.9 2.4 3.3 1. ]\n",
            " [6.6 2.9 4.6 1.3]\n",
            " [5.2 2.7 3.9 1.4]\n",
            " [5.  2.  3.5 1. ]\n",
            " [5.9 3.  4.2 1.5]\n",
            " [6.  2.2 4.  1. ]\n",
            " [6.1 2.9 4.7 1.4]\n",
            " [5.6 2.9 3.6 1.3]\n",
            " [6.7 3.1 4.4 1.4]\n",
            " [5.6 3.  4.5 1.5]\n",
            " [5.8 2.7 4.1 1. ]\n",
            " [6.2 2.2 4.5 1.5]\n",
            " [5.6 2.5 3.9 1.1]\n",
            " [5.9 3.2 4.8 1.8]\n",
            " [6.1 2.8 4.  1.3]\n",
            " [6.3 2.5 4.9 1.5]\n",
            " [6.1 2.8 4.7 1.2]\n",
            " [6.4 2.9 4.3 1.3]\n",
            " [6.6 3.  4.4 1.4]\n",
            " [6.8 2.8 4.8 1.4]\n",
            " [6.7 3.  5.  1.7]\n",
            " [6.  2.9 4.5 1.5]\n",
            " [5.7 2.6 3.5 1. ]\n",
            " [5.5 2.4 3.8 1.1]\n",
            " [5.5 2.4 3.7 1. ]\n",
            " [5.8 2.7 3.9 1.2]\n",
            " [6.  2.7 5.1 1.6]\n",
            " [5.4 3.  4.5 1.5]\n",
            " [6.  3.4 4.5 1.6]\n",
            " [6.7 3.1 4.7 1.5]\n",
            " [6.3 2.3 4.4 1.3]\n",
            " [5.6 3.  4.1 1.3]\n",
            " [5.5 2.5 4.  1.3]\n",
            " [5.5 2.6 4.4 1.2]\n",
            " [6.1 3.  4.6 1.4]\n",
            " [5.8 2.6 4.  1.2]\n",
            " [5.  2.3 3.3 1. ]\n",
            " [5.6 2.7 4.2 1.3]\n",
            " [5.7 3.  4.2 1.2]\n",
            " [5.7 2.9 4.2 1.3]\n",
            " [6.2 2.9 4.3 1.3]\n",
            " [5.1 2.5 3.  1.1]\n",
            " [5.7 2.8 4.1 1.3]\n",
            " [6.3 3.3 6.  2.5]\n",
            " [5.8 2.7 5.1 1.9]\n",
            " [7.1 3.  5.9 2.1]\n",
            " [6.3 2.9 5.6 1.8]\n",
            " [6.5 3.  5.8 2.2]\n",
            " [7.6 3.  6.6 2.1]\n",
            " [4.9 2.5 4.5 1.7]\n",
            " [7.3 2.9 6.3 1.8]\n",
            " [6.7 2.5 5.8 1.8]\n",
            " [7.2 3.6 6.1 2.5]\n",
            " [6.5 3.2 5.1 2. ]\n",
            " [6.4 2.7 5.3 1.9]\n",
            " [6.8 3.  5.5 2.1]\n",
            " [5.7 2.5 5.  2. ]\n",
            " [5.8 2.8 5.1 2.4]\n",
            " [6.4 3.2 5.3 2.3]\n",
            " [6.5 3.  5.5 1.8]\n",
            " [7.7 3.8 6.7 2.2]\n",
            " [7.7 2.6 6.9 2.3]\n",
            " [6.  2.2 5.  1.5]\n",
            " [6.9 3.2 5.7 2.3]\n",
            " [5.6 2.8 4.9 2. ]\n",
            " [7.7 2.8 6.7 2. ]\n",
            " [6.3 2.7 4.9 1.8]\n",
            " [6.7 3.3 5.7 2.1]\n",
            " [7.2 3.2 6.  1.8]\n",
            " [6.2 2.8 4.8 1.8]\n",
            " [6.1 3.  4.9 1.8]\n",
            " [6.4 2.8 5.6 2.1]\n",
            " [7.2 3.  5.8 1.6]\n",
            " [7.4 2.8 6.1 1.9]\n",
            " [7.9 3.8 6.4 2. ]\n",
            " [6.4 2.8 5.6 2.2]\n",
            " [6.3 2.8 5.1 1.5]\n",
            " [6.1 2.6 5.6 1.4]\n",
            " [7.7 3.  6.1 2.3]\n",
            " [6.3 3.4 5.6 2.4]\n",
            " [6.4 3.1 5.5 1.8]\n",
            " [6.  3.  4.8 1.8]\n",
            " [6.9 3.1 5.4 2.1]\n",
            " [6.7 3.1 5.6 2.4]\n",
            " [6.9 3.1 5.1 2.3]\n",
            " [5.8 2.7 5.1 1.9]\n",
            " [6.8 3.2 5.9 2.3]\n",
            " [6.7 3.3 5.7 2.5]\n",
            " [6.7 3.  5.2 2.3]\n",
            " [6.3 2.5 5.  1.9]\n",
            " [6.5 3.  5.2 2. ]\n",
            " [6.2 3.4 5.4 2.3]\n",
            " [5.9 3.  5.1 1.8]]\n"
          ]
        }
      ]
    },
    {
      "cell_type": "code",
      "source": [
        "#Split data into train and test data\n",
        "X_train, X_test, y_train, y_test = train_test_split(X, y, test_size=20, random_state=4)\n",
        "print(X_train.shape)\n",
        "print(y_train.shape)\n",
        "\n",
        "print(X_test.shape)\n",
        "print(y_test.shape)"
      ],
      "metadata": {
        "colab": {
          "base_uri": "https://localhost:8080/"
        },
        "id": "xgoKgR2MBS6o",
        "outputId": "c334af8c-eb04-415f-97bc-2c56e7b2a50c"
      },
      "execution_count": null,
      "outputs": [
        {
          "output_type": "stream",
          "name": "stdout",
          "text": [
            "(130, 4)\n",
            "(130, 3)\n",
            "(20, 4)\n",
            "(20, 3)\n"
          ]
        }
      ]
    },
    {
      "cell_type": "code",
      "source": [
        "# Initialize variables\n",
        "learning_rate = 0.1\n",
        "iterations = 10000\n",
        "N = y_train.size\n",
        "\n",
        "# number of input features\n",
        "input_size = 4\n",
        "\n",
        "# number of hidden layers neurons\n",
        "hidden1_size = 10\n",
        "hidden2_size = 10\n",
        "\n",
        "# number of neurons at the output layer\n",
        "output_size = 3\n",
        "\n",
        "results = pd.DataFrame(columns=[\"mse\", \"accuracy\"])"
      ],
      "metadata": {
        "id": "GLggfD81Ba4y"
      },
      "execution_count": null,
      "outputs": []
    },
    {
      "cell_type": "code",
      "source": [
        "# Initialize weights\n",
        "np.random.seed(10)\n",
        "\n",
        "# initializing weight for the hidden layer1\n",
        "W1 = np.random.normal(scale=0.5, size=(input_size, hidden1_size))\n",
        "# initializing weight for the hidden layer2\n",
        "W2 = np.random.normal(scale=0.5, size=(hidden1_size, hidden2_size))\n",
        "# initializing weight for the output layer\n",
        "W3 = np.random.normal(scale=0.5, size=(hidden2_size , output_size))\n",
        "\n",
        "print(W1)\n",
        "print(W2)\n",
        "print(W3)"
      ],
      "metadata": {
        "id": "1KQ9nAkKBfeh",
        "colab": {
          "base_uri": "https://localhost:8080/"
        },
        "outputId": "121df71f-edfc-4ac3-8b81-c10e8e0d7305"
      },
      "execution_count": null,
      "outputs": [
        {
          "output_type": "stream",
          "name": "stdout",
          "text": [
            "[[ 0.66579325  0.35763949 -0.77270015 -0.00419192  0.31066799 -0.36004278\n",
            "   0.13275579  0.05427426  0.00214572 -0.08730011]\n",
            " [ 0.21651309  0.60151869 -0.48253284  0.51413704  0.11431507  0.22256881\n",
            "  -0.56830111  0.06756844  0.7422685  -0.53990244]\n",
            " [-0.98886414 -0.87168615  0.13303508  1.19248367  0.56184563  0.83631111\n",
            "   0.04957461  0.69899819 -0.13562399  0.30660209]\n",
            " [-0.13365859 -0.27465451  0.06635415 -0.23807101  0.65423654  0.09750664\n",
            "   0.20010499 -0.16881617  0.62823613 -0.36598475]]\n",
            "[[ 0.33011578 -0.17543595 -0.46971668 -0.24466861 -0.40229557 -0.10634882\n",
            "  -0.16957012  0.15608497  0.28257633 -0.07371013]\n",
            " [-0.01295267  0.1445471  -0.26993954  0.35408001  0.42111237  0.1017904\n",
            "   1.19735183  0.45872947 -0.05613624 -0.18109022]\n",
            " [-0.11609113 -0.25086445  0.56439258 -0.34890502 -0.04056109 -0.26464804\n",
            "   0.52309143 -0.70927801 -0.18124959 -0.06095285]\n",
            " [ 0.15967821  0.23045145 -0.10789495  0.49453623  0.15737689  1.23382553\n",
            "  -0.75416074  0.31030033 -0.52256627 -0.39900441]\n",
            " [ 0.9925423   0.87240707 -0.92809274 -0.11138685 -0.03292392 -1.06585605\n",
            "  -0.02441526  0.19667061  0.10863257 -0.99719688]\n",
            " [ 0.55385412  0.12227199 -0.03095601 -0.37694648  0.35597951  0.45913458\n",
            "  -0.24104657  0.04479381  0.41349931 -0.97725606]\n",
            " [ 0.05873783 -0.95372844 -0.46145463  0.23487572 -0.07218338 -0.20006918\n",
            "  -0.14799193  0.4241043   0.35341523 -0.39363446]\n",
            " [ 0.14647036 -0.23540363  1.2021628  -0.36967837 -0.15641438 -0.17444096\n",
            "  -0.21951312  0.07055208  0.13652466 -0.80928537]\n",
            " [-0.28655668 -0.66022377  0.61810266  1.23266254  0.69161611  0.17311656\n",
            "   0.51125805  0.08340513  0.82835831  0.3339448 ]\n",
            " [-0.11497332 -0.5647756  -0.3199813   0.15691526 -0.61291799 -0.11089657\n",
            "   0.66996315  0.01465486  0.99269287  0.7235828 ]]\n",
            "[[-0.14381471 -0.67965529 -0.02402066]\n",
            " [-0.24039367  0.18887654  0.80720399]\n",
            " [-0.56155202 -0.19436397  0.16617497]\n",
            " [ 0.56748659  0.25535721  0.20714882]\n",
            " [ 0.67227471  0.24675766 -0.11850209]\n",
            " [ 0.02864258 -0.35353572  0.27333242]\n",
            " [ 0.4712502  -1.48979839  0.60907443]\n",
            " [-0.02826036  0.23044423  0.33118701]\n",
            " [-1.14755166 -0.59796466 -0.16655058]\n",
            " [-0.39569539  0.13708639 -0.25745496]]\n"
          ]
        }
      ]
    },
    {
      "cell_type": "code",
      "source": [
        "def sigmoid(x):\n",
        "    return 1 / (1 + np.exp(-x))\n",
        "\n",
        "def mean_squared_error(y_pred, y_true):\n",
        "    return ((y_pred - y_true)**2).sum() / (2*y_pred.size)\n",
        "\n",
        "def accuracy(y_pred, y_true):\n",
        "    acc = y_pred.argmax(axis=1) == y_true.argmax(axis=1)\n",
        "    return acc.mean()"
      ],
      "metadata": {
        "id": "3wrJEsdQBifM"
      },
      "execution_count": null,
      "outputs": []
    },
    {
      "cell_type": "code",
      "source": [
        "for itr in range(iterations):\n",
        "\n",
        "    # feedforward propagation\n",
        "    # on hidden layer1\n",
        "    Hin1 = np.dot(X_train, W1) # 130*4  **  4*3 W\n",
        "    Hout1 = sigmoid(Hin1)\n",
        "\n",
        "    # on hidden layer2\n",
        "    Hin2 = np.dot(Hin1, W2) # 130*3  **  3*2  W2\n",
        "    Hout2 = sigmoid(Hin2)\n",
        "\n",
        "   # on output layer\n",
        "    Yin = np.dot(Hout2, W3) # 130*2  **  2*3 W3\n",
        "    Yout = sigmoid(Yin)\n",
        "\n",
        "\n",
        "    # Calculating error\n",
        "    mse = mean_squared_error(Yout, y_train)\n",
        "    acc = accuracy(Yout, y_train)\n",
        "    #results=results.append({\"mse\":mse, \"accuracy\":acc},ignore_index=True )\n",
        "    results.loc[len(results)] = {\"mse\": mse, \"accuracy\": acc} # Use loc to add a new row to the DataFrame\n",
        "\n",
        "\n",
        "    # backpropagation\n",
        "    W3_part = (Yout - y_train)  * Yout * (1 - Yout)\n",
        "    W2_part = (np.dot(W3_part, W3.T)) * Hout2 * (1 -  Hout2)\n",
        "    W1_part = (np.dot(W2_part, W2.T)) * Hout1 * (1 -  Hout1)\n",
        "\n",
        "\n",
        "    # weight updates\n",
        "    W3_update = np.dot(Hout2.T,   W3_part) / N\n",
        "    W2_update = np.dot(Hout1.T,   W2_part) / N\n",
        "    W1_update = np.dot(X_train.T, W1_part) / N\n",
        "\n",
        "\n",
        "    W3 = W3 - learning_rate * W3_update\n",
        "    W2 = W2 - learning_rate * W2_update\n",
        "    W1 = W1 - learning_rate * W1_update"
      ],
      "metadata": {
        "id": "8E8EAUw3BlG0"
      },
      "execution_count": null,
      "outputs": []
    },
    {
      "cell_type": "code",
      "source": [
        "results.mse.plot(title=\"Mean Squared Error\")\n",
        "#print(results)\n"
      ],
      "metadata": {
        "colab": {
          "base_uri": "https://localhost:8080/",
          "height": 469
        },
        "id": "R6b0y71sByXf",
        "outputId": "7d9116fc-39ac-48f9-d9f4-40831fcbc48d"
      },
      "execution_count": null,
      "outputs": [
        {
          "output_type": "execute_result",
          "data": {
            "text/plain": [
              "<Axes: title={'center': 'Mean Squared Error'}>"
            ]
          },
          "metadata": {},
          "execution_count": 15
        },
        {
          "output_type": "display_data",
          "data": {
            "text/plain": [
              "<Figure size 640x480 with 1 Axes>"
            ],
            "image/png": "[encoded data removed]"
          },
          "metadata": {}
        }
      ]
    },
    {
      "cell_type": "code",
      "source": [
        "results.accuracy.plot(title=\"Accuracy\")"
      ],
      "metadata": {
        "colab": {
          "base_uri": "https://localhost:8080/",
          "height": 469
        },
        "id": "_Q4birQnB90V",
        "outputId": "5a112e43-b0af-415f-80f2-ae62d08931cc"
      },
      "execution_count": null,
      "outputs": [
        {
          "output_type": "execute_result",
          "data": {
            "text/plain": [
              "<Axes: title={'center': 'Accuracy'}>"
            ]
          },
          "metadata": {},
          "execution_count": 16
        },
        {
          "output_type": "display_data",
          "data": {
            "text/plain": [
              "<Figure size 640x480 with 1 Axes>"
            ],
            "image/png": "[encoded data removed]"
          },
          "metadata": {}
        }
      ]
    },
    {
      "cell_type": "code",
      "source": [
        "# feedforward\n",
        "Z1 = np.dot(X_test, W1)\n",
        "A1 = sigmoid(Z1)\n",
        "\n",
        "Z2 = np.dot(A1, W2)\n",
        "A2 = sigmoid(Z2)\n",
        "\n",
        "Z3 = np.dot(A2, W3)\n",
        "A3 = sigmoid(Z3)\n",
        "\n",
        "acc = accuracy(A3, y_test)\n",
        "print(\"Accuracy: {}\".format(acc))"
      ],
      "metadata": {
        "colab": {
          "base_uri": "https://localhost:8080/"
        },
        "id": "12DvXVkZCBrr",
        "outputId": "afdc4361-9a00-4260-b671-bd64c8ed6e46"
      },
      "execution_count": null,
      "outputs": [
        {
          "output_type": "stream",
          "name": "stdout",
          "text": [
            "Accuracy: 0.8\n"
          ]
        }
      ]
    }
  ]
}