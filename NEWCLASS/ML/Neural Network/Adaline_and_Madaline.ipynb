{
  "nbformat": 4,
  "nbformat_minor": 0,
  "metadata": {
    "colab": {
      "provenance": []
    },
    "kernelspec": {
      "name": "python3",
      "display_name": "Python 3"
    },
    "language_info": {
      "name": "python"
    }
  },
  "cells": [
    {
      "cell_type": "code",
      "execution_count": null,
      "metadata": {
        "id": "lGuQ8mNsn4Rm"
      },
      "outputs": [],
      "source": [
        "# Import necessary libraries\n",
        "import numpy as np\n",
        "\n",
        "#Adaline neural network\n",
        "def Adaline(Input, Target, lr=0.2, stop=0.001):\n",
        "\tweight = np.random.random(Input.shape[1])\n",
        "\tbias = np.random.random(1)\n",
        "\tprint(weight.shape)\n",
        "\n",
        "\tError=[stop +1]\n",
        "\t# check the stop condition for the network\n",
        "\twhile Error[-1] > stop or Error[-1]-Error[-2] > 0.0001:\n",
        "\t\terror = []\n",
        "\t\tfor i in range(Input.shape[0]):\n",
        "\t\t\tY_input = sum(weight*Input[i]) + bias\n",
        "\n",
        "\t\t\t# Update the weight\n",
        "\t\t\tfor j in range(Input.shape[1]):\n",
        "\t\t\t\tweight[j]=weight[j] + lr*(Target[i]-Y_input)*Input[i][j]  # W(new) = W (old) + lerning_rate*(t(i)-yin)*x(i)\n",
        "\n",
        "\t\t\t# Update the bias\n",
        "\t\t\tbias=bias + lr*(Target[i]-Y_input)  # W(new) = W (old) + lerning_rate*(t(i)-yin)\n",
        "\n",
        "\t\t\t# Store squared error value\n",
        "\t\t\terror.append((Target[i]-Y_input)**2)\n",
        "\t\t# Store sum of square errors\n",
        "\t\tError.append(sum(error))\n",
        "\t\tprint('Error :',Error[-1])\n",
        "\treturn weight, bias\n",
        "\n",
        "# Predict from the evaluated weight and bias of adaline\n",
        "def prediction(X,w,b):\n",
        "\ty=[]\n",
        "\tfor i in range(X.shape[0]):\n",
        "\t\tx = X[i]\n",
        "\t\ty.append(sum(w*x)+b)\n",
        "\treturn y\n"
      ]
    },
    {
      "cell_type": "code",
      "source": [
        "# Traning dataset\n",
        "x = np.array([\n",
        "      [1.0, 1.0],\n",
        "\t\t\t[1.0, -1.0],\n",
        "\t\t\t[-1.0, 1.0],\n",
        "\t\t\t[-1.0, -1.0]])\n",
        "\n",
        "# Target values\n",
        "t = np.array([1, 1, 1, -1])\n",
        "\n",
        "w,b = Adaline(x, t, lr=0.2, stop=0.001)\n",
        "print('weight :',w)\n",
        "print('Bias :',b)\n",
        "\n",
        "prediction(x,w,b)"
      ],
      "metadata": {
        "id": "00pi621Moko8"
      },
      "execution_count": null,
      "outputs": []
    },
    {
      "cell_type": "code",
      "source": [
        "#Mdaline neural network\n",
        "import numpy as np\n",
        "import pandas as pd\n",
        "\n",
        "def activation_fn(z):\n",
        "\tif z>=0:\n",
        "\t\treturn 1\n",
        "\telse:\n",
        "\t\treturn -1\n",
        "\n",
        "def Madaline(Input, Target, lr, epoch):\n",
        "\tweight = np.random.random((Input.shape[1],Input.shape[1]))\n",
        "\tbias = np.random.random(Input.shape[1])\n",
        "\n",
        "\tw = np.array([0.5 for i in range(weight.shape[1])])\n",
        "\tb = 0.5\n",
        "\tk = 0\n",
        "\twhile k<epoch:\n",
        "\t\terror = []\n",
        "\t\tz_input = np.zeros(bias.shape[0])\n",
        "\t\tz = np.zeros(bias.shape[0])\n",
        "\t\tfor i in range(Input.shape[0]):\n",
        "\t\t\tfor j in range(Input.shape[1]):\n",
        "\t\t\t\tz_input[j] = sum(weight[j]*Input[i]) + bias[j]\n",
        "\t\t\t\tz[j]= activation_fn(z_input[j])\n",
        "\n",
        "\t\t\ty_input = sum(z*w) +b\n",
        "\n",
        "\t\t\ty = activation_fn(y_input)\n",
        "\t\t\t# Update the weight & bias\n",
        "\t\t\tif y != Target[i]:\n",
        "\t\t\t\tfor j in range(weight.shape[1]):\n",
        "\t\t\t\t\tweight[j]= weight[j] + lr*(Target[i]-z_input[j])*Input[i][j]\n",
        "\t\t\t\t\tbias[j] = bias[j] + lr*(Target[i]-z_input[j])\n",
        "\n",
        "\t\t\t# Store squared error value\n",
        "\t\t\terror.append((Target[i]-z_input)**2)\n",
        "\t\t# compute sum of square error\n",
        "\t\tError = sum(error)\n",
        "\t\tprint(k,'>> Error :',Error)\n",
        "\t\tk+=1\n",
        "\n",
        "\treturn weight, bias\n",
        "\n",
        "def prediction(X, w,b):\n",
        "\ty =[]\n",
        "\tfor i in range(X.shape[0]):\n",
        "\t\tx = X[i]\n",
        "\t\tz1 = x*w\n",
        "\t\tz_1 =[]\n",
        "\t\tfor j in range(z1.shape[1]):\n",
        "\t\t\tz_1.append(activation_fn(sum(z1[j])+b[j]))\n",
        "\t\ty_in = sum(np.array(z_1)*np.array([0.5 for j in range(w.shape[1])])) + 0.5\n",
        "\t\ty.append(activation_fn(y_in))\n",
        "\treturn y\n"
      ],
      "metadata": {
        "id": "O9GUQQAQq6At"
      },
      "execution_count": null,
      "outputs": []
    },
    {
      "cell_type": "code",
      "source": [
        "# Input dataset\n",
        "x = np.array([[1.0, 1.0, 1.0], [1.0, -1.0, 1.0],\n",
        "\t\t\t[-1.0, 1.0, 1.0], [-1.0, -1.0, -1.0]])\n",
        "# Target values\n",
        "t = np.array([1, 1, 1, -1])\n",
        "\n",
        "w,b = Madaline(x, t, 0.0001, 3)\n",
        "print('weight :',w)\n",
        "print('Bias :',b)\n",
        "\n",
        "prediction(x, w,b)\n"
      ],
      "metadata": {
        "colab": {
          "base_uri": "https://localhost:8080/"
        },
        "id": "5ep46RTgratJ",
        "outputId": "f5416b15-f79b-4682-becf-249a78388a5e"
      },
      "execution_count": null,
      "outputs": [
        {
          "output_type": "stream",
          "name": "stdout",
          "text": [
            "0 >> Error : [3.61360622 1.22515217 1.44836193]\n",
            "1 >> Error : [3.61360622 1.22515217 1.44836193]\n",
            "2 >> Error : [3.61360622 1.22515217 1.44836193]\n",
            "weight : [[0.83011199 0.55473883 0.79541824]\n",
            " [0.13709676 0.31387601 0.20651723]\n",
            " [0.08826899 0.56771375 0.97712583]]\n",
            "Bias : [0.50041827 0.12360715 0.22733708]\n"
          ]
        },
        {
          "output_type": "execute_result",
          "data": {
            "text/plain": [
              "[1, 1, 1, -1]"
            ]
          },
          "metadata": {},
          "execution_count": 5
        }
      ]
    }
  ]
}