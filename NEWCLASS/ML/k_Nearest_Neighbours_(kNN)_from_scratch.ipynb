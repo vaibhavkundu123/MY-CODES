{
  "cells": [
    {
      "cell_type": "code",
      "execution_count": 30,
      "metadata": {
        "id": "UeM-IFjtYM1S"
      },
      "outputs": [],
      "source": [
        "import numpy as np\n",
        "import pandas as pd\n",
        "import seaborn as sns\n",
        "sns.set(style='darkgrid', font_scale=1.4)\n",
        "import matplotlib.pyplot as plt\n",
        "%matplotlib inline\n",
        "from sklearn.model_selection import train_test_split\n",
        "from scipy import stats\n",
        "import time"
      ]
    },
    {
      "cell_type": "code",
      "execution_count": 31,
      "metadata": {},
      "outputs": [
        {
          "name": "stdout",
          "output_type": "stream",
          "text": [
            "   Math  CS Result\n",
            "0     4   3      F\n",
            "1     6   7      P\n",
            "2     7   8      P\n",
            "3     5   5      F\n",
            "4     8   8      P\n"
          ]
        }
      ],
      "source": [
        "import pandas as pd\n",
        "\n",
        "# Define the data\n",
        "data = {\n",
        "    \"Math\": [4, 6, 7, 5, 8],\n",
        "    \"CS\": [3, 7, 8, 5, 8],\n",
        "    \"Result\": [\"F\", \"P\", \"P\", \"F\", \"P\"]\n",
        "}\n",
        "\n",
        "# Convert the data into a pandas DataFrame\n",
        "data = pd.DataFrame(data)\n",
        "\n",
        "# Display the dataset\n",
        "print(data)"
      ]
    },
    {
      "cell_type": "code",
      "execution_count": 32,
      "metadata": {},
      "outputs": [
        {
          "name": "stdout",
          "output_type": "stream",
          "text": [
            "   Math  CS\n",
            "0     4   3\n",
            "1     6   7\n",
            "2     7   8\n",
            "3     5   5\n",
            "4     8   8\n",
            "0    F\n",
            "1    P\n",
            "2    P\n",
            "3    F\n",
            "4    P\n",
            "Name: Result, dtype: object\n",
            "0    0\n",
            "1    1\n",
            "2    1\n",
            "3    0\n",
            "4    1\n",
            "Name: Result, dtype: int32\n"
          ]
        }
      ],
      "source": [
        "# Features and labels\n",
        "X = data.drop('Result', axis=1)\n",
        "print(X)\n",
        "y = data['Result']\n",
        "print(y)\n",
        "\n",
        "# Encode target to binary\n",
        "y = (y=='P').astype('int')\n",
        "print(y)\n"
      ]
    },
    {
      "cell_type": "code",
      "execution_count": 33,
      "metadata": {},
      "outputs": [],
      "source": [
        "# Split dataset into training and testing data (80/20 split)\n",
        "X_train, X_test, y_train, y_test = train_test_split(X, y, test_size=0.2, random_state=4)"
      ]
    },
    {
      "cell_type": "code",
      "execution_count": 34,
      "metadata": {},
      "outputs": [],
      "source": [
        "class kNN():\n",
        "    '''k-Nearest Neighbours'''\n",
        "    # Initialise\n",
        "    def __init__(self, k=3, metric='euclidean', p=None):\n",
        "        self.k = k\n",
        "        self.metric = metric\n",
        "        self.p = p\n",
        "    \n",
        "    # Euclidean distance (l2 norm)\n",
        "    def euclidean(self, v1, v2):\n",
        "        return np.sqrt(np.sum((v1-v2)**2))\n",
        "    \n",
        "    # Manhattan distance (l1 norm)\n",
        "    def manhattan(self, v1, v2):\n",
        "        return np.sum(np.abs(v1-v2))\n",
        "    \n",
        "    # Minkowski distance (lp norm)\n",
        "    def minkowski(self, v1, v2, p=2):\n",
        "        return np.sum(np.abs(v1-v2)**p)**(1/p)\n",
        "        \n",
        "    # Store train set\n",
        "    def fit(self, X_train, y_train):\n",
        "        self.X_train = X_train\n",
        "        self.y_train = y_train\n",
        "        \n",
        "    # Make predictions\n",
        "    def predict(self, X_test):\n",
        "        preds = []\n",
        "        # Loop over rows in test set\n",
        "        for test_row in X_test:\n",
        "            nearest_neighbours = self.get_neighbours(test_row)\n",
        "            majority = stats.mode(nearest_neighbours)[0][0]\n",
        "            preds.append(majority)\n",
        "        return np.array(preds)\n",
        "    \n",
        "    # Get nearest neighbours\n",
        "    def get_neighbours(self, test_row):\n",
        "        distances = list()\n",
        "        \n",
        "        # Calculate distance to all points in X_train\n",
        "        for (train_row, train_class) in zip(self.X_train, self.y_train):\n",
        "            if self.metric=='euclidean':\n",
        "                dist = self.euclidean(train_row, test_row)\n",
        "            elif self.metric=='manhattan':\n",
        "                dist = self.manhattan(train_row, test_row)\n",
        "            elif self.metric=='minkowski':\n",
        "                dist = self.minkowski(train_row, test_row, self.p)\n",
        "            else:\n",
        "                raise NameError('Supported metrics are euclidean, manhattan and minkowski')\n",
        "            distances.append((dist, train_class))\n",
        "            \n",
        "        # Sort distances\n",
        "        distances.sort(key=lambda x: x[0])\n",
        "        \n",
        "        # Identify k nearest neighbours\n",
        "        neighbours = list()\n",
        "        for i in range(self.k):\n",
        "            neighbours.append(distances[i][1])\n",
        "            \n",
        "        return neighbours\n"
      ]
    },
    {
      "cell_type": "code",
      "execution_count": 36,
      "metadata": {},
      "outputs": [
        {
          "ename": "IndexError",
          "evalue": "list index out of range",
          "output_type": "error",
          "traceback": [
            "\u001b[1;31m---------------------------------------------------------------------------\u001b[0m",
            "\u001b[1;31mIndexError\u001b[0m                                Traceback (most recent call last)",
            "Cell \u001b[1;32mIn[36], line 9\u001b[0m\n\u001b[0;32m      7\u001b[0m clf \u001b[38;5;241m=\u001b[39m kNN(k\u001b[38;5;241m=\u001b[39m\u001b[38;5;241m5\u001b[39m, metric\u001b[38;5;241m=\u001b[39mmetric)\n\u001b[0;32m      8\u001b[0m clf\u001b[38;5;241m.\u001b[39mfit(X_train\u001b[38;5;241m.\u001b[39mvalues, y_train\u001b[38;5;241m.\u001b[39mvalues)\n\u001b[1;32m----> 9\u001b[0m preds \u001b[38;5;241m=\u001b[39m \u001b[43mclf\u001b[49m\u001b[38;5;241;43m.\u001b[39;49m\u001b[43mpredict\u001b[49m\u001b[43m(\u001b[49m\u001b[43mX_test\u001b[49m\u001b[38;5;241;43m.\u001b[39;49m\u001b[43mvalues\u001b[49m\u001b[43m)\u001b[49m\n\u001b[0;32m     10\u001b[0m \u001b[38;5;28mprint\u001b[39m(\u001b[38;5;124mf\u001b[39m\u001b[38;5;124m'\u001b[39m\u001b[38;5;124mMetric: \u001b[39m\u001b[38;5;132;01m{\u001b[39;00mmetric\u001b[38;5;132;01m}\u001b[39;00m\u001b[38;5;124m, accuracy: \u001b[39m\u001b[38;5;132;01m{\u001b[39;00maccuracy(preds,\u001b[38;5;250m \u001b[39my_test)\u001b[38;5;132;01m:\u001b[39;00m\u001b[38;5;124m.3f\u001b[39m\u001b[38;5;132;01m}\u001b[39;00m\u001b[38;5;124m %\u001b[39m\u001b[38;5;124m'\u001b[39m)\n",
            "Cell \u001b[1;32mIn[34], line 31\u001b[0m, in \u001b[0;36mkNN.predict\u001b[1;34m(self, X_test)\u001b[0m\n\u001b[0;32m     29\u001b[0m \u001b[38;5;66;03m# Loop over rows in test set\u001b[39;00m\n\u001b[0;32m     30\u001b[0m \u001b[38;5;28;01mfor\u001b[39;00m test_row \u001b[38;5;129;01min\u001b[39;00m X_test:\n\u001b[1;32m---> 31\u001b[0m     nearest_neighbours \u001b[38;5;241m=\u001b[39m \u001b[38;5;28;43mself\u001b[39;49m\u001b[38;5;241;43m.\u001b[39;49m\u001b[43mget_neighbours\u001b[49m\u001b[43m(\u001b[49m\u001b[43mtest_row\u001b[49m\u001b[43m)\u001b[49m\n\u001b[0;32m     32\u001b[0m     majority \u001b[38;5;241m=\u001b[39m stats\u001b[38;5;241m.\u001b[39mmode(nearest_neighbours)[\u001b[38;5;241m0\u001b[39m][\u001b[38;5;241m0\u001b[39m]\n\u001b[0;32m     33\u001b[0m     preds\u001b[38;5;241m.\u001b[39mappend(majority)\n",
            "Cell \u001b[1;32mIn[34], line 58\u001b[0m, in \u001b[0;36mkNN.get_neighbours\u001b[1;34m(self, test_row)\u001b[0m\n\u001b[0;32m     56\u001b[0m neighbours \u001b[38;5;241m=\u001b[39m \u001b[38;5;28mlist\u001b[39m()\n\u001b[0;32m     57\u001b[0m \u001b[38;5;28;01mfor\u001b[39;00m i \u001b[38;5;129;01min\u001b[39;00m \u001b[38;5;28mrange\u001b[39m(\u001b[38;5;28mself\u001b[39m\u001b[38;5;241m.\u001b[39mk):\n\u001b[1;32m---> 58\u001b[0m     neighbours\u001b[38;5;241m.\u001b[39mappend(\u001b[43mdistances\u001b[49m\u001b[43m[\u001b[49m\u001b[43mi\u001b[49m\u001b[43m]\u001b[49m[\u001b[38;5;241m1\u001b[39m])\n\u001b[0;32m     60\u001b[0m \u001b[38;5;28;01mreturn\u001b[39;00m neighbours\n",
            "\u001b[1;31mIndexError\u001b[0m: list index out of range"
          ]
        }
      ],
      "source": [
        "# Function to calculate accuracy\n",
        "def accuracy(preds, y_test):\n",
        "    return 100 * (preds == y_test).mean()\n",
        "\n",
        "# Apply our kNN algorithm\n",
        "for metric in ['euclidean', 'manhattan']:\n",
        "    clf = kNN(k=5, metric=metric)\n",
        "    clf.fit(X_train.values, y_train.values)\n",
        "    preds = clf.predict(X_test.values)\n",
        "    print(f'Metric: {metric}, accuracy: {accuracy(preds, y_test):.3f} %')"
      ]
    }
  ],
  "metadata": {
    "colab": {
      "provenance": []
    },
    "kernelspec": {
      "display_name": "Python 3",
      "name": "python3"
    },
    "language_info": {
      "codemirror_mode": {
        "name": "ipython",
        "version": 3
      },
      "file_extension": ".py",
      "mimetype": "text/x-python",
      "name": "python",
      "nbconvert_exporter": "python",
      "pygments_lexer": "ipython3",
      "version": "3.12.5"
    }
  },
  "nbformat": 4,
  "nbformat_minor": 0
}
