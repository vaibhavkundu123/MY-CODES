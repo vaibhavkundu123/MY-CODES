{
  "cells": [
    {
      "cell_type": "code",
      "execution_count": 41,
      "metadata": {
        "colab": {
          "base_uri": "https://localhost:8080/",
          "height": 206
        },
        "id": "a3MgTM9mArdK",
        "outputId": "eebb73a7-8c29-4a48-bfe1-9459e2bef804"
      },
      "outputs": [
        {
          "data": {
            "text/html": [
              "<div>\n",
              "<style scoped>\n",
              "    .dataframe tbody tr th:only-of-type {\n",
              "        vertical-align: middle;\n",
              "    }\n",
              "\n",
              "    .dataframe tbody tr th {\n",
              "        vertical-align: top;\n",
              "    }\n",
              "\n",
              "    .dataframe thead th {\n",
              "        text-align: right;\n",
              "    }\n",
              "</style>\n",
              "<table border=\"1\" class=\"dataframe\">\n",
              "  <thead>\n",
              "    <tr style=\"text-align: right;\">\n",
              "      <th></th>\n",
              "      <th>MedInc</th>\n",
              "      <th>HouseAge</th>\n",
              "      <th>AveRooms</th>\n",
              "      <th>AveBedrms</th>\n",
              "      <th>Population</th>\n",
              "      <th>AveOccup</th>\n",
              "      <th>Latitude</th>\n",
              "      <th>Longitude</th>\n",
              "      <th>MedHouseVal</th>\n",
              "    </tr>\n",
              "  </thead>\n",
              "  <tbody>\n",
              "    <tr>\n",
              "      <th>0</th>\n",
              "      <td>8.3252</td>\n",
              "      <td>41.0</td>\n",
              "      <td>6.984127</td>\n",
              "      <td>1.023810</td>\n",
              "      <td>322.0</td>\n",
              "      <td>2.555556</td>\n",
              "      <td>37.88</td>\n",
              "      <td>-122.23</td>\n",
              "      <td>4.526</td>\n",
              "    </tr>\n",
              "    <tr>\n",
              "      <th>1</th>\n",
              "      <td>8.3014</td>\n",
              "      <td>21.0</td>\n",
              "      <td>6.238137</td>\n",
              "      <td>0.971880</td>\n",
              "      <td>2401.0</td>\n",
              "      <td>2.109842</td>\n",
              "      <td>37.86</td>\n",
              "      <td>-122.22</td>\n",
              "      <td>3.585</td>\n",
              "    </tr>\n",
              "    <tr>\n",
              "      <th>2</th>\n",
              "      <td>7.2574</td>\n",
              "      <td>52.0</td>\n",
              "      <td>8.288136</td>\n",
              "      <td>1.073446</td>\n",
              "      <td>496.0</td>\n",
              "      <td>2.802260</td>\n",
              "      <td>37.85</td>\n",
              "      <td>-122.24</td>\n",
              "      <td>3.521</td>\n",
              "    </tr>\n",
              "    <tr>\n",
              "      <th>3</th>\n",
              "      <td>5.6431</td>\n",
              "      <td>52.0</td>\n",
              "      <td>5.817352</td>\n",
              "      <td>1.073059</td>\n",
              "      <td>558.0</td>\n",
              "      <td>2.547945</td>\n",
              "      <td>37.85</td>\n",
              "      <td>-122.25</td>\n",
              "      <td>3.413</td>\n",
              "    </tr>\n",
              "    <tr>\n",
              "      <th>4</th>\n",
              "      <td>3.8462</td>\n",
              "      <td>52.0</td>\n",
              "      <td>6.281853</td>\n",
              "      <td>1.081081</td>\n",
              "      <td>565.0</td>\n",
              "      <td>2.181467</td>\n",
              "      <td>37.85</td>\n",
              "      <td>-122.25</td>\n",
              "      <td>3.422</td>\n",
              "    </tr>\n",
              "  </tbody>\n",
              "</table>\n",
              "</div>"
            ],
            "text/plain": [
              "   MedInc  HouseAge  AveRooms  AveBedrms  Population  AveOccup  Latitude  \\\n",
              "0  8.3252      41.0  6.984127   1.023810       322.0  2.555556     37.88   \n",
              "1  8.3014      21.0  6.238137   0.971880      2401.0  2.109842     37.86   \n",
              "2  7.2574      52.0  8.288136   1.073446       496.0  2.802260     37.85   \n",
              "3  5.6431      52.0  5.817352   1.073059       558.0  2.547945     37.85   \n",
              "4  3.8462      52.0  6.281853   1.081081       565.0  2.181467     37.85   \n",
              "\n",
              "   Longitude  MedHouseVal  \n",
              "0    -122.23        4.526  \n",
              "1    -122.22        3.585  \n",
              "2    -122.24        3.521  \n",
              "3    -122.25        3.413  \n",
              "4    -122.25        3.422  "
            ]
          },
          "execution_count": 41,
          "metadata": {},
          "output_type": "execute_result"
        }
      ],
      "source": [
        "import numpy as np\n",
        "import pandas as pd\n",
        "from sklearn.datasets import fetch_california_housing\n",
        "\n",
        "data = fetch_california_housing()\n",
        "df = pd.DataFrame(data.data, columns=data.feature_names)\n",
        "df['MedHouseVal'] = data.target\n",
        "\n",
        "df.head()"
      ]
    },
    {
      "cell_type": "code",
      "execution_count": 42,
      "metadata": {
        "colab": {
          "base_uri": "https://localhost:8080/"
        },
        "id": "TD95PLRVfeGK",
        "outputId": "23f48e72-8c0f-4cb2-e901-5bbc11dc5162"
      },
      "outputs": [
        {
          "data": {
            "text/plain": [
              "array([[   8.3252    ,   41.        ,    6.98412698, ...,    2.55555556,\n",
              "          37.88      , -122.23      ],\n",
              "       [   8.3014    ,   21.        ,    6.23813708, ...,    2.10984183,\n",
              "          37.86      , -122.22      ],\n",
              "       [   7.2574    ,   52.        ,    8.28813559, ...,    2.80225989,\n",
              "          37.85      , -122.24      ],\n",
              "       ...,\n",
              "       [   1.7       ,   17.        ,    5.20554273, ...,    2.3256351 ,\n",
              "          39.43      , -121.22      ],\n",
              "       [   1.8672    ,   18.        ,    5.32951289, ...,    2.12320917,\n",
              "          39.43      , -121.32      ],\n",
              "       [   2.3886    ,   16.        ,    5.25471698, ...,    2.61698113,\n",
              "          39.37      , -121.24      ]])"
            ]
          },
          "execution_count": 42,
          "metadata": {},
          "output_type": "execute_result"
        }
      ],
      "source": [
        "# extract the features and target variable\n",
        "X = df.drop('MedHouseVal', axis=1).values\n",
        "y = df['MedHouseVal'].values\n",
        "\n",
        "X"
      ]
    },
    {
      "cell_type": "code",
      "execution_count": 43,
      "metadata": {
        "colab": {
          "base_uri": "https://localhost:8080/"
        },
        "id": "Ww5w8vURWxIg",
        "outputId": "3799cc2e-f002-4f7a-bf3e-4521a50d5df3"
      },
      "outputs": [
        {
          "data": {
            "text/plain": [
              "array([[ 1.        ,  2.34476576,  0.98214266, ..., -0.04959654,\n",
              "         1.05254828, -1.32783522],\n",
              "       [ 1.        ,  2.33223796, -0.60701891, ..., -0.09251223,\n",
              "         1.04318455, -1.32284391],\n",
              "       [ 1.        ,  1.7826994 ,  1.85618152, ..., -0.02584253,\n",
              "         1.03850269, -1.33282653],\n",
              "       ...,\n",
              "       [ 1.        , -1.14259331, -0.92485123, ..., -0.0717345 ,\n",
              "         1.77823747, -0.8237132 ],\n",
              "       [ 1.        , -1.05458292, -0.84539315, ..., -0.09122515,\n",
              "         1.77823747, -0.87362627],\n",
              "       [ 1.        , -0.78012947, -1.00430931, ..., -0.04368215,\n",
              "         1.75014627, -0.83369581]])"
            ]
          },
          "execution_count": 43,
          "metadata": {},
          "output_type": "execute_result"
        }
      ],
      "source": [
        "from sklearn.preprocessing import StandardScaler\n",
        "\n",
        "scaler = StandardScaler()\n",
        "X = scaler.fit_transform(X)\n",
        "\n",
        "X = np.c_[np.ones(X.shape[0]), X]\n",
        "\n",
        "X"
      ]
    },
    {
      "cell_type": "code",
      "execution_count": 44,
      "metadata": {
        "colab": {
          "base_uri": "https://localhost:8080/"
        },
        "id": "xnlx8APdXdNR",
        "outputId": "9ad344a5-9592-4778-e132-da1d8a2b9ff7"
      },
      "outputs": [
        {
          "data": {
            "text/plain": [
              "array([ 1.2640623 , -1.11267167, -1.39526065,  1.18191653, -0.04556612,\n",
              "       -0.62269492, -0.67088434, -0.21165383, -0.37116636])"
            ]
          },
          "execution_count": 44,
          "metadata": {},
          "output_type": "execute_result"
        }
      ],
      "source": [
        "alpha = 0.0001\n",
        "epochs = 10000\n",
        "\n",
        "theta = np.random.randn(X.shape[1])\n",
        "\n",
        "theta"
      ]
    },
    {
      "cell_type": "code",
      "execution_count": 45,
      "metadata": {
        "colab": {
          "base_uri": "https://localhost:8080/"
        },
        "id": "XCXlII1vXujQ",
        "outputId": "ecd803b3-70c7-40b6-ac04-372042644ed2"
      },
      "outputs": [
        {
          "data": {
            "text/plain": [
              "array([ 1.95970327,  0.19649903, -0.14237828,  0.73449478, -0.65593448,\n",
              "       -0.19893402, -0.08683302, -0.60248568, -0.50412238])"
            ]
          },
          "execution_count": 45,
          "metadata": {},
          "output_type": "execute_result"
        }
      ],
      "source": [
        "def gradient_descent(X, y, theta, alpha, epochs):\n",
        "  m = len(y)\n",
        "  errors = []\n",
        "  for _ in range(epochs):\n",
        "\n",
        "    predictions = X.dot(theta)\n",
        "\n",
        "    error = (1/m) * np.sum((predictions - y) ** 2)\n",
        "    errors.append(error)\n",
        "\n",
        "    gradient = (2/m) * X.T.dot(X.dot(theta) - y)\n",
        "\n",
        "    theta = theta - alpha * gradient\n",
        "\n",
        "  return theta, errors\n",
        "\n",
        "theta, errors = gradient_descent(X, y, theta, alpha, epochs)\n",
        "\n",
        "theta"
      ]
    },
    {
      "cell_type": "code",
      "execution_count": 46,
      "metadata": {
        "colab": {
          "base_uri": "https://localhost:8080/"
        },
        "id": "i0pt2f9uY3Xv",
        "outputId": "66374b99-1a15-4467-b7eb-5fedf9e9e890"
      },
      "outputs": [
        {
          "name": "stdout",
          "output_type": "stream",
          "text": [
            "Actual vs Predicted\n",
            "[[4.526      3.07654004]\n",
            " [3.585      2.79238836]\n",
            " [3.521      3.13841998]\n",
            " [3.413      2.23222866]\n",
            " [3.422      2.17499916]]\n"
          ]
        }
      ],
      "source": [
        "predictions = X.dot(theta)\n",
        "\n",
        "# print the first 5 predictions along with the actual values and differences\n",
        "predictions[:5], y[:5], predictions[:5] - y[:5]\n",
        "\n",
        "print(\"Actual vs Predicted\")\n",
        "print(np.c_[y[:5], predictions[:5]])"
      ]
    },
    {
      "cell_type": "code",
      "execution_count": 47,
      "metadata": {},
      "outputs": [
        {
          "data": {
            "image/png": "[encoded data removed]",
            "text/plain": [
              "<Figure size 800x600 with 2 Axes>"
            ]
          },
          "metadata": {},
          "output_type": "display_data"
        },
        {
          "name": "stdout",
          "output_type": "stream",
          "text": [
            "\n",
            "Accuracy: 0.701\n",
            "Precision: 0.678\n",
            "Recall: 0.766\n",
            "F1 Score: 0.719\n"
          ]
        }
      ],
      "source": [
        "import numpy as np\n",
        "import seaborn as sns\n",
        "from sklearn.metrics import confusion_matrix\n",
        "import matplotlib.pyplot as plt\n",
        "\n",
        "# Convert continuous values to binary classes using median as threshold\n",
        "median_price = np.median(y)\n",
        "y_true_binary = y > median_price\n",
        "y_pred_binary = predictions > median_price\n",
        "\n",
        "# Calculate confusion matrix\n",
        "cm = confusion_matrix(y_true_binary, y_pred_binary)\n",
        "\n",
        "# Create heatmap\n",
        "plt.figure(figsize=(8, 6))\n",
        "sns.heatmap(cm, annot=True, fmt='d', cmap='Blues',\n",
        "            xticklabels=['Below Median', 'Above Median'],\n",
        "            yticklabels=['Below Median', 'Above Median'])\n",
        "\n",
        "plt.title('Confusion Matrix for Housing Prices\\n(Threshold at Median Price)')\n",
        "plt.xlabel('Predicted')\n",
        "plt.ylabel('Actual')\n",
        "plt.show()\n",
        "\n",
        "# Print classification metrics\n",
        "from sklearn.metrics import accuracy_score, precision_score, recall_score, f1_score\n",
        "\n",
        "print(f\"\\nAccuracy: {accuracy_score(y_true_binary, y_pred_binary):.3f}\")\n",
        "print(f\"Precision: {precision_score(y_true_binary, y_pred_binary):.3f}\")\n",
        "print(f\"Recall: {recall_score(y_true_binary, y_pred_binary):.3f}\")\n",
        "print(f\"F1 Score: {f1_score(y_true_binary, y_pred_binary):.3f}\")"
      ]
    },
    {
      "cell_type": "code",
      "execution_count": 48,
      "metadata": {
        "colab": {
          "base_uri": "https://localhost:8080/"
        },
        "id": "c-bq8PDXZLzZ",
        "outputId": "1c1681f7-5781-4a3b-ef7d-1e5b9d7d63d7"
      },
      "outputs": [
        {
          "name": "stdout",
          "output_type": "stream",
          "text": [
            "MSE: 0.898325656839873\n",
            "RMSE: 0.94780043091353\n",
            "R2 Score: 0.3253535696062839\n"
          ]
        }
      ],
      "source": [
        "from sklearn.metrics import mean_squared_error, r2_score\n",
        "\n",
        "print(\"MSE:\", mean_squared_error(y, predictions))\n",
        "print(\"RMSE:\", np.sqrt(mean_squared_error(y, predictions)))\n",
        "print(\"R2 Score:\", r2_score(y, predictions))"
      ]
    },
    {
      "cell_type": "code",
      "execution_count": 49,
      "metadata": {
        "colab": {
          "base_uri": "https://localhost:8080/",
          "height": 448
        },
        "id": "FHKe3WJaZSXR",
        "outputId": "5adb7c8a-ae45-48bf-cf00-851fdcbdd180"
      },
      "outputs": [
        {
          "data": {
            "text/plain": [
              "0.8983921419974333"
            ]
          },
          "execution_count": 49,
          "metadata": {},
          "output_type": "execute_result"
        },
        {
          "data": {
            "image/png": "[encoded data removed]",
            "text/plain": [
              "<Figure size 640x480 with 1 Axes>"
            ]
          },
          "metadata": {},
          "output_type": "display_data"
        }
      ],
      "source": [
        "from matplotlib import pyplot as plt\n",
        "\n",
        "# plot the error curve so we can see the descent\n",
        "plt.plot(errors)\n",
        "\n",
        "errors[-1]"
      ]
    }
  ],
  "metadata": {
    "colab": {
      "provenance": []
    },
    "kernelspec": {
      "display_name": "Python 3",
      "name": "python3"
    },
    "language_info": {
      "codemirror_mode": {
        "name": "ipython",
        "version": 3
      },
      "file_extension": ".py",
      "mimetype": "text/x-python",
      "name": "python",
      "nbconvert_exporter": "python",
      "pygments_lexer": "ipython3",
      "version": "3.12.5"
    }
  },
  "nbformat": 4,
  "nbformat_minor": 0
}
