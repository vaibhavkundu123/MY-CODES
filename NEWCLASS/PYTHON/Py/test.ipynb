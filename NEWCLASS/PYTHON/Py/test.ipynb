{
 "cells": [
  {
   "cell_type": "code",
   "execution_count": null,
   "id": "04777693",
   "metadata": {},
   "outputs": [
    {
     "name": "stdout",
     "output_type": "stream",
     "text": [
      "Original list: [1, 2, 3, 4, 5]\n",
      "Rotated list: [4, 5, 1, 2, 3]\n"
     ]
    },
    {
     "ename": "",
     "evalue": "",
     "output_type": "error",
     "traceback": [
      "\u001b[1;31mThe Kernel crashed while executing code in the current cell or a previous cell. \n",
      "\u001b[1;31mPlease review the code in the cell(s) to identify a possible cause of the failure. \n",
      "\u001b[1;31mClick <a href='https://aka.ms/vscodeJupyterKernelCrash'>here</a> for more info. \n",
      "\u001b[1;31mView Jupyter <a href='command:jupyter.viewOutput'>log</a> for further details."
     ]
    }
   ],
   "source": [
    "def rotate_list(lst, n, direction):\n",
    "    \n",
    "    if not lst:\n",
    "        return lst\n",
    "    \n",
    "    n = n % len(lst)\n",
    "    \n",
    "    if direction.lower() == 'right':\n",
    "        return lst[-n:] + lst[:-n]\n",
    "    elif direction.lower() == 'left':\n",
    "        return lst[n:] + lst[:n]\n",
    "\n",
    "\n",
    "my_list = [1, 2, 3, 4, 5]\n",
    "n = int(input(\"Enter number of rotations: \"))\n",
    "direction = input(\"Enter direction (right/left): \")\n",
    "\n",
    "rotated_list = rotate_list(my_list, n, direction)\n",
    "print(f\"Original list: {my_list}\")\n",
    "print(f\"Rotated list: {rotated_list}\")"
   ]
  }
 ],
 "metadata": {
  "kernelspec": {
   "display_name": "Python 3",
   "language": "python",
   "name": "python3"
  },
  "language_info": {
   "codemirror_mode": {
    "name": "ipython",
    "version": 3
   },
   "file_extension": ".py",
   "mimetype": "text/x-python",
   "name": "python",
   "nbconvert_exporter": "python",
   "pygments_lexer": "ipython3",
   "version": "3.12.5"
  }
 },
 "nbformat": 4,
 "nbformat_minor": 5
}
